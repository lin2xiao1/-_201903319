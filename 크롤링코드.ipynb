{
  "nbformat": 4,
  "nbformat_minor": 0,
  "metadata": {
    "kernelspec": {
      "display_name": "Python 3",
      "language": "python",
      "name": "python3"
    },
    "language_info": {
      "codemirror_mode": {
        "name": "ipython",
        "version": 3
      },
      "file_extension": ".py",
      "mimetype": "text/x-python",
      "name": "python",
      "nbconvert_exporter": "python",
      "pygments_lexer": "ipython3",
      "version": "3.8.3"
    },
    "colab": {
      "name": "크롤링코드.ipynb",
      "provenance": [],
      "include_colab_link": true
    }
  },
  "cells": [
    {
      "cell_type": "markdown",
      "metadata": {
        "id": "view-in-github",
        "colab_type": "text"
      },
      "source": [
        "<a href=\"https://colab.research.google.com/github/lin2xiao1/-_201903319/blob/main/%ED%81%AC%EB%A1%A4%EB%A7%81%EC%BD%94%EB%93%9C.ipynb\" target=\"_parent\"><img src=\"https://colab.research.google.com/assets/colab-badge.svg\" alt=\"Open In Colab\"/></a>"
      ]
    },
    {
      "cell_type": "code",
      "metadata": {
        "id": "PT91N7sMpgfR"
      },
      "source": [
        "import requests\n",
        "import time\n",
        "import pandas as pd\n",
        "from bs4 import BeautifulSoup\n",
        "import selenium\n",
        "from selenium import webdriver as wd\n",
        "from tqdm import tqdm\n",
        "import lxml.html"
      ],
      "execution_count": null,
      "outputs": []
    },
    {
      "cell_type": "code",
      "metadata": {
        "id": "E0lsarZepgfW"
      },
      "source": [
        "driver = wd.Chrome(r'C:\\Users\\jhy79\\Desktop\\hufs\\2020-2\\포트폴리오\\chromedriver.exe')"
      ],
      "execution_count": null,
      "outputs": []
    },
    {
      "cell_type": "code",
      "metadata": {
        "id": "0E3f5Uw0pgfY"
      },
      "source": [
        "가게코드목록 = [\"12065307\",\"1372079546\",\"1022699560\",\"18128658\",\"20233508\",\"980076754\",\"752965053\",\"7965408\",\"12342089\",\"7901466\",\"25451287\",\"1051836472\",\"13306781\",\"146674691\",\"1105805040\",\"27161172\",\"19983662\",\"1786710777\",\"1376289584\",\"420295963\",\"898487564\",\"1702257304\",\"1367196580\",\"23734966\",\"1918725745\",\"21312920\",\"793233949\",\"1567630031\",\"22892937\",\"457062631\",\"361405954\",\"1627005808\",\"1874276090\",\"631732137\",\"223157311\",\"1665040674\",\"866366913\",\"1151327128\",\"1648603473\",\"1188520935\",\"22645565\",\"1097001764\",\"25691644\",\"2088305874\",\"2068830167\",\"1886771907\",\"262273418\",\"1654714\",\"11657087\",\"21211219\",\"12063452\",\"958234040\",\"13322415\",\"2036824361\",\"25799235\",\"14839666\",\"86584378\",\"13096494\",\"11831468\",\"17703669\",\"1283389548\",\"14499993\",\"7838808\",\"14822911\",\"12090586\",\"12087891\",\"27178420\",\"16328510\",\"26575482\",\"17515271\",\"911392848\",\"1440802569\",\"27076509\",\"1627688058\",\"26809477\",\"15974488\",\"86080199\",\"21445025\",\"22578226\",\"917234914\",\"21401923\",\"13333156\",\"1934475846\",\"45406905\",\"135356531\",\"10954377\",\"7815078\",\"11039136\",\"8398691\",\"8620226\",\"19032013\",\"10621045\",\"9316895\",\"9348308\",\"8772705\",\"21355174\",\"10972091\",\"27283370\",\"9175466\",\"27402979\",\"8587182\",\"20531040\",\"20699830\",\"9015754\",\"20606563\",\"10613067\",\"10418066\",\"8440821\",\"8059248\",\"1262079557\",\"12513980\",\"1237949316\",\"1024056719\",\"27377923\",\"64685570\",\"16447083\",\"24353265\",\"2143988257\",\"593947624\",\"27362142\",\"26786725\",\"965893653\",\"15101449\",\"19452961\",\"19716587\",\"1819203967\",\"8186587\",\"1448144892\",\"8798107\",\"24371711\",\"24010315\",\"18283045\",\"11831509\",\"17361137\",\"1728788067\",\"14550110\",\"21359554\",\"27209120\",\"13727108\",\"18657057\",\"27464311\",\"6755850\",\"7894375\",\"7859798\",\"697084504\",\"723934955\",\"26469821\",\"26888848\",\"12793877\",\"16094210\",\"1332784474\",\"1705674698\",\"142439579\",\"26793540\",\"51404768\"]"
      ],
      "execution_count": null,
      "outputs": []
    },
    {
      "cell_type": "code",
      "metadata": {
        "id": "45RFdis-pgfb",
        "outputId": "3b08fff9-ed92-4a88-9dd2-206d1d732bb6"
      },
      "source": [
        "len(가게코드목록)"
      ],
      "execution_count": null,
      "outputs": [
        {
          "output_type": "execute_result",
          "data": {
            "text/plain": [
              "155"
            ]
          },
          "metadata": {
            "tags": []
          },
          "execution_count": 4
        }
      ]
    },
    {
      "cell_type": "code",
      "metadata": {
        "id": "fimMCllwpgfe"
      },
      "source": [
        "url_list = []\n",
        "\n",
        "for i in 가게코드목록:\n",
        "    url = 'https://place.map.kakao.com/'+str(i)+'#comment'\n",
        "    url_list.append(url)"
      ],
      "execution_count": null,
      "outputs": []
    },
    {
      "cell_type": "code",
      "metadata": {
        "id": "WTOm7jkvpgfg"
      },
      "source": [
        "headers = {\n",
        "    \"User-Agent\": \"Mozilla/5.0 (Macintosh; Intel Mac OS X 10_9_5) AppleWebKit 537.36 (KHTML, like Gecko) Chrome\",\n",
        "    \"Accept\": \"text/html,application/xhtml+xml,application/xml;q=0.9,image/webp,*/*;q=0.8\"\n",
        "}\n",
        "driver.get(url_list[0])"
      ],
      "execution_count": null,
      "outputs": []
    },
    {
      "cell_type": "code",
      "metadata": {
        "id": "JpXFGkEcpgfj"
      },
      "source": [
        "response = requests.get(url_list[0], headers=headers)\n",
        "source = response.text\n",
        "soup = BeautifulSoup(source, 'lxml')"
      ],
      "execution_count": null,
      "outputs": []
    },
    {
      "cell_type": "code",
      "metadata": {
        "id": "97BzQPG8pgfl",
        "outputId": "9e1e6a35-bab8-47af-c930-97135ebac79b"
      },
      "source": [
        "iframes = driver.find_elements_by_css_selector('iframe')\n",
        "for iframe in iframes:\n",
        "    print(iframe.get_attribute('name'))"
      ],
      "execution_count": null,
      "outputs": [
        {
          "output_type": "stream",
          "text": [
            "\n",
            "\n",
            "\n"
          ],
          "name": "stdout"
        }
      ]
    },
    {
      "cell_type": "code",
      "metadata": {
        "id": "Fyy3Plgypgfo",
        "outputId": "d10bc739-4364-47c3-d437-7913faf19329"
      },
      "source": [
        "driver.page_source"
      ],
      "execution_count": null,
      "outputs": [
        {
          "output_type": "execute_result",
          "data": {
            "text/plain": [
              "'<html lang=\"ko\"><head>\\n    <meta charset=\"utf-8\">\\n    <meta http-equiv=\"X-UA-Compatible\" content=\"IE=Edge\">\\n    <title>미가양고기 | 카카오맵</title>\\n    <meta property=\"og:title\" content=\"미가양고기\">\\n<meta property=\"og:site_name\" content=\"카카오맵\">\\n<meta property=\"og:description\" content=\"경기 용인시 수지구 풍덕천로148번길 22 1층 (풍덕천동 724-3)\">\\n<meta property=\"og:type\" content=\"website\">\\n<meta property=\"og:image\" content=\"http://map3.daum.net/staticmap/og?type=place&amp;srs=wcongnamul&amp;size=400x200&amp;m=521837%2C1062035\">\\n<meta property=\"og:url\" content=\"https://place.map.kakao.com/12065307\">\\n<meta name=\"twitter:card\" content=\"summary_large_image\">\\n<meta name=\"twitter:title\" content=\"미가양고기\">\\n<meta name=\"twitter:description\" content=\"경기 용인시 수지구 풍덕천로148번길 22 1층 (풍덕천동 724-3)\">\\n<meta name=\"twitter:image\" content=\"http://map3.daum.net/staticmap/og?type=place&amp;srs=wcongnamul&amp;size=400x200&amp;m=521837%2C1062035\">\\n    <link href=\"//t1.daumcdn.net/localimg/localimages/07/common/kakaomap_favicon.ico\" rel=\"shortcut icon\">\\n    \\n        \\n            <link rel=\"stylesheet\" type=\"text/css\" href=\"//t1.daumcdn.net/kakaomapweb/place/jscss/pc.efe78505.css\">\\n        \\n    \\n<style type=\"text/css\">/* global */\\n.screen_out{overflow:hidden;position:absolute;width:0;height:0;line-height:0;text-indent:-9999px}\\n.show{display:block}\\n.hide{display:none}\\n\\n/* PC Social Share */\\n/* 2018-04-25 수정 시작 */\\n.social_comm_p{position:absolute;z-index:1000;}\\n.social_comm_p .img_social{display:block;overflow:hidden;font-size:0;background:url(//t1.daumcdn.net/daumtop_deco/images/common/social/img_social_200414.png) no-repeat 0 0;text-indent:-9999px}\\n.social_comm_p .sns_comm_p{overflow:hidden;position:relative;border:1px solid #e2e2e2;font-size:11px;color:#222;background-color:#fff;letter-spacing:-0.025em}\\n.social_comm_p .btn_close{position:absolute;top:5px;right:5px;width:24px;height:24px}\\n.social_comm_p .ico_close{width:15px;height:16px;margin:5px;background-position:-150px 0}\\n.social_comm_p .share_layer{position:relative;width:260px;min-height:228px}\\n.social_comm_p .list_sns{overflow:hidden;margin:26px 14px 0}\\n.social_comm_p .list_sns li{float:left;width:77px;height:78px}\\n.social_comm_p .list_sns .link_sns{display:block;text-align:center;text-decoration:none}\\n.social_comm_p .list_sns .link_sns .img_social{width:43px;height:43px;margin:0 auto 4px}\\n.social_comm_p .list_sns .tit_sns{display:block;margin-top:7px;font-weight:normal;line-height:16px}\\n.social_comm_p .list_sns .ico_sns_ks{background-position:-50px 0}\\n.social_comm_p .list_sns .ico_sns_fb{background-position:-100px 0}\\n.social_comm_p .list_sns .ico_sns_tw{background-position:0 -50px}\\n.social_comm_p .list_sns .ico_sns_cafe{background-position:-100px -50px}\\n.social_comm_p .list_sns .ico_sns_mail{background-position:-50px -50px}\\n.social_comm_p .list_sns .ico_sns_kt{background-position:0 0}\\n.social_comm_p .sns_copyurl{margin:-1px 26px 0;padding-bottom:23px}\\n.social_comm_p .sns_copyurl .link_copyurl{display:block;overflow:hidden;position:relative;height:23px;line-height:23px;border:1px solid #d0d0d0;background-color:#f8f8f8;text-decoration:none}\\n.social_comm_p .sns_copyurl .txt_url{display:block;overflow:hidden;padding:0 64px 0 7px;color:#2695f8;white-space:nowrap;text-overflow:ellipsis}\\n.social_comm_p .sns_copyurl .txt_copy{position:absolute;top:0;right:0;width:47px;height:25px;border-left:1px solid #d0d0d0;background-color:#fff;text-align:center}\\n.social_comm_p .copyurl_layer{width:254px;height:78px;text-align:center}\\n.social_comm_p .inner_copyurl{display:table;width:100%;height:100%}\\n.social_comm_p .inner_copyurl .desc_copyurl{display:table-cell;padding:18px 0 17px;line-height:19px;vertical-align:middle}\\n.social_comm_p .sns_copyurl_type2 .tf_url{display:block;width:210px;height:25px;padding:0 10px;border:0 none;color:#2695f8;background-color:transparent}\\n.social_comm_p .sns_copyurl_type2 .desc_tip{padding:13px 0;line-height:18px;color:#888;text-align:center;letter-spacing:0}\\n\\n@media\\nonly screen and (-webkit-min-device-pixel-ratio: 1.5),\\nonly screen and (min-device-pixel-ratio: 1.5),\\nonly screen and (min-resolution: 144dpi),\\nonly screen and (min-resolution: 1.5dppx) {\\n    .social_comm_p .img_social{background-image:url(//t1.daumcdn.net/daumtop_deco/images/common/social/rtn/img_social_200414.png);background-size:170px 100px}\\n}</style><style type=\"text/css\">.kakao-video-ad{background-color:transparent;text-align:center;padding:0;margin:0;font-family:HelveticaNeue-Light,AppleSDGothicNeo-Light,Malgun Gothic,\"\\\\B9D1\\\\C740   \\\\ACE0\\\\B515\",sans-serif}.kakao-video-ad .header{position:absolute;left:0;top:0;width:100%;z-index:10;height:60px;background:-moz-linear-gradient(top,rgba(0,0,0,.3) 0,transparent 100%);background:-webkit-linear-gradient(top,rgba(0,0,0,.3),transparent);background:linear-gradient(180deg,rgba(0,0,0,.3) 0,transparent);transition:opacity 1s}.kakao-video-ad .header .link_ad{display:block;overflow:hidden;padding:12px 12px 12px 11px;font-size:15px;color:#fff;text-shadow:0 1px 1px rgba(0,0,0,.12);text-decoration:none}.kakao-video-ad .header .link_ad .txtdetail_ad{float:left;overflow:hidden;max-width:calc(100% - 98px);margin-top:6px;font-weight:600;letter-spacing:0;white-space:nowrap;text-rendering:auto;text-overflow:ellipsis;text-shadow:1px 1px 1px rgba(0,0,0,.24);text-align:left}.kakao-video-ad .header .link_ad .ico_ad{float:left;overflow:hidden;width:27px;height:16px;margin:-1px 5px 0 0;vertical-align:top;background:url(https://t1.daumcdn.net/biz/ui/adplayer/m320/ico_adplayer_171026_v2.png) no-repeat -70px 0;text-indent:-9999px}.kakao-video-ad .header .link_ad .txt_go{float:right;height:26px;border-radius:2px;font-weight:500;font-size:13px;line-height:27px;background-color:rgba(0,0,0,.6);text-align:center;padding-left:10px;padding-right:10px;letter-spacing:-1px}.kakao-video-ad .header .link_ad .txt_go:after{display:inline-block;width:7px;height:11px;margin:8px 0 0 4px;background:url(https://t1.daumcdn.net/biz/ui/adplayer/m320/ico_adplayer2_180308.png) no-repeat -150px -20px;vertical-align:top;content:\"\"}.kakao-video-ad{display:block;overflow:hidden;max-height:319.5px;width:100%;height:0;padding-top:56.25%;vertical-align:top;box-sizing:border-box;color:#fff;background-color:#000;position:relative;font-size:10px;line-height:1;font-weight:400;font-style:normal;font-family:HelveticaNeue,Helvetica,roboto,sans-serif}.kakao-video-ad *{box-sizing:inherit}.kakao-video-ad video{position:absolute;top:0;left:0;width:100%;height:100%}.kakao-video-ad button{background:none;border:none;color:inherit;display:inline-block;overflow:visible;font-size:inherit;line-height:inherit;text-transform:none;text-decoration:none;transition:none;-webkit-appearance:none;-moz-appearance:none;appearance:none}.kakao-video-ad .loading-spinner{display:none;position:absolute;top:50%;left:50%;margin:-25px 0 0 -25px;opacity:.85;text-align:left;border:6px solid rgba(43,51,63,.7);box-sizing:border-box;background-clip:padding-box;width:50px;height:50px;border-radius:25px}.kakao-video-ad .loading-spinner:after,.kakao-video-ad .loading-spinner:before{content:\"\";position:absolute;margin:-6px;box-sizing:inherit;width:inherit;height:inherit;border-radius:inherit;opacity:1;border:inherit;border-color:transparent;border-top-color:#fff}.kakao-video-ad.loadstart .loading-spinner:after,.kakao-video-ad.loadstart .loading-spinner:before{-webkit-animation:vjs-spinner-spin 1.1s cubic-bezier(.6,.2,0,.8) infinite,vjs-spinner-fade 1.1s linear infinite;animation:vjs-spinner-spin 1.1s cubic-bezier(.6,.2,0,.8) infinite,vjs-spinner-fade 1.1s linear infinite}.kakao-video-ad.loadstart .loading-spinner{display:block}.kakao-video-ad.loadstart.error .loading-spinner{display:none}.kakao-video-ad .link-load{display:none;position:absolute;top:0;left:0;width:100%;height:100%;color:#fff;text-decoration:none;visibility:visible}.kakao-video-ad .link-load.vod_replay:after{position:absolute;top:0;left:0;right:0;bottom:0;background:rgba(0,0,0,.3);content:\"\"}.kakao-video-ad .load{position:absolute;left:50%;top:50%;z-index:1;-webkit-transform:translate(-50%,-50%);transform:translate(-50%,-50%)}.kakao-video-ad.loaded-data .load .ico_load{display:block;overflow:hidden;width:40px;height:40px;margin:0 auto;background:url(https://t1.daumcdn.net/biz/ui/adplayer/m320/ico_adplayer2_180308.png) no-repeat 0 0;text-indent:-9999px;transition:opacity 1s}.kakao-video-ad.has-started.playing .load .ico_load{opacity:0;background-position:-40px 0}.kakao-video-ad.has-started.playing.show-buttons .load .ico_load{opacity:1;transition:opacity 1s;background-position:-40px 0}.kakao-video-ad.has-started.show-buttons.playing.paused.ended .link-load{display:inline-block}.kakao-video-ad.has-started.show-buttons.playing.paused.ended .load .ico_load{opacity:1;background-position:-80px 0}.kakao-video-ad.has-started.show-buttons.playing.paused .load .ico_load{opacity:1;background-position:0 0}.load .txt_time{overflow:hidden;position:absolute;width:0;height:0;line-height:0;text-indent:-9999px}.kakao-video-ad .poster{display:inline-block;vertical-align:middle;background-repeat:no-repeat;background-position:50% 50%;background-size:contain;background-color:#000;cursor:pointer;margin:0;padding:0;position:absolute;top:0;right:0;bottom:0;left:0;height:100%;opacity:0;transition:opacity 1s}.kakao-video-ad .poster img{display:block;vertical-align:middle;margin:0 auto;max-height:100%;padding:0;width:100%}.kakao-video-ad.has-started .poster{opacity:0}.kakao-video-ad .control-bar{position:absolute;width:100%;height:60px;left:0;right:0;bottom:0;font-size:0;visibility:visible;opacity:1;text-align:right;background:-moz-linear-gradient(top,transparent 10%,rgba(0,0,0,.3) 100%);background:-webkit-linear-gradient(top,transparent 10%,rgba(0,0,0,.3));background:linear-gradient(180deg,transparent 10%,rgba(0,0,0,.3));transition:opacity 1s}.kakao-video-ad .time-control{display:inline-block;width:auto;height:auto;margin:31px 12px 0 0;vertical-align:top;opacity:0;transition:opacity 1s;letter-spacing:0}.kakao-video-ad.has-started .time-control{opacity:1}.kakao-video-ad .control-text{border:0;clip:rect(0 0 0 0);height:1px;margin:-1px;overflow:hidden;padding:0;position:absolute;width:1px}.kakao-video-ad .time-control em{font-size:12px;font-style:normal;color:#fff;font-weight:600;text-shadow:0 1px 1px rgba(0,0,0,.24)}.kakao-video-ad .control-bar a{background:none;border:none;color:inherit;display:inline-block;overflow:visible;font-size:inherit;line-height:inherit;text-transform:none;text-decoration:none;transition:none;-webkit-appearance:none;-moz-appearance:none;appearance:none}.kakao-video-ad .control-bar .btn_option{display:inline-block;position:relative;width:41px;height:41px;margin:19px 0 0 -12px;padding:0;cursor:pointer;-webkit-box-flex:unset;-moz-box-flex:unset;-webkit-flex:none;-ms-box-flex:none;flex:none;outline:none;opacity:1}.kakao-video-ad .control-bar .btn_option:before{position:absolute;left:8px;top:15px;width:22px;height:7px;background:url(https://t1.daumcdn.net/biz/ui/adplayer/m320/ico_adplayer2_180308.png) no-repeat -150px 0;content:\"\"}.kakao-video-ad .link_sound{position:absolute;bottom:9px;left:7px;z-index:10;height:27px;padding:5px;font-size:12px;line-height:17px;text-decoration:none;opacity:0;transition:opacity 1s}.kakao-video-ad .link_sound .ico_sound{display:inline-block;overflow:hidden;width:22px;height:17px;font-size:1px;line-height:0;color:transparent;background:url(https://t1.daumcdn.net/biz/ui/adplayer/m320/ico_adplayer2_180308.png) no-repeat -120px 0;vertical-align:top}.kakao-video-ad .link_sound.sound_off .ico_sound{background-position:-120px -20px}.kakao-video-ad .link_sound .txt_nosound{padding-left:7px;color:#fff;text-shadow:1px 1px 1px rgba(0,0,0,.24)}.kakao-video-ad.loaded-data .link_sound{opacity:1}.kakao-video-ad .progress-control{position:absolute;width:100%;bottom:0;left:0;height:2px;-webkit-box-flex:initial;-moz-box-flex:initial;-webkit-flex:auto;-ms-flex:auto;flex:auto;display:-webkit-box;display:-webkit-flex;display:-ms-flexbox;display:flex;-webkit-box-align:center;-webkit-align-items:center;-ms-flex-align:center;align-items:center}.kakao-video-ad .progress-holder{-webkit-box-flex:initial;-moz-box-flex:initial;-webkit-flex:auto;-ms-flex:auto;flex:auto;-webkit-transition:all .2s;-moz-transition:all .2s;-o-transition:all .2s;transition:all .2s;height:2px}.kakao-video-ad .progress-holder .load-progress,.kakao-video-ad .progress-holder .load-progress div,.kakao-video-ad .progress-holder .play-progress{position:absolute;display:block;height:100%;margin:0;padding:0;width:0;left:0;top:0}.kakao-video-ad .play-progress{background-color:#4dbefa}.kakao-video-ad .play-progress:before{position:absolute;top:-8px;right:-8px;width:16px;height:10px}.kakao-video-ad .progress-control:hover .play-progress:before{transform:scale(1)}.kakao-video-ad .slider{outline:0;position:relative;cursor:pointer;width:100%;padding:0;margin:0;-webkit-user-select:none;-moz-user-select:none;-ms-user-select:none;user-select:none;background-color:hsla(0,0%,100%,.4)}.kakao-video-ad .load-progress{background:#bfc7d3;background:rgba(115,133,159,.5)}.kakao-video-ad .load-progress div{background:hsla(0,0%,100%,.7)}.kakao-video-ad .option_layer{position:absolute;left:0;right:0;top:0;bottom:0;width:100%;height:100%;background-color:rgba(0,0,0,.5);visibility:hidden;opacity:0;transition:opacity .5s}.kakao-video-ad.can-optout .option_layer{visibility:visible;z-index:400;opacity:1;transition:opacity .5s}.kakao-video-ad .option_layer .info_auto{display:table;width:100%;height:100%}.kakao-video-ad .option_layer .info_auto .inner_auto{display:table-cell;vertical-align:middle}.kakao-video-ad .option_layer .info_auto .desc_auto{position:relative;margin:0;padding:0 10px 57px;font-size:14px;line-height:20px;color:#fff;text-align:center;text-shadow:0 1px 1px rgba(0,0,0,.12);word-break:keep-all}.kakao-video-ad .option_layer .info_auto .btn_auto{position:absolute;left:50%;bottom:-2px;width:110px;height:40px;margin-left:-55px;border-radius:2px;font-size:14px;color:#fff;background-color:#9a9a9a;text-align:center;cursor:pointer;border:0;-webkit-box-flex:unset;-moz-box-flex:unset;-webkit-flex:none;-ms-box-flex:none;flex:none;outline:none}.kakao-video-ad .option_layer .info_auto .btn_on{background-color:#43bbfb}.kakao-video-ad .option_layer .desc_info{position:absolute;left:0;right:0;bottom:0;margin:0;padding-bottom:10px;font-size:9px;color:#bbb;letter-spacing:-.01em;text-align:center}.kakao-video-ad .option_layer .btn_close{position:absolute;right:10px;top:12px;width:30px;height:30px;padding:7px;cursor:pointer;border:0;background-color:transparent;-webkit-box-flex:unset;-moz-box-flex:unset;-webkit-flex:none;-ms-box-flex:none;flex:none;outline:none}.kakao-video-ad .option_layer .btn_close:before{position:absolute;left:7px;top:7px;width:16px;height:16px;background:url(https://t1.daumcdn.net/biz/ui/adplayer/m320/ico_adplayer2_180308.png) no-repeat -120px -40px;content:\"\"}.kakao-video-ad .option_layer .active_on.btn_close:before{background-position:-120px -60px}.kakao-video-ad.can-optout .control-bar,.kakao-video-ad.can-optout .header,.kakao-video-ad.can-optout .link-load,.kakao-video-ad.can-optout .link_sound{opacity:0;transition:opacity .5s}.kakao-video-ad.show-buttons .link-load,.kakao-video-ad.show-poster .link-load,.kakao-video-ad.show-poster .poster{display:inline-block;opacity:1}@media only screen and (-webkit-min-device-pixel-ratio:1.5),only screen and (min-device-pixel-ratio:1.5),only screen and (min-resolution:1.5dppx){.kakao-video-ad .control-bar .btn_option:before,.kakao-video-ad .header .link_ad .txt_go:after,.kakao-video-ad .link_sound .ico_sound,.kakao-video-ad.loaded-data .load .ico_load,.kakao-video-ad .option_layer .btn_close:before{background-image:url(https://t1.daumcdn.net/biz/ui/adplayer/m640/ico_adplayer2_180308.png);background-size:180px 80px}}</style></head>\\n<body>\\n    <div id=\"kakaoIndex\">\\n        <a href=\"#kakaoBody\">본문 바로가기</a>\\n        <a href=\"#kakaoGnb\">메뉴 바로가기</a>\\n    </div>\\n    <div id=\"kakaoWrap\" class=\"wrap_mapdetail lbar_on\"><div data-viewid=\"header\" id=\"kakaoHead\" class=\"head_mapdetail\" role=\"banner\">\\n    <!--\\n    <h1 class=\"logo_daum\">\\n        <a href=\"http://daum.net\" id=\"kakaoLogo\" data-logtarget data-logevent=\"daum_top\" target=\"_blank\"><img src=\"//t1.daumcdn.net/localimg/localimages/07/2017/pc/rtn/logo_daum.png\" width=\"44\" height=\"18\" class=\"img_logo\" alt=\"다음\"></a>\\n        <a href=\"https://map.kakao.com\" id=\"kakaoServiceLogo\" data-logtarget data-logevent=\"map_top\" target=\"_blank\">\\n            <img src=\"//t1.daumcdn.net/localimg/localimages/07/2017/pc/rtn/logo_service.png\" width=\"39\" height=\"20\" class=\"img_logo\" alt=\"지도\">\\n        </a>\\n    </h1>\\n    -->\\n    <h1 class=\"logo_daum\">\\n        <!-- 2018-07-23 수정 -->\\n        <a href=\"https://map.kakao.com\" id=\"#kakaoMapLogo\" data-logtarget=\"\" data-logevent=\"map_top\" target=\"_blank\"><img src=\"//t1.daumcdn.net/localimg/localimages/07/2018/pc/rtn/logo_kakaomap.png\" width=\"121\" height=\"25\" class=\"img_logo\" alt=\"카카오맵\" id=\"exifviewer-img-1\" exifid=\"1656209132\" oldsrc=\"http://t1.daumcdn.net/localimg/localimages/07/2018/pc/rtn/logo_kakaomap.png\">\\n        </a>\\n    </h1>\\n    <div data-viewid=\"header\" data-root=\"\" class=\"search_map\">\\n    <h2 class=\"screen_out\">검색</h2>\\n    <form id=\"searchForm\" method=\"GET\">\\n        <fieldset>\\n            <legend class=\"screen_out\">검색어 입력 폼</legend>\\n            <label for=\"searchKeyword\" class=\"lab_search\">카카오맵 지도 검색</label>\\n            <input type=\"text\" name=\"q\" id=\"searchKeyword\" class=\"tf_search\" autocomplete=\"off\" spellcheck=\"false\">\\n            <button type=\"submit\" id=\"kakaoBtnSearch\" class=\"btn_search\">\\n                <span class=\"ico_comm ico_search\">검색</span>\\n            </button>\\n        </fieldset>\\n        <blockquote id=\"searchKeywordSuggest\" class=\"wrapper\">\\n            <div class=\"suggestBox box_sub\" style=\"display: none;\">\\n                <div class=\"baseBox bg\">\\n                    <div class=\"list\">\\n                        <ul class=\"suggest_list_target\"></ul>\\n                    </div>\\n                </div>\\n                <div class=\"favorite_find\"></div>\\n                <div class=\"search_recent\"></div>\\n            </div>\\n        <div class=\"suggestBox box_sub\"><div class=\"baseBox bg\"><div class=\"list\"><ul class=\"suggest_list_target\"></ul></div></div><div class=\"favorite_find\"></div><div class=\"search_recent\"></div></div></blockquote>\\n    </form>\\n</div>\\n\\n    <div id=\"kakaoGnb\" data-viewid=\"navBar\" data-root=\"\" class=\"location_bar\" role=\"navigation\"><!-- 스크롤 내려 왔을 때 location_bar_on 추가 -->\\n    <div class=\"inner_bar\">\\n        <div class=\"outer_header_share_container\">\\n            <div id=\"header_share_container\" class=\"inner_header_share_container\"><div class=\"social_comm_p hide\"><div class=\"sns_comm_p share_layer\">\\n    <strong class=\"screen_out\">SNS로 공유하기 펼쳐짐</strong>\\n    <ul class=\"list_sns\"><li>\\n        <a href=\"#none\" class=\"link_sns\" data-handler=\"kakaotalk\">\\n        <span class=\"img_social ico_sns_kt\">\\n        </span>카카오톡</a></li><li>\\n        <a href=\"#none\" class=\"link_sns\" data-handler=\"kakaostory\">\\n        <span class=\"img_social ico_sns_ks\">\\n        </span>카카오스토리</a></li><li>\\n        <a href=\"#none\" class=\"link_sns\" data-handler=\"facebook\">\\n        <span class=\"img_social ico_sns_fb\">\\n        </span>페이스북</a></li><li>\\n        <a href=\"#none\" class=\"link_sns\" data-handler=\"twitter\">\\n        <span class=\"img_social ico_sns_tw\">\\n        </span>트위터</a></li><li>\\n        <a href=\"#none\" class=\"link_sns\" data-handler=\"mail\">\\n        <span class=\"img_social ico_sns_mail\">\\n        </span>다음메일</a></li><li>\\n        <a href=\"#none\" class=\"link_sns\" data-handler=\"daumcafe\">\\n        <span class=\"img_social ico_sns_cafe\">\\n        </span>다음카페</a></li></ul>\\n    <div class=\"copyUrl\"><div class=\"sns_copyurl\">\\n    <a href=\"#none\" class=\"link_copyurl\">\\n    <span class=\"screen_out\">현재페이지 URL복사</span>\\n    <span class=\"txt_url\">https://place.map.kakao.com/12065307</span>\\n    <span class=\"txt_copy\">URL복사</span>\\n    </a>\\n    </div></div>\\n    <button class=\"btn_close\"><span class=\"img_social ico_close\">공유목록 닫기</span></button>\\n    </div><div class=\"sns_comm_p copyurl_layer hide\">\\n  <div class=\"inner_copyurl\">\\n  <p class=\"desc_copyurl\">주소가 복사되었습니다.<br>원하는곳에 붙여넣기(Ctrl+V)해주세요.</p>\\n  <button class=\"btn_close\"><span class=\"img_social ico_close\">공유목록 닫기</span>\\n  </button>\\n  </div></div></div></div>\\n        </div>\\n        <h2 class=\"tit_location\" aria-hidden=\"true\" data-logtarget=\"\" data-logevent=\"name_bar,name\">미가양고기</h2>\\n        <strong class=\"screen_out\">상세정보 퀵메뉴</strong>\\n        <ul class=\"list_lnb\">\\n            <li>\\n                <a href=\"https://map.kakao.com?urlX=521837&amp;urlY=1062035&amp;urlLevel=3&amp;itemId=12065307&amp;q=%EB%AF%B8%EA%B0%80%EC%96%91%EA%B3%A0%EA%B8%B0&amp;srcid=12065307&amp;map_type=TYPE_MAP\" target=\"_blank\" class=\"link_lnb\" data-logtarget=\"\" data-logevent=\"name_bar,map\">\\n                    <span class=\"ico_comm ico_map\">지도</span><!--  2018-11-28 추가 : 텍스트 감싸는 .ico_comm.ico_map 요소 추가  -->\\n                </a>\\n            </li>\\n            <!-- 2018-11-28 추가 : 로드뷰, 즐겨찾기 위치이동으로 인한 추가 -->\\n            <li>\\n                <a href=\"https://map.kakao.com?srcid=12065307&amp;confirmid=12065307&amp;q=%EB%AF%B8%EA%B0%80%EC%96%91%EA%B3%A0%EA%B8%B0&amp;rv=on\" target=\"_blank\" class=\"link_lnb\" data-roadview=\"\" data-logtarget=\"\" data-logevent=\"name_bar,roadview\">\\n                    <span class=\"ico_comm ico_roadview\">로드뷰</span><!--  2018-11-28 추가 : 텍스트 감싸는 .ico_comm.ico_roadview 요소 추가  -->\\n                </a>\\n            </li>\\n            <li><!-- 2018-11-28 즐겨찾기 메뉴의 lst클래스 삭제 -->\\n                <a href=\"#none\" class=\"link_lnb link_bookmark \" data-fid=\"\" data-link=\"fav\" data-logtarget=\"\" data-logevent=\"name_bar,favorite\">\\n                    <span class=\"ico_comm ico_bookmark\">즐겨찾기 추가</span>\\n                    <span class=\"ico_num ico_num\"><span class=\"screen_out\">나의 즐겨찾기 폴더 개수</span></span>\\n                </a>\\n            </li>\\n            <li data-share=\"\">\\n                <a href=\"#none\" target=\"_blank\" class=\"link_lnb\" data-link=\"share\">\\n                    <span class=\"ico_comm ico_share\">공유하기</span>\\n                </a>\\n            </li>\\n            <!--// 2018-11-28 추가 : 공유하기 버튼 추가 -->\\n            <li>\\n                <a href=\"https://map.kakao.com?map_type=TYPE_MAP&amp;target=car&amp;rt=,,521837,1062035&amp;rt1=&amp;rt2=%EB%AF%B8%EA%B0%80%EC%96%91%EA%B3%A0%EA%B8%B0&amp;rtIds=,12065307\" target=\"_blank\" class=\"link_lnb\" data-logtarget=\"\" data-logevent=\"name_bar,route\">\\n                    <span class=\"ico_comm ico_route\">길찾기</span><!--  2018-11-28 추가 : 텍스트 감싸는 .ico_comm.ico_route 요소 추가  -->\\n                </a>\\n            </li>\\n        </ul>\\n    </div>\\n</div>\\n    <div data-viewid=\"headerProfile\" data-root=\"\">\\n    <a href=\"#\" target=\"_top\" class=\"btn_login login\">로그인</a>\\n</div>\\n\\n</div>\\n<hr class=\"hide\">\\n<div data-viewid=\"nativeAdvertisement\" adfit-unit-id=\"DAN-1h8210bp60zzq\" data-root=\"\" style=\"position: absolute; top: 228px; left: 50%; margin-left: -555px;\" adfit-init=\"true\" adfit-unit-idx=\"0\">\\n    <strong style=\"overflow:hidden;position:absolute;width:0;height:0;line-height:0;text-indent:-9999px\">광고</strong>\\n    <a href=\"https://analytics.ad.daum.net/clk?wa=oZxDMQvK6lZ0I2lcEyYOsA&amp;enc=LQ2xjWB44GT1JFz1NcAw5eqp0_KXJusRqarbvhzWUPhxS1DbfLy7YV5cR52t2znJSimxpP2PQY2bjNLrJNC12nCBNR0Z2Eqc1f3lBSyWj9Usw6tT7BSNzqjh5DUZudILU7CBVzdFUrXA-8sXYZKYXedFe0-EAci6mivWltm0OY95J4uoS40NaiReSj7Rx9eQTR29sXoC2sftE0LXjb-X-LN5sN3Sm5cx0UOZVAOR7uDjL8AvBLuJWu0uQZ9p5QPPgrUa3vIjc_AGHIgY7w0s567OBiGhttyVdT4oZNDDzaKqcoUZwj_Eqvxao1MxjHybPKoK94mBECchl5CebxPJqtIscZpX4551wboDCOdLuqkuE05CovWzaoR_2cSSoHVzHWmLvWm0JTZAui4_aE8x4J5TvY6OEfYL9cOTJVSiwcfkkP1ILGEM9K5u0TZ5JPoIeHN8VJ_MHldSBDODnEcgS2zpKXeBKeeJa03Ngk_gmreML_Lzm3Hnb6ddvmCKM1TS5np1XGqFjhmCi_-AIjXlb5Q-MDAGQZgszC6JES9M8odn3lOLJ1TeY2ygnapIXoHhkBZv97hWsnUJnBlPTAkgPd7v3x0ArSe3n7vs-cLcJwIgqbtNCw7w33D7j6TjA4lFAjF0OKsTiDDsZR2-f29URA&amp;lc=1\" target=\"_blank\" style=\"display:block\" adfit-landing-url=\"\">\\n        <span style=\"display:block;overflow:hidden;position:relative\">\\n            <img width=\"125\" height=\"94\" adfit-image-width=\"125\" adfit-image-height=\"94\" adfit-main-img-url=\"\" style=\"display:block;border-radius:4px\" alt=\"유리막 코팅 너무 쉬워요! 비올때 최고!\" src=\"https://img1.daumcdn.net/thumb/S250x187/?scode=b2_01&amp;x-twg-thumb-fname=http%3A%2F%2Ft1.daumcdn.net%2Fb2%2Fcreative%2F126837%2F59335bbdc001a5e525f980ab728c7ca0.jpg&amp;TWGServiceId=b2&amp;Expires=1605016800&amp;Signature=NK3GQLyBsfTvM79ZU6nbcs3Xd3Q%3D\" adfit-action-type=\"mainImage\">\\n            <img adfit-ad-info-icon=\"\" src=\"https://t1.daumcdn.net/b2/templates/image/opt_out_30.png\" width=\"24\" height=\"16\" style=\"position: absolute; top: 4px; right: 4px; cursor: pointer; pointer-events: auto;\" alt=\"유리막 코팅 너무 쉬워요! 비올때 최고!\" adfit-action-type=\"adInfoIcon\">\\n        </span>\\n        <strong class=\"tit_item\" adfit-title=\"\" style=\"display:block;overflow:hidden;width:125px;max-height:38px;padding-top:6px;font-weight:normal;font-size:13px;line-height:18px;color:#555;font-family:AppleSDGothicNeo-Regular,\\'Malgun Gothic\\',\\'맑은 고딕\\',dotum,\\'돋움\\',sans-serif;text-align:center\" adfit-action-type=\"title\">유리막 코팅 너무 쉬워요! 비올때 최고!</strong>\\n    </a>\\n</div>\\n<div id=\"kakaoContent\" role=\"main\" class=\"cont_mapdetail\">\\n    <div class=\"dimmed_layer hide\"></div>\\n    <div id=\"mArticle\">\\n        <div data-viewid=\"basicInfo\" class=\"cont_essential\">\\n    <div data-viewid=\"basicInfoTop\" data-root=\"\">\\n    <div class=\"details_present\">\\n        <a href=\"#none\" class=\"link_present\" data-logtarget=\"\" data-logevent=\"info_pannel,main_pic\">\\n            <span class=\"frame_g\"></span>\\n        </a>\\n    </div>\\n    <div class=\"place_details\">\\n        <div class=\"inner_place\">\\n            <h2 class=\"tit_location\">미가양고기</h2>\\n            <div class=\"location_evaluation\">\\n                <span class=\"txt_location\"><span class=\"screen_out\">분류: </span>중화요리</span>\\n                <span class=\"ico_comm ico_dot\"></span>\\n                <a href=\"#none\" class=\"link_evaluation\" data-cnt=\"175\" data-target=\"comment\" data-logtarget=\"\" data-logevent=\"info_pannel,point\">평점 <span class=\"color_b\">4.3<span class=\"screen_out\">점</span></span>\\n                    <span class=\"color_g\">(175)<span class=\"screen_out\">명 평가</span></span>\\n                </a>\\n                <span class=\"ico_comm ico_dot\"></span>\\n                <a href=\"#none\" class=\"link_evaluation\" data-cnt=\"247\" data-target=\"review\" data-logtarget=\"\" data-logevent=\"info_pannel,review\">\\n                    리뷰 <span class=\"color_b\">247<span class=\"screen_out\">개</span></span>\\n                </a>\\n            </div>\\n            <strong class=\"screen_out\">위치 정보 및 공유하기</strong>\\n            <ul class=\"list_place\">\\n                <li>\\n                    <a href=\"https://map.kakao.com?urlX=521837&amp;urlY=1062035&amp;urlLevel=3&amp;itemId=12065307&amp;q=%EB%AF%B8%EA%B0%80%EC%96%91%EA%B3%A0%EA%B8%B0&amp;srcid=12065307&amp;map_type=TYPE_MAP\" target=\"_blank\" class=\"link_place\" data-logtarget=\"\" data-logevent=\"info_pannel,map_view\"><span class=\"ico_comm ico_storemap\"></span>지도</a></li>\\n                <li>\\n                    <a href=\"https://map.kakao.com?map_type=TYPE_MAP&amp;target=car&amp;rt=,,521837,1062035&amp;rt1=&amp;rt2=%EB%AF%B8%EA%B0%80%EC%96%91%EA%B3%A0%EA%B8%B0&amp;rtIds=,12065307\" target=\"_blank\" class=\"link_place\" data-logtarget=\"\" data-logevent=\"info_pannel,route\"><span class=\"ico_comm ico_route\"></span>길찾기</a>\\n                </li>\\n                <li>\\n                        <a href=\"https://map.kakao.com?srcid=12065307&amp;confirmid=12065307&amp;q=%EB%AF%B8%EA%B0%80%EC%96%91%EA%B3%A0%EA%B8%B0&amp;rv=on\" class=\"link_place\" target=\"_blank\" data-logtarget=\"\" data-logevent=\"info_pannel,roadview\" data-roadview=\"\"><span class=\"ico_comm ico_roadmap\"></span>로드뷰</a>\\n                </li>\\n                <li class=\"lst\">\\n                    <a href=\"#none\" class=\"link_place\" data-logevent=\"info_pannel,share\"><span class=\"ico_comm ico_share\"></span>공유하기</a>\\n                    <div data-viewid=\"snsShare\" data-root=\"\" class=\"detail_share\">\\n</div>\\n                    <div class=\"place_share_container\" id=\"place_share_container\"><div class=\"social_comm_p hide\"><div class=\"sns_comm_p share_layer\">\\n    <strong class=\"screen_out\">SNS로 공유하기 펼쳐짐</strong>\\n    <ul class=\"list_sns\"><li>\\n        <a href=\"#none\" class=\"link_sns\" data-handler=\"kakaotalk\">\\n        <span class=\"img_social ico_sns_kt\">\\n        </span>카카오톡</a></li><li>\\n        <a href=\"#none\" class=\"link_sns\" data-handler=\"kakaostory\">\\n        <span class=\"img_social ico_sns_ks\">\\n        </span>카카오스토리</a></li><li>\\n        <a href=\"#none\" class=\"link_sns\" data-handler=\"facebook\">\\n        <span class=\"img_social ico_sns_fb\">\\n        </span>페이스북</a></li><li>\\n        <a href=\"#none\" class=\"link_sns\" data-handler=\"twitter\">\\n        <span class=\"img_social ico_sns_tw\">\\n        </span>트위터</a></li><li>\\n        <a href=\"#none\" class=\"link_sns\" data-handler=\"mail\">\\n        <span class=\"img_social ico_sns_mail\">\\n        </span>다음메일</a></li><li>\\n        <a href=\"#none\" class=\"link_sns\" data-handler=\"daumcafe\">\\n        <span class=\"img_social ico_sns_cafe\">\\n        </span>다음카페</a></li></ul>\\n    <div class=\"copyUrl\"><div class=\"sns_copyurl\">\\n    <a href=\"#none\" class=\"link_copyurl\">\\n    <span class=\"screen_out\">현재페이지 URL복사</span>\\n    <span class=\"txt_url\">https://place.map.kakao.com/12065307</span>\\n    <span class=\"txt_copy\">URL복사</span>\\n    </a>\\n    </div></div>\\n    <button class=\"btn_close\"><span class=\"img_social ico_close\">공유목록 닫기</span></button>\\n    </div><div class=\"sns_comm_p copyurl_layer hide\">\\n  <div class=\"inner_copyurl\">\\n  <p class=\"desc_copyurl\">주소가 복사되었습니다.<br>원하는곳에 붙여넣기(Ctrl+V)해주세요.</p>\\n  <button class=\"btn_close\"><span class=\"img_social ico_close\">공유목록 닫기</span>\\n  </button>\\n  </div></div></div></div>\\n                </li>\\n            </ul>\\n\\n            <a href=\"#none\" class=\"link_bookmark \" data-fid=\"\" data-logtarget=\"\" data-logevent=\"info_pannel,favorite\">\\n                <span class=\"ico_comm ico_bookmark\">즐겨찾기 추가</span>\\n                <span class=\"ico_num ico_num\"><span class=\"screen_out\">나의 즐겨찾기 폴더 개수</span></span>\\n            </a>\\n\\n        </div>\\n    </div>\\n    <div class=\"details_rest\">\\n        <strong class=\"screen_out\">기타 메뉴</strong>\\n        <ul class=\"list_rest\">\\n            <li>\\n                <a href=\"#none\" class=\"link_rest\" data-type=\"print\" data-logtarget=\"\" data-logevent=\"right_etc,print\">\\n                    <span class=\"ico_comm ico_print\">프린트하기</span>\\n                </a>\\n            </li>\\n            <li>\\n                <a href=\"#none\" class=\"link_rest\" data-type=\"roughmap\" data-logtarget=\"\" data-logevent=\"right_etc,simplemap\">\\n                    <span class=\"ico_comm ico_makemap\">약도 만들기</span>\\n                </a>\\n            </li>\\n        </ul>\\n    </div>\\n</div>\\n    <div data-viewid=\"basicInfo\" data-root=\"\" class=\"details_placeinfo\">\\n    <h3 class=\"tit_subject\">상세정보</h3>\\n    <div class=\"placeinfo_default\">\\n        <h4 class=\"tit_detail\"><span class=\"ico_comm ico_address\">위치</span></h4>\\n        <div class=\"location_detail\">\\n            <span class=\"txt_address\">경기 용인시 수지구\\n                풍덕천로148번길 22\\n                1층 (우)16835</span>\\n            <span class=\"txt_addrnum\">지번<span class=\"bg_bar\"></span>풍덕천동 724-3</span>\\n        </div>\\n    </div>\\n        <div class=\"placeinfo_default\">\\n            <h4 class=\"tit_detail\"><span class=\"ico_comm ico_operation\">운영시간 안내</span></h4>\\n            <div class=\"location_detail openhour_wrap\"><!-- btn_more 클릭 했을 때 open_on 추가 -->\\n                <div class=\"location_present\">\\n                            <strong class=\"tit_operation fst\">영업시간\\n                                    <span class=\"open\">영업중</span>\\n                            </strong>\\n                            \\n                                <ul class=\"list_operation\">\\n                                        <li>\\n                                            <span class=\"txt_operation\">매일 <span class=\"time_operation\">11:30 ~ 23:30</span>\\n                                            \\n                                            </span>\\n                                                    <a href=\"#none\" class=\"btn_more\" data-logevent=\"main_info,more_timeinfo\"><span class=\"ico_comm ico_more\">더보기</span></a>\\n                                       </li>\\n                                </ul>\\n                </div>\\n                    <div class=\"fold_floor\" style=\"top: 42px;\">\\n                        <div class=\"inner_floor\">\\n                                    <strong class=\"tit_operation fst\">영업시간</strong>\\n                                    \\n                                        <ul class=\"list_operation\">\\n                                                <li>매일 <span class=\"time_operation\">11:30 ~ 23:30</span>\\n                                                    \\n                                                </li>\\n                                        </ul>\\n                                <strong class=\"tit_operation\">휴무일</strong>\\n                                <ul class=\"list_operation\">\\n                                        <li>연중무휴 \\n                                            \\n                                        </li>\\n                                </ul>\\n                            <a href=\"#none\" class=\"btn_close\">\\n                                <span class=\"ico_comm ico_close\">닫기</span>\\n                            </a>\\n                        </div>\\n                    </div>\\n            </div>\\n        </div>\\n        <div class=\"placeinfo_default placeinfo_homepage\">\\n            <h4 class=\"tit_detail\"><span class=\"ico_comm ico_homepage\">홈 페이지</span></h4>\\n            <div class=\"location_detail \">\\n                <div class=\"location_present\">\\n                    <a href=\"http://031-272-8845.모바일114.kr/\" target=\"_blank\" class=\"link_homepage\" data-logtarget=\"\" data-logevent=\"main_info,website\">031-272-8845.모바일114.kr</a>\\n                    \\n                </div>\\n            </div>\\n        </div>\\n        <div class=\"placeinfo_default placeinfo_contact\">\\n            <h4 class=\"tit_detail\"><span class=\"ico_comm ico_contact\">연락처</span></h4>\\n            <div class=\"location_detail \"><!-- btn_more 클릭 했을 때 open_on 추가 -->\\n                <div class=\"location_present\">\\n                    <span class=\"num_contact\"><span class=\"txt_contact\">031-272-8845</span><span class=\"color_g\"> 대표번호</span></span>\\n                    \\n                </div>\\n            </div>\\n        </div>\\n        <div class=\"placeinfo_default\">\\n            <h4 class=\"tit_detail\"><span class=\"ico_comm ico_delivery\">예약, 배달, 포장</span></h4>\\n            <div class=\"location_detail\">예약가능, 배달불가, 포장가능</div>\\n        </div>\\n        <div class=\"placeinfo_default\">\\n            <h4 class=\"tit_detail\"><span class=\"ico_comm ico_broadcasting\">방송</span></h4>\\n            <div class=\"location_detail\">\\n                    <span class=\"txt_broadcasting\">\\n                        <a href=\"http://search.daum.net/search?q=%EC%98%AC%EB%A6%AC%EB%B8%8C%EC%88%98%EC%9A%94%EB%AF%B8%EC%8B%9D%ED%9A%8C177%ED%9A%8C\" target=\"_blank\" class=\"link_broadcasting\" data-logtarget=\"\" data-logevent=\"main_info,tvinfo\">\\n                            올리브 수요미식회 177회\\n                        </a> #바비큐\\n                        <span class=\"txt_date\">2018.07.11.</span>\\n                    </span>\\n            </div>\\n        </div>\\n        <div class=\"placeinfo_default placeinfo_facility\">\\n            <h4 class=\"tit_facility\"><span class=\"ico_comm ico_installation\"></span>시설정보</h4>\\n            <ul class=\"list_facility\">\\n                    <li>\\n                        <span class=\"ico_comm ico_noanimal\"></span>\\n                        <span class=\"color_g\">동물출입<span class=\"screen_out\">금지</span></span>\\n                    </li>\\n                    <li>\\n                        <span class=\"ico_comm ico_parking\"></span>\\n                        <span class=\"color_g\">주차</span>\\n                    </li>\\n                    <li>\\n                        <span class=\"ico_comm ico_nohandicapped\"></span>\\n                        <span class=\"color_g\">장애시설<span class=\"screen_out\">없음</span></span>\\n                    </li>\\n                    <li>\\n                        <span class=\"ico_comm ico_noplayroom\"></span>\\n                        <span class=\"color_g\">놀이방<span class=\"screen_out\">시설 없음</span></span>\\n                    </li>\\n            </ul>\\n        </div>\\n    <span class=\"info_revise\">업데이트 <span class=\"date_revise\">2020.09.10.</span> <span class=\"bg_bar\">|</span> <a href=\"#\" class=\"link_fiy\" data-fiytype=\"detail\" data-logtarget=\"\" data-logevent=\"main_info,FIY\">틀린정보 신고</a></span>\\n</div>\\n</div>\\n        \\n        \\n        \\n        <div data-viewid=\"menuInfo\" data-root=\"\" class=\"cont_menu\">\\n    <div class=\"particular_head\">\\n        <h3 class=\"tit_subject\">메뉴</h3>\\n        <span class=\"txt_updated\">최소 1년 전 업데이트된 정보입니다.</span>\\n    </div>\\n        <div class=\"wrap_list\">\\n            <div class=\"present_menu present_menu2\">\\n                    <a href=\"#none\" data-type=\"menuboard\" data-pidx=\"0\" class=\"view_menu\" style=\"background-image:url(\\'//img1.daumcdn.net/thumb/C320x110/?fname=http%3A%2F%2Ft1.daumcdn.net%2Flocal%2Freview%2Fd68d393bb7443e83fa02c14192f6d257901d9b9878239acfcfc378b912302c6e\\')\" data-logtarget=\"\" data-logevent=\"additional_info,menu,image1\">\\n                        <span class=\"frame_g\"></span>\\n                    </a>\\n                    <a href=\"#none\" data-type=\"menuboard\" data-pidx=\"1\" class=\"view_menu\" style=\"background-image:url(\\'//img1.daumcdn.net/thumb/C320x110/?fname=http%3A%2F%2Ft1.daumcdn.net%2Flocal%2Freview%2Fef3b874a18abac98a93219b815f313b6f15784795f5477aab9c2d9b1a2e401d9\\')\" data-logtarget=\"\" data-logevent=\"additional_info,menu,image2\">\\n                                <span class=\"menu_num\">\\n                                    <span class=\"txt_num\"><span class=\"ico_comm ico_menu\"> 갯수: </span>186</span>\\n                                </span>\\n                        <span class=\"frame_g\"></span>\\n                    </a>\\n            </div>\\n        </div>\\n    <strong class=\"screen_out\">메뉴 목록</strong>\\n    <ul class=\"list_menu\" data-maxpage=\"1\">\\n            <li class=\"photo_type\" data-page=\"1\"><!-- 이미지가 있는 경우 -->\\n                <div class=\"info_menu\">\\n                    <em class=\"screen_out\">명: </em><span class=\"loss_word\">몽골참숯양다리바베큐 (3-4인분)</span>\\n                    <em class=\"price_menu\"><span class=\"screen_out\">가격: </span>86,000</em>\\n                    <p class=\"txt_menu\">예약필수</p>\\n                </div>\\n            </li>\\n            <li class=\"photo_type\" data-page=\"1\"><!-- 이미지가 있는 경우 -->\\n                <div class=\"info_menu\">\\n                    <em class=\"screen_out\">명: </em><span class=\"loss_word\">오리지날양갈비꼬치 (1인분)</span>\\n                    <em class=\"price_menu\"><span class=\"screen_out\">가격: </span>12,000</em>\\n                    <p class=\"txt_menu\">8개</p>\\n                </div>\\n            </li>\\n            <li class=\"photo_type\" data-page=\"1\"><!-- 이미지가 있는 경우 -->\\n                <div class=\"info_menu\">\\n                    <em class=\"screen_out\">명: </em><span class=\"loss_word\">오리지날양꼬치 (1인분)</span>\\n                    <em class=\"price_menu\"><span class=\"screen_out\">가격: </span>10,000</em>\\n                    <p class=\"txt_menu\">8개</p>\\n                </div>\\n            </li>\\n            <li class=\"photo_type\" data-page=\"1\"><!-- 이미지가 있는 경우 -->\\n                <div class=\"info_menu\">\\n                    <em class=\"screen_out\">명: </em><span class=\"loss_word\">양념양갈비꼬치 (1인분)</span>\\n                    <em class=\"price_menu\"><span class=\"screen_out\">가격: </span>12,000</em>\\n                    <p class=\"txt_menu\">8개</p>\\n                </div>\\n            </li>\\n            <li class=\"photo_type opened_last\" data-page=\"1\"><!-- 이미지가 있는 경우 -->\\n                <div class=\"info_menu\">\\n                    <em class=\"screen_out\">명: </em><span class=\"loss_word\">양념양꼬치 (1인분)</span>\\n                    <em class=\"price_menu\"><span class=\"screen_out\">가격: </span>10,000</em>\\n                    <p class=\"txt_menu\">8개</p>\\n                </div>\\n            </li>\\n    </ul>\\n</div>\\n        \\n        \\n        \\n        \\n        \\n        \\n        \\n        \\n        \\n        \\n        \\n        \\n        \\n        \\n        \\n            <div data-viewid=\"visitor\" data-root=\"\" class=\"cont_visitor\">\\n        <h3 class=\"tit_subject\">방문자 데이터</h3>\\n        <p class=\"txt_visitor\">카카오의 장소 기반 빅데이터를 분석한 정보입니다. (2020.11.10. 업데이트)</p>\\n        <div class=\"popular_statistics\">\\n            <div class=\"visit_popular\">\\n                <h4 class=\"tit_popular\">시간별 인기도</h4>\\n                <ul class=\"day_legend\">\\n                    <li><span class=\"ico_comm ico_weekly\"></span>주평균</li>\\n                    <li>\\n                        <span class=\"ico_comm ico_day\"></span>\\n                        <span class=\"day_txt\">화요일 평균</span>\\n                    </li>\\n                </ul>\\n            </div>\\n            <div class=\"dayChart_wrap\">\\n                <canvas id=\"dayChart\" width=\"800\" height=\"262\" style=\"display: block; height: 210px; width: 640px;\"></canvas>\\n            </div><!-- 시간별 인기도 그래프 영역 -->\\n            <ul class=\"list_day\">\\n                <li data-day=\"sunday\">\\n                    <a href=\"#none\" class=\"link_day\">일</a>\\n                </li>\\n                <li data-day=\"monday\">\\n                    <a href=\"#none\" class=\"link_day\">월</a>\\n                </li>\\n                <li data-day=\"tuesday\" class=\"on\">\\n                    <a href=\"#none\" class=\"link_day\">화</a>\\n                </li>\\n                <li data-day=\"wednesday\">\\n                    <a href=\"#none\" class=\"link_day\">수</a>\\n                </li>\\n                <li data-day=\"thursday\">\\n                    <a href=\"#none\" class=\"link_day\">목</a>\\n                </li>\\n                <li data-day=\"friday\">\\n                    <a href=\"#none\" class=\"link_day\">금</a>\\n                </li>\\n                <li data-day=\"saturday\">\\n                    <a href=\"#none\" class=\"link_day\">토</a>\\n                </li>\\n            </ul>\\n            <div class=\"visit_popular\">\\n                <h4 class=\"tit_popular\">연령별 / 성별 인기도</h4>\\n            </div>\\n            <div class=\"charts_wrap\">\\n                <strong class=\"screen_out\">연령별 인기도 그래프</strong>\\n                <div class=\"ageChart_wrap\">\\n                    <canvas id=\"ageChart\" width=\"437\" height=\"212\" style=\"display: block; height: 170px; width: 350px;\"></canvas>\\n                </div><!-- 연령별 인기도 그래프 영역(임시 스타일) -->\\n                <strong class=\"screen_out\">성별 인기도 그래프</strong>\\n                <div class=\"genderChart_wrap\">\\n                    <div class=\"chart_gender\">\\n                        <canvas id=\"genderChart\" width=\"182\" height=\"182\" style=\"display: block; height: 146px; width: 146px;\"></canvas>\\n                    </div><!-- 성별 인기도 그래프 영역(임시 스타일) -->\\n                    <ul class=\"gender_legend\">\\n                        <li><span class=\"ico_comm ico_male\"></span>남성</li>\\n                        <li><span class=\"ico_comm ico_female\"></span>여성</li>\\n                    </ul>\\n                </div>\\n            </div>\\n        </div>\\n\\n    </div>\\n\\n\\n        <div data-viewid=\"photoSection\" data-root=\"\" class=\"cont_photo\">\\n    <div class=\"particular_head\">\\n        <h3 class=\"tit_subject\">사진</h3>\\n        \\n        <div class=\"wrap_btn\">\\n            <a href=\"#none\" class=\"link_enroll\" data-fiytype=\"photo\" data-logtarget=\"\" data-logevent=\"photo,add\">\\n                <span class=\"ico_comm ico_photo\"></span>사진등록\\n            </a>\\n        </div>\\n    </div>\\n        <div class=\"photo_area\">\\n            <ul class=\"list_photo photo_type5\">\\n        <li class=\"size_l\">\\n            <!-- 사진 2장 부터 클래스 size_l 추가 -->\\n            <a href=\"#none\" class=\"link_photo\" data-pidx=\"0\" style=\"background-image:url(\\'//img1.daumcdn.net/thumb/C640x320.q70/?fname=http%3A%2F%2Ft1.daumcdn.net%2Fcfile%2F20687F474ECF0CB509\\')\" data-logtarget=\"\" data-logevent=\"photo,photo_view\">\\n                <span class=\"frame_g\"></span>\\n            </a>\\n        </li>\\n        <li class=\"\">\\n            <!-- 사진 2장 부터 클래스 size_l 추가 -->\\n            <a href=\"#none\" class=\"link_photo\" data-pidx=\"1\" style=\"background-image:url(\\'//img1.daumcdn.net/thumb/C640x320.q70/?fname=http%3A%2F%2Ft1.daumcdn.net%2Fcfile%2F12491549500D3F6113\\')\" data-logtarget=\"\" data-logevent=\"photo,photo_view\">\\n                <span class=\"frame_g\"></span>\\n            </a>\\n        </li>\\n        <li class=\"\">\\n            <!-- 사진 2장 부터 클래스 size_l 추가 -->\\n            <a href=\"#none\" class=\"link_photo\" data-pidx=\"2\" style=\"background-image:url(\\'//img1.daumcdn.net/thumb/C640x320.q70/?fname=http%3A%2F%2Ft1.daumcdn.net%2Fcfile%2F1263864E4ECF0CB129\\')\" data-logtarget=\"\" data-logevent=\"photo,photo_view\">\\n                <span class=\"frame_g\"></span>\\n            </a>\\n        </li>\\n        <li class=\"\">\\n            <!-- 사진 2장 부터 클래스 size_l 추가 -->\\n            <a href=\"#none\" class=\"link_photo\" data-pidx=\"3\" style=\"background-image:url(\\'//img1.daumcdn.net/thumb/C640x320.q70/?fname=http%3A%2F%2Ft1.daumcdn.net%2Fcfile%2F133E893B4ECF0CBA39\\')\" data-logtarget=\"\" data-logevent=\"photo,photo_view\">\\n                <span class=\"frame_g\"></span>\\n            </a>\\n        </li>\\n        <li class=\"\">\\n            <!-- 사진 2장 부터 클래스 size_l 추가 -->\\n            <a href=\"#none\" class=\"link_photo\" style=\"background-image:url(\\'//img1.daumcdn.net/thumb/C640x320.q70/?fname=http%3A%2F%2Ft1.daumcdn.net%2Fcfile%2F14347648500D3F5D35\\')\" data-logtarget=\"\" data-logevent=\"photo,photo_view\">\\n                        <span class=\"more_photo\">\\n                            <span class=\"num_photo\">+4647</span>\\n                        </span>\\n                <span class=\"frame_g\"></span>\\n            </a>\\n        </li>\\n</ul>\\n\\n        </div>\\n            <strong class=\"screen_out\">분류</strong>\\n            <ul class=\"list_category\">\\n                    <li class=\"on\">\\n                        <a href=\"#none\" class=\"link_tag\" data-category=\"all\" data-logtarget=\"\" data-logevent=\"photo,tag,전체\">\\n                            전체\\n                        </a>\\n                    </li><!-- 선택시 클래스 on 추가 -->\\n                    <li>\\n                        <a href=\"#none\" class=\"link_tag\" data-category=\"음식\" data-logtarget=\"\" data-logevent=\"photo,tag,음식\">\\n                            \\n                            #음식\\n                        </a>\\n                    </li><!-- 선택시 클래스 on 추가 -->\\n                    <li>\\n                        <a href=\"#none\" class=\"link_tag link_tag2\" data-category=\"메뉴판\" data-logtarget=\"\" data-logevent=\"photo,tag,메뉴판\">\\n                            \\n                            #메뉴판\\n                        </a>\\n                    </li><!-- 선택시 클래스 on 추가 -->\\n                    <li>\\n                        <a href=\"#none\" class=\"link_tag\" data-category=\"전경\" data-logtarget=\"\" data-logevent=\"photo,tag,전경\">\\n                            \\n                            #전경\\n                        </a>\\n                    </li><!-- 선택시 클래스 on 추가 -->\\n                    <li>\\n                        <a href=\"#none\" class=\"link_tag\" data-category=\"실내\" data-logtarget=\"\" data-logevent=\"photo,tag,실내\">\\n                            \\n                            #실내\\n                        </a>\\n                    </li><!-- 선택시 클래스 on 추가 -->\\n                    <li>\\n                        <a href=\"#none\" class=\"link_tag\" data-category=\"기타\" data-logtarget=\"\" data-logevent=\"photo,tag,기타\">\\n                            \\n                            #기타\\n                        </a>\\n                    </li><!-- 선택시 클래스 on 추가 -->\\n            </ul>\\n</div>\\n        <div data-viewid=\"comment\" data-root=\"\" class=\"cont_evaluation\">\\n    <h3 class=\"tit_subject\">평가하기</h3>\\n    <div class=\"evaluation_place\">\\n        <!-- 텍스트 필드에 포커스 일때 클래스 write_on 추가 -->\\n        <form id=\"commentUpdateForm\" method=\"post\" data-commentid=\"\">\\n            <fieldset>\\n                <input type=\"hidden\" name=\"point\" value=\"\">\\n                <div class=\"grade_star\">\\n                    <span class=\"ico_star star_rate\">\\n                        <span class=\"ico_star inner_star\" style=\"width:0%\"></span>\\n                    </span>\\n                    <em class=\"num_rate\">0/5</em>\\n                    <span class=\"txt_word\">평가해주세요.</span>\\n                </div>\\n                <div class=\"write_review\">\\n                    <label for=\"tfReview\" class=\"lab_review\">여기의 어떤 점이 마음에 드셨나요?</label>\\n                    <textarea name=\"contents\" id=\"tfReview2\" class=\"tf_review\"></textarea>\\n                </div>\\n            </fieldset>\\n        </form>\\n        <div class=\"upload_photo hide\">\\n            <strong class=\"screen_out\">첨부된 사진 목록</strong>\\n            <form id=\"imgUploadForm\" action=\"/commentphoto/upload\" method=\"POST\" enctype=\"multipart/form-data\">\\n                <input type=\"hidden\" name=\"pidx\">\\n                <span class=\"thumb_upload box_upload\">\\n                    <label for=\"imgUpload2\" class=\"lab_upload\">사진 등록하기</label>\\n                    <input type=\"file\" id=\"imgUpload2\" name=\"upphoto\" class=\"inp_upload\" accept=\"image/*\">\\n                    <span class=\"ico_comm ico_upload\"></span>\\n                </span>\\n            </form>\\n        </div>\\n        <div class=\"agree_review\">\\n            <!--\\n            <span class=\"choice_mapdetail agree_checked\"><!-- 선택 되었을 때 클래스 agree_chacked ->\\n                <input id=\"mapChoice2\" class=\"inp_choice\" type=\"checkbox\" checked=\"checked\">\\n                <label for=\"mapChoice2\" class=\"lab_agree\">\\n                    <span class=\"ico_comm ico_choice\"></span><!-- 선택 되었을 때 클래스 ico_focused 추가 ->\\n                    작성된 평점 및 평가글이 카카오맵에 노출됩니다.\\n                </label>\\n            </span>\\n            -->\\n            <span class=\"num_letter txt_len_warp\"><span class=\"screen_out\">등록한 글자수: </span><span class=\"txt_len\">0</span><span class=\"num_total\"> / 2000</span></span>\\n            <button type=\"submit\" class=\"btn_enroll\">등록</button>\\n        </div>\\n    </div>\\n    <div class=\"evaluation_sorting\">\\n        <strong class=\"screen_out\">서비스별 평가 선택상자</strong>\\n        <em class=\"screen_out\">선택내용 :</em>\\n        <a href=\"#none\" class=\"tit_subject\">전체 <span class=\"color_b\">175</span><span class=\"ico_comm ico_arr\"></span></a>\\n        <em class=\"screen_out\">선택옵션</em>\\n        <ul class=\"list_opt\">\\n            <li><a href=\"#none\" data-platform=\"\" class=\"link_option\" data-logtarget=\"\" data-logevent=\"point,dropdown,all\">전체 175</a></li>\\n            <li><a href=\"#none\" data-platform=\"kakaomap\" class=\"link_option\" data-logtarget=\"\" data-logevent=\"point,dropdown,kakaomap\">카카오맵 85</a></li>\\n            <li><a href=\"#none\" data-platform=\"kakaoplace\" class=\"link_option\" data-logtarget=\"\" data-logevent=\"point,dropdown,kakaoplace\">카카오플레이스 77</a></li>\\n            <li><a href=\"#none\" data-platform=\"daummap\" class=\"link_option\" data-logtarget=\"\" data-logevent=\"point,dropdown,daummap\">다음지도 13</a></li>\\n        </ul>\\n    </div>\\n    <div class=\"ahead_info\">\\n        <strong class=\"screen_out\">평가 요약</strong>\\n        <div class=\"grade_star\">\\n            <em class=\"num_rate\">4.3<span class=\"txt_score\">점</span></em>\\n        <span class=\"ico_star star_rate\"><span class=\"ico_star inner_star\" style=\"width:86%\"></span></span>\\n        </div>\\n    </div>\\n    <div class=\"evaluation_review\">\\n        <strong class=\"screen_out\">평가 리스트</strong>\\n        <ul class=\"list_evaluation\">\\n                <li data-id=\"2524560\" class=\"  \" data-is-block=\"false\">\\n                    <!-- 2018-07-23 profile_info 추가 시작 -->\\n                    <a href=\"javascript:void(0);\" class=\"profile_info\" data-ismy=\"false\" data-userid=\"f5t8e4\" data-username=\"ㅋㅋ\" data-platform=\"kakaomap\" data-ori=\"http://t1.daumcdn.net/local/kakaomapPhoto/profile/e5c9cb03049351ea9fb5d032ae27479bc75915fb?original\">\\n                            <img src=\"//img1.daumcdn.net/thumb/C48x48.q80/?fname=http://t1.daumcdn.net/local/kakaomapPhoto/profile/e5c9cb03049351ea9fb5d032ae27479bc75915fb?original\" width=\"48\" height=\"48\" class=\"thumb_g\" alt=\"\">\\n\\n                            <span class=\"ico_comm  \"></span>\\n                    </a>\\n                    <div class=\"star_info\">\\n                        <div class=\"grade_star size_s\">\\n                            <span class=\"ico_star star_rate\"><span class=\"ico_star inner_star\" style=\"width:100%;\"></span></span>\\n                            <em class=\"num_rate\">5<span class=\"screen_out\">점</span></em>\\n                        </div>\\n                    </div>\\n                    <!-- // 2018-07-23 profile_info 추가 끝 -->\\n\\n                    <div class=\"comment_info\">\\n                                <p class=\"txt_comment \"><span>정신없다.웨이팅길다. 불친절하다. 하지만 존맛탱이다! 위에 세가지를 감수하고 먹을수있는맛집! (※일하시는 분들이 모두 중국분이라 의사소통이좀힘듬)</span><button type=\"button\" class=\"btn_fold\">더보기</button></p>\\n\\n                            <div class=\"append_item\">\\n                                <a href=\"#none\" class=\"link_like \" data-logtarget=\"\" data-logevent=\"point,list,good\">\\n                                    <!-- like_on 클래스 추가시 아이콘 변경 -->\\n                                    <span class=\"ico_comm ico_like\"></span> 좋아요 <span class=\"num_g\">1</span>\\n                                </a>\\n                                <span class=\"bg_bar\"></span>\\n\\n                                            <em class=\"screen_out\">작성자 : </em><a class=\"link_user\" href=\"javascript:void(0);\" data-ismy=\"false\" data-userid=\"f5t8e4\" data-username=\"ㅋㅋ\" data-platform=\"kakaomap\" data-ori=\"http://t1.daumcdn.net/local/kakaomapPhoto/profile/e5c9cb03049351ea9fb5d032ae27479bc75915fb?original\">ㅋㅋ</a>\\n                                            <span class=\"bg_bar\"></span>\\n\\n                                <em class=\"screen_out\">작성일 : </em><span class=\"time_write\">2020.10.14.</span>\\n\\n                                    <span class=\"bg_bar\"></span>\\n                                    <a href=\"javascript:void(0);\" data-id=\"spamLink\" data-commentid=\"2524560\" class=\"link_function\" target=\"popup\" data-platform=\"kakaomap\" data-logtarget=\"\" data-logevent=\"point,list,report\">\\n                                        신고\\n                                    </a>\\n\\n                            </div>\\n                    </div>\\n\\n                </li>\\n                <li data-id=\"2509763\" class=\"  \" data-is-block=\"false\">\\n                    <!-- 2018-07-23 profile_info 추가 시작 -->\\n                    <a href=\"javascript:void(0);\" class=\"profile_info\" data-ismy=\"false\" data-userid=\"o3ggiu\" data-username=\"리트머스\" data-platform=\"kakaomap\" data-ori=\"http://t1.daumcdn.net/local/kakaomapPhoto/profile/a1a2e33b023e258cd1d0788e2eab0cc432a5e71d?original\">\\n                            <img src=\"//img1.daumcdn.net/thumb/C48x48.q80/?fname=http://t1.daumcdn.net/local/kakaomapPhoto/profile/a1a2e33b023e258cd1d0788e2eab0cc432a5e71d?original\" width=\"48\" height=\"48\" class=\"thumb_g\" alt=\"\">\\n\\n                            <span class=\"ico_comm  \"></span>\\n                    </a>\\n                    <div class=\"star_info\">\\n                        <div class=\"grade_star size_s\">\\n                            <span class=\"ico_star star_rate\"><span class=\"ico_star inner_star\" style=\"width:20%;\"></span></span>\\n                            <em class=\"num_rate\">1<span class=\"screen_out\">점</span></em>\\n                        </div>\\n                    </div>\\n                    <!-- // 2018-07-23 profile_info 추가 끝 -->\\n\\n                    <div class=\"comment_info\">\\n                                <p class=\"txt_comment txt_fold\"><span>요리맛만 좋다고 맛집일까요? 음식맛 소문 좀 나고 사람 몰리니 서비스 개판되는게 당연한 것처럼 고객 홀대하는 음식점으로 변질되었네요...ㅜ.ㅜ 손님 붙잡아 두려고 대기시간도 엉터리로 알려주고, 일행중 일부가 먼저가서 주문하려는데도 전원이 올때까진 안된다고 빈자리도 내주지 않는군요... 이런 집을 뭐가 좋다고 자꾸 가는지... 초기엔 맛집이었을지 모르나 지금...</span><button type=\"button\" class=\"btn_fold\">더보기</button></p>\\n\\n                            <div class=\"append_item\">\\n                                <a href=\"#none\" class=\"link_like \" data-logtarget=\"\" data-logevent=\"point,list,good\">\\n                                    <!-- like_on 클래스 추가시 아이콘 변경 -->\\n                                    <span class=\"ico_comm ico_like\"></span> 좋아요 <span class=\"num_g\">1</span>\\n                                </a>\\n                                <span class=\"bg_bar\"></span>\\n\\n                                            <em class=\"screen_out\">작성자 : </em><a class=\"link_user\" href=\"javascript:void(0);\" data-ismy=\"false\" data-userid=\"o3ggiu\" data-username=\"리트머스\" data-platform=\"kakaomap\" data-ori=\"http://t1.daumcdn.net/local/kakaomapPhoto/profile/a1a2e33b023e258cd1d0788e2eab0cc432a5e71d?original\">리트머스</a>\\n                                            <span class=\"bg_bar\"></span>\\n\\n                                <em class=\"screen_out\">작성일 : </em><span class=\"time_write\">2020.10.11.</span>\\n\\n                                    <span class=\"bg_bar\"></span>\\n                                    <a href=\"javascript:void(0);\" data-id=\"spamLink\" data-commentid=\"2509763\" class=\"link_function\" target=\"popup\" data-platform=\"kakaomap\" data-logtarget=\"\" data-logevent=\"point,list,report\">\\n                                        신고\\n                                    </a>\\n\\n                            </div>\\n                    </div>\\n\\n                </li>\\n                <li data-id=\"2471646\" class=\"  \" data-is-block=\"false\">\\n                    <!-- 2018-07-23 profile_info 추가 시작 -->\\n                    <a href=\"javascript:void(0);\" class=\"profile_info\" data-ismy=\"false\" data-userid=\"l4m67c\" data-username=\"나그네\" data-platform=\"kakaomap\" data-ori=\"http://th-p.talk.kakao.co.kr/th/talkp/wkH27f1iik/yiDdVmR2pT0JBwv3fvw3f1/4e6cef.jpg\">\\n                            <img src=\"//img1.daumcdn.net/thumb/C48x48.q80/?fname=http://th-p.talk.kakao.co.kr/th/talkp/wkH27f1iik/yiDdVmR2pT0JBwv3fvw3f1/4e6cef.jpg\" width=\"48\" height=\"48\" class=\"thumb_g\" alt=\"\">\\n\\n                            <span class=\"ico_comm  \"></span>\\n                    </a>\\n                    <div class=\"star_info\">\\n                        <div class=\"grade_star size_s\">\\n                            <span class=\"ico_star star_rate\"><span class=\"ico_star inner_star\" style=\"width:20%;\"></span></span>\\n                            <em class=\"num_rate\">1<span class=\"screen_out\">점</span></em>\\n                        </div>\\n                    </div>\\n                    <!-- // 2018-07-23 profile_info 추가 끝 -->\\n\\n                    <div class=\"comment_info\">\\n                                <p class=\"txt_comment \"><span>최악입니다. 40분 기다리라 했는데 1시간 반 기다리게 해놓고, 주문해놓은 메뉴 나오느라 또 기다리게 만듬. 맛은 둘째치고 대기열 관리가 개판입니다. 2시간 기다리게 만들거었으면 받지를 말아야죠. 웨이팅은 대기예상시간을 대충이라도 맞게 이야기했을때 웨이팅이지 40분 이야기하고 2시간 기다리게 만들면 사기 아닙니까?</span><button type=\"button\" class=\"btn_fold\">더보기</button></p>\\n\\n                            <div class=\"append_item\">\\n                                <a href=\"#none\" class=\"link_like \" data-logtarget=\"\" data-logevent=\"point,list,good\">\\n                                    <!-- like_on 클래스 추가시 아이콘 변경 -->\\n                                    <span class=\"ico_comm ico_like\"></span> 좋아요 <span class=\"num_g\">1</span>\\n                                </a>\\n                                <span class=\"bg_bar\"></span>\\n\\n                                            <em class=\"screen_out\">작성자 : </em><a class=\"link_user\" href=\"javascript:void(0);\" data-ismy=\"false\" data-userid=\"l4m67c\" data-username=\"나그네\" data-platform=\"kakaomap\" data-ori=\"http://th-p.talk.kakao.co.kr/th/talkp/wkH27f1iik/yiDdVmR2pT0JBwv3fvw3f1/4e6cef.jpg\">나그네</a>\\n                                            <span class=\"bg_bar\"></span>\\n\\n                                <em class=\"screen_out\">작성일 : </em><span class=\"time_write\">2020.10.03.</span>\\n\\n                                    <span class=\"bg_bar\"></span>\\n                                    <a href=\"javascript:void(0);\" data-id=\"spamLink\" data-commentid=\"2471646\" class=\"link_function\" target=\"popup\" data-platform=\"kakaomap\" data-logtarget=\"\" data-logevent=\"point,list,report\">\\n                                        신고\\n                                    </a>\\n\\n                            </div>\\n                    </div>\\n\\n                </li>\\n                <li data-id=\"2404530\" class=\"  \" data-is-block=\"false\">\\n                    <!-- 2018-07-23 profile_info 추가 시작 -->\\n                    <a href=\"javascript:void(0);\" class=\"profile_info\" data-ismy=\"false\" data-userid=\"qqf5jm\" data-username=\"신창형\" data-platform=\"kakaomap\" data-ori=\"http://th-p.talk.kakao.co.kr/th/talkp/wkRNYmSei3/kQSjGjwUTZWS4iV3RDkhQ0/ezlrj3.jpg\">\\n                            <img src=\"//img1.daumcdn.net/thumb/C48x48.q80/?fname=http://th-p.talk.kakao.co.kr/th/talkp/wkRNYmSei3/kQSjGjwUTZWS4iV3RDkhQ0/ezlrj3.jpg\" width=\"48\" height=\"48\" class=\"thumb_g\" alt=\"\">\\n\\n                            <span class=\"ico_comm  \"></span>\\n                    </a>\\n                    <div class=\"star_info\">\\n                        <div class=\"grade_star size_s\">\\n                            <span class=\"ico_star star_rate\"><span class=\"ico_star inner_star\" style=\"width:20%;\"></span></span>\\n                            <em class=\"num_rate\">1<span class=\"screen_out\">점</span></em>\\n                        </div>\\n                    </div>\\n                    <!-- // 2018-07-23 profile_info 추가 끝 -->\\n\\n                    <div class=\"comment_info\">\\n                                <p class=\"txt_comment \"><span>웨이팅길고 정신없음</span><button type=\"button\" class=\"btn_fold\">더보기</button></p>\\n\\n                            <div class=\"append_item\">\\n                                <a href=\"#none\" class=\"link_like \" data-logtarget=\"\" data-logevent=\"point,list,good\">\\n                                    <!-- like_on 클래스 추가시 아이콘 변경 -->\\n                                    <span class=\"ico_comm ico_like\"></span> 좋아요 <span class=\"num_g\">1</span>\\n                                </a>\\n                                <span class=\"bg_bar\"></span>\\n\\n                                            <em class=\"screen_out\">작성자 : </em><a class=\"link_user\" href=\"javascript:void(0);\" data-ismy=\"false\" data-userid=\"qqf5jm\" data-username=\"신창형\" data-platform=\"kakaomap\" data-ori=\"http://th-p.talk.kakao.co.kr/th/talkp/wkRNYmSei3/kQSjGjwUTZWS4iV3RDkhQ0/ezlrj3.jpg\">신창형</a>\\n                                            <span class=\"bg_bar\"></span>\\n\\n                                <em class=\"screen_out\">작성일 : </em><span class=\"time_write\">2020.09.17.</span>\\n\\n                                    <span class=\"bg_bar\"></span>\\n                                    <a href=\"javascript:void(0);\" data-id=\"spamLink\" data-commentid=\"2404530\" class=\"link_function\" target=\"popup\" data-platform=\"kakaomap\" data-logtarget=\"\" data-logevent=\"point,list,report\">\\n                                        신고\\n                                    </a>\\n\\n                            </div>\\n                    </div>\\n\\n                </li>\\n                <li data-id=\"2330200\" class=\"  \" data-is-block=\"false\">\\n                    <!-- 2018-07-23 profile_info 추가 시작 -->\\n                    <a href=\"javascript:void(0);\" class=\"profile_info\" data-ismy=\"false\" data-userid=\"vr7871\" data-username=\"맛집꾸릉이\" data-platform=\"kakaomap\" data-ori=\"http://t1.daumcdn.net/local/kakaomapPhoto/profile/93ae109a11678163e69ba1b76f2e6a67cad6dd7b?original\">\\n                            <img src=\"//img1.daumcdn.net/thumb/C48x48.q80/?fname=http://t1.daumcdn.net/local/kakaomapPhoto/profile/93ae109a11678163e69ba1b76f2e6a67cad6dd7b?original\" width=\"48\" height=\"48\" class=\"thumb_g\" alt=\"\">\\n\\n                            <span class=\"ico_comm  \"></span>\\n                    </a>\\n                    <div class=\"star_info\">\\n                        <div class=\"grade_star size_s\">\\n                            <span class=\"ico_star star_rate\"><span class=\"ico_star inner_star\" style=\"width:100%;\"></span></span>\\n                            <em class=\"num_rate\">5<span class=\"screen_out\">점</span></em>\\n                        </div>\\n                    </div>\\n                    <!-- // 2018-07-23 profile_info 추가 끝 -->\\n\\n                    <div class=\"comment_info\">\\n                                <p class=\"txt_comment \"><span>인생훠궈...</span><button type=\"button\" class=\"btn_fold\">더보기</button></p>\\n\\n                            <div class=\"append_item\">\\n                                <a href=\"#none\" class=\"link_like \" data-logtarget=\"\" data-logevent=\"point,list,good\">\\n                                    <!-- like_on 클래스 추가시 아이콘 변경 -->\\n                                    <span class=\"ico_comm ico_like\"></span> 좋아요 <span class=\"num_g\" style=\"display:none;\">0</span>\\n                                </a>\\n                                <span class=\"bg_bar\"></span>\\n\\n                                            <em class=\"screen_out\">작성자 : </em><a class=\"link_user\" href=\"javascript:void(0);\" data-ismy=\"false\" data-userid=\"vr7871\" data-username=\"맛집꾸릉이\" data-platform=\"kakaomap\" data-ori=\"http://t1.daumcdn.net/local/kakaomapPhoto/profile/93ae109a11678163e69ba1b76f2e6a67cad6dd7b?original\">맛집꾸릉이</a>\\n                                            <span class=\"bg_bar\"></span>\\n\\n                                <em class=\"screen_out\">작성일 : </em><span class=\"time_write\">2020.08.29.</span>\\n\\n                                    <span class=\"bg_bar\"></span>\\n                                    <a href=\"javascript:void(0);\" data-id=\"spamLink\" data-commentid=\"2330200\" class=\"link_function\" target=\"popup\" data-platform=\"kakaomap\" data-logtarget=\"\" data-logevent=\"point,list,report\">\\n                                        신고\\n                                    </a>\\n\\n                            </div>\\n                    </div>\\n\\n                </li>\\n        </ul>\\n            <div class=\"paging_mapdetail\">\\n                        <span class=\"screen_out\">현재페이지</span>\\n                        <em class=\"link_page\">1</em>\\n                        <a href=\"#none\" class=\"link_page\" data-page=\"2\" data-logtarget=\"\" data-logevent=\"point,page,page_number2\">\\n                            2\\n                        </a>\\n                        <a href=\"#none\" class=\"link_page\" data-page=\"3\" data-logtarget=\"\" data-logevent=\"point,page,page_number3\">\\n                            3\\n                        </a>\\n                        <a href=\"#none\" class=\"link_page\" data-page=\"4\" data-logtarget=\"\" data-logevent=\"point,page,page_number4\">\\n                            4\\n                        </a>\\n                        <a href=\"#none\" class=\"link_page\" data-page=\"5\" data-logtarget=\"\" data-logevent=\"point,page,page_number5\">\\n                            5\\n                        </a>\\n                    <a href=\"#none\" class=\"btn_next\" data-page=\"6\" data-logtarget=\"\" data-logevent=\"point,page,next\">\\n                        다음<span class=\"ico_comm ico_next\"></span>\\n                    </a>\\n            </div>\\n    </div>\\n</div>\\n        <div class=\"cont_review\" data-viewid=\"review\" data-root=\"\">\\n    <div class=\"particular_head\">\\n        <h3 class=\"tit_subject\">리뷰</h3>\\n            <span class=\"num_g\">247<span class=\"screen_out\">개</span></span>\\n        <a href=\"#none\" class=\"link_enroll\" data-logtarget=\"\" data-logevent=\"review,add_review\">\\n            <span class=\"ico_comm ico_enroll\"></span>블로그 리뷰등록\\n        </a>\\n    </div>\\n        <div class=\"wrap_list\">\\n            <strong class=\"screen_out\">리뷰 리스트</strong>\\n            <ul class=\"list_review\">\\n                    <li data-id=\"23872624\" class=\"story_type2\">\\n                        <!-- 타이틀(클래스 tit_story)이 2줄 일 때 story_type2 추가 -->\\n                        <a href=\"http://blog.naver.com/sori9129/222130180582\" target=\"_blank\" class=\"link_review\" data-logtarget=\"\" data-logevent=\"review,list1\">\\n                            <div class=\"review_thumb exist_img\">\\n                                    <span class=\"item_photo\" style=\"background-image:url(\\'//img1.daumcdn.net/thumb/C204x110.q70/?fname=http%3A%2F%2Ft1.daumcdn.net%2Flocal%2Freview%2F68fe40d119cdf6e1ad53386b5f2ee21897dd0ddb36da211f10ed7cf3e48f726e\\')\"></span>\\n                                    <span class=\"frame_g\"></span>\\n                            </div>\\n                            <div class=\"review_story\">\\n                                <strong class=\"tit_story\">용인수지맛집 미가훠쿼양고기에서 베이징덕 먹었어요</strong>\\n                                <p class=\"txt_story\">지인이신 아주대교수님이 용인수지맛집으로 미가훠쿼양고기에서 베이징덕을 꼭 사주신다해서 포루투칼 박사과정 친구들하고 방문하게 되었어요 워낙 이곳이 용인수지맛집이라서 웨이팅도 길다한데 정말 소문데로 그러하내요 우리는 베이징덕은 미리 예약해야 먹을수있다는데 교수님이 미리 예약했다하셔서 웨이팅은 생략했습니다 본간 맞은편에 별관으로 안내하내요 용인수지맛집 미가훠쿼양고기집은 리얼중국분이 운영해서 중국음식 본토맛을 볼수있어서인지 중국분들도 많이 찾는다 합니다 입구에 장식되어있는 나무문과 그앞의 수석까지 다 중국에서 공수해온거라 하내요 범상치 않아 보입니다 즉석요리라 시간이 걸릴수 있다합니다 베이징덕은 최소 하루전에는 예약이되어야 먹을수 있다죠~ 주물 물주전자와 컵~ 어느새 중국 어느 식당에 와있는 느</p>\\n                            </div>\\n                        </a>\\n                        <span class=\"info_user\">\\n                            <span class=\"txt_user\">에코 스토리</span>\\n                            <span class=\"bg_bar\">|</span>\\n                            <span class=\"txt_date\">2020.10.29.</span>\\n                        </span>\\n                        <span class=\"frame_g\"></span>\\n                    </li>\\n                    <li data-id=\"23730550\" class=\"story_type2\">\\n                        <!-- 타이틀(클래스 tit_story)이 2줄 일 때 story_type2 추가 -->\\n                        <a href=\"http://blog.naver.com/seatreekim/222115168363\" target=\"_blank\" class=\"link_review\" data-logtarget=\"\" data-logevent=\"review,list2\">\\n                            <div class=\"review_thumb exist_img\">\\n                                    <span class=\"item_photo\" style=\"background-image:url(\\'//img1.daumcdn.net/thumb/C204x110.q70/?fname=http%3A%2F%2Ft1.daumcdn.net%2Flocal%2Freview%2F63c047ac1633d86cd5f716063042e6222c24923405e8b7b178993f9c8704a31a\\')\"></span>\\n                                    <span class=\"frame_g\"></span>\\n                            </div>\\n                            <div class=\"review_story\">\\n                                <strong class=\"tit_story\">수지미가양고기 점심특선 추천하는 맛집 후기</strong>\\n                                <p class=\"txt_story\">요즘따라 점심 때 밥을 나가서 먹는다 오늘은 파트장님과 함께...ㅎㅎ #수지미가양고기 #용인수지맛집 #용인미가훠궈양고기 미가훠궈양고기 경기 용인시 수지구 풍덕천로148번길 22 운영시간 :: 매일 11:30 - 23:30 솔직히 용인사람이라면 절대 모를 수 없는 찐 맛집이다? 입사 초 본사 교육있을때마다 지방에서 근무하는 동기들 윗동네로 올라오면 퇴근하고 꼭 먹는 맛집이었는데 진짜 오랜만에 방문했다&gt; 수지미가양고기는 중국분이 운영하셔서 그런지 동네 중국요리 흉내내는 곳들과는 맛이 확실히 다르다 수지미가양고기 주차는 도로 가변에 불법주차 많이하는데 단속은 하지 않는 느낌이다 저녁에는 수지구청 지하주차장 PM6시 이후부터 무료! </p>\\n                            </div>\\n                        </a>\\n                        <span class=\"info_user\">\\n                            <span class=\"txt_user\">::해송송계란탁::</span>\\n                            <span class=\"bg_bar\">|</span>\\n                            <span class=\"txt_date\">2020.10.14.</span>\\n                        </span>\\n                        <span class=\"frame_g\"></span>\\n                    </li>\\n                    <li data-id=\"23711668\" class=\"story_type2\">\\n                        <!-- 타이틀(클래스 tit_story)이 2줄 일 때 story_type2 추가 -->\\n                        <a href=\"http://blog.naver.com/small-gold/222114820714\" target=\"_blank\" class=\"link_review\" data-logtarget=\"\" data-logevent=\"review,list3\">\\n                            <div class=\"review_thumb exist_img\">\\n                                    <span class=\"item_photo\" style=\"background-image:url(\\'//img1.daumcdn.net/thumb/C204x110.q70/?fname=http%3A%2F%2Ft1.daumcdn.net%2Flocal%2Freview%2Fabe9015a184748863584df4515f116a40734519d1b3e0a5b265547b21b2aaa1d\\')\"></span>\\n                                    <span class=\"frame_g\"></span>\\n                            </div>\\n                            <div class=\"review_story\">\\n                                <strong class=\"tit_story\">매달 월급날 방문하고 있는! 미가훠궈양고기</strong>\\n                                <p class=\"txt_story\">안녕하세요 소-금 입니다. 회사 때문에 용인시 수지구로 이사 온 지도 벌써 2년이 넘어가고 있다. 이사 오고 난 뒤 여러 맛집들을 소개받았고 그중 매달 가는 맛집이 수지구청 역에 미가훠궈양고기 집이다. 언젠가부터 자연스럽게 친구와 함께 월급날에 여기서 만나 저녁을 먹고 있다. 미가훠궈양고기 집에는 다양한 음식을 팔고 대부분 다 맛있다. 하지만 나는 이 집에서 제일 좋아하는 건 양꼬치와 가지감자튀김이 최고인 것 같다. 요즘 매주 치팅하고 있는 것 같지만 맞습니다. 치팅때 다니는 가게들을 ㅎㅎㅎ 맛집 게시물에 올릴예정이다. 사람이 여전히 많았다. 매번 올 때마다 많고 짧게는 40분 길게는 2시간까지 기다린 적도 있다. 많은 팀을 예약받는 것 같지 않지만 예약을 받는다고 하</p>\\n                            </div>\\n                        </a>\\n                        <span class=\"info_user\">\\n                            <span class=\"txt_user\">단짠 단짠 작은별 ☆</span>\\n                            <span class=\"bg_bar\">|</span>\\n                            <span class=\"txt_date\">2020.10.13.</span>\\n                        </span>\\n                        <span class=\"frame_g\"></span>\\n                    </li>\\n                    <li data-id=\"23634677\" class=\"story_type2\">\\n                        <!-- 타이틀(클래스 tit_story)이 2줄 일 때 story_type2 추가 -->\\n                        <a href=\"http://blog.naver.com/petsrang/222101475569\" target=\"_blank\" class=\"link_review\" data-logtarget=\"\" data-logevent=\"review,list4\">\\n                            <div class=\"review_thumb exist_img\">\\n                                    <span class=\"item_photo\" style=\"background-image:url(\\'//img1.daumcdn.net/thumb/C204x110.q70/?fname=http%3A%2F%2Ft1.daumcdn.net%2Flocal%2Freview%2Fdf655403362086d1d95d0ecc779e9599a936cb76a4b7743a2919f6da6284acc2\\')\"></span>\\n                                    <span class=\"frame_g\"></span>\\n                            </div>\\n                            <div class=\"review_story\">\\n                                <strong class=\"tit_story\">[맛집/용인 수지] 오늘은 뭘먹지? 쌀쌀해지면 따끈한 훠궈!!</strong>\\n                                <p class=\"txt_story\">오늘 후배가 놀러 와서 뭘 먹을까 하다.. 날씨가 쌀쌀해지니 따뜻한게 먹고 싶어서 훠궈를 먹으러 갔습니다. 다들 잘 아시겠지만 중국식 샤브샤브라고 할까요?ㅎㅎ 이 집은 제가 좋아하는 집이죠.. 향 들어간 음식들을 싫어하시는 분들도 많은데.. 저도 이전엔 그랬습니다만, 싱가포르 여행 중 돈 아끼려다가 길에서 야자수에 싼 주먹밥을 먹고.. 어찌나 향이 진하던지, 얼마 안 하는 거였지만, 돈 아까 와서 먹어보려 반 먹다 못견디고 버렸는데, 그 후 이틀 동안 밥을 잘 못 먹을 만큼 괴로웠었죠.. 한번 고생하고 나니 그 담부터 향이 들어간지도 모르고 잘 먹습니다..ㅋㅋ 홍콩에서 같이 갔을 땐, 일행들이 밥과 요리를 시키고 안 먹길래 왜 안 먹냐니까, 향 때문에 못 먹겠다고 해서 제가 다 먹었죠.</p>\\n                            </div>\\n                        </a>\\n                        <span class=\"info_user\">\\n                            <span class=\"txt_user\">반려+동물</span>\\n                            <span class=\"bg_bar\">|</span>\\n                            <span class=\"txt_date\">2020.09.28.</span>\\n                        </span>\\n                        <span class=\"frame_g\"></span>\\n                    </li>\\n                    <li data-id=\"23594890\" class=\"story_type2\">\\n                        <!-- 타이틀(클래스 tit_story)이 2줄 일 때 story_type2 추가 -->\\n                        <a href=\"http://blog.naver.com/airmarah/222090524773\" target=\"_blank\" class=\"link_review\" data-logtarget=\"\" data-logevent=\"review,list5\">\\n                            <div class=\"review_thumb exist_img\">\\n                                    <span class=\"item_photo\" style=\"background-image:url(\\'//img1.daumcdn.net/thumb/C204x110.q70/?fname=http%3A%2F%2Ft1.daumcdn.net%2Flocal%2Freview%2F1662b5eb34b5cced10e30055ddb5c75a6a1492b65da6721157b8f9a47f575b6c\\')\"></span>\\n                                    <span class=\"frame_g\"></span>\\n                            </div>\\n                            <div class=\"review_story\">\\n                                <strong class=\"tit_story\">수지구 중국현지 점심메뉴를 맛보고 싶다면 미가양고기</strong>\\n                                <p class=\"txt_story\">안녕하세요! 실내 공기 지킴이 에어마라입니다. 최근 중국 음식이 너무 먹고 싶어서 단골 중국 집인 미가 양고기에 다녀왔어요~ 훠궈, 양꼬치 카오야 모두 좋아하지만 점심에 방문해서 간단히 점심 특선을 골랐어요. 보통 중국집에서 볼 수 없는 메뉴들이 많죠? 모두 중국 현지에서 자주 먹는 요리들이에요. 사실 중국에서 오래동안 살아서 가끔 그 중국의 맛이 너무 그리워 중국 식당을 찾아도 한국인 입맛에 맞춰져 그 맛이 안 나는 경우가 많았는데요 여기는 그래도 다른 곳 보다는 중국 현지 맛을 느낄 수 있어 자주 찾는 편입니다. 여기는 조선족 사장님이 운영하시고 직원분들도 모두 중국인이라 완전 로컬 식당 분위기예요!! 기본 밑반찬입니다. 사실 미가 양고기는 평소에 대기도 너무 길고 주문이 들</p>\\n                            </div>\\n                        </a>\\n                        <span class=\"info_user\">\\n                            <span class=\"txt_user\">에어마라 라이프</span>\\n                            <span class=\"bg_bar\">|</span>\\n                            <span class=\"txt_date\">2020.09.15.</span>\\n                        </span>\\n                        <span class=\"frame_g\"></span>\\n                    </li>\\n                    <li data-id=\"23497078\" class=\"story_type2\">\\n                        <!-- 타이틀(클래스 tit_story)이 2줄 일 때 story_type2 추가 -->\\n                        <a href=\"http://blog.naver.com/qkqtiq10/222082517500\" target=\"_blank\" class=\"link_review\" data-logtarget=\"\" data-logevent=\"review,list6\">\\n                            <div class=\"review_thumb exist_img\">\\n                                    <span class=\"item_photo\" style=\"background-image:url(\\'//img1.daumcdn.net/thumb/C204x110.q70/?fname=http%3A%2F%2Ft1.daumcdn.net%2Flocal%2Freview%2Fc0ce3fa3e119bfa1b809806d4d517e9f67224672a70daf48acefa9763ddfb82e\\')\"></span>\\n                                    <span class=\"frame_g\"></span>\\n                            </div>\\n                            <div class=\"review_story\">\\n                                <strong class=\"tit_story\">수지 미가양고기 내돈내산 후기, 훠궈맛집, 양꼬치 맛집, 짜장면 짬뽕맛집</strong>\\n                                <p class=\"txt_story\">용인 수지 미가양고기 다섯 번 째 다녀왔습니다 일단 다섯 번 다녀왔다고 하니 얼마나 맛있는 집인지는 아시겠죠? 수지 미가양고기는 수요미식회에 나왔던 집으로 로컬들에게는 정말 유명한 집입니다 참고로 주말 저녁에는 사람 정말 많아요... 이름은 미가양고기 이지만 주소는 일단 경기도 용인시 수지구 풍덕천로148번길 22에 위치한 \\'미가양고기전문점\\'입니다 미가훠궈양고기 경기도 용인시 수지구 풍덕천로148번길 22 참숯에 3시간을 훈연한 쫀득한 식감의 양다리 바비큐 전문점입니다 양꼬치, 훠궈, 짜장면, 짬뽕, 깐풍기 등도 판매한다. 영업시간은 매일 오전 11시 30분부터 오후 11시 30분까지 연중무휴입니다 수지 미가양고기 인기 메뉴 양고기훠궈, 소고기 훠궈는 2~3인 기준 3만8</p>\\n                            </div>\\n                        </a>\\n                        <span class=\"info_user\">\\n                            <span class=\"txt_user\">청년리뷰</span>\\n                            <span class=\"bg_bar\">|</span>\\n                            <span class=\"txt_date\">2020.09.07.</span>\\n                        </span>\\n                        <span class=\"frame_g\"></span>\\n                    </li>\\n            </ul>\\n\\n                <a href=\"#none\" data-moreid=\"23497078\" class=\"link_more\">\\n                    <!-- 리뷰 접기: link_close 추가-->\\n                    <span class=\"txt_more\">리뷰 더보기</span>\\n                    <span class=\"ico_comm ico_more\"></span>\\n                </a>\\n        </div>\\n</div>\\n        <div data-viewid=\"kakaostoryReview\" data-root=\"\" class=\"cont_review\">\\n    <div class=\"particular_head\">\\n        <h3 class=\"tit_subject\">카카오스토리</h3>\\n        <span class=\"num_g\">23<span class=\"screen_out\">개</span></span>\\n    </div>\\n    <div class=\"wrap_list\">\\n        <strong class=\"screen_out\">카카오스토리 리뷰 리스트</strong>\\n        <ul class=\"list_review list_kstory\">\\n                <li>\\n                    <a href=\"https://story.kakao.com/arammam/H95hJoB5lUA?from=kakaomap\" class=\"link_review\" data-logtarget=\"\" data-logevent=\"kakaostoryreview,list1\" target=\"_blank\">\\n                        <div class=\"review_thumb\">\\n                                <span class=\"item_photo\" style=\"background-image:url(\\'//img1.daumcdn.net/thumb/C204x204.q70/?fname=http%3A%2F%2Fdn-l0-story.kakao.co.kr%2Fdn%2Fq3jY9%2FhyH6arBTvt%2Fi5O4TQIYtXROy3TPJIqrH0%2Fimg.jpg%3Fwidth%3D1440%26height%3D1920%26avg%3D%2525237a6453%26v%3D2\\')\"></span>\\n                                    <span class=\"ico_comm ico_many\">후기 사진 여러장</span>\\n                            <span class=\"frame_g\"></span>\\n                        </div>\\n                        <div class=\"review_story\">\\n                            <p class=\"txt_story\">우정부부\\u200d♂️\\u200d♀️ 생일술상 오붓하게 양갈비 먹고 덕담 배틀을 하였다.#서로생축 운명 공동체 생일 이틀 차이. 생일주간시작 #양갈비 #연태고냥34 ° #빠쓰띠과 #미가양고기</p>\\n                        </div>\\n                    </a>\\n                    <span class=\"info_user\">\\n                \\t\\t\\t\\t\\t<span class=\"txt_user\">김동옥</span>\\n                \\t\\t\\t\\t\\t<span class=\"bg_bar\">|</span>\\n                \\t\\t\\t\\t\\t<span class=\"txt_date\">2020.10.31.</span>\\n                \\t\\t\\t\\t</span>\\n                    <span class=\"frame_g\"></span>\\n                </li>                <li>\\n                    <a href=\"https://story.kakao.com/_A1qke8/IGeoacJrztA?from=kakaomap\" class=\"link_review\" data-logtarget=\"\" data-logevent=\"kakaostoryreview,list2\" target=\"_blank\">\\n                        <div class=\"review_thumb\">\\n                                <span class=\"item_photo\" style=\"background-image:url(\\'//img1.daumcdn.net/thumb/C204x204.q70/?fname=http%3A%2F%2Fdn-l0-story.kakao.co.kr%2Fdn%2FczioQa%2FhyHOkui6ZA%2FyRJpw8yQMlrV9gkdwIp0T1%2Fimg.jpg%3Fwidth%3D1280%26height%3D1707%26avg%3D%25252376634a%26v%3D2\\')\"></span>\\n                            <span class=\"frame_g\"></span>\\n                        </div>\\n                        <div class=\"review_story\">\\n                            <p class=\"txt_story\">저녁 뭐드시나용? 전오늘 양꼬치~ 요기 완전 맛집 인가봐유 30분 기다려서 들어왔어용 ;; 근데 옆테이블에 나온 요리들이 다다 맛있어 보여요 다 먹구 싶지만 ;; 일단 양꼬치랑 훠거만 맛난 저녁 드세요</p>\\n                        </div>\\n                    </a>\\n                    <span class=\"info_user\">\\n                \\t\\t\\t\\t\\t<span class=\"txt_user\">밍마마의 사생활</span>\\n                \\t\\t\\t\\t\\t<span class=\"bg_bar\">|</span>\\n                \\t\\t\\t\\t\\t<span class=\"txt_date\">2020.10.10.</span>\\n                \\t\\t\\t\\t</span>\\n                    <span class=\"frame_g\"></span>\\n                </li>                <li>\\n                    <a href=\"https://story.kakao.com/_5558T6/fU6KjZzFwT0?from=kakaomap\" class=\"link_review\" data-logtarget=\"\" data-logevent=\"kakaostoryreview,list3\" target=\"_blank\">\\n                        <div class=\"review_thumb\">\\n                                <span class=\"item_photo\" style=\"background-image:url(\\'//img1.daumcdn.net/thumb/C204x204.q70/?fname=http%3A%2F%2Fdn-l0-story.kakao.co.kr%2Fdn%2Fdvs8n6%2FhyHKTE81XE%2FVTbdY8eHpp9DjS6js7c4q1%2Fimg.jpg%3Fwidth%3D948%26height%3D948%26avg%3D%2525237c6451%26v%3D2\\')\"></span>\\n                            <span class=\"frame_g\"></span>\\n                        </div>\\n                        <div class=\"review_story\">\\n                            <p class=\"txt_story\">무료한 시간 함께해준 친구야 고맙고맙</p>\\n                        </div>\\n                    </a>\\n                    <span class=\"info_user\">\\n                \\t\\t\\t\\t\\t<span class=\"txt_user\">Coco</span>\\n                \\t\\t\\t\\t\\t<span class=\"bg_bar\">|</span>\\n                \\t\\t\\t\\t\\t<span class=\"txt_date\">2020.10.07.</span>\\n                \\t\\t\\t\\t</span>\\n                    <span class=\"frame_g\"></span>\\n                </li>                <li>\\n                    <a href=\"https://story.kakao.com/arammam/GE2b5bbJwS0?from=kakaomap\" class=\"link_review\" data-logtarget=\"\" data-logevent=\"kakaostoryreview,list4\" target=\"_blank\">\\n                        <div class=\"review_thumb\">\\n                                <span class=\"item_photo\" style=\"background-image:url(\\'//img1.daumcdn.net/thumb/C204x204.q70/?fname=http%3A%2F%2Fdn-l0-story.kakao.co.kr%2Fdn%2FnhVW7%2FhyGQIYnFwL%2Fm1llnc7thwIJp2fij5Cmmk%2Fimg.jpg%3Fwidth%3D1440%26height%3D1920%26avg%3D%252523735d4b%26v%3D2\\')\"></span>\\n                                    <span class=\"ico_comm ico_many\">후기 사진 여러장</span>\\n                            <span class=\"frame_g\"></span>\\n                        </div>\\n                        <div class=\"review_story\">\\n                            <p class=\"txt_story\">퇴근 마중? 본심은 미가 자전거&amp;퀵보드타구 퇴근 마중? 온 람부자 오늘 미가 대기 40분 여긴 맨날 이러는구나. 코로나따윈 없는 미가</p>\\n                        </div>\\n                    </a>\\n                    <span class=\"info_user\">\\n                \\t\\t\\t\\t\\t<span class=\"txt_user\">김동옥</span>\\n                \\t\\t\\t\\t\\t<span class=\"bg_bar\">|</span>\\n                \\t\\t\\t\\t\\t<span class=\"txt_date\">2020.07.22.</span>\\n                \\t\\t\\t\\t</span>\\n                    <span class=\"frame_g\"></span>\\n                </li>                <li>\\n                    <a href=\"https://story.kakao.com/arammam/eZPvpdw0pp0?from=kakaomap\" class=\"link_review\" data-logtarget=\"\" data-logevent=\"kakaostoryreview,list5\" target=\"_blank\">\\n                        <div class=\"review_thumb\">\\n                                <span class=\"item_photo\" style=\"background-image:url(\\'//img1.daumcdn.net/thumb/C204x204.q70/?fname=http%3A%2F%2Fdn-l0-story.kakao.co.kr%2Fdn%2FFjbwA%2FhyEpjsD0wC%2F4kIv1kAis3UYHpppds9Ty0%2Fimg.jpg%3Fwidth%3D1440%26height%3D1920%26avg%3D%25252368594b%26v%3D2\\')\"></span>\\n                                    <span class=\"ico_comm ico_many\">후기 사진 여러장</span>\\n                            <span class=\"frame_g\"></span>\\n                        </div>\\n                        <div class=\"review_story\">\\n                            <p class=\"txt_story\">2020 올해도 잘먹꼬 잘살자 양꼬치 100개 먹꼬 후식 짜장면 2개 대식가족의 신년만찬 신년주 미가 대기 13번. 1시간 반 기다리다 꼭 먹을 때 자는 뽀 집에 와서 누룽지 먹는 뽀</p>\\n                        </div>\\n                    </a>\\n                    <span class=\"info_user\">\\n                \\t\\t\\t\\t\\t<span class=\"txt_user\">김동옥</span>\\n                \\t\\t\\t\\t\\t<span class=\"bg_bar\">|</span>\\n                \\t\\t\\t\\t\\t<span class=\"txt_date\">2020.01.02.</span>\\n                \\t\\t\\t\\t</span>\\n                    <span class=\"frame_g\"></span>\\n                </li>                <li>\\n                    <a href=\"https://story.kakao.com/joanne2684/K1ueTn1q5QA?from=kakaomap\" class=\"link_review\" data-logtarget=\"\" data-logevent=\"kakaostoryreview,list6\" target=\"_blank\">\\n                        <div class=\"review_thumb\">\\n                                <span class=\"item_photo\" style=\"background-image:url(\\'//img1.daumcdn.net/thumb/C204x204.q70/?fname=http%3A%2F%2Fdn-l0-story.kakao.co.kr%2Fdn%2FbnWZMb%2FhyD2X4rg5O%2F7pJhknTycZckHKrJmH4kNk%2Fimg.jpg%3Fwidth%3D1920%26height%3D1440%26avg%3D%25252364463b%26v%3D2\\')\"></span>\\n                                    <span class=\"ico_comm ico_many\">후기 사진 여러장</span>\\n                            <span class=\"frame_g\"></span>\\n                        </div>\\n                        <div class=\"review_story\">\\n                            <p class=\"txt_story\">2020. 12. 9 날씨도 꿉꿉하고 점심겸 저녁겸 고고! 나를 실망시키지 않는 미가! 서울, 용인, 분당권 중 젤 맘에 드는 훠궈집! 하이리** 불ㅇ*.....등등 훠궈 맛집은 마니 가봤으나.. 가격, 서비스, 위생, 맛 등등 최고! 이케 친절한 중국종업원도 진짜 읍다. 요리도 싸고 맛남... 담엔 양꼬치 묵으러 가야쥐!</p>\\n                        </div>\\n                    </a>\\n                    <span class=\"info_user\">\\n                \\t\\t\\t\\t\\t<span class=\"txt_user\">kangjoanne</span>\\n                \\t\\t\\t\\t\\t<span class=\"bg_bar\">|</span>\\n                \\t\\t\\t\\t\\t<span class=\"txt_date\">2019.12.10.</span>\\n                \\t\\t\\t\\t</span>\\n                    <span class=\"frame_g\"></span>\\n                </li>        </ul>\\n            <a href=\"#none\" class=\"link_more\" data-moreid=\"103280718130707187\"><span class=\"txt_more\">카카오스토리 더보기</span><span class=\"ico_comm ico_more\"></span></a>\\n    </div>\\n</div>\\n        <div data-viewid=\"findway\" data-root=\"\" class=\"cont_findway\">\\n    <h3 class=\"tit_subject\">찾아가는 길</h3>\\n    <div class=\"findway_map\">\\n        <h4 class=\"screen_out\">지도 보기</h4>\\n        <div class=\"view_map\" id=\"map\" style=\"overflow: hidden; background: url(&quot;https://t1.daumcdn.net/mapjsapi/images/2x/bg_tile.png&quot;);\"><div style=\"position: absolute; left: 0px; top: 0px; width: 100%; height: 100%; touch-action: none; cursor: url(&quot;https://i1.daumcdn.net/dmaps/apis/cursor/openhand.cur.ico&quot;) 7 5, url(&quot;https://i1.daumcdn.net/dmaps/apis/cursor/openhand.cur.ico&quot;), default;\"><div style=\"position: absolute; left: 148px; top: -77px;\"><div style=\"position: absolute; z-index: 0;\"></div><div style=\"position: absolute; z-index: 1; left: 0px; top: 0px;\"><img src=\"https://map3.daumcdn.net/map_2d_hd/2009alo/L5/472/231.png\" alt=\"\" draggable=\"false\" style=\"position: absolute; user-select: none; -webkit-user-drag: none; min-width: 0px; min-height: 0px; max-width: none; max-height: none; left: -388px; top: 309px; opacity: 1; transition-property: opacity; transition-duration: 0.2s; transition-timing-function: ease; width: 256px; height: 256px;\"><img src=\"https://map0.daumcdn.net/map_2d_hd/2009alo/L5/472/232.png\" alt=\"\" draggable=\"false\" style=\"position: absolute; user-select: none; -webkit-user-drag: none; min-width: 0px; min-height: 0px; max-width: none; max-height: none; left: -132px; top: 309px; opacity: 1; transition-property: opacity; transition-duration: 0.2s; transition-timing-function: ease; width: 256px; height: 256px;\"><img src=\"https://map1.daumcdn.net/map_2d_hd/2009alo/L5/472/233.png\" alt=\"\" draggable=\"false\" style=\"position: absolute; user-select: none; -webkit-user-drag: none; min-width: 0px; min-height: 0px; max-width: none; max-height: none; left: 124px; top: 309px; opacity: 1; transition-property: opacity; transition-duration: 0.2s; transition-timing-function: ease; width: 256px; height: 256px;\"><img src=\"https://map2.daumcdn.net/map_2d_hd/2009alo/L5/472/234.png\" alt=\"\" draggable=\"false\" style=\"position: absolute; user-select: none; -webkit-user-drag: none; min-width: 0px; min-height: 0px; max-width: none; max-height: none; left: 380px; top: 309px; opacity: 1; transition-property: opacity; transition-duration: 0.2s; transition-timing-function: ease; width: 256px; height: 256px;\"><img src=\"https://map3.daumcdn.net/map_2d_hd/2009alo/L5/473/231.png\" alt=\"\" draggable=\"false\" style=\"position: absolute; user-select: none; -webkit-user-drag: none; min-width: 0px; min-height: 0px; max-width: none; max-height: none; left: -388px; top: 53px; opacity: 1; transition-property: opacity; transition-duration: 0.2s; transition-timing-function: ease; width: 256px; height: 256px;\"><img src=\"https://map0.daumcdn.net/map_2d_hd/2009alo/L5/473/232.png\" alt=\"\" draggable=\"false\" style=\"position: absolute; user-select: none; -webkit-user-drag: none; min-width: 0px; min-height: 0px; max-width: none; max-height: none; left: -132px; top: 53px; opacity: 1; transition-property: opacity; transition-duration: 0.2s; transition-timing-function: ease; width: 256px; height: 256px;\"><img src=\"https://map1.daumcdn.net/map_2d_hd/2009alo/L5/473/233.png\" alt=\"\" draggable=\"false\" style=\"position: absolute; user-select: none; -webkit-user-drag: none; min-width: 0px; min-height: 0px; max-width: none; max-height: none; left: 124px; top: 53px; opacity: 1; transition-property: opacity; transition-duration: 0.2s; transition-timing-function: ease; width: 256px; height: 256px;\"><img src=\"https://map2.daumcdn.net/map_2d_hd/2009alo/L5/473/234.png\" alt=\"\" draggable=\"false\" style=\"position: absolute; user-select: none; -webkit-user-drag: none; min-width: 0px; min-height: 0px; max-width: none; max-height: none; left: 380px; top: 53px; opacity: 1; transition-property: opacity; transition-duration: 0.2s; transition-timing-function: ease; width: 256px; height: 256px;\"><img src=\"https://map3.daumcdn.net/map_2d_hd/2009alo/L5/474/231.png\" alt=\"\" draggable=\"false\" style=\"position: absolute; user-select: none; -webkit-user-drag: none; min-width: 0px; min-height: 0px; max-width: none; max-height: none; left: -388px; top: -203px; opacity: 1; transition-property: opacity; transition-duration: 0.2s; transition-timing-function: ease; width: 256px; height: 256px;\"><img src=\"https://map0.daumcdn.net/map_2d_hd/2009alo/L5/474/232.png\" alt=\"\" draggable=\"false\" style=\"position: absolute; user-select: none; -webkit-user-drag: none; min-width: 0px; min-height: 0px; max-width: none; max-height: none; left: -132px; top: -203px; opacity: 1; transition-property: opacity; transition-duration: 0.2s; transition-timing-function: ease; width: 256px; height: 256px;\"><img src=\"https://map1.daumcdn.net/map_2d_hd/2009alo/L5/474/233.png\" alt=\"\" draggable=\"false\" style=\"position: absolute; user-select: none; -webkit-user-drag: none; min-width: 0px; min-height: 0px; max-width: none; max-height: none; left: 124px; top: -203px; opacity: 1; transition-property: opacity; transition-duration: 0.2s; transition-timing-function: ease; width: 256px; height: 256px;\"><img src=\"https://map2.daumcdn.net/map_2d_hd/2009alo/L5/474/234.png\" alt=\"\" draggable=\"false\" style=\"position: absolute; user-select: none; -webkit-user-drag: none; min-width: 0px; min-height: 0px; max-width: none; max-height: none; left: 380px; top: -203px; opacity: 1; transition-property: opacity; transition-duration: 0.2s; transition-timing-function: ease; width: 256px; height: 256px;\"></div><div style=\"position: absolute; z-index: 1;\"></div><div style=\"width: 638px; height: 258px; position: absolute; z-index: 1;\"></div><div style=\"position: absolute; z-index: 1;\"><svg version=\"1.1\" style=\"stroke: none; stroke-dashoffset: 0.5; stroke-linejoin: round; fill: none; transform: translateZ(0px); position: absolute; left: -1424px; top: -439px; width: 3190px; height: 1290px;\" viewBox=\"0 0 3190 1290\"><defs></defs></svg></div><div style=\"position: absolute; z-index: 1; width: 100%; height: 0px; transform: translateZ(0px);\"><div style=\"position: absolute; margin: -48px 0px 0px -17px; z-index: 999; left: 159px; top: 194px;\"><img draggable=\"false\" src=\"//t1.daumcdn.net/localimg/localimages/07/2018/pc/rtn/ico_findway.png\" alt=\"\" title=\"\" style=\"min-width: 0px; min-height: 0px; max-width: 99999px; max-height: none; border: 0px; display: block; position: absolute; user-select: none; -webkit-user-drag: none; clip: rect(0px, 66px, 50px, 30px); top: 0px; left: -30px; width: 70px; height: 70px;\"></div><div style=\"position: absolute; margin: -17px 0px 0px -15px; z-index: 0; left: 143px; top: 229px;\"><img draggable=\"false\" src=\"//t1.daumcdn.net/localimg/localimages/07/2018/pc/rtn/ico_findway.png\" alt=\"\" title=\"\" style=\"min-width: 0px; min-height: 0px; max-width: 99999px; max-height: none; border: 0px; display: block; position: absolute; user-select: none; -webkit-user-drag: none; clip: rect(30px, 30px, 60px, 0px); top: -30px; left: 0px; width: 70px; height: 70px;\"></div><div style=\"position: absolute; margin: -17px 0px 0px -15px; z-index: 0; left: 119px; top: 206px;\"><img draggable=\"false\" src=\"//t1.daumcdn.net/localimg/localimages/07/2018/pc/rtn/ico_findway.png\" alt=\"\" title=\"\" style=\"min-width: 0px; min-height: 0px; max-width: 99999px; max-height: none; border: 0px; display: block; position: absolute; user-select: none; -webkit-user-drag: none; clip: rect(30px, 30px, 60px, 0px); top: -30px; left: 0px; width: 70px; height: 70px;\"></div><div style=\"position: absolute; margin: -17px 0px 0px -15px; z-index: 0; left: 151px; top: 240px;\"><img draggable=\"false\" src=\"//t1.daumcdn.net/localimg/localimages/07/2018/pc/rtn/ico_findway.png\" alt=\"\" title=\"\" style=\"min-width: 0px; min-height: 0px; max-width: 99999px; max-height: none; border: 0px; display: block; position: absolute; user-select: none; -webkit-user-drag: none; clip: rect(30px, 30px, 60px, 0px); top: -30px; left: 0px; width: 70px; height: 70px;\"></div><div style=\"position: absolute; margin: -17px 0px 0px -15px; z-index: 0; left: 131px; top: 156px;\"><img draggable=\"false\" src=\"//t1.daumcdn.net/localimg/localimages/07/2018/pc/rtn/ico_findway.png\" alt=\"\" title=\"\" style=\"min-width: 0px; min-height: 0px; max-width: 99999px; max-height: none; border: 0px; display: block; position: absolute; user-select: none; -webkit-user-drag: none; clip: rect(30px, 30px, 60px, 0px); top: -30px; left: 0px; width: 70px; height: 70px;\"></div><div style=\"position: absolute; margin: -17px 0px 0px -15px; z-index: 0; left: 112px; top: 210px;\"><img draggable=\"false\" src=\"//t1.daumcdn.net/localimg/localimages/07/2018/pc/rtn/ico_findway.png\" alt=\"\" title=\"\" style=\"min-width: 0px; min-height: 0px; max-width: 99999px; max-height: none; border: 0px; display: block; position: absolute; user-select: none; -webkit-user-drag: none; clip: rect(30px, 30px, 60px, 0px); top: -30px; left: 0px; width: 70px; height: 70px;\"></div><div style=\"position: absolute; margin: -17px 0px 0px -15px; z-index: 0; left: 128px; top: 152px;\"><img draggable=\"false\" src=\"//t1.daumcdn.net/localimg/localimages/07/2018/pc/rtn/ico_findway.png\" alt=\"\" title=\"\" style=\"min-width: 0px; min-height: 0px; max-width: 99999px; max-height: none; border: 0px; display: block; position: absolute; user-select: none; -webkit-user-drag: none; clip: rect(30px, 30px, 60px, 0px); top: -30px; left: 0px; width: 70px; height: 70px;\"></div><div style=\"position: absolute; margin: -17px 0px 0px -15px; z-index: 0; left: 211px; top: 171px;\"><img draggable=\"false\" src=\"//t1.daumcdn.net/localimg/localimages/07/2018/pc/rtn/ico_findway.png\" alt=\"\" title=\"\" style=\"min-width: 0px; min-height: 0px; max-width: 99999px; max-height: none; border: 0px; display: block; position: absolute; user-select: none; -webkit-user-drag: none; clip: rect(30px, 30px, 60px, 0px); top: -30px; left: 0px; width: 70px; height: 70px;\"></div><div style=\"position: absolute; margin: -17px 0px 0px -15px; z-index: 0; left: 119px; top: 239px;\"><img draggable=\"false\" src=\"//t1.daumcdn.net/localimg/localimages/07/2018/pc/rtn/ico_findway.png\" alt=\"\" title=\"\" style=\"min-width: 0px; min-height: 0px; max-width: 99999px; max-height: none; border: 0px; display: block; position: absolute; user-select: none; -webkit-user-drag: none; clip: rect(30px, 30px, 60px, 0px); top: -30px; left: 0px; width: 70px; height: 70px;\"></div><div style=\"position: absolute; margin: -17px 0px 0px -15px; z-index: 0; left: 137px; top: 260px; display: block;\"><img draggable=\"false\" src=\"//t1.daumcdn.net/localimg/localimages/07/2018/pc/rtn/ico_findway.png\" alt=\"\" title=\"\" style=\"min-width: 0px; min-height: 0px; max-width: 99999px; max-height: none; border: 0px; display: block; position: absolute; user-select: none; -webkit-user-drag: none; clip: rect(30px, 30px, 60px, 0px); top: -30px; left: 0px; width: 70px; height: 70px;\"></div><div style=\"position: absolute; margin: -17px 0px 0px -15px; z-index: 0; left: 230px; top: 213px;\"><img draggable=\"false\" src=\"//t1.daumcdn.net/localimg/localimages/07/2018/pc/rtn/ico_findway.png\" alt=\"\" title=\"\" style=\"min-width: 0px; min-height: 0px; max-width: 99999px; max-height: none; border: 0px; display: block; position: absolute; user-select: none; -webkit-user-drag: none; clip: rect(30px, 30px, 60px, 0px); top: -30px; left: 0px; width: 70px; height: 70px;\"></div></div></div></div><div style=\"position: absolute; cursor: default; z-index: 1; margin: 0px 6px; height: 19px; line-height: 14px; bottom: 0px; color: rgb(0, 0, 0); right: 0px;\"><div style=\"color: rgb(0, 0, 0); text-align: center; font-size: 10px; float: right;\"><div style=\"float: left; margin: 2px 3px 0px 4px; height: 6px; transition: width 0.1s ease 0s; border-top: none rgb(0, 0, 0); border-right: 2px solid rgb(0, 0, 0); border-bottom: 2px solid rgb(0, 0, 0); border-left: 2px solid rgb(0, 0, 0); border-image: initial; width: 58px;\"></div><div style=\"float: left; margin: 0px 4px 0px 0px; font-family: AppleSDGothicNeo-Regular, 돋움, dotum, sans-serif; font-weight: bold; color: rgb(0, 0, 0);\">250m</div></div><div style=\"margin: 0px 4px; float: right;\"><a target=\"_blank\" href=\"http://map.kakao.com/\" title=\"Kakao 지도로 보시려면 클릭하세요.\" style=\"float: left; width: 32px; height: 10px;\"><img src=\"https://t1.daumcdn.net/mapjsapi/images/2x/m_bi_b.png\" alt=\"Kakao 지도로 이동\" style=\"float: left; width: 32px; height: 10px; border: none;\"></a><div style=\"font: 11px / 11px Arial, Tahoma, Dotum, sans-serif; float: left;\"></div></div></div><div style=\"cursor: auto; position: absolute; z-index: 2; left: 0px; top: 0px;\"></div></div><!-- 지도 영역 입니다. -->\\n        <strong class=\"screen_out\">지도 보기 탭 메뉴</strong>\\n        <ul class=\"tab_map\">\\n            <li class=\"on\"><a href=\"#none\" class=\"link_tab link_mapview\" data-logtarget=\"\" data-logevent=\"waytogo,2D_view\">지도뷰</a></li>\\n            <li><a href=\"#none\" class=\"link_tab link_skyview\" data-logtarget=\"\" data-logevent=\"waytogo,sky_view\">스카이뷰</a></li>\\n        </ul>\\n        <div class=\"map_control\">\\n            <div class=\"bg_control bg_zoomin link_control\">\\n                <a href=\"#none\" class=\"ico_comm ico_zoomin\" data-logtarget=\"\" data-logevent=\"waytogo,zoomin\">확대하기</a>\\n            </div>\\n            <div class=\"bg_control bg_zoomout link_control\">\\n                <a href=\"#none\" class=\"ico_comm ico_zoomout\" data-logtarget=\"\" data-logevent=\"waytogo,zoomout\">축소하기</a>\\n            </div>\\n            <div class=\"bg_control bg_refresh link_control\">\\n                <a href=\"#none\" class=\"ico_comm ico_refresh\" data-logtarget=\"\" data-logevent=\"waytogo,refresh\">새로고침</a>\\n            </div>\\n            <div class=\"bg_control bg_full\">\\n                <a href=\"https://map.kakao.com?urlX=521837&amp;urlY=1062035&amp;urlLevel=3&amp;itemId=12065307&amp;q=%EB%AF%B8%EA%B0%80%EC%96%91%EA%B3%A0%EA%B8%B0&amp;map_type=TYPE_MAP\" target=\"_blank\" class=\"ico_comm ico_full\" data-logtarget=\"\" data-logevent=\"waytogo,largeview\">전체화면</a>\\n            </div>\\n        </div>\\n        <!-- \\n        <div class=\"map_control\">\\n            <a href=\"#none\" class=\"link_control\" data-logtarget data-logevent=\"waytogo,zoomin\"><span class=\"ico_comm ico_zoomin\">확대하기</span></a>\\n            <a href=\"#none\" class=\"link_control\" data-logtarget data-logevent=\"waytogo,zoomout\"><span class=\"ico_comm ico_zoomout\">축소하기</span></a>\\n            <a href=\"#none\" class=\"link_control\" data-logtarget data-logevent=\"waytogo,refresh\"><span class=\"ico_comm ico_refresh\">새로고침</span></a>\\n        </div>\\n        <a href=\"https://map.kakao.com?urlX=521837&urlY=1062035&urlLevel=3&itemId=12065307&q=%EB%AF%B8%EA%B0%80%EC%96%91%EA%B3%A0%EA%B8%B0&map_type=TYPE_MAP\" target=\"_blank\" class=\"link_full\" data-logtarget data-logevent=\"waytogo,largeview\"><span class=\"ico_comm ico_full\">전체화면</span></a>\\n        -->\\n    </div>\\n        <div class=\"station_wayout\">\\n            <h4 class=\"tit_findway\">지하철역</h4>\\n            <ul class=\"list_wayout\">\\n                    <li>\\n                        <em class=\"txt_station\"><a href=\"https://map.kakao.com?subwayId=SES3408\" target=\"_blank\" class=\"link_station\" data-logtarget=\"\" data-logevent=\"waytogo,subway\">수지구청역</a></em>\\n                            <span class=\"ico_traffic shinbundang_line_small\">신분당선</span><!-- 호선별 대체 텍스트 부탁 드립니다. -->\\n                        <span class=\"bg_bar\">|</span>\\n                        <span class=\"txt_wayout\"><span class=\"num_wayout\">1</span>번 출구 <span class=\"num_wayout txt_walk\">도보 7분</span></span>\\n                    </li>\\n                    <li>\\n                        <em class=\"txt_station\"><a href=\"https://map.kakao.com?subwayId=SES1862\" target=\"_blank\" class=\"link_station\" data-logtarget=\"\" data-logevent=\"waytogo,subway\">죽전역</a></em>\\n                            <span class=\"ico_traffic suinbundang_line_small\"></span><!-- 호선별 대체 텍스트 부탁 드립니다. -->\\n                        <span class=\"bg_bar\">|</span>\\n                        <span class=\"txt_wayout\"><span class=\"num_wayout\">1</span>번 출구 <span class=\"num_wayout txt_walk\">도보 16분</span></span>\\n                    </li>\\n            </ul>\\n        </div>\\n        <div class=\"station_ride check_list\">\\n            <h4 class=\"tit_findway\">버스정류장</h4>\\n                <div class=\"ride_wayout\"><!-- 지도에서 일치하는 정류장에 마우스 오버 했을 때 클래스 ride_on 추가 -->\\n                    <strong class=\"tit_wayout\">\\n                        <a href=\"https://map.kakao.com?busStopId=BS82956\" class=\"link_wayout\" target=\"_blank\" data-logtarget=\"\" data-logevent=\"waytogo,busstop\">\\n                            <span class=\"txt_busstop\">수지구청.진산삼성A</span>\\n                            <span class=\"txt_number\"><span class=\"screen_out\">정류장 번호: </span>(29100) <span class=\"bg_bar\">|</span> <span class=\"screen_out\">거리: </span> 154m</span>\\n                        </a>\\n                    </strong>\\n                    <ul class=\"list_ride\">\\n                            <li>\\n                                <em class=\"ico_traffic bus_normal\">일반</em><!-- 버스 선별로 대체 텍스트 부탁 드립니다. -->\\n                                <div class=\"bus_ride\">\\n                                    <span class=\"num_ride\">60<span class=\"bg_bar\">|</span>660<span class=\"bg_bar\">|</span>670<span class=\"bg_bar\">|</span>720-3</span>\\n                                    <a href=\"https://map.kakao.com?busStopId=BS82956\" target=\"_blank\" class=\"btn_more hide\" data-logtarget=\"\" data-logevent=\"waytogo,busstop_more\"><span class=\"ico_comm ico_more\">더보기</span></a>\\n                                </div>\\n                            </li>\\n                            <li>\\n                                <em class=\"ico_traffic bus_town\">마을</em><!-- 버스 선별로 대체 텍스트 부탁 드립니다. -->\\n                                <div class=\"bus_ride\">\\n                                    <span class=\"num_ride\">14-1<span class=\"bg_bar\">|</span>17-1<span class=\"bg_bar\">|</span>2-1</span>\\n                                    <a href=\"https://map.kakao.com?busStopId=BS82956\" target=\"_blank\" class=\"btn_more hide\" data-logtarget=\"\" data-logevent=\"waytogo,busstop_more\"><span class=\"ico_comm ico_more\">더보기</span></a>\\n                                </div>\\n                            </li>\\n                    </ul>\\n                </div>\\n                <div class=\"ride_wayout\"><!-- 지도에서 일치하는 정류장에 마우스 오버 했을 때 클래스 ride_on 추가 -->\\n                    <strong class=\"tit_wayout\">\\n                        <a href=\"https://map.kakao.com?busStopId=BS263415\" class=\"link_wayout\" target=\"_blank\" data-logtarget=\"\" data-logevent=\"waytogo,busstop\">\\n                            <span class=\"txt_busstop\">수지구청.수지우체국</span>\\n                            <span class=\"txt_number\"><span class=\"screen_out\">정류장 번호: </span>(29758) <span class=\"bg_bar\">|</span> <span class=\"screen_out\">거리: </span> 170m</span>\\n                        </a>\\n                    </strong>\\n                    <ul class=\"list_ride\">\\n                            <li>\\n                                <em class=\"ico_traffic bus_normal\">일반</em><!-- 버스 선별로 대체 텍스트 부탁 드립니다. -->\\n                                <div class=\"bus_ride\">\\n                                    <span class=\"num_ride\">68<span class=\"bg_bar\">|</span>690</span>\\n                                    <a href=\"https://map.kakao.com?busStopId=BS263415\" target=\"_blank\" class=\"btn_more hide\" data-logtarget=\"\" data-logevent=\"waytogo,busstop_more\"><span class=\"ico_comm ico_more\">더보기</span></a>\\n                                </div>\\n                            </li>\\n                            <li>\\n                                <em class=\"ico_traffic bus_town\">마을</em><!-- 버스 선별로 대체 텍스트 부탁 드립니다. -->\\n                                <div class=\"bus_ride\">\\n                                    <span class=\"num_ride\">1<span class=\"bg_bar\">|</span>1-1<span class=\"bg_bar\">|</span>14-1<span class=\"bg_bar\">|</span>17-1<span class=\"bg_bar\">|</span>2-1<span class=\"bg_bar\">|</span>57-1<span class=\"bg_bar\">|</span>59<span class=\"bg_bar\">|</span>59-1<span class=\"bg_bar\">|</span>82<span class=\"bg_bar\">|</span>82-1</span>\\n                                    <a href=\"https://map.kakao.com?busStopId=BS263415\" target=\"_blank\" class=\"btn_more hide\" data-logtarget=\"\" data-logevent=\"waytogo,busstop_more\"><span class=\"ico_comm ico_more\">더보기</span></a>\\n                                </div>\\n                            </li>\\n                    </ul>\\n                </div>\\n                <div class=\"ride_wayout\"><!-- 지도에서 일치하는 정류장에 마우스 오버 했을 때 클래스 ride_on 추가 -->\\n                    <strong class=\"tit_wayout\">\\n                        <a href=\"https://map.kakao.com?busStopId=BS263598\" class=\"link_wayout\" target=\"_blank\" data-logtarget=\"\" data-logevent=\"waytogo,busstop\">\\n                            <span class=\"txt_busstop\">롯데마트앞</span>\\n                            <span class=\"txt_number\"><span class=\"screen_out\">정류장 번호: </span>(56165) <span class=\"bg_bar\">|</span> <span class=\"screen_out\">거리: </span> 186m</span>\\n                        </a>\\n                    </strong>\\n                    <ul class=\"list_ride\">\\n                            <li>\\n                                <em class=\"ico_traffic bus_town\">마을</em><!-- 버스 선별로 대체 텍스트 부탁 드립니다. -->\\n                                <div class=\"bus_ride\">\\n                                    <span class=\"num_ride\">1<span class=\"bg_bar\">|</span>1-1<span class=\"bg_bar\">|</span>82</span>\\n                                    <a href=\"https://map.kakao.com?busStopId=BS263598\" target=\"_blank\" class=\"btn_more hide\" data-logtarget=\"\" data-logevent=\"waytogo,busstop_more\"><span class=\"ico_comm ico_more\">더보기</span></a>\\n                                </div>\\n                            </li>\\n                    </ul>\\n                </div>\\n                <div class=\"ride_wayout\"><!-- 지도에서 일치하는 정류장에 마우스 오버 했을 때 클래스 ride_on 추가 -->\\n                    <strong class=\"tit_wayout\">\\n                        <a href=\"https://map.kakao.com?busStopId=BS263365\" class=\"link_wayout\" target=\"_blank\" data-logtarget=\"\" data-logevent=\"waytogo,busstop\">\\n                            <span class=\"txt_busstop\">현대그린프라자</span>\\n                            <span class=\"txt_number\"><span class=\"screen_out\">정류장 번호: </span>(29103) <span class=\"bg_bar\">|</span> <span class=\"screen_out\">거리: </span> 188m</span>\\n                        </a>\\n                    </strong>\\n                    <ul class=\"list_ride\">\\n                            <li>\\n                                <em class=\"ico_traffic bus_normal\">일반</em><!-- 버스 선별로 대체 텍스트 부탁 드립니다. -->\\n                                <div class=\"bus_ride\">\\n                                    <span class=\"num_ride\">27<span class=\"bg_bar\">|</span>68<span class=\"bg_bar\">|</span>690<span class=\"bg_bar\">|</span>720-2</span>\\n                                    <a href=\"https://map.kakao.com?busStopId=BS263365\" target=\"_blank\" class=\"btn_more hide\" data-logtarget=\"\" data-logevent=\"waytogo,busstop_more\"><span class=\"ico_comm ico_more\">더보기</span></a>\\n                                </div>\\n                            </li>\\n                            <li>\\n                                <em class=\"ico_traffic bus_town\">마을</em><!-- 버스 선별로 대체 텍스트 부탁 드립니다. -->\\n                                <div class=\"bus_ride\">\\n                                    <span class=\"num_ride\">1<span class=\"bg_bar\">|</span>1-1<span class=\"bg_bar\">|</span>11<span class=\"bg_bar\">|</span>14-1<span class=\"bg_bar\">|</span>15<span class=\"bg_bar\">|</span>15-2<span class=\"bg_bar\">|</span>16<span class=\"bg_bar\">|</span>17-1<span class=\"bg_bar\">|</span>5<span class=\"txt_bustype\">(상현지구대,금호5단지-미금역,2001아울렛)</span><span class=\"bg_bar\">|</span>57-1<span class=\"bg_bar\">|</span>59<span class=\"bg_bar\">|</span>59-1<span class=\"bg_bar\">|</span>82<span class=\"bg_bar\">|</span>82-1</span>\\n                                    <a href=\"https://map.kakao.com?busStopId=BS263365\" target=\"_blank\" class=\"btn_more\" data-logtarget=\"\" data-logevent=\"waytogo,busstop_more\"><span class=\"ico_comm ico_more\">더보기</span></a>\\n                                </div>\\n                            </li>\\n                    </ul>\\n                </div>\\n                <div class=\"ride_wayout\"><!-- 지도에서 일치하는 정류장에 마우스 오버 했을 때 클래스 ride_on 추가 -->\\n                    <strong class=\"tit_wayout\">\\n                        <a href=\"https://map.kakao.com?busStopId=BS266852\" class=\"link_wayout\" target=\"_blank\" data-logtarget=\"\" data-logevent=\"waytogo,busstop\">\\n                            <span class=\"txt_busstop\">수지구청.수지우체국</span>\\n                            <span class=\"txt_number\"><span class=\"screen_out\">정류장 번호: </span>(29759) <span class=\"bg_bar\">|</span> <span class=\"screen_out\">거리: </span> 200m</span>\\n                        </a>\\n                    </strong>\\n                    <ul class=\"list_ride\">\\n                            <li>\\n                                <em class=\"ico_traffic bus_town\">마을</em><!-- 버스 선별로 대체 텍스트 부탁 드립니다. -->\\n                                <div class=\"bus_ride\">\\n                                    <span class=\"num_ride\">14-1<span class=\"bg_bar\">|</span>17-1<span class=\"bg_bar\">|</span>2-1<span class=\"bg_bar\">|</span>58-2</span>\\n                                    <a href=\"https://map.kakao.com?busStopId=BS266852\" target=\"_blank\" class=\"btn_more hide\" data-logtarget=\"\" data-logevent=\"waytogo,busstop_more\"><span class=\"ico_comm ico_more\">더보기</span></a>\\n                                </div>\\n                            </li>\\n                    </ul>\\n                </div>\\n                <div class=\"ride_wayout\"><!-- 지도에서 일치하는 정류장에 마우스 오버 했을 때 클래스 ride_on 추가 -->\\n                    <strong class=\"tit_wayout\">\\n                        <a href=\"https://map.kakao.com?busStopId=BS263393\" class=\"link_wayout\" target=\"_blank\" data-logtarget=\"\" data-logevent=\"waytogo,busstop\">\\n                            <span class=\"txt_busstop\">현대그린프라자</span>\\n                            <span class=\"txt_number\"><span class=\"screen_out\">정류장 번호: </span>(29106) <span class=\"bg_bar\">|</span> <span class=\"screen_out\">거리: </span> 211m</span>\\n                        </a>\\n                    </strong>\\n                    <ul class=\"list_ride\">\\n                            <li>\\n                                <em class=\"ico_traffic bus_normal\">일반</em><!-- 버스 선별로 대체 텍스트 부탁 드립니다. -->\\n                                <div class=\"bus_ride\">\\n                                    <span class=\"num_ride\">27<span class=\"bg_bar\">|</span>720-2</span>\\n                                    <a href=\"https://map.kakao.com?busStopId=BS263393\" target=\"_blank\" class=\"btn_more hide\" data-logtarget=\"\" data-logevent=\"waytogo,busstop_more\"><span class=\"ico_comm ico_more\">더보기</span></a>\\n                                </div>\\n                            </li>\\n                            <li>\\n                                <em class=\"ico_traffic bus_town\">마을</em><!-- 버스 선별로 대체 텍스트 부탁 드립니다. -->\\n                                <div class=\"bus_ride\">\\n                                    <span class=\"num_ride\">11<span class=\"bg_bar\">|</span>14-1<span class=\"bg_bar\">|</span>15<span class=\"bg_bar\">|</span>15-2<span class=\"bg_bar\">|</span>15-3<span class=\"bg_bar\">|</span>16<span class=\"bg_bar\">|</span>17-1<span class=\"bg_bar\">|</span>5<span class=\"txt_bustype\">(상현지구대,금호5단지-미금역,2001아울렛)</span></span>\\n                                    <a href=\"https://map.kakao.com?busStopId=BS263393\" target=\"_blank\" class=\"btn_more\" data-logtarget=\"\" data-logevent=\"waytogo,busstop_more\"><span class=\"ico_comm ico_more\">더보기</span></a>\\n                                </div>\\n                            </li>\\n                    </ul>\\n                </div>\\n                <div class=\"ride_wayout\"><!-- 지도에서 일치하는 정류장에 마우스 오버 했을 때 클래스 ride_on 추가 -->\\n                    <strong class=\"tit_wayout\">\\n                        <a href=\"https://map.kakao.com?busStopId=BS263451\" class=\"link_wayout\" target=\"_blank\" data-logtarget=\"\" data-logevent=\"waytogo,busstop\">\\n                            <span class=\"txt_busstop\">풍덕천사거리</span>\\n                            <span class=\"txt_number\"><span class=\"screen_out\">정류장 번호: </span>(29138) <span class=\"bg_bar\">|</span> <span class=\"screen_out\">거리: </span> 226m</span>\\n                        </a>\\n                    </strong>\\n                    <ul class=\"list_ride\">\\n                            <li>\\n                                <em class=\"ico_traffic bus_normal\">일반</em><!-- 버스 선별로 대체 텍스트 부탁 드립니다. -->\\n                                <div class=\"bus_ride\">\\n                                    <span class=\"num_ride\">60<span class=\"bg_bar\">|</span>660<span class=\"bg_bar\">|</span>670<span class=\"bg_bar\">|</span>68<span class=\"bg_bar\">|</span>690<span class=\"bg_bar\">|</span>720-3</span>\\n                                    <a href=\"https://map.kakao.com?busStopId=BS263451\" target=\"_blank\" class=\"btn_more hide\" data-logtarget=\"\" data-logevent=\"waytogo,busstop_more\"><span class=\"ico_comm ico_more\">더보기</span></a>\\n                                </div>\\n                            </li>\\n                            <li>\\n                                <em class=\"ico_traffic bus_town\">마을</em><!-- 버스 선별로 대체 텍스트 부탁 드립니다. -->\\n                                <div class=\"bus_ride\">\\n                                    <span class=\"num_ride\">14-1<span class=\"bg_bar\">|</span>17-1<span class=\"bg_bar\">|</span>2-1<span class=\"bg_bar\">|</span>57-1<span class=\"bg_bar\">|</span>59<span class=\"bg_bar\">|</span>59-1<span class=\"bg_bar\">|</span>82-1</span>\\n                                    <a href=\"https://map.kakao.com?busStopId=BS263451\" target=\"_blank\" class=\"btn_more hide\" data-logtarget=\"\" data-logevent=\"waytogo,busstop_more\"><span class=\"ico_comm ico_more\">더보기</span></a>\\n                                </div>\\n                            </li>\\n                    </ul>\\n                </div>\\n                <div class=\"ride_wayout\"><!-- 지도에서 일치하는 정류장에 마우스 오버 했을 때 클래스 ride_on 추가 -->\\n                    <strong class=\"tit_wayout\">\\n                        <a href=\"https://map.kakao.com?busStopId=BS82977\" class=\"link_wayout\" target=\"_blank\" data-logtarget=\"\" data-logevent=\"waytogo,busstop\">\\n                            <span class=\"txt_busstop\">수지구청</span>\\n                            <span class=\"txt_number\"><span class=\"screen_out\">정류장 번호: </span>(47091) <span class=\"bg_bar\">|</span> <span class=\"screen_out\">거리: </span> 241m</span>\\n                        </a>\\n                    </strong>\\n                    <ul class=\"list_ride\">\\n                            <li>\\n                                <em class=\"ico_traffic bus_normal\">일반</em><!-- 버스 선별로 대체 텍스트 부탁 드립니다. -->\\n                                <div class=\"bus_ride\">\\n                                    <span class=\"num_ride\">60<span class=\"bg_bar\">|</span>660<span class=\"bg_bar\">|</span>670<span class=\"bg_bar\">|</span>720-3</span>\\n                                    <a href=\"https://map.kakao.com?busStopId=BS82977\" target=\"_blank\" class=\"btn_more hide\" data-logtarget=\"\" data-logevent=\"waytogo,busstop_more\"><span class=\"ico_comm ico_more\">더보기</span></a>\\n                                </div>\\n                            </li>\\n                    </ul>\\n                </div>\\n                <div class=\"ride_wayout\"><!-- 지도에서 일치하는 정류장에 마우스 오버 했을 때 클래스 ride_on 추가 -->\\n                    <strong class=\"tit_wayout\">\\n                        <a href=\"https://map.kakao.com?busStopId=BS263946\" class=\"link_wayout\" target=\"_blank\" data-logtarget=\"\" data-logevent=\"waytogo,busstop\">\\n                            <span class=\"txt_busstop\">삼성6차.하나은행</span>\\n                            <span class=\"txt_number\"><span class=\"screen_out\">정류장 번호: </span>(29112) <span class=\"bg_bar\">|</span> <span class=\"screen_out\">거리: </span> 279m</span>\\n                        </a>\\n                    </strong>\\n                    <ul class=\"list_ride\">\\n                            <li>\\n                                <em class=\"ico_traffic bus_town\">마을</em><!-- 버스 선별로 대체 텍스트 부탁 드립니다. -->\\n                                <div class=\"bus_ride\">\\n                                    <span class=\"num_ride\">11</span>\\n                                    <a href=\"https://map.kakao.com?busStopId=BS263946\" target=\"_blank\" class=\"btn_more hide\" data-logtarget=\"\" data-logevent=\"waytogo,busstop_more\"><span class=\"ico_comm ico_more\">더보기</span></a>\\n                                </div>\\n                            </li>\\n                    </ul>\\n                </div>\\n                <div class=\"ride_wayout\"><!-- 지도에서 일치하는 정류장에 마우스 오버 했을 때 클래스 ride_on 추가 -->\\n                    <strong class=\"tit_wayout\">\\n                        <a href=\"https://map.kakao.com?busStopId=BS288346\" class=\"link_wayout\" target=\"_blank\" data-logtarget=\"\" data-logevent=\"waytogo,busstop\">\\n                            <span class=\"txt_busstop\">샬레파인비스타</span>\\n                            <span class=\"txt_number\"><span class=\"screen_out\">정류장 번호: </span>(56596) <span class=\"bg_bar\">|</span> <span class=\"screen_out\">거리: </span> 294m</span>\\n                        </a>\\n                    </strong>\\n                    <ul class=\"list_ride\">\\n                            <li>\\n                                <em class=\"ico_traffic bus_town\">마을</em><!-- 버스 선별로 대체 텍스트 부탁 드립니다. -->\\n                                <div class=\"bus_ride\">\\n                                    <span class=\"num_ride\">11</span>\\n                                    <a href=\"https://map.kakao.com?busStopId=BS288346\" target=\"_blank\" class=\"btn_more hide\" data-logtarget=\"\" data-logevent=\"waytogo,busstop_more\"><span class=\"ico_comm ico_more\">더보기</span></a>\\n                                </div>\\n                            </li>\\n                    </ul>\\n                </div>\\n        </div>\\n        <p class=\"txt_caution\"><span class=\"ico_comm ico_dot\"></span>버스방면정보를 확인하세요</p>\\n</div>\\n        <div id=\"photoList\" class=\"map_layer hide\"></div>\\n        <div id=\"roughMap\" class=\"map_layer hide\">\\n    <iframe data-id=\"frame\" frameborder=\"0\" border=\"0\" class=\"frame\" src=\"\" style=\"width: 1017px; height: 693px;\"></iframe>\\n</div>\\n\\n        <div data-viewid=\"fiyLayer\" data-root=\"\" id=\"fiyModalLayer\" style=\"display:none\">\\n    <div class=\"fiy_wrap\">\\n        <iframe frameborder=\"0\" border=\"0\" class=\"fiyFrame\" src=\"\"></iframe>\\n    </div>\\n    <div class=\"modal_bg\"></div>\\n</div>\\n        <div data-viewid=\"fiyLoginLayer\" data-root=\"\" class=\"fiy_layer\" style=\"display:none\">\\n    <div class=\"inner_fiy_layer\">\\n        <div class=\"layer_head\"><strong class=\"tit_fiy\">정보수정</strong></div>\\n        <div class=\"layer_body\">\\n            <p class=\"desc_fiy\">로그인을 하시면<br>요청 결과를 안내해드립니다</p>\\n            <div class=\"wrap_btn\">\\n                <a href=\"#none\" class=\"btn_fiy btn_kakao\"><span class=\"inner_btn\">카카오계정으로 로그인</span></a>\\n            </div>\\n            <button type=\"button\" class=\"btn_fiy2\">로그인 하지 않습니다</button>\\n        </div>\\n    </div>\\n</div>\\n    </div>\\n</div>\\n<hr class=\"hide\">\\n<div data-viewid=\"footer\" data-root=\"\" id=\"kakaoFoot\" class=\"footer_mapdetail\" role=\"contentinfo\">\\n    <div class=\"inner_mapdetail\">\\n        <h2 class=\"screen_out\">서비스 이용정보</h2>\\n        <a href=\"http://policy.daum.net/info/info\" class=\"link_info\" target=\"_blank\" data-logtarget=\"\" data-logevent=\"footer,term\">서비스 약관/정책</a>\\n        <span class=\"bg_bar\"></span>\\n        <a href=\"https://cs.kakao.com/requests?locale=ko&amp;service=101\" class=\"link_info\" target=\"_blank\" data-logtarget=\"\" data-logevent=\"footer,service\">고객센터</a>\\n        <span class=\"bg_bar\"></span>\\n        <a href=\"https://cs.daum.net/redbell/top.html\" class=\"link_info\" target=\"_blank\" data-logtarget=\"\" data-logevent=\"footer,report\">권리침해 신고</a>\\n        <span class=\"bg_bar\"></span>\\n        <a href=\"http://local.biz.daum.net/rainbow_core/ols/index.local\" target=\"_blank\" class=\"link_info\" data-logtarget=\"\" data-logevent=\"footer,ad\">로컬광고신청</a>\\n        <span class=\"bg_bar\"></span>\\n        <a href=\"http://kakaomap.tistory.com/category/%EC%95%8C%EB%A6%BD%EB%8B%88%EB%8B%A4/%EC%97%85%EB%8D%B0%EC%9D%B4%ED%8A%B8\" target=\"_blank\" class=\"link_info\" data-logtarget=\"\" data-logevent=\"footer,notice\">공지사항<!--<span class=\"ico_comm ico_new\">새글</span>--></a>\\n        <small class=\"txt_copyright\">Copyright © <a href=\"http://info.daum.net/\" class=\"link_kakao\" target=\"_blank\">Kakao Corp.</a> All rights reserved.</small>\\n    </div>\\n</div><!-- 스크롤이 내려 왔을 때 클래스 lbar_on  -->\\n        <div id=\"wrapMinidaum\"></div>\\n    </div>\\n    <div id=\"daumWrap\" style=\"display:none;\">\\n        <div id=\"daumContent\">\\n            <div id=\"shareContainer\"></div>\\n        </div>\\n    </div>\\n    <script type=\"text/javascript\" src=\"//ssl.daumcdn.net/dmaps/map_js_init/v3.js\"></script><script charset=\"UTF-8\" src=\"https://t1.daumcdn.net/mapjsapi/js/main/4.2.3/v3.js\"></script>\\n    <script type=\"text/javascript\" src=\"//t1.daumcdn.net/tiara/js/v1/tiara.min.js\"></script>\\n    <script type=\"text/javascript\" src=\"//t1.daumcdn.net/daumtop_deco/socialshare/socialshare_pc-2.4.1.js\"></script>\\n    <script type=\"text/javascript\" src=\"//t1.daumcdn.net/adfit/static/ad-native.min.js\"></script>\\n    <script>\\n        window.ENV = \\'PROD\\';\\n        window.browserversion = \\'chrome86\\';\\n        \\n        // 티아라 초기화\\n        try {\\n            TiaraTracker.getInstance().init({\\n                svcDomain: \\'place.map.kakao.com\\',\\n                deployment: window.ENV === \\'PROD\\' ? \\'production\\' : \\'dev\\'\\n            });\\n        } catch(e) {}\\n        window.needFiy = \\'true\\';\\n        window.needBlogReview = \\'true\\';\\n        window._cp = \\'\\';\\n    </script>\\n\\n    \\n        \\n            <script type=\"text/javascript\" src=\"//s1.daumcdn.net/svc/attach/U0301/cssjs/mm/1482483925476/Chart.min.js\"></script>\\n            <script type=\"text/javascript\" src=\"//t1.daumcdn.net/kakaomapweb/place/jscss/pc.2018109d.js\"></script><iframe style=\"position:absolute;left:0;top:0;width:0;height:0;border:0\" src=\"mapclick.html?_=1605014681934\"></iframe>\\n        \\n    \\n    <!--\\n    <script>\\n        var minidaum_options = {\\n            disableTracker: true, // 미니다음에서 tiara 사용안함\\n            bgType: \"white\",\\n            enableLogoutRetun: true,\\n            returnUrl: \\'\\',\\n            disableHotissue: true,\\n            disableLogo:true,\\n            enableShield: false\\n        };\\n    </script>\\n    <script async src=\"//go.daum.net/jsa_minidaum_pc.daum\" charset=\"utf-8\" type=\"text/javascript\"></script>\\n    -->\\n\\n\\n</body></html>'"
            ]
          },
          "metadata": {
            "tags": []
          },
          "execution_count": 9
        }
      ]
    },
    {
      "cell_type": "code",
      "metadata": {
        "id": "WC4VEmZwpgfq",
        "outputId": "4db70c64-3fa5-425b-be41-70942cd492c6"
      },
      "source": [
        "# 가게이름\n",
        "\n",
        "soup.title.text.split(\" |\")[0]"
      ],
      "execution_count": null,
      "outputs": [
        {
          "output_type": "execute_result",
          "data": {
            "text/plain": [
              "'미가양고기'"
            ]
          },
          "metadata": {
            "tags": []
          },
          "execution_count": 10
        }
      ]
    },
    {
      "cell_type": "code",
      "metadata": {
        "id": "y4Y5AXPzpgfs",
        "outputId": "d46fbdf4-31ba-4782-a26e-98ee2943538a"
      },
      "source": [
        "# 평점\n",
        "\n",
        "rate_list = []\n",
        "for i in range(1, 6):\n",
        "    xpath = '//*[@id=\"mArticle\"]/div[5]/div[4]/ul/li['+str(i)+']/div[1]/div/em'\n",
        "    rate_list.append(xpath)\n",
        "\n",
        "driver.find_element_by_xpath(rate_list[0]).text"
      ],
      "execution_count": null,
      "outputs": [
        {
          "output_type": "execute_result",
          "data": {
            "text/plain": [
              "'5'"
            ]
          },
          "metadata": {
            "tags": []
          },
          "execution_count": 11
        }
      ]
    },
    {
      "cell_type": "code",
      "metadata": {
        "id": "rG7hKcL3pgfu",
        "outputId": "7674a910-640f-4a68-9d73-c3ab1e500b49"
      },
      "source": [
        "# 평점 리뷰 내용\n",
        "\n",
        "review_list = []\n",
        "for i in range(1, 6):\n",
        "    xpath = '//*[@id=\"mArticle\"]/div[5]/div[4]/ul/li['+str(i)+']/div[2]/p/span'\n",
        "    review_list.append(xpath)\n",
        "\n",
        "driver.find_element_by_xpath(review_list[0]).click()\n",
        "driver.find_element_by_xpath(review_list[0]).text"
      ],
      "execution_count": null,
      "outputs": [
        {
          "output_type": "execute_result",
          "data": {
            "text/plain": [
              "'정신없다.웨이팅길다. 불친절하다. 하지만 존맛탱이다! 위에 세가지를 감수하고 먹을수있는맛집! (※일하시는 분들이 모두 중국분이라 의사소통이좀힘듬)'"
            ]
          },
          "metadata": {
            "tags": []
          },
          "execution_count": 12
        }
      ]
    },
    {
      "cell_type": "code",
      "metadata": {
        "id": "wS90LfVXpgfx",
        "outputId": "31876f75-1245-4e47-f7b7-0e6aadbaa5fb"
      },
      "source": [
        "time_list = []\n",
        "for i in range(1, 6):\n",
        "    xpath = '//*[@id=\"mArticle\"]/div[5]/div[4]/ul/li['+str(i)+']/div[2]/div/span[3]'\n",
        "    time_list.append(xpath)\n",
        "\n",
        "driver.find_element_by_xpath(time_list[0]).text"
      ],
      "execution_count": null,
      "outputs": [
        {
          "output_type": "execute_result",
          "data": {
            "text/plain": [
              "'2020.10.14.'"
            ]
          },
          "metadata": {
            "tags": []
          },
          "execution_count": 13
        }
      ]
    },
    {
      "cell_type": "code",
      "metadata": {
        "id": "x04M6Snbpgfz",
        "outputId": "4ff29865-b4c6-4323-a8ab-bc8aaa5fec57"
      },
      "source": [
        "address_list = []\n",
        "xpath = '//*[@id=\"mArticle\"]/div[1]/div[2]/div[1]/div/span[1]'\n",
        "address_list.append(xpath)\n",
        "\n",
        "driver.find_element_by_xpath(address_list[0]).text\n"
      ],
      "execution_count": null,
      "outputs": [
        {
          "output_type": "execute_result",
          "data": {
            "text/plain": [
              "'경기 용인시 수지구 풍덕천로148번길 22 1층 (우)16835'"
            ]
          },
          "metadata": {
            "tags": []
          },
          "execution_count": 14
        }
      ]
    },
    {
      "cell_type": "markdown",
      "metadata": {
        "id": "S4wZVC4ipgf2"
      },
      "source": [
        "## 리뷰 크롤링"
      ]
    },
    {
      "cell_type": "code",
      "metadata": {
        "id": "arEl5HSSpgf2"
      },
      "source": [
        "result_list = []"
      ],
      "execution_count": null,
      "outputs": []
    },
    {
      "cell_type": "code",
      "metadata": {
        "id": "NwpJy_eapgf4",
        "outputId": "337ba11e-6a66-48ac-c6f1-3ddac990c820"
      },
      "source": [
        "# 크롤링\n",
        "\n",
        "for k in tqdm(range(0, 155)):\n",
        "    driver.get('https://place.map.kakao.com/'+가게코드목록[k]+'#comment')\n",
        "    time.sleep(2)\n",
        "        \n",
        "    headers = {\n",
        "        \"User-Agent\": \"Mozilla/5.0 (Macintosh; Intel Mac OS X 10_9_5) AppleWebKit 537.36 (KHTML, like Gecko) Chrome\",\n",
        "        \"Accept\": \"text/html,application/xhtml+xml,application/xml;q=0.9,image/webp,*/*;q=0.8\"\n",
        "    }\n",
        "    response = requests.get('https://place.map.kakao.com/'+가게코드목록[k]+'#comment', headers=headers)\n",
        "    source = response.text\n",
        "    soup = BeautifulSoup(source, 'lxml')\n",
        "    non_review = 0\n",
        "    \n",
        "    try:\n",
        "        while True: \n",
        "            try:             \n",
        "                for i in range(0, 5):\n",
        "                    # 가게 코드\n",
        "                    rest_code = 가게코드목록[k]\n",
        "                    \n",
        "                    #이름\n",
        "                    title = soup.title.text.split(\" |\")[0]\n",
        "                \n",
        "                    # 평점\n",
        "                    user_rating = driver.find_element_by_xpath(rate_list[i]).text\n",
        "                \n",
        "                    # 리뷰\n",
        "                    driver.find_element_by_xpath(review_list[i]).click()\n",
        "                    review = driver.find_element_by_xpath(review_list[i]).text\n",
        "                    \n",
        "                    #날짜\n",
        "                    date = driver.find_element_by_xpath(time_list[i]).text\n",
        "                    \n",
        "                    #주소\n",
        "                    address = driver.find_element_by_xpath(address_list[0]).text\n",
        "                \n",
        "                    result = title, rest_code, user_rating, review, date, address\n",
        "                    result_list.append(result)# 리뷰 추출\n",
        "                    \n",
        "                driver.find_element_by_class_name('link_page'[2]).click()\n",
        "                    \n",
        "            except: # 게시글이 삭제되었을 경우 공란으로 처리\n",
        "                rest_code = 가게코드목록[k]\n",
        "                \n",
        "                title = soup.title.text.split(\" |\")[0]\n",
        "                \n",
        "                # 평점\n",
        "                user_rating = ''\n",
        "                \n",
        "                # 리뷰\n",
        "                review = ''\n",
        "                \n",
        "                #날짜\n",
        "                date = driver.find_element_by_xpath(time_list[i]).text\n",
        "                \n",
        "                #주소\n",
        "                address = driver.find_element_by_xpath(address_list[0]).text\n",
        "\n",
        "                print(str(k+1)+'번째 가게에 삭제된 댓글이 있습니다.')\n",
        "                break\n",
        "        \n",
        "                result = title, rest_code, user_rating, review, date, address\n",
        "                result_list.extend(result)\n",
        "            \n",
        "\n",
        "    except:\n",
        "        print(k+1,\"번째 가게 스크래핑 완료..삭제된 리뷰: \", non_review)\n",
        "        pass"
      ],
      "execution_count": null,
      "outputs": [
        {
          "output_type": "stream",
          "text": [
            "  1%|▌                                                                                 | 1/155 [00:03<09:33,  3.73s/it]"
          ],
          "name": "stderr"
        },
        {
          "output_type": "stream",
          "text": [
            "1번째 가게에 삭제된 댓글이 있습니다.\n"
          ],
          "name": "stdout"
        },
        {
          "output_type": "stream",
          "text": [
            "\r  1%|█                                                                                 | 2/155 [00:07<09:22,  3.68s/it]"
          ],
          "name": "stderr"
        },
        {
          "output_type": "stream",
          "text": [
            "2번째 가게에 삭제된 댓글이 있습니다.\n"
          ],
          "name": "stdout"
        },
        {
          "output_type": "stream",
          "text": [
            "\r  2%|█▌                                                                                | 3/155 [00:10<09:08,  3.61s/it]"
          ],
          "name": "stderr"
        },
        {
          "output_type": "stream",
          "text": [
            "3번째 가게에 삭제된 댓글이 있습니다.\n"
          ],
          "name": "stdout"
        },
        {
          "output_type": "stream",
          "text": [
            "\r  3%|██                                                                                | 4/155 [00:13<08:06,  3.22s/it]"
          ],
          "name": "stderr"
        },
        {
          "output_type": "stream",
          "text": [
            "4 번째 가게 스크래핑 완료..삭제된 리뷰:  0\n"
          ],
          "name": "stdout"
        },
        {
          "output_type": "stream",
          "text": [
            "\r  3%|██▋                                                                               | 5/155 [00:16<08:07,  3.25s/it]"
          ],
          "name": "stderr"
        },
        {
          "output_type": "stream",
          "text": [
            "5번째 가게에 삭제된 댓글이 있습니다.\n"
          ],
          "name": "stdout"
        },
        {
          "output_type": "stream",
          "text": [
            "\r  4%|███▏                                                                              | 6/155 [00:19<08:04,  3.25s/it]"
          ],
          "name": "stderr"
        },
        {
          "output_type": "stream",
          "text": [
            "6번째 가게에 삭제된 댓글이 있습니다.\n"
          ],
          "name": "stdout"
        },
        {
          "output_type": "stream",
          "text": [
            "\r  5%|███▋                                                                              | 7/155 [00:22<07:23,  2.99s/it]"
          ],
          "name": "stderr"
        },
        {
          "output_type": "stream",
          "text": [
            "7 번째 가게 스크래핑 완료..삭제된 리뷰:  0\n"
          ],
          "name": "stdout"
        },
        {
          "output_type": "stream",
          "text": [
            "\r  5%|████▏                                                                             | 8/155 [00:24<06:52,  2.81s/it]"
          ],
          "name": "stderr"
        },
        {
          "output_type": "stream",
          "text": [
            "8 번째 가게 스크래핑 완료..삭제된 리뷰:  0\n"
          ],
          "name": "stdout"
        },
        {
          "output_type": "stream",
          "text": [
            "\r  6%|████▊                                                                             | 9/155 [00:26<06:29,  2.67s/it]"
          ],
          "name": "stderr"
        },
        {
          "output_type": "stream",
          "text": [
            "9 번째 가게 스크래핑 완료..삭제된 리뷰:  0\n"
          ],
          "name": "stdout"
        },
        {
          "output_type": "stream",
          "text": [
            "\r  6%|█████▏                                                                           | 10/155 [00:29<06:11,  2.56s/it]"
          ],
          "name": "stderr"
        },
        {
          "output_type": "stream",
          "text": [
            "10 번째 가게 스크래핑 완료..삭제된 리뷰:  0\n"
          ],
          "name": "stdout"
        },
        {
          "output_type": "stream",
          "text": [
            "\r  7%|█████▋                                                                           | 11/155 [00:31<06:18,  2.63s/it]"
          ],
          "name": "stderr"
        },
        {
          "output_type": "stream",
          "text": [
            "11번째 가게에 삭제된 댓글이 있습니다.\n"
          ],
          "name": "stdout"
        },
        {
          "output_type": "stream",
          "text": [
            "\r  8%|██████▎                                                                          | 12/155 [00:34<06:21,  2.66s/it]"
          ],
          "name": "stderr"
        },
        {
          "output_type": "stream",
          "text": [
            "12번째 가게에 삭제된 댓글이 있습니다.\n"
          ],
          "name": "stdout"
        },
        {
          "output_type": "stream",
          "text": [
            "\r  8%|██████▊                                                                          | 13/155 [00:37<06:18,  2.67s/it]"
          ],
          "name": "stderr"
        },
        {
          "output_type": "stream",
          "text": [
            "13번째 가게에 삭제된 댓글이 있습니다.\n"
          ],
          "name": "stdout"
        },
        {
          "output_type": "stream",
          "text": [
            "\r  9%|███████▎                                                                         | 14/155 [00:39<06:16,  2.67s/it]"
          ],
          "name": "stderr"
        },
        {
          "output_type": "stream",
          "text": [
            "14번째 가게에 삭제된 댓글이 있습니다.\n"
          ],
          "name": "stdout"
        },
        {
          "output_type": "stream",
          "text": [
            "\r 10%|███████▊                                                                         | 15/155 [00:42<06:06,  2.62s/it]"
          ],
          "name": "stderr"
        },
        {
          "output_type": "stream",
          "text": [
            "15 번째 가게 스크래핑 완료..삭제된 리뷰:  0\n"
          ],
          "name": "stdout"
        },
        {
          "output_type": "stream",
          "text": [
            "\r 10%|████████▎                                                                        | 16/155 [00:44<05:47,  2.50s/it]"
          ],
          "name": "stderr"
        },
        {
          "output_type": "stream",
          "text": [
            "16 번째 가게 스크래핑 완료..삭제된 리뷰:  0\n"
          ],
          "name": "stdout"
        },
        {
          "output_type": "stream",
          "text": [
            "\r 11%|████████▉                                                                        | 17/155 [00:47<05:54,  2.57s/it]"
          ],
          "name": "stderr"
        },
        {
          "output_type": "stream",
          "text": [
            "17번째 가게에 삭제된 댓글이 있습니다.\n"
          ],
          "name": "stdout"
        },
        {
          "output_type": "stream",
          "text": [
            "\r 12%|█████████▍                                                                       | 18/155 [00:49<05:37,  2.46s/it]"
          ],
          "name": "stderr"
        },
        {
          "output_type": "stream",
          "text": [
            "18 번째 가게 스크래핑 완료..삭제된 리뷰:  0\n"
          ],
          "name": "stdout"
        },
        {
          "output_type": "stream",
          "text": [
            "\r 12%|█████████▉                                                                       | 19/155 [00:52<05:42,  2.52s/it]"
          ],
          "name": "stderr"
        },
        {
          "output_type": "stream",
          "text": [
            "19번째 가게에 삭제된 댓글이 있습니다.\n"
          ],
          "name": "stdout"
        },
        {
          "output_type": "stream",
          "text": [
            "\r 13%|██████████▍                                                                      | 20/155 [00:54<05:27,  2.43s/it]"
          ],
          "name": "stderr"
        },
        {
          "output_type": "stream",
          "text": [
            "20 번째 가게 스크래핑 완료..삭제된 리뷰:  0\n"
          ],
          "name": "stdout"
        },
        {
          "output_type": "stream",
          "text": [
            "\r 14%|██████████▉                                                                      | 21/155 [00:57<05:36,  2.51s/it]"
          ],
          "name": "stderr"
        },
        {
          "output_type": "stream",
          "text": [
            "21번째 가게에 삭제된 댓글이 있습니다.\n"
          ],
          "name": "stdout"
        },
        {
          "output_type": "stream",
          "text": [
            "\r 14%|███████████▍                                                                     | 22/155 [00:59<05:40,  2.56s/it]"
          ],
          "name": "stderr"
        },
        {
          "output_type": "stream",
          "text": [
            "22번째 가게에 삭제된 댓글이 있습니다.\n"
          ],
          "name": "stdout"
        },
        {
          "output_type": "stream",
          "text": [
            "\r 15%|████████████                                                                     | 23/155 [01:02<05:41,  2.59s/it]"
          ],
          "name": "stderr"
        },
        {
          "output_type": "stream",
          "text": [
            "23번째 가게에 삭제된 댓글이 있습니다.\n"
          ],
          "name": "stdout"
        },
        {
          "output_type": "stream",
          "text": [
            "\r 15%|████████████▌                                                                    | 24/155 [01:04<05:24,  2.47s/it]"
          ],
          "name": "stderr"
        },
        {
          "output_type": "stream",
          "text": [
            "24 번째 가게 스크래핑 완료..삭제된 리뷰:  0\n"
          ],
          "name": "stdout"
        },
        {
          "output_type": "stream",
          "text": [
            "\r 16%|█████████████                                                                    | 25/155 [01:07<05:29,  2.54s/it]"
          ],
          "name": "stderr"
        },
        {
          "output_type": "stream",
          "text": [
            "25번째 가게에 삭제된 댓글이 있습니다.\n"
          ],
          "name": "stdout"
        },
        {
          "output_type": "stream",
          "text": [
            "\r 17%|█████████████▌                                                                   | 26/155 [01:09<05:14,  2.44s/it]"
          ],
          "name": "stderr"
        },
        {
          "output_type": "stream",
          "text": [
            "26 번째 가게 스크래핑 완료..삭제된 리뷰:  0\n"
          ],
          "name": "stdout"
        },
        {
          "output_type": "stream",
          "text": [
            "\r 17%|██████████████                                                                   | 27/155 [01:11<05:03,  2.37s/it]"
          ],
          "name": "stderr"
        },
        {
          "output_type": "stream",
          "text": [
            "27 번째 가게 스크래핑 완료..삭제된 리뷰:  0\n"
          ],
          "name": "stdout"
        },
        {
          "output_type": "stream",
          "text": [
            "\r 18%|██████████████▋                                                                  | 28/155 [01:14<04:56,  2.33s/it]"
          ],
          "name": "stderr"
        },
        {
          "output_type": "stream",
          "text": [
            "28 번째 가게 스크래핑 완료..삭제된 리뷰:  0\n"
          ],
          "name": "stdout"
        },
        {
          "output_type": "stream",
          "text": [
            "\r 19%|███████████████▏                                                                 | 29/155 [01:16<04:50,  2.31s/it]"
          ],
          "name": "stderr"
        },
        {
          "output_type": "stream",
          "text": [
            "29 번째 가게 스크래핑 완료..삭제된 리뷰:  0\n"
          ],
          "name": "stdout"
        },
        {
          "output_type": "stream",
          "text": [
            "\r 19%|███████████████▋                                                                 | 30/155 [01:18<04:44,  2.28s/it]"
          ],
          "name": "stderr"
        },
        {
          "output_type": "stream",
          "text": [
            "30 번째 가게 스크래핑 완료..삭제된 리뷰:  0\n"
          ],
          "name": "stdout"
        },
        {
          "output_type": "stream",
          "text": [
            "\r 20%|████████████████▏                                                                | 31/155 [01:20<04:40,  2.26s/it]"
          ],
          "name": "stderr"
        },
        {
          "output_type": "stream",
          "text": [
            "31 번째 가게 스크래핑 완료..삭제된 리뷰:  0\n"
          ],
          "name": "stdout"
        },
        {
          "output_type": "stream",
          "text": [
            "\r 21%|████████████████▋                                                                | 32/155 [01:22<04:35,  2.24s/it]"
          ],
          "name": "stderr"
        },
        {
          "output_type": "stream",
          "text": [
            "32 번째 가게 스크래핑 완료..삭제된 리뷰:  0\n"
          ],
          "name": "stdout"
        },
        {
          "output_type": "stream",
          "text": [
            "\r 21%|█████████████████▏                                                               | 33/155 [01:25<04:31,  2.22s/it]"
          ],
          "name": "stderr"
        },
        {
          "output_type": "stream",
          "text": [
            "33 번째 가게 스크래핑 완료..삭제된 리뷰:  0\n"
          ],
          "name": "stdout"
        },
        {
          "output_type": "stream",
          "text": [
            "\r 22%|█████████████████▊                                                               | 34/155 [01:27<04:28,  2.22s/it]"
          ],
          "name": "stderr"
        },
        {
          "output_type": "stream",
          "text": [
            "34 번째 가게 스크래핑 완료..삭제된 리뷰:  0\n"
          ],
          "name": "stdout"
        },
        {
          "output_type": "stream",
          "text": [
            "\r 23%|██████████████████▎                                                              | 35/155 [01:29<04:25,  2.21s/it]"
          ],
          "name": "stderr"
        },
        {
          "output_type": "stream",
          "text": [
            "35 번째 가게 스크래핑 완료..삭제된 리뷰:  0\n"
          ],
          "name": "stdout"
        },
        {
          "output_type": "stream",
          "text": [
            "\r 23%|██████████████████▊                                                              | 36/155 [01:32<04:45,  2.40s/it]"
          ],
          "name": "stderr"
        },
        {
          "output_type": "stream",
          "text": [
            "36번째 가게에 삭제된 댓글이 있습니다.\n"
          ],
          "name": "stdout"
        },
        {
          "output_type": "stream",
          "text": [
            "\r 24%|███████████████████▎                                                             | 37/155 [01:34<04:51,  2.47s/it]"
          ],
          "name": "stderr"
        },
        {
          "output_type": "stream",
          "text": [
            "37번째 가게에 삭제된 댓글이 있습니다.\n"
          ],
          "name": "stdout"
        },
        {
          "output_type": "stream",
          "text": [
            "\r 25%|███████████████████▊                                                             | 38/155 [01:37<04:39,  2.39s/it]"
          ],
          "name": "stderr"
        },
        {
          "output_type": "stream",
          "text": [
            "38 번째 가게 스크래핑 완료..삭제된 리뷰:  0\n"
          ],
          "name": "stdout"
        },
        {
          "output_type": "stream",
          "text": [
            "\r 25%|████████████████████▍                                                            | 39/155 [01:39<04:30,  2.34s/it]"
          ],
          "name": "stderr"
        },
        {
          "output_type": "stream",
          "text": [
            "39 번째 가게 스크래핑 완료..삭제된 리뷰:  0\n"
          ],
          "name": "stdout"
        },
        {
          "output_type": "stream",
          "text": [
            "\r 26%|████████████████████▉                                                            | 40/155 [01:41<04:23,  2.30s/it]"
          ],
          "name": "stderr"
        },
        {
          "output_type": "stream",
          "text": [
            "40 번째 가게 스크래핑 완료..삭제된 리뷰:  0\n"
          ],
          "name": "stdout"
        },
        {
          "output_type": "stream",
          "text": [
            "\r 26%|█████████████████████▍                                                           | 41/155 [01:43<04:17,  2.26s/it]"
          ],
          "name": "stderr"
        },
        {
          "output_type": "stream",
          "text": [
            "41 번째 가게 스크래핑 완료..삭제된 리뷰:  0\n"
          ],
          "name": "stdout"
        },
        {
          "output_type": "stream",
          "text": [
            "\r 27%|█████████████████████▉                                                           | 42/155 [01:45<04:13,  2.25s/it]"
          ],
          "name": "stderr"
        },
        {
          "output_type": "stream",
          "text": [
            "42 번째 가게 스크래핑 완료..삭제된 리뷰:  0\n"
          ],
          "name": "stdout"
        },
        {
          "output_type": "stream",
          "text": [
            "\r 28%|██████████████████████▍                                                          | 43/155 [01:48<04:11,  2.24s/it]"
          ],
          "name": "stderr"
        },
        {
          "output_type": "stream",
          "text": [
            "43 번째 가게 스크래핑 완료..삭제된 리뷰:  0\n"
          ],
          "name": "stdout"
        },
        {
          "output_type": "stream",
          "text": [
            "\r 28%|██████████████████████▉                                                          | 44/155 [01:50<04:08,  2.24s/it]"
          ],
          "name": "stderr"
        },
        {
          "output_type": "stream",
          "text": [
            "44 번째 가게 스크래핑 완료..삭제된 리뷰:  0\n"
          ],
          "name": "stdout"
        },
        {
          "output_type": "stream",
          "text": [
            "\r 29%|███████████████████████▌                                                         | 45/155 [01:52<04:05,  2.23s/it]"
          ],
          "name": "stderr"
        },
        {
          "output_type": "stream",
          "text": [
            "45 번째 가게 스크래핑 완료..삭제된 리뷰:  0\n"
          ],
          "name": "stdout"
        },
        {
          "output_type": "stream",
          "text": [
            "\r 30%|████████████████████████                                                         | 46/155 [01:54<04:02,  2.23s/it]"
          ],
          "name": "stderr"
        },
        {
          "output_type": "stream",
          "text": [
            "46 번째 가게 스크래핑 완료..삭제된 리뷰:  0\n"
          ],
          "name": "stdout"
        },
        {
          "output_type": "stream",
          "text": [
            "\r 30%|████████████████████████▌                                                        | 47/155 [01:57<04:16,  2.37s/it]"
          ],
          "name": "stderr"
        },
        {
          "output_type": "stream",
          "text": [
            "47번째 가게에 삭제된 댓글이 있습니다.\n"
          ],
          "name": "stdout"
        },
        {
          "output_type": "stream",
          "text": [
            "\r 31%|█████████████████████████                                                        | 48/155 [02:00<04:22,  2.45s/it]"
          ],
          "name": "stderr"
        },
        {
          "output_type": "stream",
          "text": [
            "48번째 가게에 삭제된 댓글이 있습니다.\n"
          ],
          "name": "stdout"
        },
        {
          "output_type": "stream",
          "text": [
            "\r 32%|█████████████████████████▌                                                       | 49/155 [02:02<04:27,  2.53s/it]"
          ],
          "name": "stderr"
        },
        {
          "output_type": "stream",
          "text": [
            "49번째 가게에 삭제된 댓글이 있습니다.\n"
          ],
          "name": "stdout"
        },
        {
          "output_type": "stream",
          "text": [
            "\r 32%|██████████████████████████▏                                                      | 50/155 [02:05<04:14,  2.42s/it]"
          ],
          "name": "stderr"
        },
        {
          "output_type": "stream",
          "text": [
            "50 번째 가게 스크래핑 완료..삭제된 리뷰:  0\n"
          ],
          "name": "stdout"
        },
        {
          "output_type": "stream",
          "text": [
            "\r 33%|██████████████████████████▋                                                      | 51/155 [02:07<04:05,  2.36s/it]"
          ],
          "name": "stderr"
        },
        {
          "output_type": "stream",
          "text": [
            "51 번째 가게 스크래핑 완료..삭제된 리뷰:  0\n"
          ],
          "name": "stdout"
        },
        {
          "output_type": "stream",
          "text": [
            "\r 34%|███████████████████████████▏                                                     | 52/155 [02:09<03:58,  2.32s/it]"
          ],
          "name": "stderr"
        },
        {
          "output_type": "stream",
          "text": [
            "52 번째 가게 스크래핑 완료..삭제된 리뷰:  0\n"
          ],
          "name": "stdout"
        },
        {
          "output_type": "stream",
          "text": [
            "\r 34%|███████████████████████████▋                                                     | 53/155 [02:11<03:52,  2.28s/it]"
          ],
          "name": "stderr"
        },
        {
          "output_type": "stream",
          "text": [
            "53 번째 가게 스크래핑 완료..삭제된 리뷰:  0\n"
          ],
          "name": "stdout"
        },
        {
          "output_type": "stream",
          "text": [
            "\r 35%|████████████████████████████▏                                                    | 54/155 [02:13<03:48,  2.26s/it]"
          ],
          "name": "stderr"
        },
        {
          "output_type": "stream",
          "text": [
            "54 번째 가게 스크래핑 완료..삭제된 리뷰:  0\n"
          ],
          "name": "stdout"
        },
        {
          "output_type": "stream",
          "text": [
            "\r 35%|████████████████████████████▋                                                    | 55/155 [02:16<03:44,  2.24s/it]"
          ],
          "name": "stderr"
        },
        {
          "output_type": "stream",
          "text": [
            "55 번째 가게 스크래핑 완료..삭제된 리뷰:  0\n"
          ],
          "name": "stdout"
        },
        {
          "output_type": "stream",
          "text": [
            "\r 36%|█████████████████████████████▎                                                   | 56/155 [02:18<03:40,  2.23s/it]"
          ],
          "name": "stderr"
        },
        {
          "output_type": "stream",
          "text": [
            "56 번째 가게 스크래핑 완료..삭제된 리뷰:  0\n"
          ],
          "name": "stdout"
        },
        {
          "output_type": "stream",
          "text": [
            "\r 37%|█████████████████████████████▊                                                   | 57/155 [02:20<03:37,  2.22s/it]"
          ],
          "name": "stderr"
        },
        {
          "output_type": "stream",
          "text": [
            "57 번째 가게 스크래핑 완료..삭제된 리뷰:  0\n"
          ],
          "name": "stdout"
        },
        {
          "output_type": "stream",
          "text": [
            "\r 37%|██████████████████████████████▎                                                  | 58/155 [02:22<03:34,  2.21s/it]"
          ],
          "name": "stderr"
        },
        {
          "output_type": "stream",
          "text": [
            "58 번째 가게 스크래핑 완료..삭제된 리뷰:  0\n"
          ],
          "name": "stdout"
        },
        {
          "output_type": "stream",
          "text": [
            "\r 38%|██████████████████████████████▊                                                  | 59/155 [02:24<03:31,  2.21s/it]"
          ],
          "name": "stderr"
        },
        {
          "output_type": "stream",
          "text": [
            "59 번째 가게 스크래핑 완료..삭제된 리뷰:  0\n"
          ],
          "name": "stdout"
        },
        {
          "output_type": "stream",
          "text": [
            "\r 39%|███████████████████████████████▎                                                 | 60/155 [02:27<03:30,  2.21s/it]"
          ],
          "name": "stderr"
        },
        {
          "output_type": "stream",
          "text": [
            "60 번째 가게 스크래핑 완료..삭제된 리뷰:  0\n"
          ],
          "name": "stdout"
        },
        {
          "output_type": "stream",
          "text": [
            "\r 39%|███████████████████████████████▉                                                 | 61/155 [02:29<03:29,  2.23s/it]"
          ],
          "name": "stderr"
        },
        {
          "output_type": "stream",
          "text": [
            "61 번째 가게 스크래핑 완료..삭제된 리뷰:  0\n"
          ],
          "name": "stdout"
        },
        {
          "output_type": "stream",
          "text": [
            "\r 40%|████████████████████████████████▍                                                | 62/155 [02:31<03:25,  2.21s/it]"
          ],
          "name": "stderr"
        },
        {
          "output_type": "stream",
          "text": [
            "62 번째 가게 스크래핑 완료..삭제된 리뷰:  0\n"
          ],
          "name": "stdout"
        },
        {
          "output_type": "stream",
          "text": [
            "\r 41%|████████████████████████████████▉                                                | 63/155 [02:33<03:22,  2.20s/it]"
          ],
          "name": "stderr"
        },
        {
          "output_type": "stream",
          "text": [
            "63 번째 가게 스크래핑 완료..삭제된 리뷰:  0\n"
          ],
          "name": "stdout"
        },
        {
          "output_type": "stream",
          "text": [
            "\r 41%|█████████████████████████████████▍                                               | 64/155 [02:36<03:32,  2.34s/it]"
          ],
          "name": "stderr"
        },
        {
          "output_type": "stream",
          "text": [
            "64번째 가게에 삭제된 댓글이 있습니다.\n"
          ],
          "name": "stdout"
        },
        {
          "output_type": "stream",
          "text": [
            "\r 42%|█████████████████████████████████▉                                               | 65/155 [02:38<03:26,  2.30s/it]"
          ],
          "name": "stderr"
        },
        {
          "output_type": "stream",
          "text": [
            "65 번째 가게 스크래핑 완료..삭제된 리뷰:  0\n"
          ],
          "name": "stdout"
        },
        {
          "output_type": "stream",
          "text": [
            "\r 43%|██████████████████████████████████▍                                              | 66/155 [02:40<03:22,  2.27s/it]"
          ],
          "name": "stderr"
        },
        {
          "output_type": "stream",
          "text": [
            "66 번째 가게 스크래핑 완료..삭제된 리뷰:  0\n"
          ],
          "name": "stdout"
        },
        {
          "output_type": "stream",
          "text": [
            "\r 43%|███████████████████████████████████                                              | 67/155 [02:43<03:18,  2.25s/it]"
          ],
          "name": "stderr"
        },
        {
          "output_type": "stream",
          "text": [
            "67 번째 가게 스크래핑 완료..삭제된 리뷰:  0\n"
          ],
          "name": "stdout"
        },
        {
          "output_type": "stream",
          "text": [
            "\r 44%|███████████████████████████████████▌                                             | 68/155 [02:45<03:14,  2.24s/it]"
          ],
          "name": "stderr"
        },
        {
          "output_type": "stream",
          "text": [
            "68 번째 가게 스크래핑 완료..삭제된 리뷰:  0\n"
          ],
          "name": "stdout"
        },
        {
          "output_type": "stream",
          "text": [
            "\r 45%|████████████████████████████████████                                             | 69/155 [02:47<03:23,  2.37s/it]"
          ],
          "name": "stderr"
        },
        {
          "output_type": "stream",
          "text": [
            "69번째 가게에 삭제된 댓글이 있습니다.\n"
          ],
          "name": "stdout"
        },
        {
          "output_type": "stream",
          "text": [
            "\r 45%|████████████████████████████████████▌                                            | 70/155 [02:50<03:16,  2.32s/it]"
          ],
          "name": "stderr"
        },
        {
          "output_type": "stream",
          "text": [
            "70 번째 가게 스크래핑 완료..삭제된 리뷰:  0\n"
          ],
          "name": "stdout"
        },
        {
          "output_type": "stream",
          "text": [
            "\r 46%|█████████████████████████████████████                                            | 71/155 [02:52<03:11,  2.28s/it]"
          ],
          "name": "stderr"
        },
        {
          "output_type": "stream",
          "text": [
            "71 번째 가게 스크래핑 완료..삭제된 리뷰:  0\n"
          ],
          "name": "stdout"
        },
        {
          "output_type": "stream",
          "text": [
            "\r 46%|█████████████████████████████████████▋                                           | 72/155 [02:55<03:19,  2.40s/it]"
          ],
          "name": "stderr"
        },
        {
          "output_type": "stream",
          "text": [
            "72번째 가게에 삭제된 댓글이 있습니다.\n"
          ],
          "name": "stdout"
        },
        {
          "output_type": "stream",
          "text": [
            "\r 47%|██████████████████████████████████████▏                                          | 73/155 [02:57<03:22,  2.47s/it]"
          ],
          "name": "stderr"
        },
        {
          "output_type": "stream",
          "text": [
            "73번째 가게에 삭제된 댓글이 있습니다.\n"
          ],
          "name": "stdout"
        },
        {
          "output_type": "stream",
          "text": [
            "\r 48%|██████████████████████████████████████▋                                          | 74/155 [03:00<03:24,  2.53s/it]"
          ],
          "name": "stderr"
        },
        {
          "output_type": "stream",
          "text": [
            "74번째 가게에 삭제된 댓글이 있습니다.\n"
          ],
          "name": "stdout"
        },
        {
          "output_type": "stream",
          "text": [
            "\r 48%|███████████████████████████████████████▏                                         | 75/155 [03:02<03:14,  2.43s/it]"
          ],
          "name": "stderr"
        },
        {
          "output_type": "stream",
          "text": [
            "75 번째 가게 스크래핑 완료..삭제된 리뷰:  0\n"
          ],
          "name": "stdout"
        },
        {
          "output_type": "stream",
          "text": [
            "\r 49%|███████████████████████████████████████▋                                         | 76/155 [03:04<03:07,  2.37s/it]"
          ],
          "name": "stderr"
        },
        {
          "output_type": "stream",
          "text": [
            "76 번째 가게 스크래핑 완료..삭제된 리뷰:  0\n"
          ],
          "name": "stdout"
        },
        {
          "output_type": "stream",
          "text": [
            "\r 50%|████████████████████████████████████████▏                                        | 77/155 [03:07<03:11,  2.45s/it]"
          ],
          "name": "stderr"
        },
        {
          "output_type": "stream",
          "text": [
            "77번째 가게에 삭제된 댓글이 있습니다.\n"
          ],
          "name": "stdout"
        },
        {
          "output_type": "stream",
          "text": [
            "\r 50%|████████████████████████████████████████▊                                        | 78/155 [03:10<03:13,  2.52s/it]"
          ],
          "name": "stderr"
        },
        {
          "output_type": "stream",
          "text": [
            "78번째 가게에 삭제된 댓글이 있습니다.\n"
          ],
          "name": "stdout"
        },
        {
          "output_type": "stream",
          "text": [
            "\r 51%|█████████████████████████████████████████▎                                       | 79/155 [03:12<03:04,  2.42s/it]"
          ],
          "name": "stderr"
        },
        {
          "output_type": "stream",
          "text": [
            "79 번째 가게 스크래핑 완료..삭제된 리뷰:  0\n"
          ],
          "name": "stdout"
        },
        {
          "output_type": "stream",
          "text": [
            "\r 52%|█████████████████████████████████████████▊                                       | 80/155 [03:14<02:56,  2.35s/it]"
          ],
          "name": "stderr"
        },
        {
          "output_type": "stream",
          "text": [
            "80 번째 가게 스크래핑 완료..삭제된 리뷰:  0\n"
          ],
          "name": "stdout"
        },
        {
          "output_type": "stream",
          "text": [
            "\r 52%|██████████████████████████████████████████▎                                      | 81/155 [03:16<02:51,  2.31s/it]"
          ],
          "name": "stderr"
        },
        {
          "output_type": "stream",
          "text": [
            "81 번째 가게 스크래핑 완료..삭제된 리뷰:  0\n"
          ],
          "name": "stdout"
        },
        {
          "output_type": "stream",
          "text": [
            "\r 53%|██████████████████████████████████████████▊                                      | 82/155 [03:19<02:57,  2.43s/it]"
          ],
          "name": "stderr"
        },
        {
          "output_type": "stream",
          "text": [
            "82번째 가게에 삭제된 댓글이 있습니다.\n"
          ],
          "name": "stdout"
        },
        {
          "output_type": "stream",
          "text": [
            "\r 54%|███████████████████████████████████████████▎                                     | 83/155 [03:21<02:49,  2.35s/it]"
          ],
          "name": "stderr"
        },
        {
          "output_type": "stream",
          "text": [
            "83 번째 가게 스크래핑 완료..삭제된 리뷰:  0\n"
          ],
          "name": "stdout"
        },
        {
          "output_type": "stream",
          "text": [
            "\r 54%|███████████████████████████████████████████▉                                     | 84/155 [03:24<02:54,  2.46s/it]"
          ],
          "name": "stderr"
        },
        {
          "output_type": "stream",
          "text": [
            "84번째 가게에 삭제된 댓글이 있습니다.\n"
          ],
          "name": "stdout"
        },
        {
          "output_type": "stream",
          "text": [
            "\r 55%|████████████████████████████████████████████▍                                    | 85/155 [03:26<02:46,  2.38s/it]"
          ],
          "name": "stderr"
        },
        {
          "output_type": "stream",
          "text": [
            "85 번째 가게 스크래핑 완료..삭제된 리뷰:  0\n"
          ],
          "name": "stdout"
        },
        {
          "output_type": "stream",
          "text": [
            "\r 55%|████████████████████████████████████████████▉                                    | 86/155 [03:29<02:51,  2.49s/it]"
          ],
          "name": "stderr"
        },
        {
          "output_type": "stream",
          "text": [
            "86번째 가게에 삭제된 댓글이 있습니다.\n"
          ],
          "name": "stdout"
        },
        {
          "output_type": "stream",
          "text": [
            "\r 56%|█████████████████████████████████████████████▍                                   | 87/155 [03:31<02:52,  2.54s/it]"
          ],
          "name": "stderr"
        },
        {
          "output_type": "stream",
          "text": [
            "87번째 가게에 삭제된 댓글이 있습니다.\n"
          ],
          "name": "stdout"
        },
        {
          "output_type": "stream",
          "text": [
            "\r 57%|█████████████████████████████████████████████▉                                   | 88/155 [03:34<02:52,  2.57s/it]"
          ],
          "name": "stderr"
        },
        {
          "output_type": "stream",
          "text": [
            "88번째 가게에 삭제된 댓글이 있습니다.\n"
          ],
          "name": "stdout"
        },
        {
          "output_type": "stream",
          "text": [
            "\r 57%|██████████████████████████████████████████████▌                                  | 89/155 [03:36<02:42,  2.47s/it]"
          ],
          "name": "stderr"
        },
        {
          "output_type": "stream",
          "text": [
            "89 번째 가게 스크래핑 완료..삭제된 리뷰:  0\n"
          ],
          "name": "stdout"
        },
        {
          "output_type": "stream",
          "text": [
            "\r 58%|███████████████████████████████████████████████                                  | 90/155 [03:38<02:35,  2.40s/it]"
          ],
          "name": "stderr"
        },
        {
          "output_type": "stream",
          "text": [
            "90 번째 가게 스크래핑 완료..삭제된 리뷰:  0\n"
          ],
          "name": "stdout"
        },
        {
          "output_type": "stream",
          "text": [
            "\r 59%|███████████████████████████████████████████████▌                                 | 91/155 [03:41<02:38,  2.48s/it]"
          ],
          "name": "stderr"
        },
        {
          "output_type": "stream",
          "text": [
            "91번째 가게에 삭제된 댓글이 있습니다.\n"
          ],
          "name": "stdout"
        },
        {
          "output_type": "stream",
          "text": [
            "\r 59%|████████████████████████████████████████████████                                 | 92/155 [03:43<02:31,  2.40s/it]"
          ],
          "name": "stderr"
        },
        {
          "output_type": "stream",
          "text": [
            "92 번째 가게 스크래핑 완료..삭제된 리뷰:  0\n"
          ],
          "name": "stdout"
        },
        {
          "output_type": "stream",
          "text": [
            "\r 60%|████████████████████████████████████████████████▌                                | 93/155 [03:46<02:33,  2.47s/it]"
          ],
          "name": "stderr"
        },
        {
          "output_type": "stream",
          "text": [
            "93번째 가게에 삭제된 댓글이 있습니다.\n"
          ],
          "name": "stdout"
        },
        {
          "output_type": "stream",
          "text": [
            "\r 61%|█████████████████████████████████████████████████                                | 94/155 [03:49<02:33,  2.52s/it]"
          ],
          "name": "stderr"
        },
        {
          "output_type": "stream",
          "text": [
            "94번째 가게에 삭제된 댓글이 있습니다.\n"
          ],
          "name": "stdout"
        },
        {
          "output_type": "stream",
          "text": [
            "\r 61%|█████████████████████████████████████████████████▋                               | 95/155 [03:51<02:25,  2.43s/it]"
          ],
          "name": "stderr"
        },
        {
          "output_type": "stream",
          "text": [
            "95 번째 가게 스크래핑 완료..삭제된 리뷰:  0\n"
          ],
          "name": "stdout"
        },
        {
          "output_type": "stream",
          "text": [
            "\r 62%|██████████████████████████████████████████████████▏                              | 96/155 [03:53<02:19,  2.36s/it]"
          ],
          "name": "stderr"
        },
        {
          "output_type": "stream",
          "text": [
            "96 번째 가게 스크래핑 완료..삭제된 리뷰:  0\n"
          ],
          "name": "stdout"
        },
        {
          "output_type": "stream",
          "text": [
            "\r 63%|██████████████████████████████████████████████████▋                              | 97/155 [03:56<02:22,  2.46s/it]"
          ],
          "name": "stderr"
        },
        {
          "output_type": "stream",
          "text": [
            "97번째 가게에 삭제된 댓글이 있습니다.\n"
          ],
          "name": "stdout"
        },
        {
          "output_type": "stream",
          "text": [
            "\r 63%|███████████████████████████████████████████████████▏                             | 98/155 [03:58<02:16,  2.39s/it]"
          ],
          "name": "stderr"
        },
        {
          "output_type": "stream",
          "text": [
            "98 번째 가게 스크래핑 완료..삭제된 리뷰:  0\n"
          ],
          "name": "stdout"
        },
        {
          "output_type": "stream",
          "text": [
            "\r 64%|███████████████████████████████████████████████████▋                             | 99/155 [04:00<02:10,  2.34s/it]"
          ],
          "name": "stderr"
        },
        {
          "output_type": "stream",
          "text": [
            "99 번째 가게 스크래핑 완료..삭제된 리뷰:  0\n"
          ],
          "name": "stdout"
        },
        {
          "output_type": "stream",
          "text": [
            "\r 65%|███████████████████████████████████████████████████▌                            | 100/155 [04:02<02:06,  2.30s/it]"
          ],
          "name": "stderr"
        },
        {
          "output_type": "stream",
          "text": [
            "100 번째 가게 스크래핑 완료..삭제된 리뷰:  0\n"
          ],
          "name": "stdout"
        },
        {
          "output_type": "stream",
          "text": [
            "\r 65%|████████████████████████████████████████████████████▏                           | 101/155 [04:05<02:02,  2.26s/it]"
          ],
          "name": "stderr"
        },
        {
          "output_type": "stream",
          "text": [
            "101 번째 가게 스크래핑 완료..삭제된 리뷰:  0\n"
          ],
          "name": "stdout"
        },
        {
          "output_type": "stream",
          "text": [
            "\r 66%|████████████████████████████████████████████████████▋                           | 102/155 [04:07<02:07,  2.40s/it]"
          ],
          "name": "stderr"
        },
        {
          "output_type": "stream",
          "text": [
            "102번째 가게에 삭제된 댓글이 있습니다.\n"
          ],
          "name": "stdout"
        },
        {
          "output_type": "stream",
          "text": [
            "\r 66%|█████████████████████████████████████████████████████▏                          | 103/155 [04:09<02:01,  2.34s/it]"
          ],
          "name": "stderr"
        },
        {
          "output_type": "stream",
          "text": [
            "103 번째 가게 스크래핑 완료..삭제된 리뷰:  0\n"
          ],
          "name": "stdout"
        },
        {
          "output_type": "stream",
          "text": [
            "\r 67%|█████████████████████████████████████████████████████▋                          | 104/155 [04:12<01:57,  2.30s/it]"
          ],
          "name": "stderr"
        },
        {
          "output_type": "stream",
          "text": [
            "104 번째 가게 스크래핑 완료..삭제된 리뷰:  0\n"
          ],
          "name": "stdout"
        },
        {
          "output_type": "stream",
          "text": [
            "\r 68%|██████████████████████████████████████████████████████▏                         | 105/155 [04:14<02:00,  2.41s/it]"
          ],
          "name": "stderr"
        },
        {
          "output_type": "stream",
          "text": [
            "105번째 가게에 삭제된 댓글이 있습니다.\n"
          ],
          "name": "stdout"
        },
        {
          "output_type": "stream",
          "text": [
            "\r 68%|██████████████████████████████████████████████████████▋                         | 106/155 [04:17<02:02,  2.51s/it]"
          ],
          "name": "stderr"
        },
        {
          "output_type": "stream",
          "text": [
            "106번째 가게에 삭제된 댓글이 있습니다.\n"
          ],
          "name": "stdout"
        },
        {
          "output_type": "stream",
          "text": [
            "\r 69%|███████████████████████████████████████████████████████▏                        | 107/155 [04:20<02:02,  2.54s/it]"
          ],
          "name": "stderr"
        },
        {
          "output_type": "stream",
          "text": [
            "107번째 가게에 삭제된 댓글이 있습니다.\n"
          ],
          "name": "stdout"
        },
        {
          "output_type": "stream",
          "text": [
            "\r 70%|███████████████████████████████████████████████████████▋                        | 108/155 [04:22<01:54,  2.44s/it]"
          ],
          "name": "stderr"
        },
        {
          "output_type": "stream",
          "text": [
            "108 번째 가게 스크래핑 완료..삭제된 리뷰:  0\n"
          ],
          "name": "stdout"
        },
        {
          "output_type": "stream",
          "text": [
            "\r 70%|████████████████████████████████████████████████████████▎                       | 109/155 [04:24<01:49,  2.37s/it]"
          ],
          "name": "stderr"
        },
        {
          "output_type": "stream",
          "text": [
            "109 번째 가게 스크래핑 완료..삭제된 리뷰:  0\n"
          ],
          "name": "stdout"
        },
        {
          "output_type": "stream",
          "text": [
            "\r 71%|████████████████████████████████████████████████████████▊                       | 110/155 [04:27<01:50,  2.45s/it]"
          ],
          "name": "stderr"
        },
        {
          "output_type": "stream",
          "text": [
            "110번째 가게에 삭제된 댓글이 있습니다.\n"
          ],
          "name": "stdout"
        },
        {
          "output_type": "stream",
          "text": [
            "\r 72%|█████████████████████████████████████████████████████████▎                      | 111/155 [04:29<01:44,  2.38s/it]"
          ],
          "name": "stderr"
        },
        {
          "output_type": "stream",
          "text": [
            "111 번째 가게 스크래핑 완료..삭제된 리뷰:  0\n"
          ],
          "name": "stdout"
        },
        {
          "output_type": "stream",
          "text": [
            "\r 72%|█████████████████████████████████████████████████████████▊                      | 112/155 [04:32<01:45,  2.46s/it]"
          ],
          "name": "stderr"
        },
        {
          "output_type": "stream",
          "text": [
            "112번째 가게에 삭제된 댓글이 있습니다.\n"
          ],
          "name": "stdout"
        },
        {
          "output_type": "stream",
          "text": [
            "\r 73%|██████████████████████████████████████████████████████████▎                     | 113/155 [04:34<01:46,  2.52s/it]"
          ],
          "name": "stderr"
        },
        {
          "output_type": "stream",
          "text": [
            "113번째 가게에 삭제된 댓글이 있습니다.\n"
          ],
          "name": "stdout"
        },
        {
          "output_type": "stream",
          "text": [
            "\r 74%|██████████████████████████████████████████████████████████▊                     | 114/155 [04:37<01:39,  2.44s/it]"
          ],
          "name": "stderr"
        },
        {
          "output_type": "stream",
          "text": [
            "114 번째 가게 스크래핑 완료..삭제된 리뷰:  0\n"
          ],
          "name": "stdout"
        },
        {
          "output_type": "stream",
          "text": [
            "\r 74%|███████████████████████████████████████████████████████████▎                    | 115/155 [04:39<01:40,  2.52s/it]"
          ],
          "name": "stderr"
        },
        {
          "output_type": "stream",
          "text": [
            "115번째 가게에 삭제된 댓글이 있습니다.\n"
          ],
          "name": "stdout"
        },
        {
          "output_type": "stream",
          "text": [
            "\r 75%|███████████████████████████████████████████████████████████▊                    | 116/155 [04:42<01:39,  2.56s/it]"
          ],
          "name": "stderr"
        },
        {
          "output_type": "stream",
          "text": [
            "116번째 가게에 삭제된 댓글이 있습니다.\n"
          ],
          "name": "stdout"
        },
        {
          "output_type": "stream",
          "text": [
            "\r 75%|████████████████████████████████████████████████████████████▍                   | 117/155 [04:45<01:38,  2.60s/it]"
          ],
          "name": "stderr"
        },
        {
          "output_type": "stream",
          "text": [
            "117번째 가게에 삭제된 댓글이 있습니다.\n"
          ],
          "name": "stdout"
        },
        {
          "output_type": "stream",
          "text": [
            "\r 76%|████████████████████████████████████████████████████████████▉                   | 118/155 [04:47<01:32,  2.49s/it]"
          ],
          "name": "stderr"
        },
        {
          "output_type": "stream",
          "text": [
            "118 번째 가게 스크래핑 완료..삭제된 리뷰:  0\n"
          ],
          "name": "stdout"
        },
        {
          "output_type": "stream",
          "text": [
            "\r 77%|█████████████████████████████████████████████████████████████▍                  | 119/155 [04:50<01:31,  2.55s/it]"
          ],
          "name": "stderr"
        },
        {
          "output_type": "stream",
          "text": [
            "119번째 가게에 삭제된 댓글이 있습니다.\n"
          ],
          "name": "stdout"
        },
        {
          "output_type": "stream",
          "text": [
            "\r 77%|█████████████████████████████████████████████████████████████▉                  | 120/155 [04:52<01:30,  2.58s/it]"
          ],
          "name": "stderr"
        },
        {
          "output_type": "stream",
          "text": [
            "120번째 가게에 삭제된 댓글이 있습니다.\n"
          ],
          "name": "stdout"
        },
        {
          "output_type": "stream",
          "text": [
            "\r 78%|██████████████████████████████████████████████████████████████▍                 | 121/155 [04:54<01:23,  2.46s/it]"
          ],
          "name": "stderr"
        },
        {
          "output_type": "stream",
          "text": [
            "121 번째 가게 스크래핑 완료..삭제된 리뷰:  0\n"
          ],
          "name": "stdout"
        },
        {
          "output_type": "stream",
          "text": [
            "\r 79%|██████████████████████████████████████████████████████████████▉                 | 122/155 [04:57<01:23,  2.52s/it]"
          ],
          "name": "stderr"
        },
        {
          "output_type": "stream",
          "text": [
            "122번째 가게에 삭제된 댓글이 있습니다.\n"
          ],
          "name": "stdout"
        },
        {
          "output_type": "stream",
          "text": [
            "\r 79%|███████████████████████████████████████████████████████████████▍                | 123/155 [05:00<01:21,  2.56s/it]"
          ],
          "name": "stderr"
        },
        {
          "output_type": "stream",
          "text": [
            "123번째 가게에 삭제된 댓글이 있습니다.\n"
          ],
          "name": "stdout"
        },
        {
          "output_type": "stream",
          "text": [
            "\r 80%|████████████████████████████████████████████████████████████████                | 124/155 [05:02<01:19,  2.58s/it]"
          ],
          "name": "stderr"
        },
        {
          "output_type": "stream",
          "text": [
            "124번째 가게에 삭제된 댓글이 있습니다.\n"
          ],
          "name": "stdout"
        },
        {
          "output_type": "stream",
          "text": [
            "\r 81%|████████████████████████████████████████████████████████████████▌               | 125/155 [05:05<01:17,  2.60s/it]"
          ],
          "name": "stderr"
        },
        {
          "output_type": "stream",
          "text": [
            "125번째 가게에 삭제된 댓글이 있습니다.\n"
          ],
          "name": "stdout"
        },
        {
          "output_type": "stream",
          "text": [
            "\r 81%|█████████████████████████████████████████████████████████████████               | 126/155 [05:08<01:15,  2.61s/it]"
          ],
          "name": "stderr"
        },
        {
          "output_type": "stream",
          "text": [
            "126번째 가게에 삭제된 댓글이 있습니다.\n"
          ],
          "name": "stdout"
        },
        {
          "output_type": "stream",
          "text": [
            "\r 82%|█████████████████████████████████████████████████████████████████▌              | 127/155 [05:10<01:09,  2.48s/it]"
          ],
          "name": "stderr"
        },
        {
          "output_type": "stream",
          "text": [
            "127 번째 가게 스크래핑 완료..삭제된 리뷰:  0\n"
          ],
          "name": "stdout"
        },
        {
          "output_type": "stream",
          "text": [
            "\r 83%|██████████████████████████████████████████████████████████████████              | 128/155 [05:12<01:08,  2.53s/it]"
          ],
          "name": "stderr"
        },
        {
          "output_type": "stream",
          "text": [
            "128번째 가게에 삭제된 댓글이 있습니다.\n"
          ],
          "name": "stdout"
        },
        {
          "output_type": "stream",
          "text": [
            "\r 83%|██████████████████████████████████████████████████████████████████▌             | 129/155 [05:15<01:06,  2.57s/it]"
          ],
          "name": "stderr"
        },
        {
          "output_type": "stream",
          "text": [
            "129번째 가게에 삭제된 댓글이 있습니다.\n"
          ],
          "name": "stdout"
        },
        {
          "output_type": "stream",
          "text": [
            "\r 84%|███████████████████████████████████████████████████████████████████             | 130/155 [05:18<01:04,  2.59s/it]"
          ],
          "name": "stderr"
        },
        {
          "output_type": "stream",
          "text": [
            "130번째 가게에 삭제된 댓글이 있습니다.\n"
          ],
          "name": "stdout"
        },
        {
          "output_type": "stream",
          "text": [
            "\r 85%|███████████████████████████████████████████████████████████████████▌            | 131/155 [05:20<01:02,  2.60s/it]"
          ],
          "name": "stderr"
        },
        {
          "output_type": "stream",
          "text": [
            "131번째 가게에 삭제된 댓글이 있습니다.\n"
          ],
          "name": "stdout"
        },
        {
          "output_type": "stream",
          "text": [
            "\r 85%|████████████████████████████████████████████████████████████████████▏           | 132/155 [05:23<01:00,  2.62s/it]"
          ],
          "name": "stderr"
        },
        {
          "output_type": "stream",
          "text": [
            "132번째 가게에 삭제된 댓글이 있습니다.\n"
          ],
          "name": "stdout"
        },
        {
          "output_type": "stream",
          "text": [
            "\r 86%|████████████████████████████████████████████████████████████████████▋           | 133/155 [05:26<00:57,  2.64s/it]"
          ],
          "name": "stderr"
        },
        {
          "output_type": "stream",
          "text": [
            "133번째 가게에 삭제된 댓글이 있습니다.\n"
          ],
          "name": "stdout"
        },
        {
          "output_type": "stream",
          "text": [
            "\r 86%|█████████████████████████████████████████████████████████████████████▏          | 134/155 [05:28<00:55,  2.66s/it]"
          ],
          "name": "stderr"
        },
        {
          "output_type": "stream",
          "text": [
            "134번째 가게에 삭제된 댓글이 있습니다.\n"
          ],
          "name": "stdout"
        },
        {
          "output_type": "stream",
          "text": [
            "\r 87%|█████████████████████████████████████████████████████████████████████▋          | 135/155 [05:31<00:50,  2.51s/it]"
          ],
          "name": "stderr"
        },
        {
          "output_type": "stream",
          "text": [
            "135 번째 가게 스크래핑 완료..삭제된 리뷰:  0\n"
          ],
          "name": "stdout"
        },
        {
          "output_type": "stream",
          "text": [
            "\r 88%|██████████████████████████████████████████████████████████████████████▏         | 136/155 [05:33<00:46,  2.42s/it]"
          ],
          "name": "stderr"
        },
        {
          "output_type": "stream",
          "text": [
            "136 번째 가게 스크래핑 완료..삭제된 리뷰:  0\n"
          ],
          "name": "stdout"
        },
        {
          "output_type": "stream",
          "text": [
            "\r 88%|██████████████████████████████████████████████████████████████████████▋         | 137/155 [05:35<00:44,  2.50s/it]"
          ],
          "name": "stderr"
        },
        {
          "output_type": "stream",
          "text": [
            "137번째 가게에 삭제된 댓글이 있습니다.\n"
          ],
          "name": "stdout"
        },
        {
          "output_type": "stream",
          "text": [
            "\r 89%|███████████████████████████████████████████████████████████████████████▏        | 138/155 [05:38<00:43,  2.55s/it]"
          ],
          "name": "stderr"
        },
        {
          "output_type": "stream",
          "text": [
            "138번째 가게에 삭제된 댓글이 있습니다.\n"
          ],
          "name": "stdout"
        },
        {
          "output_type": "stream",
          "text": [
            "\r 90%|███████████████████████████████████████████████████████████████████████▋        | 139/155 [05:41<00:41,  2.58s/it]"
          ],
          "name": "stderr"
        },
        {
          "output_type": "stream",
          "text": [
            "139번째 가게에 삭제된 댓글이 있습니다.\n"
          ],
          "name": "stdout"
        },
        {
          "output_type": "stream",
          "text": [
            "\r 90%|████████████████████████████████████████████████████████████████████████▎       | 140/155 [05:43<00:37,  2.53s/it]"
          ],
          "name": "stderr"
        },
        {
          "output_type": "stream",
          "text": [
            "140 번째 가게 스크래핑 완료..삭제된 리뷰:  0\n"
          ],
          "name": "stdout"
        },
        {
          "output_type": "stream",
          "text": [
            "\r 91%|████████████████████████████████████████████████████████████████████████▊       | 141/155 [05:46<00:36,  2.62s/it]"
          ],
          "name": "stderr"
        },
        {
          "output_type": "stream",
          "text": [
            "141번째 가게에 삭제된 댓글이 있습니다.\n"
          ],
          "name": "stdout"
        },
        {
          "output_type": "stream",
          "text": [
            "\r 92%|█████████████████████████████████████████████████████████████████████████▎      | 142/155 [05:48<00:32,  2.49s/it]"
          ],
          "name": "stderr"
        },
        {
          "output_type": "stream",
          "text": [
            "142 번째 가게 스크래핑 완료..삭제된 리뷰:  0\n"
          ],
          "name": "stdout"
        },
        {
          "output_type": "stream",
          "text": [
            "\r 92%|█████████████████████████████████████████████████████████████████████████▊      | 143/155 [05:51<00:30,  2.56s/it]"
          ],
          "name": "stderr"
        },
        {
          "output_type": "stream",
          "text": [
            "143번째 가게에 삭제된 댓글이 있습니다.\n"
          ],
          "name": "stdout"
        },
        {
          "output_type": "stream",
          "text": [
            "\r 93%|██████████████████████████████████████████████████████████████████████████▎     | 144/155 [05:54<00:28,  2.59s/it]"
          ],
          "name": "stderr"
        },
        {
          "output_type": "stream",
          "text": [
            "144번째 가게에 삭제된 댓글이 있습니다.\n"
          ],
          "name": "stdout"
        },
        {
          "output_type": "stream",
          "text": [
            "\r 94%|██████████████████████████████████████████████████████████████████████████▊     | 145/155 [05:56<00:24,  2.47s/it]"
          ],
          "name": "stderr"
        },
        {
          "output_type": "stream",
          "text": [
            "145 번째 가게 스크래핑 완료..삭제된 리뷰:  0\n"
          ],
          "name": "stdout"
        },
        {
          "output_type": "stream",
          "text": [
            "\r 94%|███████████████████████████████████████████████████████████████████████████▎    | 146/155 [05:58<00:21,  2.39s/it]"
          ],
          "name": "stderr"
        },
        {
          "output_type": "stream",
          "text": [
            "146 번째 가게 스크래핑 완료..삭제된 리뷰:  0\n"
          ],
          "name": "stdout"
        },
        {
          "output_type": "stream",
          "text": [
            "\r 95%|███████████████████████████████████████████████████████████████████████████▊    | 147/155 [06:01<00:19,  2.48s/it]"
          ],
          "name": "stderr"
        },
        {
          "output_type": "stream",
          "text": [
            "147번째 가게에 삭제된 댓글이 있습니다.\n"
          ],
          "name": "stdout"
        },
        {
          "output_type": "stream",
          "text": [
            "\r 95%|████████████████████████████████████████████████████████████████████████████▍   | 148/155 [06:03<00:16,  2.41s/it]"
          ],
          "name": "stderr"
        },
        {
          "output_type": "stream",
          "text": [
            "148 번째 가게 스크래핑 완료..삭제된 리뷰:  0\n"
          ],
          "name": "stdout"
        },
        {
          "output_type": "stream",
          "text": [
            "\r 96%|████████████████████████████████████████████████████████████████████████████▉   | 149/155 [06:06<00:16,  2.68s/it]"
          ],
          "name": "stderr"
        },
        {
          "output_type": "stream",
          "text": [
            "149번째 가게에 삭제된 댓글이 있습니다.\n"
          ],
          "name": "stdout"
        },
        {
          "output_type": "stream",
          "text": [
            "\r 97%|█████████████████████████████████████████████████████████████████████████████▍  | 150/155 [06:09<00:14,  2.84s/it]"
          ],
          "name": "stderr"
        },
        {
          "output_type": "stream",
          "text": [
            "150번째 가게에 삭제된 댓글이 있습니다.\n"
          ],
          "name": "stdout"
        },
        {
          "output_type": "stream",
          "text": [
            "\r 97%|█████████████████████████████████████████████████████████████████████████████▉  | 151/155 [06:13<00:12,  3.02s/it]"
          ],
          "name": "stderr"
        },
        {
          "output_type": "stream",
          "text": [
            "151번째 가게에 삭제된 댓글이 있습니다.\n"
          ],
          "name": "stdout"
        },
        {
          "output_type": "stream",
          "text": [
            "\r 98%|██████████████████████████████████████████████████████████████████████████████▍ | 152/155 [06:16<00:09,  3.13s/it]"
          ],
          "name": "stderr"
        },
        {
          "output_type": "stream",
          "text": [
            "152번째 가게에 삭제된 댓글이 있습니다.\n",
            "153번째 가게에 삭제된 댓글이 있습니다.\n",
            "154번째 가게에 삭제된 댓글이 있습니다.\n"
          ],
          "name": "stdout"
        },
        {
          "output_type": "stream",
          "text": [
            "\r100%|████████████████████████████████████████████████████████████████████████████████| 155/155 [06:13<00:00,  2.41s/it]"
          ],
          "name": "stderr"
        },
        {
          "output_type": "stream",
          "text": [
            "155 번째 가게 스크래핑 완료..삭제된 리뷰:  0\n"
          ],
          "name": "stdout"
        },
        {
          "output_type": "stream",
          "text": [
            "\n"
          ],
          "name": "stderr"
        }
      ]
    },
    {
      "cell_type": "code",
      "metadata": {
        "id": "OpPLwSn4pgf6",
        "outputId": "b3012880-5553-4dc0-a836-76f5edb6dee9"
      },
      "source": [
        "result_list"
      ],
      "execution_count": null,
      "outputs": [
        {
          "output_type": "execute_result",
          "data": {
            "text/plain": [
              "[('미가양고기',\n",
              "  '12065307',\n",
              "  '5',\n",
              "  '정신없다.웨이팅길다. 불친절하다. 하지만 존맛탱이다! 위에 세가지를 감수하고 먹을수있는맛집! (※일하시는 분들이 모두 중국분이라 의사소통이좀힘듬)',\n",
              "  '2020.10.14.',\n",
              "  '경기 용인시 수지구 풍덕천로148번길 22 1층 (우)16835'),\n",
              " ('미가양고기',\n",
              "  '12065307',\n",
              "  '1',\n",
              "  '요리맛만 좋다고 맛집일까요?\\n음식맛 소문 좀 나고 사람 몰리니 서비스 개판되는게 당연한 것처럼 고객 홀대하는 음식점으로 변질되었네요...ㅜ.ㅜ\\n손님 붙잡아 두려고 대기시간도 엉터리로 알려주고, 일행중 일부가 먼저가서 주문하려는데도 전원이 올때까진 안된다고 빈자리도 내주지 않는군요...\\n이런 집을 뭐가 좋다고 자꾸 가는지...\\n초기엔 맛집이었을지 모르나 지금은 서비스 최악인 집입니다...',\n",
              "  '2020.10.11.',\n",
              "  '경기 용인시 수지구 풍덕천로148번길 22 1층 (우)16835'),\n",
              " ('미가양고기',\n",
              "  '12065307',\n",
              "  '1',\n",
              "  '최악입니다. 40분 기다리라 했는데 1시간 반 기다리게 해놓고, 주문해놓은 메뉴 나오느라 또 기다리게 만듬. 맛은 둘째치고 대기열 관리가 개판입니다. 2시간 기다리게 만들거었으면 받지를 말아야죠. 웨이팅은 대기예상시간을 대충이라도 맞게 이야기했을때 웨이팅이지 40분 이야기하고 2시간 기다리게 만들면 사기 아닙니까?',\n",
              "  '2020.10.03.',\n",
              "  '경기 용인시 수지구 풍덕천로148번길 22 1층 (우)16835'),\n",
              " ('미가양고기',\n",
              "  '12065307',\n",
              "  '1',\n",
              "  '웨이팅길고 정신없음',\n",
              "  '2020.09.17.',\n",
              "  '경기 용인시 수지구 풍덕천로148번길 22 1층 (우)16835'),\n",
              " ('미가양고기',\n",
              "  '12065307',\n",
              "  '5',\n",
              "  '인생훠궈...',\n",
              "  '2020.08.29.',\n",
              "  '경기 용인시 수지구 풍덕천로148번길 22 1층 (우)16835'),\n",
              " ('하이디라오 강남점',\n",
              "  '1372079546',\n",
              "  '5',\n",
              "  '최고예요',\n",
              "  '2020.11.07.',\n",
              "  '서울 서초구 서초대로77길 54 서초w타워 2층 (우)06611'),\n",
              " ('하이디라오 강남점',\n",
              "  '1372079546',\n",
              "  '4',\n",
              "  '별 7개도 주고 싶음 진짜 너무 맛있음 소스도 맛있지만 육수가 진짜 말도 못함! 특히 버섯이랑 삼계 무조건 먹어야 함! 일주일에 2,3번은 가는 듯. 지금도 가고 있음 ㅋㅋ 별 하나 뺀거는 양고기가 냄새 많이 남 중국 유학생인 친구도 냄새 많이 난다고 코막음 ㅋ 그거 빼고는 친절하고 깨끗하고 아주 많이 만족스러움! 사진은 훠궈지만 삼계가 존맛임! ',\n",
              "  '2020.10.10.',\n",
              "  '서울 서초구 서초대로77길 54 서초w타워 2층 (우)06611'),\n",
              " ('하이디라오 강남점',\n",
              "  '1372079546',\n",
              "  '4',\n",
              "  '벌써 이 지점만 3번째 방문이네요~ 낮시간에 방문하면 채광이 정말 좋아요ㅎㅎ 그리고 직원분들 갈 때 마다 하나같이 친절하시고 훠궈소스 완자소스 조합도 추천해주셔서 더 맛있게 먹을 수 있어 좋아용ㅎㅎㅎ ',\n",
              "  '2020.08.29.',\n",
              "  '서울 서초구 서초대로77길 54 서초w타워 2층 (우)06611'),\n",
              " ('하이디라오 강남점',\n",
              "  '1372079546',\n",
              "  '4',\n",
              "  '너무 과도한 친절 너~~~~무 계속 먹는 거 감시하고 하 우리 대화내용도 다 엿듣는 기분 계속 뒤에서 어슬렁 어슬렁 밥 먹다가 입 닦은 휴지 중간중간 계속 치워주는데 너~~~무 불편함 정말 과도한 미친 친절,,, 맛은 있으나 재방문 의사는 없음.',\n",
              "  '2020.08.26.',\n",
              "  '서울 서초구 서초대로77길 54 서초w타워 2층 (우)06611'),\n",
              " ('하이디라오 강남점',\n",
              "  '1372079546',\n",
              "  '4',\n",
              "  '전체적으로 맛도있고 좋았어요~',\n",
              "  '2020.08.21.',\n",
              "  '서울 서초구 서초대로77길 54 서초w타워 2층 (우)06611'),\n",
              " ('훠궈야 판교아브뉴프랑점',\n",
              "  '1022699560',\n",
              "  '4',\n",
              "  '존맛이었는데 왤케 평점이 낮지...소고기세트 시키고 고기추가함 아 고기양이 적긴함... 근데 토마토육수 존맛...! 홍탕도 젤 안매운거 했는데도 얼큰했음 친구들은 맵다고함..',\n",
              "  '2020.10.19.',\n",
              "  '경기 성남시 분당구 동판교로177번길 25 2층 223호 (우)13525'),\n",
              " ('훠궈야 판교아브뉴프랑점',\n",
              "  '1022699560',\n",
              "  '5',\n",
              "  '중국에서 먹던 중위권 훠궈집급 토마토탕 맛있고, 하이디라오보다 가기 쉬워서 자주 갈 듯합니다. 마장 맛잇네요 :) ',\n",
              "  '2020.08.18.',\n",
              "  '경기 성남시 분당구 동판교로177번길 25 2층 223호 (우)13525'),\n",
              " ('훠궈야 판교아브뉴프랑점',\n",
              "  '1022699560',\n",
              "  '1',\n",
              "  '훠궈야 좋아하던 맛집이었는데, 오랜만에 오니 세트 양이 엄청 줄어들었네요. 어느날부터 꿔바로우 굵기가 얇아졌는데; 오늘은 아예 양이 확 줄었네요. 볶음밥도 윤기 없어지고 맛이 없어졌어요. ',\n",
              "  '2020.08.14.',\n",
              "  '경기 성남시 분당구 동판교로177번길 25 2층 223호 (우)13525'),\n",
              " ('훠궈야 판교아브뉴프랑점',\n",
              "  '1022699560',\n",
              "  '5',\n",
              "  '가격은 일반 마라탕 2배쯤 하지만 판교라는 위치상 감안하고 그 가격만큼 깔끔하고 맛있어요! 위생적이고 깔끔한맛으로 인정합니다',\n",
              "  '2020.07.16.',\n",
              "  '경기 성남시 분당구 동판교로177번길 25 2층 223호 (우)13525'),\n",
              " ('훠궈야 판교아브뉴프랑점',\n",
              "  '1022699560',\n",
              "  '1',\n",
              "  '예전에는 괜찮았던거 같은데. 점점 위생 및 전반적인 사항이 별로입니다.',\n",
              "  '2020.05.29.',\n",
              "  '경기 성남시 분당구 동판교로177번길 25 2층 223호 (우)13525'),\n",
              " ('불이아 본점',\n",
              "  '20233508',\n",
              "  '4',\n",
              "  '좋아요',\n",
              "  '2020.10.24.',\n",
              "  '서울 마포구 동교로 182-6 (우)03995'),\n",
              " ('불이아 본점',\n",
              "  '20233508',\n",
              "  '5',\n",
              "  '맛있었어요 !  진짜 중국식 훠궈  짱좋아요',\n",
              "  '2019.01.04.',\n",
              "  '서울 마포구 동교로 182-6 (우)03995'),\n",
              " ('불이아 본점',\n",
              "  '20233508',\n",
              "  '2',\n",
              "  '음식은 맛있었다만, 남자 알바생이 일하기 싫은지 내내 표정 굳어있어서 기분 별로였음. \\n소스는 어디서 가져와서 먹는건지 이런것들 하나도 설명 안해주고 ㅋ 띡 음식만 갖다줌. 그래서 소스를 셀프로 떠다 먹어야 한다는 것도 몰랐고 벨 눌러서 소스달라고 했더니\\n왜 그런걸 나한테 달라고 하지? 라는 표정으로 \\n “셀프인데요.” 하는데 어이가 없더라. 맛은 있었지만 기분은 별로였음',\n",
              "  '2018.12.07.',\n",
              "  '서울 마포구 동교로 182-6 (우)03995'),\n",
              " ('불이아 본점',\n",
              "  '20233508',\n",
              "  '3',\n",
              "  '★★★☆☆ 3/5\\n\\n  훠궈의 경우 안나카레니나의 첫 문장과는 반대로, 맛있는 훠궈들은 제각각의 연유로 매력이있지만 맛이 없어지는 훠궈들은 대개 비슷한 행보로 몰락해간다.\\n\\n  그 첫번째 스텝은 백탕의 존재감이 밋밋해지는 것에서 출발한다. 물론 백탕이 밋밋하면 당연히 홍탕도 밀도가 떨어지나 향신료와 마유의 자극으로 티가 덜 난다.\\n  두번째 스텝은 홍탕에서도 확연히 떨어지는 밀도감이 드러나는 것이며 이쯤 온 훠궈집에서는 매운 음식을 못 먹는 사람에게도 백탕이 외면받게 마련이고, 너나 할 것 없이 숟가락은 쓸 일이 없게 된다.\\n  세번째 스텝까지 오면 누가 산다고 하더라도 갈 일이 없는 집이 되는데, 재료. 특히 육류의 선도와 질, 더불어 직원들의 친절도와 능숙함이 확연히 떨어진다.\\n\\n  불이아는 두번째 걸음을 내딛은 채 멈춰 서있는 훠궈집으로, 백탕은 굳이 재료를 넣고싶지 않은 정도의 밋밋함을 보이며 홍탕은 맵기가 떨어졌으나 취향의 문제라 억지로 차치한다면 옛 맛을 떠올리지않을 경우 이정도는 나쁘지않다고 평가할 만큼의 수준을 유지하고 있다. \\n  셀프마장 코너의 고수는 부드럽고 향긋한 잎보다 억세고 독한 줄기가 가득 차 있는 것이 현재 불이아의 단편을 보는 듯 하며 직원들은 친절하려고 노력하나 여유나 배려가 있지 못하고 손님이 가득 차지않은 평일 저녁에도 일에 치이는 기색으로 손님을 기분좋게 해 주지는 못한다.\\n\\n  하여 지금의 내게 홍대 불이아는 누가 가고싶다며 가고자한다면 따라는 가겠으나 내가 먼저 가자고 할 마음은 안드는 정도의 존재감으로 자리한다. 둘도 없는 우리에서 둘로 나뉜 우리가 된 弗二我는 낙엽이 다 떨어져가는 11월의 가로수같아 어쩐지 허전하고 씁씁하다.',\n",
              "  '2018.11.21.',\n",
              "  '서울 마포구 동교로 182-6 (우)03995'),\n",
              " ('불이아 본점',\n",
              "  '20233508',\n",
              "  '1',\n",
              "  '와이파이없는곳 처음본다',\n",
              "  '2018.08.26.',\n",
              "  '서울 마포구 동교로 182-6 (우)03995'),\n",
              " ('인량 훠궈',\n",
              "  '980076754',\n",
              "  '4',\n",
              "  '직원들은 매우 친절하고 식당이 매우 깨끗함. 완자가 진짜 맛있음. 인생 훠궈라고 하기엔 불이아가 너무 맛있었던 걸까. 그래도 하이디라오 보단 낫다!',\n",
              "  '2020.11.01.',\n",
              "  '서울 강남구 강남대로140길 9 비피유빌딩 지하2층 (우)06043'),\n",
              " ('인량 훠궈',\n",
              "  '980076754',\n",
              "  '2',\n",
              "  '조금 아쉬워요',\n",
              "  '2020.10.11.',\n",
              "  '서울 강남구 강남대로140길 9 비피유빌딩 지하2층 (우)06043'),\n",
              " ('인량 훠궈',\n",
              "  '980076754',\n",
              "  '1',\n",
              "  '최악입니다. 댓글보고 귀한분들 모시고 갔다.. 아.. 세상이 블로그 리뷰에 미친 듯.. 브로그 믿지마세요... ps.추천,믿고 저도 첨 갔지만 .. . 음식점서 열심하시는 분께 팁으로 수십만원 이상 주는게 후회 없을 듯, ',\n",
              "  '2020.08.12.',\n",
              "  '서울 강남구 강남대로140길 9 비피유빌딩 지하2층 (우)06043'),\n",
              " ('인량 훠궈',\n",
              "  '980076754',\n",
              "  '4',\n",
              "  '고급 훠궈집에서 손님을 모시고 싶은 당신에게 추천한다. 가격대가 많이 비싸 3인 기준 배불리 좋은 음식으로 먹으면 25만원 정도 지출된다. 한국인들이 좋아하는 하이디라오와는 다른 좀 더 중국향이 강한 전통 중식 훠궈를 원한다면 추천한다. ',\n",
              "  '2020.06.29.',\n",
              "  '서울 강남구 강남대로140길 9 비피유빌딩 지하2층 (우)06043'),\n",
              " ('인량 훠궈',\n",
              "  '980076754',\n",
              "  '4',\n",
              "  '고급스럽고 가물치 맛있어요 완자도 탱글탱글 탕 국물맛은 그럭저럭이에요. 쓰촨탕은 제 취향은 아님 아 버섯 종류가 많고 맛있네요',\n",
              "  '2020.06.10.',\n",
              "  '서울 강남구 강남대로140길 9 비피유빌딩 지하2층 (우)06043'),\n",
              " ('애정마라샹궈 본점',\n",
              "  '25451287',\n",
              "  '5',\n",
              "  '존맛임...',\n",
              "  '2020.11.05.',\n",
              "  '서울 성북구 동소문로20나길 11 2층 (우)02845'),\n",
              " ('애정마라샹궈 본점',\n",
              "  '25451287',\n",
              "  '3',\n",
              "  '마라탕은 그냥 그랬고 꿔바로우가 특히 맛있어요',\n",
              "  '2020.11.02.',\n",
              "  '서울 성북구 동소문로20나길 11 2층 (우)02845'),\n",
              " ('애정마라샹궈 본점',\n",
              "  '25451287',\n",
              "  '2',\n",
              "  '아 진심 완전 좋아하던 곳인데 실망..; 간만에 친구랑 갔는데 서버분들 안쓰러울 정도로 사람이 엄청나게 많음; 홀에서 나오는 모든 요구사항들을 감당하기 힘들어서 친절은 하시지만 서비스가 예전보다 현저히 떨어지네요.. 원래 항상 가면 달걀볶음밥이랑 마라샹궈랑 같이 먹는 거 좋아하는데 볶음밥 양이 진짜;;;;; 1인분? 정도 되는 양이 나와서 바로 말씀드리니 다시 해준다 하셨고 먹어보니 처음 나온 거에 그냥 밥만 추가해놨어요ㅡㅡ 진짜 싱겁고 그냥 차라리 공깃밥을 시키는 게 백배 나았을 듯..마라샹궈는 평소보다 많이 짰고 이제 다신 안 갈 듯 가실 분들 점심 저녁 피크 시간대 피해서 가시길,,',\n",
              "  '2020.10.24.',\n",
              "  '서울 성북구 동소문로20나길 11 2층 (우)02845'),\n",
              " ('애정마라샹궈 본점',\n",
              "  '25451287',\n",
              "  '5',\n",
              "  '가격은 비싼데 마라샹궈, 마라탕 둘 다 먹어본것 중에 최고 코로나 끝나면 또 가야지',\n",
              "  '2020.10.23.',\n",
              "  '서울 성북구 동소문로20나길 11 2층 (우)02845'),\n",
              " ('애정마라샹궈 본점',\n",
              "  '25451287',\n",
              "  '4',\n",
              "  '맛잇음 꿔바로우는 양 대비 비싸서 좀 비추.. 퇴근하다가 30분 웨이팅 해도 꼭 포장해오는집',\n",
              "  '2020.10.16.',\n",
              "  '서울 성북구 동소문로20나길 11 2층 (우)02845'),\n",
              " ('천유향마라향솥',\n",
              "  '1051836472',\n",
              "  '5',\n",
              "  '마라샹궈중에 단일 최고입니다',\n",
              "  '2020.06.13.',\n",
              "  '인천 부평구 경인로 952 (우)21425'),\n",
              " ('천유향마라향솥',\n",
              "  '1051836472',\n",
              "  '5',\n",
              "  '마라샹궈 넘버원',\n",
              "  '2020.06.11.',\n",
              "  '인천 부평구 경인로 952 (우)21425'),\n",
              " ('천유향마라향솥',\n",
              "  '1051836472',\n",
              "  '4',\n",
              "  '1년동안 다니고 있는 마라샹궈 맛집입니다 땅콩소스가 있었으면 좋겠어요! ',\n",
              "  '2020.05.30.',\n",
              "  '인천 부평구 경인로 952 (우)21425'),\n",
              " ('천유향마라향솥',\n",
              "  '1051836472',\n",
              "  '5',\n",
              "  '여긴 진짜 독보적이에요.  제가 여기서 마라샹궈를 시작했는데 다른 곳들도 여기만큼 맛있을 줄 알고 열 군데 넘게 다른 곳들 다녔는데 여기 음식집 맛에 단 1%도 못 쫓아와요.  여기가 탑 오브 탑입니다, 진짜에요.   지금 집 파주로 이사했는데 샹궈 먹을때는 일부러 여기 가서 먹습니다. ',\n",
              "  '2020.02.24.',\n",
              "  '인천 부평구 경인로 952 (우)21425'),\n",
              " ('천유향마라향솥',\n",
              "  '1051836472',\n",
              "  '5',\n",
              "  '너무....너무 맛있어요.... 여기서 샹궈 먹은 뒤로 다른데서 못먹어요..ㅠㅠ 맨날먹고싶은데... 혼자선 비싸서 아쉽네요.. ㅠㅠ',\n",
              "  '2019.11.28.',\n",
              "  '인천 부평구 경인로 952 (우)21425'),\n",
              " ('두만강샤브샤브 봉천점',\n",
              "  '13306781',\n",
              "  '5',\n",
              "  '너무 맛있어서 자주 갈 것 같아요. 화장실은 별로지만..',\n",
              "  '2020.10.11.',\n",
              "  '서울 관악구 봉천로 537 1층 (우)08789'),\n",
              " ('두만강샤브샤브 봉천점',\n",
              "  '13306781',\n",
              "  '5',\n",
              "  '최고예요',\n",
              "  '2020.09.25.',\n",
              "  '서울 관악구 봉천로 537 1층 (우)08789'),\n",
              " ('두만강샤브샤브 봉천점',\n",
              "  '13306781',\n",
              "  '1',\n",
              "  '맛있게 먹었지만 가게 내부 냄새와 불청결함.. 폰으로 전화 받으면서 한 손으로 서빙하시고.. 중국인인거 알지만 가게청결, 서빙하는 주인분도 다 청결하게 유지하면 좋겠어요. 맛을 떠나서 너무 더러워서 다신 안갈듯',\n",
              "  '2020.09.01.',\n",
              "  '서울 관악구 봉천로 537 1층 (우)08789'),\n",
              " ('두만강샤브샤브 봉천점',\n",
              "  '13306781',\n",
              "  '3',\n",
              "  '몇가지 주력 메뉴는 정말 맛있다 특히 가지덮밥 맛집 전체적으로 저렴하다.  그러나 튀김의 바삭함이 너무 복불복급 가서 먹는튀김이 눅눅하기 어려운데 그만큼 복불복',\n",
              "  '2020.07.17.',\n",
              "  '서울 관악구 봉천로 537 1층 (우)08789'),\n",
              " ('두만강샤브샤브 봉천점',\n",
              "  '13306781',\n",
              "  '4',\n",
              "  '진짜 오랜만에 갔는데 예전에 먹었던 식초맛 꿔바로우가 아니라 너어무 맛있어짐. 여기 왜 이렇게 매번 맛이 다른 걸까..\\n---------------------‐-----------\\n잘 하는 메뉴들이 있고 저렴하고 친절하고 한끼 뚝딱 한잔 짠 하기 좋아서 좋아했던 동네 음식점. 지삼선 퀄이 진짜 최고였는데 언젠가부터 오락가락해서 너무 아쉬움. 지삼선뿐만 아니라 쯔란양고기 퀄도 오락가락이고 바쁠 때면 특히 심함.. 마라샹궈와 훠궈는 가격으로나 맛으로나 이제 대체할 만한 곳이 너무 많음. 여기 마라탕은 마라 초보자라면 충분히 좋아할 만한 한국 전골 같은 느낌임.',\n",
              "  '2020.05.31.',\n",
              "  '서울 관악구 봉천로 537 1층 (우)08789'),\n",
              " ('라공방 강남1호 본점',\n",
              "  '146674691',\n",
              "  '1',\n",
              "  '가지마세요 위생 청결 최악 ㅡㅡ',\n",
              "  '2020.11.09.',\n",
              "  '서울 강남구 테헤란로4길 6 센트럴애비뉴 지하1층 B113호 (우)06232'),\n",
              " ('라공방 강남1호 본점',\n",
              "  '146674691',\n",
              "  '2',\n",
              "  '오픈초에는 진짜 깔끔했는데 갈수록...',\n",
              "  '2020.11.03.',\n",
              "  '서울 강남구 테헤란로4길 6 센트럴애비뉴 지하1층 B113호 (우)06232'),\n",
              " ('라공방 강남1호 본점',\n",
              "  '146674691',\n",
              "  '1',\n",
              "  '기대하고 갔는뎁..싱겁고 음 재료에 간이 하나도 베어있지 않았다..ㅠㅠ  글구 직원도 좀 불친절..ㅎㅎ',\n",
              "  '2020.11.01.',\n",
              "  '서울 강남구 테헤란로4길 6 센트럴애비뉴 지하1층 B113호 (우)06232'),\n",
              " ('라공방 강남1호 본점',\n",
              "  '146674691',\n",
              "  '3',\n",
              "  '보통이에요',\n",
              "  '2020.10.17.',\n",
              "  '서울 강남구 테헤란로4길 6 센트럴애비뉴 지하1층 B113호 (우)06232'),\n",
              " ('라공방 강남1호 본점',\n",
              "  '146674691',\n",
              "  '4',\n",
              "  '마라샹궈 맛집',\n",
              "  '2020.09.21.',\n",
              "  '서울 강남구 테헤란로4길 6 센트럴애비뉴 지하1층 B113호 (우)06232'),\n",
              " ('매운향솥 본점',\n",
              "  '19983662',\n",
              "  '4',\n",
              "  '마라샹궈는 이집.',\n",
              "  '2020.10.19.',\n",
              "  '서울 광진구 동일로18길 61 (우)05072'),\n",
              " ('매운향솥 본점',\n",
              "  '19983662',\n",
              "  '5',\n",
              "  '역시 마라샹궈는 매운향솥 ...!  불친절하다고 느낀적없음',\n",
              "  '2020.10.18.',\n",
              "  '서울 광진구 동일로18길 61 (우)05072'),\n",
              " ('매운향솥 본점',\n",
              "  '19983662',\n",
              "  '1',\n",
              "  '심각하게 불친절',\n",
              "  '2020.09.28.',\n",
              "  '서울 광진구 동일로18길 61 (우)05072'),\n",
              " ('매운향솥 본점',\n",
              "  '19983662',\n",
              "  '3',\n",
              "  '어우 짜',\n",
              "  '2020.08.17.',\n",
              "  '서울 광진구 동일로18길 61 (우)05072'),\n",
              " ('매운향솥 본점',\n",
              "  '19983662',\n",
              "  '4',\n",
              "  '맛있다. 근데 항상 2단계 매운맛으로 하는데 맵기가 갈 때마다 다른 느낌?',\n",
              "  '2020.08.13.',\n",
              "  '서울 광진구 동일로18길 61 (우)05072'),\n",
              " ('칠기마라탕',\n",
              "  '1376289584',\n",
              "  '5',\n",
              "  '마라샹궈 꿀맛 꿔바로우 개꿀맛',\n",
              "  '2020.11.10.',\n",
              "  '서울 동대문구 제기로5길 35 (우)02473'),\n",
              " ('칠기마라탕',\n",
              "  '1376289584',\n",
              "  '5',\n",
              "  '돔페리뇸뇸굿~',\n",
              "  '2020.10.28.',\n",
              "  '서울 동대문구 제기로5길 35 (우)02473'),\n",
              " ('칠기마라탕',\n",
              "  '1376289584',\n",
              "  '5',\n",
              "  '너무 맛있어요 꿔바로우도 존맛',\n",
              "  '2020.10.28.',\n",
              "  '서울 동대문구 제기로5길 35 (우)02473'),\n",
              " ('칠기마라탕',\n",
              "  '1376289584',\n",
              "  '2',\n",
              "  '꿔바로우 개맛있고 마라탕은 그저 그럼 직원들 인성이 좀..ㅎ 종특나옴',\n",
              "  '2020.10.24.',\n",
              "  '서울 동대문구 제기로5길 35 (우)02473'),\n",
              " ('칠기마라탕',\n",
              "  '1376289584',\n",
              "  '5',\n",
              "  '와.. 진짜 마싯어요 ㅠㅠㅠㅠㅠ 꿔바로우 세상에서 젤 맛있음 내가 먹어 본 꿔바로우 중에 체고 ,, 마라샹궈도 평소에 먹던 마라샹궈랑 달리 약간 간장맛이 나서 처음에는 생소했는데 먹다보니 존맛 ,, ',\n",
              "  '2020.10.14.',\n",
              "  '서울 동대문구 제기로5길 35 (우)02473'),\n",
              " ('손오공마라탕',\n",
              "  '898487564',\n",
              "  '3',\n",
              "  '마라탕 100g 1800원... 왤케 비싸',\n",
              "  '2020.11.04.',\n",
              "  '서울 마포구 양화로18길 15 (우)04051'),\n",
              " ('손오공마라탕',\n",
              "  '898487564',\n",
              "  '4',\n",
              "  '마라샹궈가 기가 막혀요',\n",
              "  '2020.11.04.',\n",
              "  '서울 마포구 양화로18길 15 (우)04051'),\n",
              " ('손오공마라탕',\n",
              "  '898487564',\n",
              "  '2',\n",
              "  '중국 살다온 사람은 안다. 뭔가 맛이 미묘함 재료도 조금 많았으면 좋겠다',\n",
              "  '2020.11.01.',\n",
              "  '서울 마포구 양화로18길 15 (우)04051'),\n",
              " ('손오공마라탕',\n",
              "  '898487564',\n",
              "  '5',\n",
              "  '밍밍하다고 했던 그대는... 정녕 이곳의 본질을 깨달은 자인가...? 손오공 마라탕 홍대점의 마라탕을 먹은 후... 나는 다른 곳의 마라탕을 먹지 못하는 몸이 되었다... 두부는 쫄깃하고 육수의 진하기는 다른 곳이 따라갈 수 없을 정도이다... 마라탕의 이데아가 있다면 바로 이곳이다. 이데아를 깨달은 나는 그 그림자를 먹어도 채워지지 않는다... 다들 부디 이곳의 마라탕을 먹어보길 바란다......',\n",
              "  '2020.10.29.',\n",
              "  '서울 마포구 양화로18길 15 (우)04051'),\n",
              " ('손오공마라탕',\n",
              "  '898487564',\n",
              "  '5',\n",
              "  '꿔바로우 먹으러 가는 곳.. 예전에는 마라탕도 맛있었는데 최근에 맛이 좀 변한 거 같다고 느꼈어요',\n",
              "  '2020.10.26.',\n",
              "  '서울 마포구 양화로18길 15 (우)04051'),\n",
              " ('헤이 요우지아씨아오마오차이 한국1호점',\n",
              "  '1702257304',\n",
              "  '1',\n",
              "  '젊은 양반이 사장인가 말이 많음 잔소리가...맛도 특별히 좋은 줄 모르겠고 근처에 있는 로**마라탕이 더 괜찮은 듯',\n",
              "  '2020.11.08.',\n",
              "  '대전 유성구 궁동로 49 자연아파트 상가 104호 (우)34138'),\n",
              " ('헤이 요우지아씨아오마오차이 한국1호점',\n",
              "  '1702257304',\n",
              "  '1',\n",
              "  '맛은 그냥 그랬는데 먹다가 머리카락 나와서 그 뒤론 한번도 안가봤네요...뭐 음식점이 엄청 깨끗하진 않겠지만 제 마라탕에서 긴 머리카락이 나오니 기분이 썩 좋지는 않더라구요..^^',\n",
              "  '2020.08.24.',\n",
              "  '대전 유성구 궁동로 49 자연아파트 상가 104호 (우)34138'),\n",
              " ('헤이 요우지아씨아오마오차이 한국1호점',\n",
              "  '1702257304',\n",
              "  '5',\n",
              "  '친구랑 갔었는데 특이하고 굿',\n",
              "  '2020.06.29.',\n",
              "  '대전 유성구 궁동로 49 자연아파트 상가 104호 (우)34138'),\n",
              " ('헤이 요우지아씨아오마오차이 한국1호점',\n",
              "  '1702257304',\n",
              "  '3',\n",
              "  '가격보고 집게 달아서 만원에 맞추심 ㅎㅎㅎ 맛은 잇음. 맵기적당. 웨이팅하면 밖에서 너무 오래기다려야 함',\n",
              "  '2020.04.09.',\n",
              "  '대전 유성구 궁동로 49 자연아파트 상가 104호 (우)34138'),\n",
              " ('헤이 요우지아씨아오마오차이 한국1호점',\n",
              "  '1702257304',\n",
              "  '5',\n",
              "  '존맛탱',\n",
              "  '2020.01.18.',\n",
              "  '대전 유성구 궁동로 49 자연아파트 상가 104호 (우)34138'),\n",
              " ('천진영감',\n",
              "  '1367196580',\n",
              "  '4',\n",
              "  '제일 낮은 단계로 시켰는데 내가 마라에 알러지가 있었나? 할 정도로 얼얼하게 마비된 것 같음. 크림 소스가 없었으면 아예 못 먹었을 듯. 그만큼 크림 소스랑 합이 좋아서 후기 쓰는 지금도 기억 조작하고 다시 가고 싶음.',\n",
              "  '2020.10.04.',\n",
              "  '서울 강남구 봉은사로6길 26 1층 (우)06123'),\n",
              " ('천진영감',\n",
              "  '1367196580',\n",
              "  '5',\n",
              "  '제가 정말 애정하는 최고의 마라탕집입니다!! 연두부랑 생크림이 들어있고 땅콩소스가 진하게 나는 곳이에요!! 마라전골 홍스프+중국유학생으로 주문하는데 국물이 굉장히 진하고 간이 셉니다! 공기밥도 함께 주문하세요 ⁎⁍̴̆Ɛ⁍̴̆⁎',\n",
              "  '2020.10.03.',\n",
              "  '서울 강남구 봉은사로6길 26 1층 (우)06123'),\n",
              " ('천진영감',\n",
              "  '1367196580',\n",
              "  '4',\n",
              "  '올초부터 대여섯번은 간거같은데 맛이 0.5단계 정도 순해져서 아쉬워요 ㅠ ',\n",
              "  '2020.09.14.',\n",
              "  '서울 강남구 봉은사로6길 26 1층 (우)06123'),\n",
              " ('천진영감',\n",
              "  '1367196580',\n",
              "  '5',\n",
              "  '전맛',\n",
              "  '2020.08.18.',\n",
              "  '서울 강남구 봉은사로6길 26 1층 (우)06123'),\n",
              " ('천진영감',\n",
              "  '1367196580',\n",
              "  '5',\n",
              "  '예약은 안됨. 웨이팅이 있지만, 맛있어요.',\n",
              "  '2020.08.13.',\n",
              "  '서울 강남구 봉은사로6길 26 1층 (우)06123'),\n",
              " ('표표마라탕',\n",
              "  '1918725745',\n",
              "  '5',\n",
              "  '자주 시켜 먹어요. 맛있고 가격도 저렴해요ㅠㅠ 주인 아주머니 친절하세요',\n",
              "  '2020.10.22.',\n",
              "  '서울 관악구 남부순환로210길 8 1층 (우)08785'),\n",
              " ('표표마라탕',\n",
              "  '1918725745',\n",
              "  '4',\n",
              "  '좋아요',\n",
              "  '2020.10.16.',\n",
              "  '서울 관악구 남부순환로210길 8 1층 (우)08785'),\n",
              " ('표표마라탕',\n",
              "  '1918725745',\n",
              "  '4',\n",
              "  '우동마라샹궈 맛있음',\n",
              "  '2020.10.08.',\n",
              "  '서울 관악구 남부순환로210길 8 1층 (우)08785'),\n",
              " ('표표마라탕',\n",
              "  '1918725745',\n",
              "  '5',\n",
              "  '너무 맛있어서 일주일에 네번 갔어요 이 가격에 이 맛이라니 최고',\n",
              "  '2020.08.05.',\n",
              "  '서울 관악구 남부순환로210길 8 1층 (우)08785'),\n",
              " ('표표마라탕',\n",
              "  '1918725745',\n",
              "  '5',\n",
              "  '내 인생 마라샹궈 ',\n",
              "  '2020.08.05.',\n",
              "  '서울 관악구 남부순환로210길 8 1층 (우)08785'),\n",
              " ('중경마라탕 강남역점',\n",
              "  '1665040674',\n",
              "  '4',\n",
              "  '특별하진 않지만 근처 마라탕 집보다 혀에 쫙 붙는 신맛? 매운 맛?이 좀 더 강렬했던 맛. 2단계 탕을 먹었는데 하나도 안 매운 맛. 육수가 깔끔.   다른 집들과 다른 속재료가 두 세가지 정도이고, 고기를 봉지에 담아놔서 좀 보고 고를 수 있다는 게 장점?  검색에서는 샹궈맛집이라니 담엔 샹궈도전!',\n",
              "  '2020.10.21.',\n",
              "  '서울 강남구 테헤란로1길 44 2층 (우)06129'),\n",
              " ('중경마라탕 강남역점',\n",
              "  '1665040674',\n",
              "  '5',\n",
              "  '마라탕 덕후의 찐 맛집\\n강남에 있는 마라탕집 거의 다 가봤는데 여기가 제일 맛있음. \\n3단계는 무조건 속 뒤집어진다. 빈속에 먹었다가 위경련일어날뻔\\n꿔바로우는 시큼하니 뜨끈하고 쫄깃하다. 너무 맛있음. \\n\\n밑에 리뷰 몇개봤는데.. \\n감자, 연근은 거의 아삭하게 나온다고 보면 되고 냄비를 만들때마다 씻지 않는것 같기 때문에 가끔가다 재료가 빠지기도 추가되기도 한다. 이게 영 싫다면 주문 전 카운터에 주의를 주던가 한가한 시간에 방문하는걸 추천\\n\\n분위기, 서비스 생각한다면 라공방이 조~금 나음, 맛도 비슷함 (꿔바로우는... 놉)\\n강남 마라탕집에서 친절한 서비스를 바라긴 힘들듯 함 ㅠㅠ',\n",
              "  '2020.10.20.',\n",
              "  '서울 강남구 테헤란로1길 44 2층 (우)06129'),\n",
              " ('중경마라탕 강남역점',\n",
              "  '1665040674',\n",
              "  '4',\n",
              "  '마라샹궈 5점 마라탕 3점 샹궈맛집 ㅇㅈ',\n",
              "  '2020.10.20.',\n",
              "  '서울 강남구 테헤란로1길 44 2층 (우)06129'),\n",
              " ('중경마라탕 강남역점',\n",
              "  '1665040674',\n",
              "  '4',\n",
              "  '여긴 마라샹궈 맛집임... 샹궈 개맛있는데 밥은 무료이나 밥의 질은 기대하면 안됨 탕은 좀 밍밍함..탕에서 날 실망시켜서 별하나 뺌 ㅠ  꿔바로우는 ㄱㅊ 소스 좀 시큼 바삭하고 먹을만했음',\n",
              "  '2020.10.17.',\n",
              "  '서울 강남구 테헤란로1길 44 2층 (우)06129'),\n",
              " ('중경마라탕 강남역점',\n",
              "  '1665040674',\n",
              "  '3',\n",
              "  '2단계 탕 맛있어요',\n",
              "  '2020.10.04.',\n",
              "  '서울 강남구 테헤란로1길 44 2층 (우)06129'),\n",
              " ('마라고메 방이점',\n",
              "  '866366913',\n",
              "  '3',\n",
              "  '맛은 있는데 위생상태가 좀.. 갈때마다 우리가 고르지 않은 다른 재료가 마라탕안에 있다... ',\n",
              "  '2020.11.08.',\n",
              "  '서울 송파구 올림픽로32길 13 (우)05543'),\n",
              " ('마라고메 방이점',\n",
              "  '866366913',\n",
              "  '1',\n",
              "  '지금까지 먹은 마라탕 중에 제일 별로예요 밍밍하고 기름맛만 나요.',\n",
              "  '2020.10.04.',\n",
              "  '서울 송파구 올림픽로32길 13 (우)05543'),\n",
              " ('마라고메 방이점',\n",
              "  '866366913',\n",
              "  '5',\n",
              "  '진짜 맛있음',\n",
              "  '2020.09.28.',\n",
              "  '서울 송파구 올림픽로32길 13 (우)05543'),\n",
              " ('마라고메 방이점',\n",
              "  '866366913',\n",
              "  '5',\n",
              "  '진짜맛있는데 단무지없어서 약간 까비... 꿔바로우도 맛있어욤',\n",
              "  '2020.08.18.',\n",
              "  '서울 송파구 올림픽로32길 13 (우)05543'),\n",
              " ('마라고메 방이점',\n",
              "  '866366913',\n",
              "  '1',\n",
              "  '저는 마라탕 집에서 햄을 꼬치로 해서 1000원씩 받는건 또 처음이네요 그리고 다른 마라탕집보다도 비싸고 뭐 담지도 않았는데 가격 확나오고 ',\n",
              "  '2020.07.19.',\n",
              "  '서울 송파구 올림픽로32길 13 (우)05543'),\n",
              " ('피슈마라홍탕 상암점',\n",
              "  '262273418',\n",
              "  '3',\n",
              "  '맛있는데 깔끔하고 넓어서 좋다 보통맛은 별로 안매우니까 매운거 먹고싶을 땐 쫄지말고 매운맛하자',\n",
              "  '2020.11.08.',\n",
              "  '서울 마포구 매봉산로 80 파크엠 1층 7,8호 (우)03927'),\n",
              " ('피슈마라홍탕 상암점',\n",
              "  '262273418',\n",
              "  '5',\n",
              "  '들어서자마자 깔끔함에 반했구요 직원분들도 너무너무 친절하셔서 두번 반했어요 그리고 음식 나오고 한술 뜨자마자, 어디선가 벌레가 날아들어서 음식에 빠졌는데요,,,, 저희도 어찌해야 할 지 몰라서 일단 말씀 드렸는데, 금방 다시해주시겠다고,,,,ㅠㅠ  마라탕 너무 맛있었는데 직원분들 덕분에 더 맛있었어요  숟가락••500개 드립니다•!',\n",
              "  '2020.10.19.',\n",
              "  '서울 마포구 매봉산로 80 파크엠 1층 7,8호 (우)03927'),\n",
              " ('피슈마라홍탕 상암점',\n",
              "  '262273418',\n",
              "  '4',\n",
              "  '좋아요',\n",
              "  '2020.09.24.',\n",
              "  '서울 마포구 매봉산로 80 파크엠 1층 7,8호 (우)03927'),\n",
              " ('피슈마라홍탕 상암점',\n",
              "  '262273418',\n",
              "  '4',\n",
              "  '어머니와 좋은 추억 만들어준 곳.재료 신선하고 맛도 있는데 어쩔때 너무 짜지는게 있음...가격도 쪼금 비싸지만..포텐터지면 맛있게 먹을 수 있는 곳',\n",
              "  '2020.09.19.',\n",
              "  '서울 마포구 매봉산로 80 파크엠 1층 7,8호 (우)03927'),\n",
              " ('피슈마라홍탕 상암점',\n",
              "  '262273418',\n",
              "  '5',\n",
              "  '맨날 생각납니다ㅠㅠㅠㅠㅠㅠㅠ 마라탕집은 피슈마라홍탕밖에 없네요 진짜ㅠㅜㅠㅠㅠㅠㅠ 또먹고싶네요,, 그리고 엄청 친절해서 더 좋네요〰️',\n",
              "  '2020.09.10.',\n",
              "  '서울 마포구 매봉산로 80 파크엠 1층 7,8호 (우)03927'),\n",
              " ('로충칭마라탕 궁동점',\n",
              "  '1654714',\n",
              "  '5',\n",
              "  ' 미성년자들이 민증 도용해서 술을 먹었다고 함. 11월 9일부터 20일간 영업정지라고 한다 ㅠㅠ',\n",
              "  '2020.11.09.',\n",
              "  '대전 유성구 대학로151번길 51 2층 (우)34137'),\n",
              " ('로충칭마라탕 궁동점',\n",
              "  '1654714',\n",
              "  '5',\n",
              "  '좀 오래 기다렸지만 맛도 가격도 최고!!',\n",
              "  '2020.10.26.',\n",
              "  '대전 유성구 대학로151번길 51 2층 (우)34137'),\n",
              " ('로충칭마라탕 궁동점',\n",
              "  '1654714',\n",
              "  '5',\n",
              "  '친절함 : 100/100 맛 : 100/100 위생 : 100/100  안 올 이유가?',\n",
              "  '2020.10.15.',\n",
              "  '대전 유성구 대학로151번길 51 2층 (우)34137'),\n",
              " ('로충칭마라탕 궁동점',\n",
              "  '1654714',\n",
              "  '5',\n",
              "  '김초록이 인정한 마라 맛집',\n",
              "  '2020.10.10.',\n",
              "  '대전 유성구 대학로151번길 51 2층 (우)34137'),\n",
              " ('로충칭마라탕 궁동점',\n",
              "  '1654714',\n",
              "  '5',\n",
              "  '사장님 너무 친절하세요~ 처음왔다고하니까 소스도 하나하나 알려주고 머리잡고 먹고잇으니까 머리끈도 챙겨주시고 재료도 깨끗하고 좋앗어요 맛도 마라향딱 좋을정도로나고  담에 또갈께요',\n",
              "  '2020.10.03.',\n",
              "  '대전 유성구 대학로151번길 51 2층 (우)34137'),\n",
              " ('로향양꼬치', '11657087', '4', '좋아요', '2020.10.04.', '서울 관악구 관악로16길 35 (우)08788'),\n",
              " ('로향양꼬치',\n",
              "  '11657087',\n",
              "  '1',\n",
              "  '진짜 너무 화가 나네요 \\n8월 27일 저녁 9시 10분경 방문했습니다. \\n평점 좋아서 일부로 찾아갔는데 물컵에서 귀뚜라미 나왔어요. 물 한입 마셨는데 안에 벌레 들어있어서 다 뱉었네요. \\n직원들 태도가 너무 실망스럽고 화납니다. 사과 한마디도 없이 제 앞에 물컵바로 들고가고나서\\n아무렇지도 않게 음식 내오시더라구요. \\n\\n벌레 치웠던 여자직원은 주방가서 자기들끼리 물컵벌레 돌려보더니 놀라서 소리지르고 ㅡㅡ \\n그게 사람입에 들어갔다고요.\\n제대로된 사과도 없이 음식 내오길래 기분나빠서 안먹고 그냥 나왔어요. 이 음식점 음식에서 벌레나와도 이런식으로 대응하는 집이네요. \\n맛 다 떠나서 음식에서 귀뚜라미 나와도 괜찮은 분들만 가시길 추천드립니다. ',\n",
              "  '2020.08.27.',\n",
              "  '서울 관악구 관악로16길 35 (우)08788'),\n",
              " ('로향양꼬치',\n",
              "  '11657087',\n",
              "  '4',\n",
              "  '7년 단골',\n",
              "  '2020.08.14.',\n",
              "  '서울 관악구 관악로16길 35 (우)08788'),\n",
              " ('로향양꼬치',\n",
              "  '11657087',\n",
              "  '3',\n",
              "  '*꼭 가야하는 이유: 무난한 양꼬치와 중식 안주  *굳이 안가도 되는 이유: 공간이 너무 울림... 양꼬치의 매력은 굽는 시간동안 대화할수있는 점이라 생각하는데 시끄러워서 대화가 안되고 산만함',\n",
              "  '2020.07.21.',\n",
              "  '서울 관악구 관악로16길 35 (우)08788'),\n",
              " ('로향양꼬치',\n",
              "  '11657087',\n",
              "  '4',\n",
              "  '존맛입니다 ',\n",
              "  '2020.07.11.',\n",
              "  '서울 관악구 관악로16길 35 (우)08788'),\n",
              " ('송화양꼬치',\n",
              "  '14822911',\n",
              "  '4',\n",
              "  '양꼬치 ㄱㅊ 가지튀김 ㄱㅊ',\n",
              "  '2020.10.28.',\n",
              "  '서울 광진구 동일로18길 70 (우)05078'),\n",
              " ('송화양꼬치',\n",
              "  '14822911',\n",
              "  '4',\n",
              "  '양꼬치 처음 먹어보는거라 두려웠는데 냄새 안나고 맛있었어요.  꿔바로우랑 온면도 시켜 먹었는데 굿굿 걸어오는 길이 너무 더러워서 걱정했는데 여기 매장은 깔끔해서 안심하고 먹었네요 별 하나 뺀건 사람이 너무너무 많아서..ㅎㅎ',\n",
              "  '2020.10.03.',\n",
              "  '서울 광진구 동일로18길 70 (우)05078'),\n",
              " ('송화양꼬치',\n",
              "  '14822911',\n",
              "  '5',\n",
              "  '양꼬치도 맛있고 냄새도 거의 안 나네요. 1인분 먹고 더 먹고 싶은데 진짜 배불러서 더 못 먹었네요. 물만두도 서비스로 더 주셔서요. ㅎㅎ 또 가야겠네요',\n",
              "  '2020.07.12.',\n",
              "  '서울 광진구 동일로18길 70 (우)05078'),\n",
              " ('송화양꼬치',\n",
              "  '14822911',\n",
              "  '5',\n",
              "  '양꼬치가 덜익히면 좀 질긴데 잘 익히면 맛있당 서비스로 주신 만두가 너무 ,, 어디에서도 먹어보지 못한 꿀맛 ! 건대 양꼬치는 앞으로도 여기올듯',\n",
              "  '2020.05.23.',\n",
              "  '서울 광진구 동일로18길 70 (우)05078'),\n",
              " ('송화양꼬치',\n",
              "  '14822911',\n",
              "  '4',\n",
              "  '오리지널 양꼬치 시켰는데 괜찮았어요. 서비스로 주신 음식도 좋았고요! 다만 서빙하는 분이 무뚝뚝한 건 둘째치고 귀에 이어폰은 빼 주시면 어떨까 싶네요.',\n",
              "  '2020.05.04.',\n",
              "  '서울 광진구 동일로18길 70 (우)05078'),\n",
              " ('매화반점 1호점',\n",
              "  '26575482',\n",
              "  '5',\n",
              "  '최고예요',\n",
              "  '2020.10.16.',\n",
              "  '서울 광진구 동일로18길 105 (우)05073'),\n",
              " ('매화반점 1호점',\n",
              "  '26575482',\n",
              "  '3',\n",
              "  '유명한 중국집이라고 해서, 서울숲 산책하고 가볍게 맥주하러 간 곳. \\n사람이 굉장히 많았다. 꼬치팔아서 건물을 세우고 분점까지 냈으니.. 대단한 곳임은 틀림없다. \\n\\n사실 중국에서는 꼬치를 정말 정말 많이 먹었지만, \\n한국에서는 중국 현지보다 양도 적고, 가격도 비싸서 \\n왠지 손해보는 느낌이라 양꼬치집을 굳이 찾아가진 않았다. \\n\\n유명하다길래 한번 가봤더니\\n고기 질도 나쁘지 않고 맛도 괜찮음 (한국에서 몇번 먹어본 곳은 양고기가 퍽퍽하고 질기거나 덩어리가 작아서 불만족스러웠음) \\n\\n음식이름 앞에 향라香辣라고 붙은 음식은 대부분 내가 좋아하는 맛이다.  최근 새우를 많이 먹어, 향라새우가 아닌 향라오징어를 한번 시켜보았다. 중국식으로 한다면 이건 맛이 없을 수 없는 맛! \\n(향라가지, 향라치킨, 향라오징어, 향라새우 등등...  다 맛있음) \\n\\n현지보다는 소프트한 맛이었지만, 나쁘지 않았다. \\n같이 간 동행자도 처음 먹어봤다고 하는데 잘 먹는 걸로 보아, 한국 사람 입맛에도 잘 맞는 맛인것같다. \\n\\n이게 이 매화반점이 성공한 이유겠지. \\n\\n다양한 메뉴로 초심자에게도 선택권이 많다\\n적당히 한국화되어 한국 사람 입맛에도 잘 맞다 \\n가격도 나쁘지 않다 \\n중국 사천식 매운맛을 좋아하신다면 향라+시리즈 추천 \\n\\n단점은 너무너무 시끄러워서 (그날만 그랬는지 몰라도) 술 먹는 내내 신경이 곤두섰었고, 상당히 유명한 가게이기 때문에 웨이팅해야 할 가능성이 높다. ',\n",
              "  '2020.08.23.',\n",
              "  '서울 광진구 동일로18길 105 (우)05073'),\n",
              " ('매화반점 1호점',\n",
              "  '26575482',\n",
              "  '3',\n",
              "  '무난무난 종종 어떤메뉴는 저렴',\n",
              "  '',\n",
              "  '서울 광진구 동일로18길 105 (우)05073'),\n",
              " ('매화반점 1호점',\n",
              "  '26575482',\n",
              "  '1',\n",
              "  '☆점수기준표☆ 별5개-일부러라도 간다 / 4개-맛있다! 자주 갈만하다 3개- 적당히 생각날때 한번씩간다 / 2개- 2번방문은 그닥? 1개- 이곳을 선택한 과거의 나를 패고싶다  여기 맛있다는 사람들 존경스러움 맛없는 양꼬치 탑3 ',\n",
              "  '2020.07.10.',\n",
              "  '서울 광진구 동일로18길 105 (우)05073'),\n",
              " ('매화반점 1호점',\n",
              "  '26575482',\n",
              "  '1',\n",
              "  '붉은양념돼지고기는 시키지마세여..',\n",
              "  '2020.06.28.',\n",
              "  '서울 광진구 동일로18길 105 (우)05073'),\n",
              " ('미엔아이 송파점',\n",
              "  '1440802569',\n",
              "  '3',\n",
              "  '2년만에 재방문.... 2년전보다 맛도 많~~이 묽어지고 무엇보다 고기에 양념이 옛날처럼 배어있지않음... 주인분이 바뀌신건지... 1.2번째사진이 2년전사진 3번째사진이 오늘사진. ㅡㅡㅡㅡㅡㅡㅡㅡㅡㅡㅡㅡㅡㅡㅡㅡㅡㅡㅡㅡㅡㅡㅡㅡㅡ..(2018.07.28)맛 나쁘지 않았어요! 또 갈 의향있음!  조금 체격있거나 위장이 크신분은 수육추가와 면곱빼기추천!',\n",
              "  '2020.10.20.',\n",
              "  '서울 송파구 오금로16길 5 1층 101호 (우)05619'),\n",
              " ('미엔아이 송파점',\n",
              "  '1440802569',\n",
              "  '4',\n",
              "  '대만에서 먹던 우육면과는 많이 달라서 아쉬웠습니다. 다른 분들 말씀대로 본토 우육면에 비하면 육수도 맑은 편이고요. 그래도 본토와 달라서 그렇지 음식 자체는 다 맛있는 편입니다. 실내도 깔끔하고 직원분들도 친절하세요. ',\n",
              "  '2020.10.20.',\n",
              "  '서울 송파구 오금로16길 5 1층 101호 (우)05619'),\n",
              " ('미엔아이 송파점',\n",
              "  '1440802569',\n",
              "  '5',\n",
              "  '서빙하시는 분 너무 친절. 바빠도 나갈때 90도로 인사하시는거보고..대단하다고 느꼈어요. 다 먹고 약간 모자랄때쯤 공기밥주시는 센스!!!',\n",
              "  '2020.10.16.',\n",
              "  '서울 송파구 오금로16길 5 1층 101호 (우)05619'),\n",
              " ('미엔아이 송파점',\n",
              "  '1440802569',\n",
              "  '5',\n",
              "  '직원분이 정말 친절했고 특히 꿔바로우가 정말 부드럽고 맛있었어요! 우육면도 맛있고 재방문 예정!',\n",
              "  '2020.10.11.',\n",
              "  '서울 송파구 오금로16길 5 1층 101호 (우)05619'),\n",
              " ('미엔아이 송파점',\n",
              "  '1440802569',\n",
              "  '3',\n",
              "  '몹시 친절하셔서 기분이 좋았어요! 다만 맛은 진하지 않고 가벼워서 많이 아쉽더라구요...ㅜ (저는 대만에서 우육면에 입문해서 그런지.. 아무래도 대만과 비교하게 되었네요ㅠㅠ) 그리고 꿔바로우는 개취지만 너무 별로였어요ㅠㅠ 동행인들 만장일치로 일반 우육면보다 마라가 더 맛있었습니다~~!',\n",
              "  '2020.10.04.',\n",
              "  '서울 송파구 오금로16길 5 1층 101호 (우)05619'),\n",
              " ('차이나당',\n",
              "  '27076509',\n",
              "  '5',\n",
              "  '최고예요',\n",
              "  '2020.11.03.',\n",
              "  '서울 관악구 낙성대로 16 2층 (우)08790'),\n",
              " ('차이나당',\n",
              "  '27076509',\n",
              "  '1',\n",
              "  '예전엔 맛있는 중식당이었는데, 맛없는 술집으로 전락했다. 맛이 대체로 짜다.',\n",
              "  '2020.07.02.',\n",
              "  '서울 관악구 낙성대로 16 2층 (우)08790'),\n",
              " ('차이나당',\n",
              "  '27076509',\n",
              "  '2',\n",
              "  '뭔가.... 많이 바뀌어버렸다....최애맛집이였는데 아쉬워라..왜죠 다시돌아와줘여',\n",
              "  '2020.06.14.',\n",
              "  '서울 관악구 낙성대로 16 2층 (우)08790'),\n",
              " ('차이나당',\n",
              "  '27076509',\n",
              "  '1',\n",
              "  '맛집은 아닌듯해요. 요리는 작은 사이즈도 팔아서 식사보다는 술먹기 좋을 듯합니다.',\n",
              "  '2020.06.04.',\n",
              "  '서울 관악구 낙성대로 16 2층 (우)08790'),\n",
              " ('차이나당',\n",
              "  '27076509',\n",
              "  '1',\n",
              "  '주인장이바뀐지모르겠지만 자주먹던 사천탕수육, 꿔바로우 3천원씩오르고 나머지 음식들도 가격대가 올랐으며  음식자체도 완전히바뀜   맛없어지고 양줄고 이제 갈의향없음 ',\n",
              "  '2020.04.26.',\n",
              "  '서울 관악구 낙성대로 16 2층 (우)08790'),\n",
              " ('김사부샤브샤브',\n",
              "  '1627688058',\n",
              "  '5',\n",
              "  '진짜 현지 중국인 사장님이 운영하시는 곳, 메뉴를 주문할 때 한국말 넘 잘하셔서 신기했어요! 마라샹궈 맛있고 또 꿔바로우는 진리입니다 ㅠㅠㅠ 또 방문할게요',\n",
              "  '2020.11.10.',\n",
              "  '서울 금천구 가산로 132 (우)08528'),\n",
              " ('김사부샤브샤브',\n",
              "  '1627688058',\n",
              "  '5',\n",
              "  '꿔바로우 최고',\n",
              "  '2020.11.02.',\n",
              "  '서울 금천구 가산로 132 (우)08528'),\n",
              " ('김사부샤브샤브',\n",
              "  '1627688058',\n",
              "  '4',\n",
              "  '향식료 좋아하시는 분들 추천이요~~',\n",
              "  '2020.10.28.',\n",
              "  '서울 금천구 가산로 132 (우)08528'),\n",
              " ('김사부샤브샤브',\n",
              "  '1627688058',\n",
              "  '2',\n",
              "  '마라맛이 강해서 얼얼한건 취향저격 멍멍 전체적으로 위생이 아주 심각함  끈적거리고 재료 세척도 제대로 되어있지않음',\n",
              "  '2020.10.12.',\n",
              "  '서울 금천구 가산로 132 (우)08528'),\n",
              " ('김사부샤브샤브',\n",
              "  '1627688058',\n",
              "  '4',\n",
              "  '꿔바오로우 맛있어요.  파양덥밥 추천!',\n",
              "  '2020.10.06.',\n",
              "  '서울 금천구 가산로 132 (우)08528'),\n",
              " ('촨커',\n",
              "  '86080199',\n",
              "  '1',\n",
              "  '맛집이라고 블로그보고 멀리갔는데 사장님도 불친절하고 웨이팅도엄청길고 양많다고했는데 양 엄청 적어서 깜짝놀랐네요(포장) 맛은 있지만 흔한 꿔바로우맛이에요.. ',\n",
              "  '2020.11.04.',\n",
              "  '서울 동대문구 이문로9길 105 (우)02451'),\n",
              " ('촨커',\n",
              "  '86080199',\n",
              "  '5',\n",
              "  '찹탕이 만두 마라면 다 jmt',\n",
              "  '2020.10.26.',\n",
              "  '서울 동대문구 이문로9길 105 (우)02451'),\n",
              " ('촨커',\n",
              "  '86080199',\n",
              "  '3',\n",
              "  '꿔바로우 맛있어요 나머지도 가성비조아유~~',\n",
              "  '2020.10.14.',\n",
              "  '서울 동대문구 이문로9길 105 (우)02451'),\n",
              " ('촨커', '86080199', '5', '최고예요', '2020.10.13.', '서울 동대문구 이문로9길 105 (우)02451'),\n",
              " ('촨커',\n",
              "  '86080199',\n",
              "  '5',\n",
              "  '푸딘코 타서 외대생은 조금 슬픕니다....그러나 여전히 너무 맛있고 좋아요..♡ 꿔바로우랑 마파두부덮밥은 꼭 드세요:)....♡',\n",
              "  '2020.10.08.',\n",
              "  '서울 동대문구 이문로9길 105 (우)02451'),\n",
              " ('락희안 명지대본점',\n",
              "  '21445025',\n",
              "  '4',\n",
              "  '배달로만 먹었는데 괜찮았음',\n",
              "  '2020.11.03.',\n",
              "  '서울 서대문구 가재울로4길 53 1, 2층 (우)03692'),\n",
              " ('락희안 명지대본점',\n",
              "  '21445025',\n",
              "  '5',\n",
              "  '모임으로 갔는데 너무 만족합니다. 특히 누룽지탕 치익~~소리는 너무 경쾌합니다! 짱짱!',\n",
              "  '2020.10.04.',\n",
              "  '서울 서대문구 가재울로4길 53 1, 2층 (우)03692'),\n",
              " ('락희안 명지대본점',\n",
              "  '21445025',\n",
              "  '4',\n",
              "  '굿',\n",
              "  '2020.08.12.',\n",
              "  '서울 서대문구 가재울로4길 53 1, 2층 (우)03692'),\n",
              " ('락희안 명지대본점',\n",
              "  '21445025',\n",
              "  '5',\n",
              "  '서울에서 가장 맛있는 중국집 중 한 곳',\n",
              "  '2020.07.31.',\n",
              "  '서울 서대문구 가재울로4길 53 1, 2층 (우)03692'),\n",
              " ('락희안 명지대본점',\n",
              "  '21445025',\n",
              "  '4',\n",
              "  '튀김요리 굳',\n",
              "  '2020.07.26.',\n",
              "  '서울 서대문구 가재울로4길 53 1, 2층 (우)03692'),\n",
              " ('루루',\n",
              "  '13333156',\n",
              "  '3',\n",
              "  'Chinese',\n",
              "  '2020.07.05.',\n",
              "  '경기 성남시 분당구 효자길 29 (우)13578'),\n",
              " ('루루',\n",
              "  '13333156',\n",
              "  '5',\n",
              "  '완전 맛나요. 호텔 품격의 중국요리! 덤으로 친절한 쥔장님! 완전 강추임다! ㅎㅎㅎ',\n",
              "  '2020.04.19.',\n",
              "  '경기 성남시 분당구 효자길 29 (우)13578'),\n",
              " ('루루',\n",
              "  '13333156',\n",
              "  '4',\n",
              "  '음식에서 느껴지는 약간의 허전함. 하지만 때때로 기부도 하는 착한 식당 ^^',\n",
              "  '2020.03.08.',\n",
              "  '경기 성남시 분당구 효자길 29 (우)13578'),\n",
              " ('루루',\n",
              "  '13333156',\n",
              "  '3',\n",
              "  '맛있는데 요리하시는 분 따라서 어느날은 존맛 어느날은 쏘쏘 ',\n",
              "  '2019.12.30.',\n",
              "  '경기 성남시 분당구 효자길 29 (우)13578'),\n",
              " ('루루',\n",
              "  '13333156',\n",
              "  '5',\n",
              "  '다마시써요...',\n",
              "  '2019.11.28.',\n",
              "  '경기 성남시 분당구 효자길 29 (우)13578'),\n",
              " ('진라이',\n",
              "  '45406905',\n",
              "  '5',\n",
              "  '팔보채: 가격대비 양은 적지만 매우 싱싱한 재료와 적당히 조화로운 소스가 일품.\\n어향동고: 이 집의 대표메뉴. 표고버섯 안에 다진 새우살을 넣고 찹쌀피를 감싸 튀긴 요리. 이 요리는 강력추천! 처음 먹어보는 맛인데 너무 맛있어서 밥을 비벼 먹고 싶을 정도.\\n등심탕수육: 육즙이 싸악 흘러나옴. 소스가 하얘서 신기함. 튀김옷은 바삭보단 고기를 얇게 감싸고 있는 정도. 중국식 돈까스 같은 느낌? 맛있으나 위의 두 메뉴보단 쏘쏘',\n",
              "  '2020.11.05.',\n",
              "  '경기 용인시 수지구 광교마을로 35 삼중프라자 2층 (우)16944'),\n",
              " ('진라이',\n",
              "  '45406905',\n",
              "  '4',\n",
              "  '짬뽕 불맛 좋아요. 탕수육 맛있는데, 좀 비싸네요. 살코기만 써서 담백한 것이 장점이 될 수도 있고, 단점이 될 수도 있고.',\n",
              "  '2020.11.04.',\n",
              "  '경기 용인시 수지구 광교마을로 35 삼중프라자 2층 (우)16944'),\n",
              " ('진라이',\n",
              "  '45406905',\n",
              "  '3',\n",
              "  '보통이에요',\n",
              "  '2020.09.13.',\n",
              "  '경기 용인시 수지구 광교마을로 35 삼중프라자 2층 (우)16944'),\n",
              " ('진라이',\n",
              "  '45406905',\n",
              "  '5',\n",
              "  '맛나고 깨끗하고 친절하고 접근성 좋고',\n",
              "  '2020.09.06.',\n",
              "  '경기 용인시 수지구 광교마을로 35 삼중프라자 2층 (우)16944'),\n",
              " ('진라이',\n",
              "  '45406905',\n",
              "  '5',\n",
              "  '내 입에는 목란 상해루보다 더 맛있는 최고의 중국집',\n",
              "  '2020.07.04.',\n",
              "  '경기 용인시 수지구 광교마을로 35 삼중프라자 2층 (우)16944'),\n",
              " ('가담',\n",
              "  '10954377',\n",
              "  '3',\n",
              "  '맛있는 동네 중국집. 멀리서 찾아가서 먹을거 까지는 아님... 단 편차가 좀 있음... 가끔식 음식 상태가 별로일때가 있음. ',\n",
              "  '2020.11.07.',\n",
              "  '서울 강남구 언주로167길 35 (우)06022'),\n",
              " ('가담',\n",
              "  '10954377',\n",
              "  '1',\n",
              "  '음식이 전반적으로 많이 짬.... 짜장은 춘장 맛이 너무 많이 나면서 꺼끌꺼끌함.... 짬뽕은 심하게 짜도짜도 너무 짜다.. 시그니처 메뉴인듯한 누룽지 탕수육은 그리 바삭하지도 않고 달면서 짜면서 느끼함......마지막으로 준 후식인듯한 달달한 찹살도너츠는 기름에 쪄들어있음... 입맛 버리니까 먹지 않길 권고dream...... 참고로 사장님 중국인이심',\n",
              "  '2020.10.17.',\n",
              "  '서울 강남구 언주로167길 35 (우)06022'),\n",
              " ('가담',\n",
              "  '10954377',\n",
              "  '4',\n",
              "  '고츄탕슉 무그러 왔는뎀 그냥 탕슉에 누룽지들어간거네여 기대를 넘 많이 했낭 까먹고 고추랑 안머거서 그런가? 근데 맛있어욤 짜장두~ 짬뽕두~ 탕슉두~ㅋ 근데 고츄 탕슉 머그러 멀리서 올 것까진 ㅎ~~ ',\n",
              "  '2020.09.01.',\n",
              "  '서울 강남구 언주로167길 35 (우)06022'),\n",
              " ('가담',\n",
              "  '10954377',\n",
              "  '3',\n",
              "  '고추탕수육\\n: 매콤. 누룽지를 넣은 아이디어가 좋고 궁합이 나쁘지 낞음. 탕수육은 고기가 얇고 탕수육 고기자체가 맛있진 않음. 매콤달콤한 소스에 누룽지와 같이먹는 특이함에 한번쯤은 먹어 볼만함. \\n\\n짜장면\\n: 평범. 강렬한 맛은 아님. \\n\\n삼선짬뽕\\n: 불맛. 해산물이 풍부하진 않음.\\n\\n가게 특이사항\\n: 고추탕수육인지 짬뽕인지 모르겠는데 계속 매운 음식을 조리하다보니 매운향이 홀까지 나와서 먹으면서 콜록콜록함.\\n차를 많이마시면 알아서 바꿔 주시는 등 서비스는 만족. 본인에겐 알맞았으나 조금 많이먹은 스타일들에겐 조금 모자랄 수도 있을 것 같기도..\\n엄청난 맛으로 계속 가고 싶은 곳은 아니지만 누군가 먹으러 간다고 하면 추천해 줄 수 있음.',\n",
              "  '2020.07.09.',\n",
              "  '서울 강남구 언주로167길 35 (우)06022'),\n",
              " ('가담',\n",
              "  '10954377',\n",
              "  '3',\n",
              "  '고추탕수육은 생각보다 평범하고 짜장면이 맛있음',\n",
              "  '2020.04.22.',\n",
              "  '서울 강남구 언주로167길 35 (우)06022'),\n",
              " ('대가방 본점',\n",
              "  '7815078',\n",
              "  '5',\n",
              "  '탕수육맛은 항상 최고임. ',\n",
              "  '2020.11.05.',\n",
              "  '서울 강남구 선릉로145길 13 럭스웨이빌딩 1층 (우)06056'),\n",
              " ('대가방 본점',\n",
              "  '7815078',\n",
              "  '5',\n",
              "  '탕수육',\n",
              "  '2020.11.03.',\n",
              "  '서울 강남구 선릉로145길 13 럭스웨이빌딩 1층 (우)06056'),\n",
              " ('대가방 본점',\n",
              "  '7815078',\n",
              "  '3',\n",
              "  '탕수육. 나는 아님.',\n",
              "  '2020.10.17.',\n",
              "  '서울 강남구 선릉로145길 13 럭스웨이빌딩 1층 (우)06056'),\n",
              " ('대가방 본점',\n",
              "  '7815078',\n",
              "  '1',\n",
              "  '짜장은 간도 약하고 면이 잘 안풀려서 잘라먹어야해요.\\n탕수육은 바삭한데 좀 많이 달아요.\\n게살볶음밥은 최악입니다. 짜장소스없이는 못먹어요. 밥에 간도 하나도 안되어있고 식어서 미지근했어요. 그와중에 짜장소스도 덜어둔지 좀 되어서 떠보니 전분에다가 기름이 식어서 뭉텅뭉텅 들리더라구요.\\n식욕은 좀 떨어졌습니다. \\n그냥 집에서 시켜먹는 것보다 못해서 많이 실망했어요.',\n",
              "  '2020.09.18.',\n",
              "  '서울 강남구 선릉로145길 13 럭스웨이빌딩 1층 (우)06056'),\n",
              " ('대가방 본점',\n",
              "  '7815078',\n",
              "  '5',\n",
              "  '#탕수육#짜장#맛있다',\n",
              "  '2020.09.08.',\n",
              "  '서울 강남구 선릉로145길 13 럭스웨이빌딩 1층 (우)06056'),\n",
              " ('개화식당',\n",
              "  '11039136',\n",
              "  '1',\n",
              "  '내 인생 최악의 집 평범한 짜장면맛이 그립다 ',\n",
              "  '2020.10.10.',\n",
              "  '경기 평택시 통복시장로6번길 2 (우)17894'),\n",
              " ('개화식당',\n",
              "  '11039136',\n",
              "  '3',\n",
              "  '딱 별3개 주고싶은집.  짜장 소스,짬뽕국물 별로였슴.    기대가 컸나 ',\n",
              "  '2020.05.25.',\n",
              "  '경기 평택시 통복시장로6번길 2 (우)17894'),\n",
              " ('개화식당',\n",
              "  '11039136',\n",
              "  '2',\n",
              "  '깐풍기는 찜닭과 유사한 느낌의 짜다. 볶음밥은 슴슴한 잡곡 느낌...',\n",
              "  '2020.03.08.',\n",
              "  '경기 평택시 통복시장로6번길 2 (우)17894'),\n",
              " ('개화식당',\n",
              "  '11039136',\n",
              "  '1',\n",
              "  '별로예요',\n",
              "  '2020.02.06.',\n",
              "  '경기 평택시 통복시장로6번길 2 (우)17894'),\n",
              " ('개화식당',\n",
              "  '11039136',\n",
              "  '1',\n",
              "  '그냥 동네 중국집 수준 최고라는 인간들은 맛없는곳만 다닌넘들인듯 ㅉㅉ',\n",
              "  '2019.10.03.',\n",
              "  '경기 평택시 통복시장로6번길 2 (우)17894'),\n",
              " ('맛이차이나',\n",
              "  '19032013',\n",
              "  '4',\n",
              "  '달지 않고 짜지 않은 자장면. 난 단 자장면이 좋아서 약간 취향 미스이긴 했지만 면의 식감이 참 좋다. 다른 메뉴 먹으러 다시 오고싶다.',\n",
              "  '2020.10.24.',\n",
              "  '서울 마포구 독막로 68 2층 (우)04074'),\n",
              " ('맛이차이나',\n",
              "  '19032013',\n",
              "  '4',\n",
              "  '걱정했던것보다 맛있었어요',\n",
              "  '2020.10.22.',\n",
              "  '서울 마포구 독막로 68 2층 (우)04074'),\n",
              " ('맛이차이나',\n",
              "  '19032013',\n",
              "  '5',\n",
              "  '와 진짜 맛있음. 평점이 3점대라 걱정했는데 블루리본 5개라 평타는 치겠지 했는데 맛있네요. 특히 탕수육이랑 짜장면 쵝오 안달고 안짜고!! 담엔 해산물누룽지탕 먹어볼려고요. 요리주문라셨다면 면의 양이 넘 많으니 하나시켜 나눠드셔야.',\n",
              "  '2020.10.11.',\n",
              "  '서울 마포구 독막로 68 2층 (우)04074'),\n",
              " ('맛이차이나',\n",
              "  '19032013',\n",
              "  '1',\n",
              "  '진짜 위생이 .. 먹는데 음식에서 털이 나왔어요 (머리카락 아님) 맛은 있었어요 ',\n",
              "  '2020.08.19.',\n",
              "  '서울 마포구 독막로 68 2층 (우)04074'),\n",
              " ('맛이차이나',\n",
              "  '19032013',\n",
              "  '5',\n",
              "  '최고예요',\n",
              "  '2020.08.11.',\n",
              "  '서울 마포구 독막로 68 2층 (우)04074'),\n",
              " ('영화장', '9316895', '5', '최고예요', '2020.11.07.', '서울 동대문구 휘경로 3-8 (우)02419'),\n",
              " ('영화장',\n",
              "  '9316895',\n",
              "  '5',\n",
              "  '간짜장과 짬뽕이 맛있어요!',\n",
              "  '2020.11.02.',\n",
              "  '서울 동대문구 휘경로 3-8 (우)02419'),\n",
              " ('영화장',\n",
              "  '9316895',\n",
              "  '1',\n",
              "  '요리 30년째, 짜장 태워서 쓴맛과 짠맛 구분 못하지 않는다. 쓴맛 난다고 하니 주인 양반 짜서 나는데 네가 소스 많이 먹어넣고 뭐라한다고 눈을 부라림. 10년 단골이었는데 이제 안간다. 장사잘해라.',\n",
              "  '2020.10.22.',\n",
              "  '서울 동대문구 휘경로 3-8 (우)02419'),\n",
              " ('영화장',\n",
              "  '9316895',\n",
              "  '1',\n",
              "  '블루리본이 많이붙어있길래 경발원이나 화국반점 수준의 탕수육을 먹어볼수있나해서 가봤는데 , 택도없더구만요 두세점먹다 포장해서 강아지줬슈',\n",
              "  '2020.10.04.',\n",
              "  '서울 동대문구 휘경로 3-8 (우)02419'),\n",
              " ('영화장',\n",
              "  '9316895',\n",
              "  '5',\n",
              "  '삼선간짜장 탕수육 맛있게 먹고갑니다 짜장이 보통 다른 중국집들보다 기름이 많아 살짝 느끼합니다',\n",
              "  '2020.10.02.',\n",
              "  '서울 동대문구 휘경로 3-8 (우)02419'),\n",
              " ('이품',\n",
              "  '9348308',\n",
              "  '5',\n",
              "  '이품 맛있어요~~ ',\n",
              "  '2020.11.08.',\n",
              "  '서울 서대문구 연희로11길 20 (우)03703'),\n",
              " ('이품',\n",
              "  '9348308',\n",
              "  '4',\n",
              "  '자장면 탕수육 다 맛잇다...',\n",
              "  '2020.10.26.',\n",
              "  '서울 서대문구 연희로11길 20 (우)03703'),\n",
              " ('이품', '9348308', '5', '최고예요', '2020.09.19.', '서울 서대문구 연희로11길 20 (우)03703'),\n",
              " ('이품',\n",
              "  '9348308',\n",
              "  '4',\n",
              "  '여기 인기 많은 볶음밥은 주중 낮에 갔을땐 불맛 좋고 밥의 그을림까지 적당한 볶음 실력 좋고 적당히 질척한 맛난 볶음밥이였고 언제 토요일 저녁에 갔을땐 너무 기름지고 계란 비린내가 조금 올라왔었음.  짜장면은 제일 저렴한 일반 짜장도 맛있고 간짜장도 맛이 좋은편.  양장피는 물기가 약간 좀 많은편이였지만  평균 이상이고 대체적으로 이품은 재료들을 신선한것을 쓴다는것은 확실했음.',\n",
              "  '2020.08.22.',\n",
              "  '서울 서대문구 연희로11길 20 (우)03703'),\n",
              " ('이품',\n",
              "  '9348308',\n",
              "  '5',\n",
              "  '배달된 깐풍기 짬뽕 맛있게 먹음',\n",
              "  '2020.08.14.',\n",
              "  '서울 서대문구 연희로11길 20 (우)03703'),\n",
              " ('홍명',\n",
              "  '10972091',\n",
              "  '1',\n",
              "  '맛있으면 뭐하나 배가 불러서 서비스 개판에 손님 봉으로 보는데 매우매우 불친절함. ',\n",
              "  '2020.11.08.',\n",
              "  '서울 강남구 논현로131길 10 (우)06046'),\n",
              " ('홍명', '10972091', '5', '맛집', '2020.11.03.', '서울 강남구 논현로131길 10 (우)06046'),\n",
              " ('홍명',\n",
              "  '10972091',\n",
              "  '4',\n",
              "  '근처에 갔다가 일부러 찾아갔어요. 잡채밥하고 병맥주 먹었구요. 무난한 느낌입니다. 간은 세지않은 편이고 양이 많진 않아요. 밥의 볶은 정도가 나쁘지는 않지만 훌륭하다고 하긴 어렵네요. ',\n",
              "  '2020.10.27.',\n",
              "  '서울 강남구 논현로131길 10 (우)06046'),\n",
              " ('홍명',\n",
              "  '10972091',\n",
              "  '2',\n",
              "  '조금 아쉬워요',\n",
              "  '2020.10.20.',\n",
              "  '서울 강남구 논현로131길 10 (우)06046'),\n",
              " ('홍명',\n",
              "  '10972091',\n",
              "  '5',\n",
              "  '오랜 시간 한 동네에서 내공을 쌓은 것 같은 식당. 작지만 깔끔하고 친절하며 무엇보다 음식들이 개성 있고 맛있다. 저녁에는 예약을 하는 것이 좋다.',\n",
              "  '2020.10.14.',\n",
              "  '서울 강남구 논현로131길 10 (우)06046'),\n",
              " ('백객도',\n",
              "  '20531040',\n",
              "  '5',\n",
              "  '현지의 지인 추천으로 같이 다녀왔습니다. 짜장면 정말 맛있네요. 탕수육도 겉바속초 와 최고네요. 시간 잘못맞추면 상당한 대기를 각오하셔야 하니 감안하고 방문하세요.',\n",
              "  '2020.11.05.',\n",
              "  '부산 동래구 금정마을로 70 (우)47718'),\n",
              " ('백객도',\n",
              "  '20531040',\n",
              "  '5',\n",
              "  '간짜장 맛집. 개인적으로 백객도와 옥생관이 최고라고 평가합니다.',\n",
              "  '2020.10.13.',\n",
              "  '부산 동래구 금정마을로 70 (우)47718'),\n",
              " ('백객도',\n",
              "  '20531040',\n",
              "  '5',\n",
              "  '주차빼곤 거의완벽 짜장면 탕수육 맛있음!! 2주마다 먹으러 가는듯 !',\n",
              "  '2020.09.05.',\n",
              "  '부산 동래구 금정마을로 70 (우)47718'),\n",
              " ('백객도',\n",
              "  '20531040',\n",
              "  '1',\n",
              "  '소문만 듣고 찾아오는 손님들이 붐비다보니 점차 과거의 맛을 잃어가네요. 아쉽지만 나의 맛집 리스트에서 아웃!',\n",
              "  '2020.08.16.',\n",
              "  '부산 동래구 금정마을로 70 (우)47718'),\n",
              " ('백객도',\n",
              "  '20531040',\n",
              "  '4',\n",
              "  '냉방이 안되서 여름 방문은 자제',\n",
              "  '2020.08.03.',\n",
              "  '부산 동래구 금정마을로 70 (우)47718'),\n",
              " ('소리원',\n",
              "  '20606563',\n",
              "  '1',\n",
              "  '1. 볶음밥 후추 바다였음 .. 원래 볶음밥 후추 이렇게 많이 들어가냐고 물어봤는데 .. 표정이 너무 무서워서 당황했어요 ... 제가 기분나쁘게 물어본것도 아닌데 진짜 서비스 최악  2. 볶음밥 먹다가 딱딱한 뼈 같은게 있었어요 .. 그냥 넘겼는데 한번 더 나와서 남자친구 이가 나갈뻔 .. 그래서 말씀 드렸는데 고기뼈라고 업체에 말하겠다고 하네요 ',\n",
              "  '2020.08.22.',\n",
              "  '제주특별자치도 제주시 연동12길 37 (우)63136'),\n",
              " ('소리원',\n",
              "  '20606563',\n",
              "  '3',\n",
              "  '진심 짜장면만 맛집 다른 메뉴는 전부 다 그냥 평범 근데 인기는 많아서 항상 줄 서서 먹어야함ㅜㅜ 그래도 회전율은 빠른 편! 짜장면 말고 다른 메뉴 드실거면,,  여기서,,? 굳이,,? 아 새우 볶음밥은 맛있어 보였어오',\n",
              "  '2020.08.15.',\n",
              "  '제주특별자치도 제주시 연동12길 37 (우)63136'),\n",
              " ('소리원',\n",
              "  '20606563',\n",
              "  '3',\n",
              "  '자장면만 맛집. 직원 마스크미착용.',\n",
              "  '2020.08.10.',\n",
              "  '제주특별자치도 제주시 연동12길 37 (우)63136'),\n",
              " ('소리원',\n",
              "  '20606563',\n",
              "  '5',\n",
              "  '간짜장맛집',\n",
              "  '2020.07.27.',\n",
              "  '제주특별자치도 제주시 연동12길 37 (우)63136'),\n",
              " ('소리원',\n",
              "  '20606563',\n",
              "  '5',\n",
              "  '간짜장이랑 탕수육이 정말 맛있어요. 맛있는 중국집인건 분명하지만 육지에서도 찾을 수 있는 맛이라 관광객보단 현지인 맛집이라 생각합니다. 재방문의사는 없습니다.',\n",
              "  '2020.07.20.',\n",
              "  '제주특별자치도 제주시 연동12길 37 (우)63136'),\n",
              " ('쌍용각', '10613067', '1', '쌍욕각임 ', '2020.07.26.', '강원 삼척시 오십천로 455 (우)25929'),\n",
              " ('쌍용각',\n",
              "  '10613067',\n",
              "  '1',\n",
              "  '간짜장 맛은 괜찮으나 너무 짜요 짬뽕은 평균 이하',\n",
              "  '2020.05.12.',\n",
              "  '강원 삼척시 오십천로 455 (우)25929'),\n",
              " ('쌍용각',\n",
              "  '10613067',\n",
              "  '1',\n",
              "  '처음 리뷰쓰는데 맛은 평타이상이나 종업원 싸가지 개없음 마인드를 탕수육이랑 같이 튀기는듯',\n",
              "  '2020.05.07.',\n",
              "  '강원 삼척시 오십천로 455 (우)25929'),\n",
              " ('쌍용각',\n",
              "  '10613067',\n",
              "  '1',\n",
              "  '진짜별로 친절꽝이고 사람 불편하게해요 탕수육은 돌씹는듯 맛도 없고 . 짜증났었어요',\n",
              "  '2020.05.01.',\n",
              "  '강원 삼척시 오십천로 455 (우)25929'),\n",
              " ('쌍용각',\n",
              "  '10613067',\n",
              "  '2',\n",
              "  '밥먹는데 눈치보임. 친절과는 거리가 멀고 맛은 평범',\n",
              "  '2019.12.31.',\n",
              "  '강원 삼척시 오십천로 455 (우)25929'),\n",
              " ('미소손짜장',\n",
              "  '10418066',\n",
              "  '5',\n",
              "  '너무 맛있게 먹었당~!! 특히 면빨이~~쵝오!!',\n",
              "  '2020.07.04.',\n",
              "  '강원 원주시 도말리길 47 (우)26444'),\n",
              " ('미소손짜장',\n",
              "  '10418066',\n",
              "  '1',\n",
              "  '여테 먹어본 짜장 짬뽕중 재일 맛읍다. ',\n",
              "  '2020.06.25.',\n",
              "  '강원 원주시 도말리길 47 (우)26444'),\n",
              " ('미소손짜장',\n",
              "  '10418066',\n",
              "  '2',\n",
              "  '탕수육만먹을만하던데ㅜ',\n",
              "  '2020.02.27.',\n",
              "  '강원 원주시 도말리길 47 (우)26444'),\n",
              " ('미소손짜장',\n",
              "  '10418066',\n",
              "  '5',\n",
              "  '항상 주문은 탕수육 소스따로 짬뽕 곱베기로 시킨 지 8년째 ㅋㅋㅋ그 중 한번은 짬뽕 국물 과하게 남꺼까지 다 마셨는데 장출혈ㅋㅅㅋㄱㅋㅋㅋ여튼 존맛탱구리지만 위장 약하신 분들은 항상 죠심하세요~~',\n",
              "  '2020.01.15.',\n",
              "  '강원 원주시 도말리길 47 (우)26444'),\n",
              " ('미소손짜장',\n",
              "  '10418066',\n",
              "  '1',\n",
              "  '김문은 먹어봤는데 진짜 보통.  이집도 맛있는녀석들에 방송 됐으니 곧 망하겠군',\n",
              "  '2019.05.19.',\n",
              "  '강원 원주시 도말리길 47 (우)26444'),\n",
              " ('송쉐프',\n",
              "  '1262079557',\n",
              "  '4',\n",
              "  '난자완스랑 짬뽕 먹음. 둘다 맛있음. 근데 난자완스가 좀 비싸긴 함..',\n",
              "  '2020.11.07.',\n",
              "  '서울 강남구 도산대로1길 40 (우)06027'),\n",
              " ('송쉐프',\n",
              "  '1262079557',\n",
              "  '1',\n",
              "  '서비스 개판!! 직원이고 카운터고 다 서비스 개판!!  주방장은 안에만 있고 솔직히 음식맛은 좋으나   이영자 홍보 등에업고 유명해 졌다고 일하는 아줌마나 매니저나 지들이 대단한 줄 아는가 봄  손님을 왕으로 모시라는게 아니고 기본적으로  대해야 하는데 그냥 막무가내 다녀보신 분들은 알겁니다.',\n",
              "  '2020.09.22.',\n",
              "  '서울 강남구 도산대로1길 40 (우)06027'),\n",
              " ('송쉐프',\n",
              "  '1262079557',\n",
              "  '1',\n",
              "  '최악의 서비스 일하기싫어하는직원들',\n",
              "  '2020.08.25.',\n",
              "  '서울 강남구 도산대로1길 40 (우)06027'),\n",
              " ('송쉐프',\n",
              "  '1262079557',\n",
              "  '4',\n",
              "  '게살볶음에 난자완스에 옛날 볶음밥.. 또 먹고 싶네요',\n",
              "  '2020.08.24.',\n",
              "  '서울 강남구 도산대로1길 40 (우)06027'),\n",
              " ('송쉐프', '1262079557', '5', '쩌러', '2020.08.02.', '서울 강남구 도산대로1길 40 (우)06027'),\n",
              " ('쥬에',\n",
              "  '1237949316',\n",
              "  '1',\n",
              "  '맛도 그닥이고 종업원들이 싸가지가 없음 특히 발렛 하는 애는 인간 말종임 기분 상해서 다시는 가고 싶지 않음',\n",
              "  '2020.11.06.',\n",
              "  '서울 용산구 독서당로 124-7 (우)04420'),\n",
              " ('쥬에',\n",
              "  '1237949316',\n",
              "  '4',\n",
              "  '난 맛있는뎀... 베이징덕을 꼭 드세영 새우창펀??!도 맛나다',\n",
              "  '2020.10.12.',\n",
              "  '서울 용산구 독서당로 124-7 (우)04420'),\n",
              " ('쥬에',\n",
              "  '1237949316',\n",
              "  '2',\n",
              "  '딤섬은 맛있고 내부 분위기도 좋었어요. 베이징덕을 그냥 쌈으로 내서 아쉬웠어요. 가격이 높아지면 기대감도 높아지는게 당연합니다. 1인당 10만원 넘는데 남녀공용 화장실은 너무 충격이네요. 차라리 층을 달리 하던가.  발렛비도 받으면서 차는 왜 직접 빼라고 하는건지. 아쉬운 부분이 많아요',\n",
              "  '2020.10.04.',\n",
              "  '서울 용산구 독서당로 124-7 (우)04420'),\n",
              " ('쥬에',\n",
              "  '1237949316',\n",
              "  '1',\n",
              "  \"the beijing duck seriously has nothing to do with real beijing duck. the worst I've ever had in my life. \\nthe duck is cold???????why???????\\nthe Cantonese dishes are fine. (not good, just not as bad) but the duck is just too bad.\\n+ the way they brew the tea is wrong :))) that's how you deal with herb tea. not chinese tea :)))\",\n",
              "  '2020.09.21.',\n",
              "  '서울 용산구 독서당로 124-7 (우)04420'),\n",
              " ('쥬에',\n",
              "  '1237949316',\n",
              "  '1',\n",
              "  '코스 시켰는데\\n뷔페보다 못한 북경오리 (황당한 고기분리)\\n프랜차이즈보다 못한 탄탄면 (탄탄면 면이 아닌 짬뽕면, 탄탄면 소스 아닌 마라탕 소스 느낌)\\n디저트 아이스크림은 너무 딱딱해서 그릇에서 튀어나옴\\n\\nCJ에서 운영하는게 이정도밖에 안되나요? \\n\\n서비스도 여러 직원이 같은 질문 여러번하고 \\n\\n파인다이닝에서 듣도 보도 못한 남녀공용 화장실이 압권\\n\\n\\n진심 미슐랭이나 파인 다이닝 수준은 절대 아님. 별도 없지만. ',\n",
              "  '2020.09.20.',\n",
              "  '서울 용산구 독서당로 124-7 (우)04420'),\n",
              " ('팔레드신',\n",
              "  '1024056719',\n",
              "  '4',\n",
              "  '북경오리 새우튀김',\n",
              "  '2020.09.11.',\n",
              "  '서울 중구 퇴계로 67 레스케이프호텔 6층 (우)04529'),\n",
              " ('팔레드신',\n",
              "  '1024056719',\n",
              "  '1',\n",
              "  '딤섬은 맛있었으나\\n다른 메인요리들이 가격은 비싼데 맛은 그냥 그랬어요\\n특히 서비스가 너무 안좋네요\\n직원들 계속 왔다갔다하는데 아무도 테이블체크를 안해서 주문할려고 계속 손들고 기다림 매번 뭐 시킬 때 마다 오랫동안 기다려야했어요 아무도 우릴 봐주지 않아서....\\n그리고 볶음밥에서 머리카락 나왔다고 불렀는데\\n“아.....” 후에 아무 말이 없으시네요 ..\\n다시는 안갈 것 같습니다!',\n",
              "  '2020.08.25.',\n",
              "  '서울 중구 퇴계로 67 레스케이프호텔 6층 (우)04529'),\n",
              " ('팔레드신',\n",
              "  '1024056719',\n",
              "  '5',\n",
              "  'Best upscale Chinese food in Seoul.\\n\\nMenu is fairly large, yet pretty much everything is fantastic with strong distinct flavors. Decoration is great; an over-the-top red theme.\\n\\nAuthenticity is quite good (for example proper xiaolongbows, which nobody else in Korea gets right), although this place is Hong Kong-ized not real China (for example the laziji lacks peppercorn numb-tongue punch).\\n\\nA bit pricey. Great for meetings and celebrations. ',\n",
              "  '2020.08.15.',\n",
              "  '서울 중구 퇴계로 67 레스케이프호텔 6층 (우)04529'),\n",
              " ('팔레드신',\n",
              "  '1024056719',\n",
              "  '2',\n",
              "  '여기 서비스, 요리 모두 몇 달 전에 방문했을때와 다르게  퀄리티가 낮아졌던데 의문이네요.. 호텔 요리라고는 믿기 힘들어서 놀랐어요. 직원들의 태도 역시 노답이고.. 전체적으로 실망했습니다.',\n",
              "  '2020.05.30.',\n",
              "  '서울 중구 퇴계로 67 레스케이프호텔 6층 (우)04529'),\n",
              " ('팔레드신',\n",
              "  '1024056719',\n",
              "  '1',\n",
              "  '정말 솔직히 평가 드립니다 신세계 프랜차이즈를 좋아하고 늘 새로움을 추구하는 저이기에 솔직히 말씀 드립니다 밑에 좋은 점수로 평가 내리신 분들은 안타깝게도 인플루언서들의 알바가 아닌가 싶습니다.\\n\\n시켜본 메뉴\\n\\n딤섬 총 12 pcs : 딘타이펑 보다 가격과 양대비 약 4배의 가격 크리스탈 제이드 대비 약 3배의 가격. 가격이 비쌌지만 그만큼의 차별은 있을줄 알고 한눈에 직접 빚지 않은 만두임을 먹기도 전에 눈치 챘으며 입에 들어간 순간 적절치 않은 온도로 인한 미지근한 맛 놀라웠다 이가격에 이런음식을 판다는게.\\n\\n소고기 볶음면 : 태국 음식점을 가면 12,000에 더 맛있게 즐길수 있는 음식을 두배 가까운 돈을 주고 입맛을 버려야 했다\\n버섯 성게 볶음밥 : 눅눅한 밥 재료를 정말 아낌없이 아끼며 이게 과연 3.5만원의 음식인지 집에서 통조림 재료를 얹어 먹은 음식인지 의아 했다.\\n\\n정말 전 중식을 사랑하고 신세계가 하면 뭔가 다를 줄 알았ㄱ에 실망감도 크고 보다 발전 하길 바랍니디',\n",
              "  '2020.04.08.',\n",
              "  '서울 중구 퇴계로 67 레스케이프호텔 6층 (우)04529'),\n",
              " ('야상해', '64685570', '5', '존맛', '2020.11.06.', '서울 용산구 이태원로23길 6 1층 (우)04350'),\n",
              " ('야상해',\n",
              "  '64685570',\n",
              "  '5',\n",
              "  '이태원 주민(과거)으로서 이태원 최고의 맛집',\n",
              "  '2020.11.04.',\n",
              "  '서울 용산구 이태원로23길 6 1층 (우)04350'),\n",
              " ('야상해',\n",
              "  '64685570',\n",
              "  '5',\n",
              "  '가성비 굿 어향가지 최고 내부는 너무 좁고 웨이팅이 긺',\n",
              "  '2020.10.29.',\n",
              "  '서울 용산구 이태원로23길 6 1층 (우)04350'),\n",
              " ('야상해',\n",
              "  '64685570',\n",
              "  '5',\n",
              "  '솔직히 나만 알고싶음 지금도 웨이팅 충분히 엄청남ㅎ...주말엔 5시 전에 가도 웨이팅 해야함. 어향가지가 완전 믜칭럼임. 어향가지+쌀밥+소룡포에 칭다오 한병 시키면 대존맛',\n",
              "  '2020.10.29.',\n",
              "  '서울 용산구 이태원로23길 6 1층 (우)04350'),\n",
              " ('야상해',\n",
              "  '64685570',\n",
              "  '5',\n",
              "  '맛있고 가격도 저렴하고 좋아요 또 가고싶네용',\n",
              "  '2020.10.25.',\n",
              "  '서울 용산구 이태원로23길 6 1층 (우)04350'),\n",
              " ('오향가 가락본점',\n",
              "  '16447083',\n",
              "  '3',\n",
              "  '평범한맛인데, 너무 유명해서 ㅋㅋㅋ좀 놀램... 여기까지와서 먹었는데 실패할 맛은 아니고 줄 기다려서서 먹을정도는 아님 ㅋㅋ솔직리뷰였슴다',\n",
              "  '2020.10.31.',\n",
              "  '서울 송파구 송이로 106 (우)05713'),\n",
              " ('오향가 가락본점',\n",
              "  '16447083',\n",
              "  '5',\n",
              "  '마파두부는 세입까진 대박 맛있다!  열입까진 그냥 맛있다! 하지만 그이상은 질림 족발이 먹어본것 세손가락에 듬 특유의 향 너무 좋음 ',\n",
              "  '2020.10.16.',\n",
              "  '서울 송파구 송이로 106 (우)05713'),\n",
              " ('오향가 가락본점',\n",
              "  '16447083',\n",
              "  '5',\n",
              "  '사람들이 줄서서 먹는 이유가 있다 포장해서 먹는 것 가능 짬뽕 족발 탕수육 마파두부 다 맛있음',\n",
              "  '2020.10.08.',\n",
              "  '서울 송파구 송이로 106 (우)05713'),\n",
              " ('오향가 가락본점',\n",
              "  '16447083',\n",
              "  '5',\n",
              "  '최고예요',\n",
              "  '2020.10.05.',\n",
              "  '서울 송파구 송이로 106 (우)05713'),\n",
              " ('오향가 가락본점',\n",
              "  '16447083',\n",
              "  '2',\n",
              "  '그냥 그랬어요. 1시간 넘게 기다려서 짬뽕이랑 족발 먹었는데 기대 이하였어요.',\n",
              "  '2020.09.27.',\n",
              "  '서울 송파구 송이로 106 (우)05713'),\n",
              " ('공푸',\n",
              "  '24353265',\n",
              "  '4',\n",
              "  '짬뽕과 탕수육!  짜장면은 그냥 그냥. 차돌 양이 줄었던 때가 있었는데 이런저런 피드백이 있었는지 요즘은 가득해졌어요',\n",
              "  '2020.11.10.',\n",
              "  '서울 성북구 삼선교로24길 29 (우)02862'),\n",
              " ('공푸',\n",
              "  '24353265',\n",
              "  '5',\n",
              "  '진짜 맛있어요',\n",
              "  '2020.11.08.',\n",
              "  '서울 성북구 삼선교로24길 29 (우)02862'),\n",
              " ('공푸',\n",
              "  '24353265',\n",
              "  '4',\n",
              "  '여기 전설은 아니고 레전드급 13년도였나 14년도였나 고등학교때 첨 생길때부터 다녔는데 차돌짬뽕이다 여긴  이xx샘이랑 같이 먹으러왔던 친구들 그립다 ㅋㅋ 다들 잘 지내려나',\n",
              "  '2020.10.26.',\n",
              "  '서울 성북구 삼선교로24길 29 (우)02862'),\n",
              " ('공푸',\n",
              "  '24353265',\n",
              "  '3',\n",
              "  '맛있긴 한데 와! 이정돈 아니다 ㅋㅋ 유린기는 괜찮았음 30 분 이상 기다리기엔 조금 아쉬운 맛집 ',\n",
              "  '2020.10.21.',\n",
              "  '서울 성북구 삼선교로24길 29 (우)02862'),\n",
              " ('공푸', '24353265', '5', '최고예요', '2020.10.14.', '서울 성북구 삼선교로24길 29 (우)02862'),\n",
              " ('바오바',\n",
              "  '593947624',\n",
              "  '1',\n",
              "  '별로예요',\n",
              "  '2020.11.07.',\n",
              "  '서울 용산구 녹사평대로40나길 1 2층 (우)04345'),\n",
              " ('바오바',\n",
              "  '593947624',\n",
              "  '4',\n",
              "  '파스타는 별로. 바오 위주로 조지세용~.~',\n",
              "  '2020.11.07.',\n",
              "  '서울 용산구 녹사평대로40나길 1 2층 (우)04345'),\n",
              " ('바오바',\n",
              "  '593947624',\n",
              "  '5',\n",
              "  '너무 맛있어요 ㅠㅠㅠㅠㅠ바오 핵 존마탱',\n",
              "  '2020.10.20.',\n",
              "  '서울 용산구 녹사평대로40나길 1 2층 (우)04345'),\n",
              " ('바오바',\n",
              "  '593947624',\n",
              "  '4',\n",
              "  '맛있어요! 가격이 조금 아쉬워요',\n",
              "  '2020.10.10.',\n",
              "  '서울 용산구 녹사평대로40나길 1 2층 (우)04345'),\n",
              " ('바오바',\n",
              "  '593947624',\n",
              "  '5',\n",
              "  '진짜 트러플 바오바 전국적으로 소문내고 싶은 맛 너무 맛나요 ㅠㅜ 내일 또 먹으러갈께유',\n",
              "  '2020.09.18.',\n",
              "  '서울 용산구 녹사평대로40나길 1 2층 (우)04345'),\n",
              " ('정민',\n",
              "  '27362142',\n",
              "  '5',\n",
              "  '남친이랑 지금까지 6번 방문함ㅋㅋㅋㅋ한남동 데이트가면 무조건 정민 = 국룰 식사로 해물짬뽕은 무조건 시켜야하고  제기준 유린기/깐풍기>누룽지해물탕 아몰랑 다마싯서 ',\n",
              "  '2020.10.05.',\n",
              "  '서울 용산구 이태원로54길 58-18 (우)04400'),\n",
              " ('정민',\n",
              "  '27362142',\n",
              "  '5',\n",
              "  '목적지 없이 이태원을 걷다 우연히 눈에 들어와서 방문했습니다.  캐주얼 중식이라고 해서 어떤 맛인지 궁금했는데, 고수 팍팍 들어가고 향신료 향이 조금 강합니다.  오향 갈비 튀김, 초계 비빔면, 소고기 가지 덮밥을 주문했는데 어느 하나 빠짐 없이 너무 맛있게 잘 먹었습니다. 모든 메뉴를 한 번씩 맛보고 싶을 정도로 만족스러운 식당이었네요.',\n",
              "  '2020.09.14.',\n",
              "  '서울 용산구 이태원로54길 58-18 (우)04400'),\n",
              " ('정민',\n",
              "  '27362142',\n",
              "  '5',\n",
              "  '너무 맛있어요 유린기 꼭드세요',\n",
              "  '2020.09.06.',\n",
              "  '서울 용산구 이태원로54길 58-18 (우)04400'),\n",
              " ('정민',\n",
              "  '27362142',\n",
              "  '3',\n",
              "  '라스트오더 2시 30분이네요',\n",
              "  '2020.08.17.',\n",
              "  '서울 용산구 이태원로54길 58-18 (우)04400'),\n",
              " ('정민',\n",
              "  '27362142',\n",
              "  '3',\n",
              "  '아니 밑에 메론메론 지가 잘못하고 왜 발끈하지?? ',\n",
              "  '2020.08.12.',\n",
              "  '서울 용산구 이태원로54길 58-18 (우)04400'),\n",
              " ('중화복춘',\n",
              "  '965893653',\n",
              "  '5',\n",
              "  '부모님이 너무 좋아하셔용',\n",
              "  '2020.11.09.',\n",
              "  '서울 마포구 동교로 220-7 1층 (우)03994'),\n",
              " ('중화복춘',\n",
              "  '965893653',\n",
              "  '5',\n",
              "  '매장 분위기 고급스럽고 좋네요~ 요리랑 다른 메뉴들도맛있어요!',\n",
              "  '2020.11.08.',\n",
              "  '서울 마포구 동교로 220-7 1층 (우)03994'),\n",
              " ('중화복춘',\n",
              "  '965893653',\n",
              "  '5',\n",
              "  '최고예요',\n",
              "  '2020.11.05.',\n",
              "  '서울 마포구 동교로 220-7 1층 (우)03994'),\n",
              " ('중화복춘',\n",
              "  '965893653',\n",
              "  '5',\n",
              "  '중국요리 오랜만에 맛있게 먹고 가는것 같아요',\n",
              "  '2020.11.05.',\n",
              "  '서울 마포구 동교로 220-7 1층 (우)03994'),\n",
              " ('중화복춘',\n",
              "  '965893653',\n",
              "  '5',\n",
              "  '고급스러운 중국요리 먹고 싶을때 찾는곳인데 항상 맛있어요 ㅎㅎ',\n",
              "  '2020.11.03.',\n",
              "  '서울 마포구 동교로 220-7 1층 (우)03994'),\n",
              " ('빠오즈푸',\n",
              "  '15101449',\n",
              "  '4',\n",
              "  '매운훈둔면은 생각보다ㄴㄴ. 탄탄면 추천. 지짐만두도 맛있음! 부추는 너무 건강한 맛이라 개인적으로 비추. ',\n",
              "  '2020.10.25.',\n",
              "  '서울 광진구 광나루로 373 1층 (우)05005'),\n",
              " ('빠오즈푸',\n",
              "  '15101449',\n",
              "  '5',\n",
              "  '매운훈둔면이랑 쓰촨딴딴면 강추 빠오즈는 추천 지짐만두는 평범 아 면의 양이 그날그날 다른 느낌 손님이 너무 마니와서 부족할까봐? 그건 아쉽다 공기밥도 없을때가 많음',\n",
              "  '2020.10.21.',\n",
              "  '서울 광진구 광나루로 373 1층 (우)05005'),\n",
              " ('빠오즈푸',\n",
              "  '15101449',\n",
              "  '4',\n",
              "  '만두 맛있어요  비빔면은 비추에요 ',\n",
              "  '2020.10.13.',\n",
              "  '서울 광진구 광나루로 373 1층 (우)05005'),\n",
              " ('빠오즈푸',\n",
              "  '15101449',\n",
              "  '5',\n",
              "  '존맛탱구리',\n",
              "  '2020.09.17.',\n",
              "  '서울 광진구 광나루로 373 1층 (우)05005'),\n",
              " ('빠오즈푸',\n",
              "  '15101449',\n",
              "  '2',\n",
              "  '그닥이다 샤오롱바오는그래도 맛있는데 면요리는 되게 별로여서 다시가고싶지않은맛 수요미식회 되게 신뢰하는데 실망..',\n",
              "  '2020.08.15.',\n",
              "  '서울 광진구 광나루로 373 1층 (우)05005'),\n",
              " ('몽중헌 방이점',\n",
              "  '19452961',\n",
              "  '3',\n",
              "  '굿',\n",
              "  '2020.11.10.',\n",
              "  '서울 송파구 위례성대로 10 S타워 20, 21층 (우)05544'),\n",
              " ('몽중헌 방이점',\n",
              "  '19452961',\n",
              "  '1',\n",
              "  '예약확인 하시는분이 아주아주 친절하시네요 ^^^^^^^^',\n",
              "  '2020.11.07.',\n",
              "  '서울 송파구 위례성대로 10 S타워 20, 21층 (우)05544'),\n",
              " ('몽중헌 방이점',\n",
              "  '19452961',\n",
              "  '3',\n",
              "  '쏘쏘',\n",
              "  '2020.10.24.',\n",
              "  '서울 송파구 위례성대로 10 S타워 20, 21층 (우)05544'),\n",
              " ('몽중헌 방이점',\n",
              "  '19452961',\n",
              "  '3',\n",
              "  '보통이에요',\n",
              "  '2020.09.17.',\n",
              "  '서울 송파구 위례성대로 10 S타워 20, 21층 (우)05544'),\n",
              " ('몽중헌 방이점',\n",
              "  '19452961',\n",
              "  '5',\n",
              "  '발렛이 되니 편리하고 딤섬이 아주 맛있어요 짜장면은 쏘쏘합니다',\n",
              "  '2020.09.16.',\n",
              "  '서울 송파구 위례성대로 10 S타워 20, 21층 (우)05544'),\n",
              " ('양식당더램키친',\n",
              "  '19716587',\n",
              "  '5',\n",
              "  '양갈비가 냄새도 나지 않고 정말 맛있네요. 밑반찬과 식사로 주문한 비빔밥과 국수도 맛있게 먹었어요.  좋은 분위기에서 행복한 시간이었습니다 ',\n",
              "  '2020.02.06.',\n",
              "  '서울 강남구 압구정로8길 5 2층 (우)06028'),\n",
              " ('양식당더램키친',\n",
              "  '19716587',\n",
              "  '4',\n",
              "  '양갈비는 냄새 안나고 맛있습니다   다만 밑반찬이 너무 달고 다소 성의 없는 느낌입니다   파무침+양등심 조합을 따로 주문해야하는데 양등심을 푸짐하게 주긴하나 냄새가 납니다 파무침은 기본 찬으로 하는게 더 좋을 것 같습니다  ',\n",
              "  '2019.10.28.',\n",
              "  '서울 강남구 압구정로8길 5 2층 (우)06028'),\n",
              " ('양식당더램키친',\n",
              "  '19716587',\n",
              "  '4',\n",
              "  '좋아요',\n",
              "  '2019.07.01.',\n",
              "  '서울 강남구 압구정로8길 5 2층 (우)06028'),\n",
              " ('양식당더램키친',\n",
              "  '19716587',\n",
              "  '4',\n",
              "  '좋아요',\n",
              "  '2019.01.20.',\n",
              "  '서울 강남구 압구정로8길 5 2층 (우)06028'),\n",
              " ('양식당더램키친',\n",
              "  '19716587',\n",
              "  '4',\n",
              "  '고기의 퀄리티는 최고입니다. ',\n",
              "  '2018.10.27.',\n",
              "  '서울 강남구 압구정로8길 5 2층 (우)06028'),\n",
              " ('포가',\n",
              "  '1819203967',\n",
              "  '5',\n",
              "  '깐풍만두, 고기튀김 최고 중국요리답게 톡쏘는데 그러면서 또 깔끔하다.  또 와서 다른거 먹어야지',\n",
              "  '2020.11.05.',\n",
              "  '서울 마포구 성미산로 190-4 2층 (우)03982'),\n",
              " ('포가',\n",
              "  '1819203967',\n",
              "  '3',\n",
              "  '차돌박이홍짬뽕과 깐풍군만두 너무 맛나요 ㅠㅠ 홀이 작아서 웨이팅 필수 그러나 예고없이 쉴때가 많아서 그건 좀 별로.  홀 주문순서 등이 살짝 뒤죽박줄일때도 있어요. ',\n",
              "  '2020.10.31.',\n",
              "  '서울 마포구 성미산로 190-4 2층 (우)03982'),\n",
              " ('포가',\n",
              "  '1819203967',\n",
              "  '2',\n",
              "  '테이블링 어플로 대기없이 들어갔지만 왜 인기가 많은지 모르겠네요. 기다렸으면 좀 화났을지도... 웨이팅이 심한 이유는 좁은 내부와 음청나게 느린 음식 나오는 시간때문인것 같아요. 음식 다 받을때까지 40분 걸렸네요...',\n",
              "  '2020.10.25.',\n",
              "  '서울 마포구 성미산로 190-4 2층 (우)03982'),\n",
              " ('포가',\n",
              "  '1819203967',\n",
              "  '4',\n",
              "  '마늘쫑 면 요리와 고기 튀김 필수',\n",
              "  '2020.10.08.',\n",
              "  '서울 마포구 성미산로 190-4 2층 (우)03982'),\n",
              " ('포가',\n",
              "  '1819203967',\n",
              "  '4',\n",
              "  '좋아요',\n",
              "  '2020.10.04.',\n",
              "  '서울 마포구 성미산로 190-4 2층 (우)03982'),\n",
              " ('송화산시도삭면',\n",
              "  '1448144892',\n",
              "  '5',\n",
              "  '음식이 빠르게 나와서 좋았고 맛있고 가격에 비해 양이나 퀄리티가 좋았음!! 재방문의사 있습니다!!',\n",
              "  '2020.11.09.',\n",
              "  '서울 광진구 뚝섬로27길 48 (우)05075'),\n",
              " ('송화산시도삭면',\n",
              "  '1448144892',\n",
              "  '5',\n",
              "  '진정한맛집  ',\n",
              "  '2020.11.03.',\n",
              "  '서울 광진구 뚝섬로27길 48 (우)05075'),\n",
              " ('송화산시도삭면',\n",
              "  '1448144892',\n",
              "  '4',\n",
              "  '도삭면 맛잇슺니다 고수들어가잇는데 빼먹으면 별맛언느껴집니다',\n",
              "  '2020.11.01.',\n",
              "  '서울 광진구 뚝섬로27길 48 (우)05075'),\n",
              " ('송화산시도삭면',\n",
              "  '1448144892',\n",
              "  '4',\n",
              "  '샤오로보는 제가 먹은것 중에 느끼하지 않고 맛있네요. 추가 1판했어요. 처음 먹어본 도삭면 특이하고 괜찮은데 고수 싫어하시는 분은 걷어내셔야 하고 조금 느끼할 수 있어요.',\n",
              "  '2020.10.30.',\n",
              "  '서울 광진구 뚝섬로27길 48 (우)05075'),\n",
              " ('송화산시도삭면',\n",
              "  '1448144892',\n",
              "  '4',\n",
              "  '이것은 면인가 수제비인가 별미로 괜찮음',\n",
              "  '2020.10.11.',\n",
              "  '서울 광진구 뚝섬로27길 48 (우)05075'),\n",
              " ('화양연가',\n",
              "  '8798107',\n",
              "  '5',\n",
              "  '순수한양고기맛',\n",
              "  '2020.08.10.',\n",
              "  '서울 용산구 한강대로76길 5 (우)04352'),\n",
              " ('화양연가',\n",
              "  '8798107',\n",
              "  '3',\n",
              "  '맛은 있지만 굳이 여기다! 하는 이유는 딱히',\n",
              "  '2020.07.15.',\n",
              "  '서울 용산구 한강대로76길 5 (우)04352'),\n",
              " ('화양연가', '8798107', '5', '최고예요', '2020.04.19.', '서울 용산구 한강대로76길 5 (우)04352'),\n",
              " ('화양연가',\n",
              "  '8798107',\n",
              "  '1',\n",
              "  '접객이 전혀 안되고, 뒷사람 먼저 안내하고 유령처럼 5분 동안 멀뚱히 서 있다 나왔네요.. 환기도 잘 안되고 참고하시길',\n",
              "  '2020.04.04.',\n",
              "  '서울 용산구 한강대로76길 5 (우)04352'),\n",
              " ('화양연가',\n",
              "  '8798107',\n",
              "  '4',\n",
              "  '양고기 냄새나면 못 먹는 타입인데, 냄새 하나도 안나요. 맛있습니다. 대기시간 길고 가게가 조금 좁아요. 직원들 친절합니다. 친구들 둘셋이서 가기 좋은 곳입니다. ',\n",
              "  '2020.03.10.',\n",
              "  '서울 용산구 한강대로76길 5 (우)04352'),\n",
              " ('쮸즈',\n",
              "  '24371711',\n",
              "  '2',\n",
              "  '그닥..? 일단 다시 가고싶진 않은 맛.  맛이 단편적이라고해야하나.  감칠맛이랄게 없고 그냥 달고 적당하다... 정도의 느낌.   면만 급하게 삶아서 국물넣고 끝낸 맛.  만두도 식은거 금방 렌지 돌린 느낌.   먹는내내 벌레날리고.. 테이블도 끈적거리고.. 위생은 중국같았음...  면이 많았는지 자기전까지 배불렀음.  -끝-',\n",
              "  '2020.11.07.',\n",
              "  '서울 강남구 도산대로17길 9 (우)06036'),\n",
              " ('쮸즈',\n",
              "  '24371711',\n",
              "  '3',\n",
              "  '몇년전에 오픈시간대가 일정치않아서 갈때마다 문을 안열었길래 문 닫은즐 알았는데 아직 있구나.. 맛은 있어요 ㅋㅋㅋ',\n",
              "  '2020.10.30.',\n",
              "  '서울 강남구 도산대로17길 9 (우)06036'),\n",
              " ('쮸즈',\n",
              "  '24371711',\n",
              "  '4',\n",
              "  '월요일인데도 웨이팅 조금 있었어요 그래도 금방 빠짐! 딴딴면도 맛있는데 딤섬이 진짜 맛있어요 육즙 ㅠ',\n",
              "  '2020.10.30.',\n",
              "  '서울 강남구 도산대로17길 9 (우)06036'),\n",
              " ('쮸즈', '24371711', '1', '별로예요', '2020.10.04.', '서울 강남구 도산대로17길 9 (우)06036'),\n",
              " ('쮸즈', '24371711', '3', '보통이에요', '2020.10.04.', '서울 강남구 도산대로17길 9 (우)06036'),\n",
              " ('골드피쉬딤섬퀴진',\n",
              "  '24010315',\n",
              "  '4',\n",
              "  '좋아요',\n",
              "  '2020.11.07.',\n",
              "  '서울 강남구 압구정로48길 35 (우)06018'),\n",
              " ('골드피쉬딤섬퀴진',\n",
              "  '24010315',\n",
              "  '2',\n",
              "  '맛없음ㅋㅋ무맛 간이 없다해야되나 근데비쌈',\n",
              "  '2020.10.29.',\n",
              "  '서울 강남구 압구정로48길 35 (우)06018'),\n",
              " ('골드피쉬딤섬퀴진',\n",
              "  '24010315',\n",
              "  '4',\n",
              "  '좋아요',\n",
              "  '2020.10.17.',\n",
              "  '서울 강남구 압구정로48길 35 (우)06018'),\n",
              " ('골드피쉬딤섬퀴진',\n",
              "  '24010315',\n",
              "  '4',\n",
              "  '중국 대만 본토에서 음식 안 먹어본 내 입맛으론 전체적으로 짱맛있음 국수요리는 조금 짠 편 서비스 엄청 친절함 사람 많은 시간대에 갔는데도 딤섬이 터졌다던지 요리가 잘못 나왔다던지에 대한 설명도 바쁠텐데 친절히 해주시고 사과해주시고 다시 갖다주심!!',\n",
              "  '2020.10.07.',\n",
              "  '서울 강남구 압구정로48길 35 (우)06018'),\n",
              " ('골드피쉬딤섬퀴진',\n",
              "  '24010315',\n",
              "  '4',\n",
              "  '대만 왜 가냐? 흥해라~',\n",
              "  '2020.09.30.',\n",
              "  '서울 강남구 압구정로48길 35 (우)06018'),\n",
              " ('마담밍 선릉점',\n",
              "  '18283045',\n",
              "  '5',\n",
              "  '음식 진짜 맛있고 직원분들 친절하심',\n",
              "  '2020.11.05.',\n",
              "  '서울 강남구 선릉로86길 5-4 1층 (우)06192'),\n",
              " ('마담밍 선릉점',\n",
              "  '18283045',\n",
              "  '5',\n",
              "  '냉짬뽕 말고 다른 맛있는 메뉴들도 정말 많아요 제일 좋아하는 중국집이에요 먹고나서 속이 더부룩하지 않거든요 쟁반짜장에 밥 비벼드세요 두번 드세요',\n",
              "  '2020.10.31.',\n",
              "  '서울 강남구 선릉로86길 5-4 1층 (우)06192'),\n",
              " ('마담밍 선릉점',\n",
              "  '18283045',\n",
              "  '5',\n",
              "  '존맛입니다 ㅎㅎ 코스a로 시켰고 맛있었어요. 면도 더 주신다고하니 양많은분도 충분할거같네요. 친절하세요. 사진엔없지만 후식으로 바나나 샤베트 너무맛있어요',\n",
              "  '2020.10.22.',\n",
              "  '서울 강남구 선릉로86길 5-4 1층 (우)06192'),\n",
              " ('마담밍 선릉점',\n",
              "  '18283045',\n",
              "  '4',\n",
              "  '냉짬뽕 제취향은 아니였던걸로..... 다른 메뉴들은 맛없지도 맛있지도 않습니다 그냥 무난한 중국집ㅇㅇ 다만 직원분들이 친절하셔서 재방문할 의사있음',\n",
              "  '2020.10.09.',\n",
              "  '서울 강남구 선릉로86길 5-4 1층 (우)06192'),\n",
              " ('마담밍 선릉점',\n",
              "  '18283045',\n",
              "  '5',\n",
              "  '너무 맛있어요... 코로나시국에 유일하게 외식하러 2번 온 맛집ㅠ 왕복 두시간거리인데ㅋㅋㅋ 존맛',\n",
              "  '2020.10.03.',\n",
              "  '서울 강남구 선릉로86길 5-4 1층 (우)06192'),\n",
              " ('주', '11831509', '4', '좋아요', '2020.10.19.', '서울 서초구 동광로19길 16 (우)06561'),\n",
              " ('주',\n",
              "  '11831509',\n",
              "  '1',\n",
              "  '가격이 상상초월...',\n",
              "  '2020.09.27.',\n",
              "  '서울 서초구 동광로19길 16 (우)06561'),\n",
              " ('주',\n",
              "  '11831509',\n",
              "  '2',\n",
              "  '탕수육은 정말 맛있음 근데 짬뽕은 진짜 먹을 수 없을 정도로 맛이 없었음 그리고 너무 비쌈 여기 다시 올 바엔 진짜 맛있는 탕수육집 더 찾아서 거기 갈거임',\n",
              "  '2020.09.13.',\n",
              "  '서울 서초구 동광로19길 16 (우)06561'),\n",
              " ('주', '11831509', '5', '탕수육!!', '2020.09.03.', '서울 서초구 동광로19길 16 (우)06561'),\n",
              " ('주', '11831509', '5', '탕수육 체고!', '2020.07.25.', '서울 서초구 동광로19길 16 (우)06561'),\n",
              " ('쟈니덤플링 1호점',\n",
              "  '17361137',\n",
              "  '4',\n",
              "  '좋아요',\n",
              "  '2020.11.08.',\n",
              "  '서울 용산구 보광로59길 5 (우)04391'),\n",
              " ('쟈니덤플링 1호점',\n",
              "  '17361137',\n",
              "  '4',\n",
              "  '좋아요',\n",
              "  '2020.11.08.',\n",
              "  '서울 용산구 보광로59길 5 (우)04391'),\n",
              " ('쟈니덤플링 1호점',\n",
              "  '17361137',\n",
              "  '5',\n",
              "  '최고예요',\n",
              "  '2020.10.17.',\n",
              "  '서울 용산구 보광로59길 5 (우)04391'),\n",
              " ('쟈니덤플링 1호점',\n",
              "  '17361137',\n",
              "  '3',\n",
              "  '보통이에요',\n",
              "  '2020.10.05.',\n",
              "  '서울 용산구 보광로59길 5 (우)04391'),\n",
              " ('쟈니덤플링 1호점',\n",
              "  '17361137',\n",
              "  '5',\n",
              "  '너무 맛있는 만두 칭따오와 함께 잘묵었슴다~',\n",
              "  '2020.09.28.',\n",
              "  '서울 용산구 보광로59길 5 (우)04391'),\n",
              " ('목란',\n",
              "  '21359554',\n",
              "  '3',\n",
              "  '솔직히 그 예약의 어려움을 뚫고 먹을 가치가 있냐면 정말 글쎄올시다 내가 맛알못일 수도 있으나 정말 특별한 맛은 아니었다',\n",
              "  '2020.11.01.',\n",
              "  '서울 서대문구 연희로15길 21 (우)03703'),\n",
              " ('목란',\n",
              "  '21359554',\n",
              "  '5',\n",
              "  '입 싼 놈들이 많네ㅋㅋ 짜파게티나 먹어라',\n",
              "  '2020.10.25.',\n",
              "  '서울 서대문구 연희로15길 21 (우)03703'),\n",
              " ('목란',\n",
              "  '21359554',\n",
              "  '2',\n",
              "  '두번 갔는데 짬뽕 맛이 괜찮았다가 짰다가 하구요 짜장면 면빨은 정말 쫄깃함 동파육은 기름 덩어리를 줘서 좀 그랬구요 맛도 그닥 무슨 맛인지 잘 모르겠더라구요 전 걍 보쌈이나 족발을 먹는게 나은거 같아요 결론적으로 짜장면 먹으러 거기까지 예약씩이나하고 가기싫음',\n",
              "  '2020.10.20.',\n",
              "  '서울 서대문구 연희로15길 21 (우)03703'),\n",
              " ('목란',\n",
              "  '21359554',\n",
              "  '1',\n",
              "  '뭐 예약 안했다고 말을 하시는데, 학생이고 돈없어 보이면 그냥 깔보듯이 이야기 하시나요? ㅋㅋ 검은색 옷입은 서빙하는 매니저 같으분 되게 예의가 없으네여 ㅋㅋ 음식점이면 음식점 답게 손님을 대하는 말투랑 방법좀 교육시키셔야겠네요. 결국 음식도 못먹고 그냥 들어갔다가 나왔네요. 다시 갈마음없고 무례해서 가기 싫네요.',\n",
              "  '2020.10.18.',\n",
              "  '서울 서대문구 연희로15길 21 (우)03703'),\n",
              " ('목란', '21359554', '2', '실망', '2020.10.15.', '서울 서대문구 연희로15길 21 (우)03703'),\n",
              " ('구복만두',\n",
              "  '27209120',\n",
              "  '5',\n",
              "  '얼웨이즈 쏘 굳 얌 굿',\n",
              "  '2020.11.01.',\n",
              "  '서울 용산구 두텁바위로 10 (우)04352'),\n",
              " ('구복만두',\n",
              "  '27209120',\n",
              "  '4',\n",
              "  '새우만두,구복만두,김치만두 이렇게 포장해서 먹었는데 맛있었어요. 새우만두는 표고향이 특징이고 내용물도 알찼어요. 한가지 단점은..비닐봉투 잉크에 손이 물 들더라고요 ㅜㅜ ',\n",
              "  '2020.10.30.',\n",
              "  '서울 용산구 두텁바위로 10 (우)04352'),\n",
              " ('구복만두',\n",
              "  '27209120',\n",
              "  '1',\n",
              "  '김치만두는 진짜 너무 맛없어서 거의 다 남겼어요ㅠ 새우만두가 제일 나은데 다른 딤썸집에 비교도 못할정도로 맛이 없었어요 딤썸먹고 식욕잃은적이 없었거든요?ㅠ 진짜 비추합니다 절대 미쉐린집아니에요ㅠ',\n",
              "  '2020.10.29.',\n",
              "  '서울 용산구 두텁바위로 10 (우)04352'),\n",
              " ('구복만두',\n",
              "  '27209120',\n",
              "  '3',\n",
              "  '맛이 없는것도 아니지만 그렇다고 엄청 맛있지도 않아요.',\n",
              "  '2020.10.13.',\n",
              "  '서울 용산구 두텁바위로 10 (우)04352'),\n",
              " ('구복만두', '27209120', '3', '보통이에요', '2020.09.27.', '서울 용산구 두텁바위로 10 (우)04352'),\n",
              " ('하하',\n",
              "  '13727108',\n",
              "  '4',\n",
              "  '가지튀김 갓 나왔을때 맛있어요. 대체가 없어서 가게 되는듯합니다요. 가격도 적당하구요. 다른 음식들은 그냥 그랬고 분위기는 없는 식당. 술마시기 좋을듯',\n",
              "  '2020.11.08.',\n",
              "  '서울 마포구 동교로 263 (우)03983'),\n",
              " ('하하',\n",
              "  '13727108',\n",
              "  '3',\n",
              "  '지인 분이 몇년 전에 이곳 방문하시고 이 집 가지튀김이 너무 맛있다면서 추천해주셔서 같이 갔는데 이전에 처음 먹어본 음식이라 신선하고 맛있었는데 튀김 껍질이 좀 두꺼운 느낌? 지인 분도 예전 만하지 않다고 살짝 실망하셨어요. 무엇보다 위생이 별로인 것 같아서 안갈 것 같아요...',\n",
              "  '2020.11.04.',\n",
              "  '서울 마포구 동교로 263 (우)03983'),\n",
              " ('하하',\n",
              "  '13727108',\n",
              "  '4',\n",
              "  '가지튀김빼고는 그냥 그런데 가지튀김을 이렇게 하는 집이 없어서 자주가게된다',\n",
              "  '2020.11.03.',\n",
              "  '서울 마포구 동교로 263 (우)03983'),\n",
              " ('하하', '13727108', '4', \"맛이#&'₩\", '2020.10.30.', '서울 마포구 동교로 263 (우)03983'),\n",
              " ('하하', '13727108', '2', '조금 아쉬워요', '2020.10.17.', '서울 마포구 동교로 263 (우)03983'),\n",
              " ('포시즌스호텔 유유안',\n",
              "  '27464311',\n",
              "  '5',\n",
              "  '샤오롱바오 좋아해서 여러곳 가봤는데 진짜 유유안이 제일 맛있음',\n",
              "  '2020.10.22.',\n",
              "  '서울 종로구 새문안로 97 11층 (우)03183'),\n",
              " ('포시즌스호텔 유유안',\n",
              "  '27464311',\n",
              "  '4',\n",
              "  '베이징덕의 크리스피한 껍질과 고소한 고기가 맛있었어요 대나무어쩌고 하는 스프도 굿이었어요',\n",
              "  '2020.08.21.',\n",
              "  '서울 종로구 새문안로 97 11층 (우)03183'),\n",
              " ('포시즌스호텔 유유안',\n",
              "  '27464311',\n",
              "  '4',\n",
              "  '베이징덕 최고',\n",
              "  '2020.08.09.',\n",
              "  '서울 종로구 새문안로 97 11층 (우)03183'),\n",
              " ('포시즌스호텔 유유안',\n",
              "  '27464311',\n",
              "  '5',\n",
              "  '진짜 맛있어요~ 또 생각나네요.',\n",
              "  '2020.07.11.',\n",
              "  '서울 종로구 새문안로 97 11층 (우)03183'),\n",
              " ('포시즌스호텔 유유안',\n",
              "  '27464311',\n",
              "  '5',\n",
              "  '또먹고싶네 ㅠㅠ',\n",
              "  '2020.05.11.',\n",
              "  '서울 종로구 새문안로 97 11층 (우)03183'),\n",
              " ('벽돌해피푸드 압구정점',\n",
              "  '7894375',\n",
              "  '3',\n",
              "  '맛은 괜찮았는데 속이 좀.',\n",
              "  '2020.10.17.',\n",
              "  '서울 강남구 도산대로51길 36 1층 (우)06019'),\n",
              " ('벽돌해피푸드 압구정점',\n",
              "  '7894375',\n",
              "  '5',\n",
              "  '여사친한테 칭찬 받음ㅋ 그런 곳이에요. 가격은 2인기준 4만원 정도면 행복히 드실수 있어요.',\n",
              "  '2020.10.06.',\n",
              "  '서울 강남구 도산대로51길 36 1층 (우)06019'),\n",
              " ('벽돌해피푸드 압구정점',\n",
              "  '7894375',\n",
              "  '4',\n",
              "  '대부분 맛있고 분위기도 좋습니다. ',\n",
              "  '2020.08.14.',\n",
              "  '서울 강남구 도산대로51길 36 1층 (우)06019'),\n",
              " ('벽돌해피푸드 압구정점',\n",
              "  '7894375',\n",
              "  '3',\n",
              "  '짬뽕 은근 맛있음 그리고 돼지고기튀김 볶음밥(=돈까스) 맛있음 새우마요는 쏘쏘',\n",
              "  '2020.08.06.',\n",
              "  '서울 강남구 도산대로51길 36 1층 (우)06019'),\n",
              " ('벽돌해피푸드 압구정점',\n",
              "  '7894375',\n",
              "  '4',\n",
              "  '걍 뭐 실패는 안할 맛! ',\n",
              "  '2020.08.01.',\n",
              "  '서울 강남구 도산대로51길 36 1층 (우)06019'),\n",
              " ('램랜드', '7859798', '5', '최고예요', '2020.10.23.', '서울 마포구 토정로 255 (우)04159'),\n",
              " ('램랜드',\n",
              "  '7859798',\n",
              "  '5',\n",
              "  '맛있네요! 이런 스타일의 양갈비를 성수에서 먹었는데, 요기도 있었네요. 엄청 친절하시고 맛있게 구워주셔서 잘 먹었습니다~ 전골은 처음 먹어봤는데 술 당기는 맛이네요 ㅋㅋ 이왕이면 전골까지 드시는 걸 추천입니다!',\n",
              "  '2020.10.16.',\n",
              "  '서울 마포구 토정로 255 (우)04159'),\n",
              " ('램랜드',\n",
              "  '7859798',\n",
              "  '4',\n",
              "  '한국식+살짝의 양식갬성! 양고기에 노린내 나지 않고 매우 담백 쫄깃한게 신의 한 수 라면사리 추가한 전골도 존맛탱 양고기 땡기면 종종 가야겠다^^',\n",
              "  '2020.07.30.',\n",
              "  '서울 마포구 토정로 255 (우)04159'),\n",
              " ('램랜드',\n",
              "  '7859798',\n",
              "  '3',\n",
              "  '그렇게 맛있진 않은데 분위기+고기+전골 합이 술 마시기 좋다.',\n",
              "  '2020.07.13.',\n",
              "  '서울 마포구 토정로 255 (우)04159'),\n",
              " ('램랜드',\n",
              "  '7859798',\n",
              "  '4',\n",
              "  '지금처럼 양고기가 대중화되기 이전부터 다니던곳',\n",
              "  '2020.05.28.',\n",
              "  '서울 마포구 토정로 255 (우)04159'),\n",
              " ('산왕반점 연남동본점',\n",
              "  '26469821',\n",
              "  '4',\n",
              "  '가격대비 맛있어요.   새우빵 맛집',\n",
              "  '2020.11.05.',\n",
              "  '서울 마포구 성미산로29안길 19-5 (우)03980'),\n",
              " ('산왕반점 연남동본점',\n",
              "  '26469821',\n",
              "  '3',\n",
              "  '저렴하고 가격대비 괜찮은 퀄리티',\n",
              "  '2020.11.03.',\n",
              "  '서울 마포구 성미산로29안길 19-5 (우)03980'),\n",
              " ('산왕반점 연남동본점',\n",
              "  '26469821',\n",
              "  '4',\n",
              "  '멘보샤 살짝 느끼한데 맛있고, 쇼우기는 여기서 처음 먹어봐서 비교는 못하겠지만 맛있게 먹었어요 ',\n",
              "  '2020.09.06.',\n",
              "  '서울 마포구 성미산로29안길 19-5 (우)03980'),\n",
              " ('산왕반점 연남동본점',\n",
              "  '26469821',\n",
              "  '5',\n",
              "  '멘보샤로 산왕반점 입문했고, 그 뒤로 쇼우기 한 번 먹고 반함. 여기 정말 나쁜 가게에요. 나에게 이제서야 쇼우기를 맛보게 하다니...  또 가야지 ',\n",
              "  '2020.08.13.',\n",
              "  '서울 마포구 성미산로29안길 19-5 (우)03980'),\n",
              " ('산왕반점 연남동본점',\n",
              "  '26469821',\n",
              "  '3',\n",
              "  '맛있었어요..주차가안되서 매우불편',\n",
              "  '2020.08.10.',\n",
              "  '서울 마포구 성미산로29안길 19-5 (우)03980'),\n",
              " ('란주칼면',\n",
              "  '12793877',\n",
              "  '4',\n",
              "  '맛있어요. 도삭면은 처음 먹어보는데 식감이 재밌네요. 다른 메뉴 먹어보러 또 오고싶음. 간이 좀 세긴 했지만 ㅋㅋ +중화요리점에서 김치가 이렇게 맛있던 건 처음이라 신기하네요 ',\n",
              "  '2020.11.09.',\n",
              "  '서울 중구 소공로 64 동남빌딩 (우)04535'),\n",
              " ('란주칼면', '12793877', '4', '좋아요', '2020.11.08.', '서울 중구 소공로 64 동남빌딩 (우)04535'),\n",
              " ('란주칼면',\n",
              "  '12793877',\n",
              "  '5',\n",
              "  '최고예요',\n",
              "  '2020.11.05.',\n",
              "  '서울 중구 소공로 64 동남빌딩 (우)04535'),\n",
              " ('란주칼면',\n",
              "  '12793877',\n",
              "  '5',\n",
              "  '도삭면 꿔바로우 ㄱ ㄱ ',\n",
              "  '2020.11.05.',\n",
              "  '서울 중구 소공로 64 동남빌딩 (우)04535'),\n",
              " ('란주칼면',\n",
              "  '12793877',\n",
              "  '5',\n",
              "  '한국식 마라 싫은데 요긴 찐이다',\n",
              "  '2020.10.17.',\n",
              "  '서울 중구 소공로 64 동남빌딩 (우)04535'),\n",
              " ('외래향 서울대점',\n",
              "  '16094210',\n",
              "  '4',\n",
              "  '좋아요',\n",
              "  '2020.10.27.',\n",
              "  '서울 관악구 남부순환로 1801 2층 (우)08758'),\n",
              " ('외래향 서울대점',\n",
              "  '16094210',\n",
              "  '4',\n",
              "  '탕수육 짜장면 먹었는데 짜장면은 소스가 너무 부족했어요ㅜㅜ 탕수육도 그냥그래요  +다시 먹었는데 맛있었음 201024',\n",
              "  '2020.10.24.',\n",
              "  '서울 관악구 남부순환로 1801 2층 (우)08758'),\n",
              " ('외래향 서울대점',\n",
              "  '16094210',\n",
              "  '3',\n",
              "  '자장면과 탕수육운 괜찮앗어요 볶음면은 간이 많이 쎄요',\n",
              "  '2020.10.08.',\n",
              "  '서울 관악구 남부순환로 1801 2층 (우)08758'),\n",
              " ('외래향 서울대점',\n",
              "  '16094210',\n",
              "  '1',\n",
              "  '예전 맛이 안남.   갈수록 맛이 없어짐.',\n",
              "  '2020.09.25.',\n",
              "  '서울 관악구 남부순환로 1801 2층 (우)08758'),\n",
              " ('외래향 서울대점',\n",
              "  '16094210',\n",
              "  '1',\n",
              "  '카운터에서 일하는 여자분 너무 불친절합니다. 손님 카드를 계산대에 툭 내려놓고, 짜증내면서 펜을 휙휙 던지네요.',\n",
              "  '2020.09.21.',\n",
              "  '서울 관악구 남부순환로 1801 2층 (우)08758'),\n",
              " ('딩딤1968',\n",
              "  '1332784474',\n",
              "  '1',\n",
              "  '화장실에 비누없는 집에 대해서 편견이 있는데 비누없음. 화장실에 휴지 없어서 밥나오기전에 점원이랑 화장실 이야기 5번하게됌... 밥맛떨어짐 딤섬은 맛있어서 개선되었으면 좋겠음.  점심때 방문했는데 무딤섬, 콘지 준비안됐음',\n",
              "  '2020.11.06.',\n",
              "  '서울 강남구 강남대로160길 27 (우)06028'),\n",
              " ('딩딤1968',\n",
              "  '1332784474',\n",
              "  '4',\n",
              "  '고추뭐시기 진짜 맛있었어요 또먹고싶음',\n",
              "  '2020.11.03.',\n",
              "  '서울 강남구 강남대로160길 27 (우)06028'),\n",
              " ('딩딤1968',\n",
              "  '1332784474',\n",
              "  '5',\n",
              "  '최고예요',\n",
              "  '2020.10.04.',\n",
              "  '서울 강남구 강남대로160길 27 (우)06028'),\n",
              " ('딩딤1968',\n",
              "  '1332784474',\n",
              "  '1',\n",
              "  '별로예요',\n",
              "  '2020.09.29.',\n",
              "  '서울 강남구 강남대로160길 27 (우)06028'),\n",
              " ('딩딤1968',\n",
              "  '1332784474',\n",
              "  '5',\n",
              "  '갓딩딤 빛딩딤 딩디리딩딤딩딤딤',\n",
              "  '2020.09.12.',\n",
              "  '서울 강남구 강남대로160길 27 (우)06028'),\n",
              " ('정육면체',\n",
              "  '1705674698',\n",
              "  '2',\n",
              "  '몇달만에 왔는데 우육면에 힘줄 빠진거 너무 아쉽다.. 왜 뺐지? 싶음  좀 더 담백한 맛으로 레시피 변경한듯.. 라유 넣으면 이건 괜찮음',\n",
              "  '2020.11.07.',\n",
              "  '서울 서대문구 연세로5다길 22-8 1층 101호 (우)03789'),\n",
              " ('정육면체',\n",
              "  '1705674698',\n",
              "  '5',\n",
              "  '개인적으로 신촌 우육면 집 중에서 가장 좋았어요! 국수를 밥으로 바꿔주시는데, 전 밥이 좀 더 취향이었어요. 국수 말고도 탕수육(?)같은거 있는데 2명에서 먹기 딱 좋아요.',\n",
              "  '2020.11.03.',\n",
              "  '서울 서대문구 연세로5다길 22-8 1층 101호 (우)03789'),\n",
              " ('정육면체',\n",
              "  '1705674698',\n",
              "  '4',\n",
              "  '맛있는 홍탕면 특이하고 꼬숩던 깨부수면 ',\n",
              "  '2020.10.26.',\n",
              "  '서울 서대문구 연세로5다길 22-8 1층 101호 (우)03789'),\n",
              " ('정육면체',\n",
              "  '1705674698',\n",
              "  '2',\n",
              "  '비빔면맛있는데  홍탕면완전별로  굳이기다려서먹는맛아님! ',\n",
              "  '2020.10.24.',\n",
              "  '서울 서대문구 연세로5다길 22-8 1층 101호 (우)03789'),\n",
              " ('정육면체',\n",
              "  '1705674698',\n",
              "  '1',\n",
              "  '믿거미 홍면의 면은 안 익어서 밀가루 맛이 나고 들깨면은 심하게 느끼해서 두입먹기 힘들다 인스타이벤트는 하지도 않으면서 메뉴판에 적어놔서 민망했음  다신 가고 싶지 않다',\n",
              "  '2020.10.17.',\n",
              "  '서울 서대문구 연세로5다길 22-8 1층 101호 (우)03789'),\n",
              " ('일일향 잠실점',\n",
              "  '142439579',\n",
              "  '1',\n",
              "  '들어갔는데 직원이 인사도 안하고, 안내고 한참 서 있어야 해줍니다. 멀뚱멀뚱 손님 세워놓고, 한참 지나서야 2층 올라가라고 했어요. 2층 올라가니 갑자기 2층 종업원이 1층 종업원에게 짜증을 내고, 그대로 세워놓은 채 자기들끼리 서로 짜증내더니 한참 있다가 1층으로 가라고 하네요... ',\n",
              "  '2020.10.19.',\n",
              "  '서울 송파구 석촌호수로 290 (우)05618'),\n",
              " ('일일향 잠실점',\n",
              "  '142439579',\n",
              "  '4',\n",
              "  '요리메뉴를 안먹어서 그런건가? 짬뽕 백짬뽕 짜장면 기본메뉴들은 다 맛있음 특히 백짬뽕 국물 기가 막힘  해장하러갔는데 술시킬까 고민되는 맛~ 아 체인점 인줄 몰랐는데 체인점이더라구요',\n",
              "  '2020.09.29.',\n",
              "  '서울 송파구 석촌호수로 290 (우)05618'),\n",
              " ('일일향 잠실점',\n",
              "  '142439579',\n",
              "  '1',\n",
              "  '짬뽕맛이 점점 맛없어지는곳~',\n",
              "  '2020.08.30.',\n",
              "  '서울 송파구 석촌호수로 290 (우)05618'),\n",
              " ('일일향 잠실점',\n",
              "  '142439579',\n",
              "  '4',\n",
              "  '쟁반짜장이 맛있는 곳',\n",
              "  '2020.08.19.',\n",
              "  '서울 송파구 석촌호수로 290 (우)05618'),\n",
              " ('일일향 잠실점',\n",
              "  '142439579',\n",
              "  '4',\n",
              "  '좋아요',\n",
              "  '2020.08.13.',\n",
              "  '서울 송파구 석촌호수로 290 (우)05618'),\n",
              " ('자리',\n",
              "  '26793540',\n",
              "  '1',\n",
              "  '볶은밥이 다먹을때까지 탕수육은 나오지않았고 , 나말고 다른 테이블도 음식이 하나씩 안나와서 코스로 먹고있다. 볶은밥을 시키니 차가운 계란국을 요청을 해야만 준다. 볶은밥그릇도 묘하게 작은게 가격대비 양이적다. ',\n",
              "  '2020.10.24.',\n",
              "  '서울 용산구 이태원로54길 5-5 (우)04399'),\n",
              " ('자리',\n",
              "  '26793540',\n",
              "  '4',\n",
              "  '출출해서 들린 이곳 깔끔한 맛을 좋아하는 내게 이집 짬뽕은 입맛에 잘 맞았음 친절도도 생각보다 괜춘했다ㅎ',\n",
              "  '2020.09.13.',\n",
              "  '서울 용산구 이태원로54길 5-5 (우)04399'),\n",
              " ('자리',\n",
              "  '26793540',\n",
              "  '1',\n",
              "  '멋모르고 저녁먹으러 왔다가 주문받는 종업원 불친절. 주인양반에게 메뉴 물어 봤다가 면박 같은 댜답.  음식나오기 전부터 실망하고. 음식은 분식집 수준. 담는 그릇도 그렇고 맛은 더형편없어요 정말최악이네 복음밥. 잡채밥 가격은 11000원인데 분식집 6000원 짜리랑 맛은 비슷해요',\n",
              "  '2020.08.06.',\n",
              "  '서울 용산구 이태원로54길 5-5 (우)04399'),\n",
              " ('자리',\n",
              "  '26793540',\n",
              "  '2',\n",
              "  '예전엔 맛있었는데 예전같진 않네요. 그래도 맛은 중간은 하는것 같은데 가격 생각하면 맨발에 슬리퍼 신고 하는 서빙은 좀 아니지 않나요. ',\n",
              "  '2020.07.07.',\n",
              "  '서울 용산구 이태원로54길 5-5 (우)04399'),\n",
              " ('자리',\n",
              "  '26793540',\n",
              "  '1',\n",
              "  '이런거 잘 안남기는 편인데 홀 직원 진짜 불친절해요.ㅋ세상 편하게 배짱장사 하시는듯 ; 맛은 좋았는데 서비스때매 맛 하나도 기억에 안 남아요  ',\n",
              "  '2020.06.20.',\n",
              "  '서울 용산구 이태원로54길 5-5 (우)04399')]"
            ]
          },
          "metadata": {
            "tags": []
          },
          "execution_count": 22
        }
      ]
    },
    {
      "cell_type": "code",
      "metadata": {
        "id": "BXaljFNRpgf8",
        "outputId": "ef0a9bcf-0221-41b5-bf33-656a4ab91980"
      },
      "source": [
        "#가게이름목록만뽑기\n",
        "가게리스트 = []\n",
        "for k in tqdm(range(0, 155)):\n",
        "    driver.get('https://place.map.kakao.com/'+가게코드목록[k]+'#none')\n",
        "    time.sleep(2)\n",
        "        \n",
        "    headers = {\n",
        "        \"User-Agent\": \"Mozilla/5.0 (Macintosh; Intel Mac OS X 10_9_5) AppleWebKit 537.36 (KHTML, like Gecko) Chrome\",\n",
        "        \"Accept\": \"text/html,application/xhtml+xml,application/xml;q=0.9,image/webp,*/*;q=0.8\"\n",
        "    }\n",
        "    response = requests.get('https://place.map.kakao.com/'+가게코드목록[k]+'#comment', headers=headers)\n",
        "    source = response.text\n",
        "    soup = BeautifulSoup(source, 'lxml')\n",
        "    non_review = 0\n",
        "    #이름\n",
        "    title = soup.title.text.split(\" |\")[0]\n",
        "\n",
        "    result = title\n",
        "    가게리스트.append(result)\n"
      ],
      "execution_count": null,
      "outputs": [
        {
          "output_type": "stream",
          "text": [
            "100%|████████████████████████████████████████████████████████████████████████████████| 155/155 [06:04<00:00,  2.35s/it]\n"
          ],
          "name": "stderr"
        }
      ]
    },
    {
      "cell_type": "code",
      "metadata": {
        "id": "uzX_Mf2spgf-",
        "outputId": "0fa11cc2-5956-43e1-8ee5-5bcbd72e2c8f"
      },
      "source": [
        "가게리스트\n",
        "#가게이름목록"
      ],
      "execution_count": null,
      "outputs": [
        {
          "output_type": "execute_result",
          "data": {
            "text/plain": [
              "['미가양고기',\n",
              " '하이디라오 강남점',\n",
              " '훠궈야 판교아브뉴프랑점',\n",
              " '황산샤브샤브 종로점',\n",
              " '불이아 본점',\n",
              " '인량 훠궈',\n",
              " '홍중샤브뷔페',\n",
              " '소고산제일루 홍대1호점',\n",
              " '링링',\n",
              " '복만루',\n",
              " '애정마라샹궈 본점',\n",
              " '천유향마라향솥',\n",
              " '두만강샤브샤브 봉천점',\n",
              " '라공방 강남1호 본점',\n",
              " '허씨정통중경마라쌍궈 3호점',\n",
              " '해룡마라룽샤',\n",
              " '매운향솥 본점',\n",
              " '탕화쿵푸마라탕 대학로점',\n",
              " '칠기마라탕',\n",
              " '영진마라탕',\n",
              " '손오공마라탕',\n",
              " '헤이 요우지아씨아오마오차이 한국1호점',\n",
              " '천진영감',\n",
              " '얜시부',\n",
              " '표표마라탕',\n",
              " '봉자마라탕',\n",
              " '천향마라탕 건대점',\n",
              " '사랑마라탕',\n",
              " '라메이즈 마라탕',\n",
              " '왕푸징마라탕',\n",
              " '쿵푸',\n",
              " '하오마라 발산역점',\n",
              " '봉선마라탕',\n",
              " '신룽푸마라탕',\n",
              " '홍마방',\n",
              " '중경마라탕 강남역점',\n",
              " '마라고메 방이점',\n",
              " '진화쿵푸마라탕 홍대본점',\n",
              " '미연마라탕',\n",
              " '라장훠궈',\n",
              " '천향록',\n",
              " '창화루',\n",
              " '호탕마라탕 신촌점',\n",
              " '라향각마라탕',\n",
              " '비비안수',\n",
              " '천궁전마라탕',\n",
              " '피슈마라홍탕 상암점',\n",
              " '로충칭마라탕 궁동점',\n",
              " '로향양꼬치',\n",
              " '하얼빈양꼬치 잠실본점',\n",
              " '명봉반점',\n",
              " '호가양꼬치 직영5호점',\n",
              " '양다리걸쳤네',\n",
              " '용산양꼬치',\n",
              " '길상양꼬치',\n",
              " '심양 홍대점',\n",
              " '고향양꼬치',\n",
              " '서대문양꼬치',\n",
              " '성민양꼬치',\n",
              " '천지양꼬치',\n",
              " '이태원양꼬치',\n",
              " '혜화양육관',\n",
              " '동북화과왕',\n",
              " '송화양꼬치',\n",
              " '경성양고기꼬치구이',\n",
              " '백두산양꼬치',\n",
              " '이가네양꼬치 판교본점',\n",
              " '동방양꼬치',\n",
              " '매화반점 1호점',\n",
              " '동북양꼬치',\n",
              " '양꽃이피는밤 신도림점',\n",
              " '미엔아이 송파점',\n",
              " '차이나당',\n",
              " '김사부샤브샤브',\n",
              " '코스모왕양꼬치 논현본점',\n",
              " '항방양육관 잠원점',\n",
              " '촨커',\n",
              " '락희안 명지대본점',\n",
              " '란주탕슉',\n",
              " '태양부양꼬치',\n",
              " '용초수',\n",
              " '루루',\n",
              " '쿵푸소룽샤',\n",
              " '진라이',\n",
              " '식닷컴',\n",
              " '가담',\n",
              " '대가방 본점',\n",
              " '개화식당',\n",
              " '신성각',\n",
              " '원조홍릉각',\n",
              " '맛이차이나',\n",
              " '완차이',\n",
              " '영화장',\n",
              " '이품',\n",
              " '교동집',\n",
              " '산해관',\n",
              " '홍명',\n",
              " '호경전',\n",
              " '신승반점 본점',\n",
              " '신락원',\n",
              " '하영각',\n",
              " '백객도',\n",
              " '초마 홍대본점',\n",
              " '만리성',\n",
              " '소리원',\n",
              " '쌍용각',\n",
              " '미소손짜장',\n",
              " '팔선',\n",
              " '정',\n",
              " '송쉐프',\n",
              " '중국',\n",
              " '쥬에',\n",
              " '팔레드신',\n",
              " '진만두',\n",
              " '야상해',\n",
              " '오향가 가락본점',\n",
              " '공푸',\n",
              " '우육면관 청계천점',\n",
              " '바오바',\n",
              " '정민',\n",
              " '미스터서왕만두',\n",
              " '중화복춘',\n",
              " '빠오즈푸',\n",
              " '몽중헌 방이점',\n",
              " '양식당더램키친',\n",
              " '포가',\n",
              " '걸리부',\n",
              " '송화산시도삭면',\n",
              " '화양연가',\n",
              " '쮸즈',\n",
              " '골드피쉬딤섬퀴진',\n",
              " '마담밍 선릉점',\n",
              " '주',\n",
              " '쟈니덤플링 1호점',\n",
              " '삼창교자',\n",
              " '줘마양다리구이 본점',\n",
              " '목란',\n",
              " '구복만두',\n",
              " '하하',\n",
              " '오향만두',\n",
              " '포시즌스호텔 유유안',\n",
              " '차알',\n",
              " '벽돌해피푸드 압구정점',\n",
              " '램랜드',\n",
              " '라라면가',\n",
              " '북해도목장 논현본점',\n",
              " '산왕반점 연남동본점',\n",
              " '포담',\n",
              " '란주칼면',\n",
              " '외래향 서울대점',\n",
              " '딩딤1968',\n",
              " '정육면체',\n",
              " '일일향 잠실점',\n",
              " '자리',\n",
              " '웨이하이']"
            ]
          },
          "metadata": {
            "tags": []
          },
          "execution_count": 54
        }
      ]
    },
    {
      "cell_type": "code",
      "metadata": {
        "id": "OdBrAaGepggA",
        "outputId": "1717d4ba-1d36-4ce2-8e2b-02492810eb37"
      },
      "source": [
        "len(result_list)"
      ],
      "execution_count": null,
      "outputs": [
        {
          "output_type": "execute_result",
          "data": {
            "text/plain": [
              "365"
            ]
          },
          "metadata": {
            "tags": []
          },
          "execution_count": 23
        }
      ]
    },
    {
      "cell_type": "code",
      "metadata": {
        "id": "Lsa6tSFBpggC"
      },
      "source": [
        "review1 = pd.DataFrame(result_list, columns = [\"가게이름\", \"가게코드\", \"평점\", \"리뷰\",\"날짜\",\"주소\"])"
      ],
      "execution_count": null,
      "outputs": []
    },
    {
      "cell_type": "code",
      "metadata": {
        "id": "P2KLHAxNpggE",
        "outputId": "9abe9918-1374-4778-bf7d-07baf0ff629b"
      },
      "source": [
        "review1"
      ],
      "execution_count": null,
      "outputs": [
        {
          "output_type": "execute_result",
          "data": {
            "text/html": [
              "<div>\n",
              "<style scoped>\n",
              "    .dataframe tbody tr th:only-of-type {\n",
              "        vertical-align: middle;\n",
              "    }\n",
              "\n",
              "    .dataframe tbody tr th {\n",
              "        vertical-align: top;\n",
              "    }\n",
              "\n",
              "    .dataframe thead th {\n",
              "        text-align: right;\n",
              "    }\n",
              "</style>\n",
              "<table border=\"1\" class=\"dataframe\">\n",
              "  <thead>\n",
              "    <tr style=\"text-align: right;\">\n",
              "      <th></th>\n",
              "      <th>가게이름</th>\n",
              "      <th>가게코드</th>\n",
              "      <th>평점</th>\n",
              "      <th>리뷰</th>\n",
              "      <th>날짜</th>\n",
              "      <th>주소</th>\n",
              "    </tr>\n",
              "  </thead>\n",
              "  <tbody>\n",
              "    <tr>\n",
              "      <th>0</th>\n",
              "      <td>미가양고기</td>\n",
              "      <td>12065307</td>\n",
              "      <td>5</td>\n",
              "      <td>정신없다.웨이팅길다. 불친절하다. 하지만 존맛탱이다! 위에 세가지를 감수하고 먹을수...</td>\n",
              "      <td>2020.10.14.</td>\n",
              "      <td>경기 용인시 수지구 풍덕천로148번길 22 1층 (우)16835</td>\n",
              "    </tr>\n",
              "    <tr>\n",
              "      <th>1</th>\n",
              "      <td>미가양고기</td>\n",
              "      <td>12065307</td>\n",
              "      <td>1</td>\n",
              "      <td>요리맛만 좋다고 맛집일까요?\\n음식맛 소문 좀 나고 사람 몰리니 서비스 개판되는게 ...</td>\n",
              "      <td>2020.10.11.</td>\n",
              "      <td>경기 용인시 수지구 풍덕천로148번길 22 1층 (우)16835</td>\n",
              "    </tr>\n",
              "    <tr>\n",
              "      <th>2</th>\n",
              "      <td>미가양고기</td>\n",
              "      <td>12065307</td>\n",
              "      <td>1</td>\n",
              "      <td>최악입니다. 40분 기다리라 했는데 1시간 반 기다리게 해놓고, 주문해놓은 메뉴 나...</td>\n",
              "      <td>2020.10.03.</td>\n",
              "      <td>경기 용인시 수지구 풍덕천로148번길 22 1층 (우)16835</td>\n",
              "    </tr>\n",
              "    <tr>\n",
              "      <th>3</th>\n",
              "      <td>미가양고기</td>\n",
              "      <td>12065307</td>\n",
              "      <td>1</td>\n",
              "      <td>웨이팅길고 정신없음</td>\n",
              "      <td>2020.09.17.</td>\n",
              "      <td>경기 용인시 수지구 풍덕천로148번길 22 1층 (우)16835</td>\n",
              "    </tr>\n",
              "    <tr>\n",
              "      <th>4</th>\n",
              "      <td>미가양고기</td>\n",
              "      <td>12065307</td>\n",
              "      <td>5</td>\n",
              "      <td>인생훠궈...</td>\n",
              "      <td>2020.08.29.</td>\n",
              "      <td>경기 용인시 수지구 풍덕천로148번길 22 1층 (우)16835</td>\n",
              "    </tr>\n",
              "    <tr>\n",
              "      <th>...</th>\n",
              "      <td>...</td>\n",
              "      <td>...</td>\n",
              "      <td>...</td>\n",
              "      <td>...</td>\n",
              "      <td>...</td>\n",
              "      <td>...</td>\n",
              "    </tr>\n",
              "    <tr>\n",
              "      <th>360</th>\n",
              "      <td>자리</td>\n",
              "      <td>26793540</td>\n",
              "      <td>1</td>\n",
              "      <td>볶은밥이 다먹을때까지 탕수육은 나오지않았고 , 나말고 다른 테이블도 음식이 하나씩 ...</td>\n",
              "      <td>2020.10.24.</td>\n",
              "      <td>서울 용산구 이태원로54길 5-5 (우)04399</td>\n",
              "    </tr>\n",
              "    <tr>\n",
              "      <th>361</th>\n",
              "      <td>자리</td>\n",
              "      <td>26793540</td>\n",
              "      <td>4</td>\n",
              "      <td>출출해서 들린 이곳 깔끔한 맛을 좋아하는 내게 이집 짬뽕은 입맛에 잘 맞았음 친절도...</td>\n",
              "      <td>2020.09.13.</td>\n",
              "      <td>서울 용산구 이태원로54길 5-5 (우)04399</td>\n",
              "    </tr>\n",
              "    <tr>\n",
              "      <th>362</th>\n",
              "      <td>자리</td>\n",
              "      <td>26793540</td>\n",
              "      <td>1</td>\n",
              "      <td>멋모르고 저녁먹으러 왔다가 주문받는 종업원 불친절. 주인양반에게 메뉴 물어 봤다가 ...</td>\n",
              "      <td>2020.08.06.</td>\n",
              "      <td>서울 용산구 이태원로54길 5-5 (우)04399</td>\n",
              "    </tr>\n",
              "    <tr>\n",
              "      <th>363</th>\n",
              "      <td>자리</td>\n",
              "      <td>26793540</td>\n",
              "      <td>2</td>\n",
              "      <td>예전엔 맛있었는데 예전같진 않네요. 그래도 맛은 중간은 하는것 같은데 가격 생각하면...</td>\n",
              "      <td>2020.07.07.</td>\n",
              "      <td>서울 용산구 이태원로54길 5-5 (우)04399</td>\n",
              "    </tr>\n",
              "    <tr>\n",
              "      <th>364</th>\n",
              "      <td>자리</td>\n",
              "      <td>26793540</td>\n",
              "      <td>1</td>\n",
              "      <td>이런거 잘 안남기는 편인데 홀 직원 진짜 불친절해요.ㅋ세상 편하게 배짱장사 하시는듯...</td>\n",
              "      <td>2020.06.20.</td>\n",
              "      <td>서울 용산구 이태원로54길 5-5 (우)04399</td>\n",
              "    </tr>\n",
              "  </tbody>\n",
              "</table>\n",
              "<p>365 rows × 6 columns</p>\n",
              "</div>"
            ],
            "text/plain": [
              "      가게이름      가게코드 평점                                                 리뷰  \\\n",
              "0    미가양고기  12065307  5  정신없다.웨이팅길다. 불친절하다. 하지만 존맛탱이다! 위에 세가지를 감수하고 먹을수...   \n",
              "1    미가양고기  12065307  1  요리맛만 좋다고 맛집일까요?\\n음식맛 소문 좀 나고 사람 몰리니 서비스 개판되는게 ...   \n",
              "2    미가양고기  12065307  1  최악입니다. 40분 기다리라 했는데 1시간 반 기다리게 해놓고, 주문해놓은 메뉴 나...   \n",
              "3    미가양고기  12065307  1                                         웨이팅길고 정신없음   \n",
              "4    미가양고기  12065307  5                                            인생훠궈...   \n",
              "..     ...       ... ..                                                ...   \n",
              "360     자리  26793540  1  볶은밥이 다먹을때까지 탕수육은 나오지않았고 , 나말고 다른 테이블도 음식이 하나씩 ...   \n",
              "361     자리  26793540  4  출출해서 들린 이곳 깔끔한 맛을 좋아하는 내게 이집 짬뽕은 입맛에 잘 맞았음 친절도...   \n",
              "362     자리  26793540  1  멋모르고 저녁먹으러 왔다가 주문받는 종업원 불친절. 주인양반에게 메뉴 물어 봤다가 ...   \n",
              "363     자리  26793540  2  예전엔 맛있었는데 예전같진 않네요. 그래도 맛은 중간은 하는것 같은데 가격 생각하면...   \n",
              "364     자리  26793540  1  이런거 잘 안남기는 편인데 홀 직원 진짜 불친절해요.ㅋ세상 편하게 배짱장사 하시는듯...   \n",
              "\n",
              "              날짜                                   주소  \n",
              "0    2020.10.14.  경기 용인시 수지구 풍덕천로148번길 22 1층 (우)16835  \n",
              "1    2020.10.11.  경기 용인시 수지구 풍덕천로148번길 22 1층 (우)16835  \n",
              "2    2020.10.03.  경기 용인시 수지구 풍덕천로148번길 22 1층 (우)16835  \n",
              "3    2020.09.17.  경기 용인시 수지구 풍덕천로148번길 22 1층 (우)16835  \n",
              "4    2020.08.29.  경기 용인시 수지구 풍덕천로148번길 22 1층 (우)16835  \n",
              "..           ...                                  ...  \n",
              "360  2020.10.24.          서울 용산구 이태원로54길 5-5 (우)04399  \n",
              "361  2020.09.13.          서울 용산구 이태원로54길 5-5 (우)04399  \n",
              "362  2020.08.06.          서울 용산구 이태원로54길 5-5 (우)04399  \n",
              "363  2020.07.07.          서울 용산구 이태원로54길 5-5 (우)04399  \n",
              "364  2020.06.20.          서울 용산구 이태원로54길 5-5 (우)04399  \n",
              "\n",
              "[365 rows x 6 columns]"
            ]
          },
          "metadata": {
            "tags": []
          },
          "execution_count": 33
        }
      ]
    },
    {
      "cell_type": "code",
      "metadata": {
        "id": "hVY8kvHxpggG"
      },
      "source": [
        "review1.drop([\"제거1\"], axis = 1, inplace = True)"
      ],
      "execution_count": null,
      "outputs": []
    },
    {
      "cell_type": "code",
      "metadata": {
        "id": "CJum9MFzpggI",
        "outputId": "869c4f8f-7441-4379-cc73-54c38a889ec6"
      },
      "source": [
        "review1.isnull().sum()"
      ],
      "execution_count": null,
      "outputs": [
        {
          "output_type": "execute_result",
          "data": {
            "text/plain": [
              "가게이름    0\n",
              "가게코드    0\n",
              "평점      0\n",
              "리뷰      0\n",
              "날짜      0\n",
              "주소      0\n",
              "dtype: int64"
            ]
          },
          "metadata": {
            "tags": []
          },
          "execution_count": 26
        }
      ]
    },
    {
      "cell_type": "code",
      "metadata": {
        "id": "7-13AGTfpggL"
      },
      "source": [
        "review1.dropna(axis = 0, inplace = True)"
      ],
      "execution_count": null,
      "outputs": []
    },
    {
      "cell_type": "code",
      "metadata": {
        "id": "LUiigc9mpggN"
      },
      "source": [
        "review1 = review1.drop_duplicates(['리뷰'], keep='first')"
      ],
      "execution_count": null,
      "outputs": []
    },
    {
      "cell_type": "code",
      "metadata": {
        "id": "cMwvc2NIpggQ",
        "outputId": "35dbea45-1c5e-436b-cba0-ca979cafdf10"
      },
      "source": [
        "review1.shape"
      ],
      "execution_count": null,
      "outputs": [
        {
          "output_type": "execute_result",
          "data": {
            "text/plain": [
              "(365, 6)"
            ]
          },
          "metadata": {
            "tags": []
          },
          "execution_count": 34
        }
      ]
    },
    {
      "cell_type": "code",
      "metadata": {
        "id": "NV8sBo16pggT"
      },
      "source": [
        "review1.to_csv(\"카카오맵리뷰2.csv\")"
      ],
      "execution_count": null,
      "outputs": []
    },
    {
      "cell_type": "markdown",
      "metadata": {
        "id": "gAphLFyCpggV"
      },
      "source": [
        "## 리뷰 크롤링 2차"
      ]
    },
    {
      "cell_type": "code",
      "metadata": {
        "id": "NOu7eX7kpggV"
      },
      "source": [
        "result = []"
      ],
      "execution_count": null,
      "outputs": []
    },
    {
      "cell_type": "code",
      "metadata": {
        "id": "JjE2HyBlpggX"
      },
      "source": [
        "def crawling(place, place_lists):\n",
        "    \"\"\"\n",
        "    페이지 목록을 받아서 크롤링 하는 함수\n",
        "    :param place: 리뷰 정보 찾을 장소이름\n",
        "    \"\"\"\n",
        "\n",
        "    while_flag = False\n",
        "    for i, place in enumerate(place_lists):\n",
        "        # 광고에 따라서 index 조정해야함\n",
        "        #if i >= 3:\n",
        "         #   i += 1\n",
        "\n",
        "        place_name = 가게리스트.select('.head_item > .tit_name > .link_name')[0].text  # place name\n",
        "        \n",
        "        detail_page_xpath = '//*[@id=\"info.search.place.list\"]/li[' + str(i + 1) + ']/div[5]/div[4]/a[1]'\n",
        "        driver.find_element_by_xpath(detail_page_xpath).send_keys(Keys.ENTER)\n",
        "        driver.switch_to.window(driver.window_handles[-1])  # 상세정보 탭으로 변환\n",
        "        sleep(1)\n",
        "\n",
        "        print('####', place_name)\n",
        "\n",
        "        # 첫 페이지\n",
        "        extract_review(place_name)\n",
        "\n",
        "        # 2-5 페이지\n",
        "        idx = 3\n",
        "        try:\n",
        "            page_num = len(driver.find_elements_by_class_name('link_page')) # 페이지 수 찾기\n",
        "            for i in range(page_num-1):\n",
        "                # css selector를 이용해 페이지 버튼 누르기\n",
        "                driver.find_element_by_css_selector('#mArticle > div.cont_evaluation > div.evaluation_review > div > a:nth-child(' + str(idx) +')').send_keys(Keys.ENTER)\n",
        "                sleep(1)\n",
        "                extract_review(place_name)\n",
        "                idx += 1\n",
        "            driver.find_element_by_link_text('다음').send_keys(Keys.ENTER) # 5페이지가 넘는 경우 다음 버튼 누르기\n",
        "            sleep(1)\n",
        "            extract_review(place_name) # 리뷰 추출\n",
        "        except (NoSuchElementException, ElementNotInteractableException):\n",
        "            print(\"no review in crawling\")\n",
        "\n",
        "        # 그 이후 페이지\n",
        "        while True:\n",
        "            idx = 4\n",
        "            try:\n",
        "                page_num = len(driver.find_elements_by_class_name('link_page'))\n",
        "                for i in range(page_num-1):\n",
        "                    driver.find_element_by_css_selector('#mArticle > div.cont_evaluation > div.evaluation_review > div > a:nth-child(' + str(idx) +')').send_keys(Keys.ENTER)\n",
        "                    sleep(1)\n",
        "                    extract_review(place_name)\n",
        "                    idx += 1\n",
        "                driver.find_element_by_link_text('다음').send_keys(Keys.ENTER) # 10페이지 이상으로 넘어가기 위한 다음 버튼 클릭\n",
        "                sleep(1)\n",
        "                extract_review(place_name) # 리뷰 추출\n",
        "            except (NoSuchElementException, ElementNotInteractableException):\n",
        "                print(\"no review in crawling\")\n",
        "                break\n",
        "\n",
        "        driver.close()\n",
        "        \n",
        "\n",
        "def extract_review(place_name):\n",
        "    global driver\n",
        "\n",
        "    ret = True\n",
        "\n",
        "    for i in range(0, 5):                    \n",
        "            #이름\n",
        "            title = soup.title.text.split(\" |\")[0]\n",
        "                \n",
        "            # 평점\n",
        "            user_rating = driver.find_element_by_xpath(rate_list[i]).text\n",
        "                \n",
        "            # 리뷰\n",
        "            driver.find_element_by_xpath(review_list[i]).click()\n",
        "            review = driver.find_element_by_xpath(review_list[i]).text\n",
        "                    \n",
        "            #날짜\n",
        "            date = driver.find_element_by_xpath(time_list[i]).text\n",
        "                    \n",
        "            #주소\n",
        "            address = driver.find_element_by_xpath(address_list[0]).text\n",
        "                \n",
        "            val = title, user_rating, review, date, address\n",
        "            result.append(val)# 리뷰 추출\n",
        "\n",
        "    else:\n",
        "        val = 'no review in extract'\n",
        "        result.extend(val)\n",
        "        \n",
        "        ret = False\n",
        "\n",
        "    return ret"
      ],
      "execution_count": null,
      "outputs": []
    },
    {
      "cell_type": "code",
      "metadata": {
        "id": "notCeuTwpggZ",
        "outputId": "04fc9f64-2cec-4a77-be1c-fb192e19ba63"
      },
      "source": [
        "# 그냥 그코드로 크롤링\n",
        "\n",
        "for k in tqdm(range(0, 155)):\n",
        "    driver.get('https://place.map.kakao.com/'+가게코드목록[k]+'#comment')\n",
        "    time.sleep(2)\n",
        "        \n",
        "    headers = {\n",
        "        \"User-Agent\": \"Mozilla/5.0 (Macintosh; Intel Mac OS X 10_9_5) AppleWebKit 537.36 (KHTML, like Gecko) Chrome\",\n",
        "        \"Accept\": \"text/html,application/xhtml+xml,application/xml;q=0.9,image/webp,*/*;q=0.8\"\n",
        "    }\n",
        "    response = requests.get('https://place.map.kakao.com/'+가게코드목록[k]+'#comment', headers=headers)\n",
        "    source = response.text\n",
        "    soup = BeautifulSoup(source, 'lxml')\n",
        "    non_review = 0\n",
        "    result = crawling(k, result_list)"
      ],
      "execution_count": null,
      "outputs": [
        {
          "output_type": "stream",
          "text": [
            "  4%|███▏                                                                              | 6/155 [00:16<06:46,  2.73s/it]\n"
          ],
          "name": "stderr"
        },
        {
          "output_type": "error",
          "ename": "KeyboardInterrupt",
          "evalue": "",
          "traceback": [
            "\u001b[1;31m---------------------------------------------------------------------------\u001b[0m",
            "\u001b[1;31mKeyboardInterrupt\u001b[0m                         Traceback (most recent call last)",
            "\u001b[1;32m<ipython-input-48-4eb2c724ce55>\u001b[0m in \u001b[0;36m<module>\u001b[1;34m\u001b[0m\n\u001b[0;32m      3\u001b[0m \u001b[1;32mfor\u001b[0m \u001b[0mk\u001b[0m \u001b[1;32min\u001b[0m \u001b[0mtqdm\u001b[0m\u001b[1;33m(\u001b[0m\u001b[0mrange\u001b[0m\u001b[1;33m(\u001b[0m\u001b[1;36m0\u001b[0m\u001b[1;33m,\u001b[0m \u001b[1;36m155\u001b[0m\u001b[1;33m)\u001b[0m\u001b[1;33m)\u001b[0m\u001b[1;33m:\u001b[0m\u001b[1;33m\u001b[0m\u001b[1;33m\u001b[0m\u001b[0m\n\u001b[0;32m      4\u001b[0m     \u001b[0mdriver\u001b[0m\u001b[1;33m.\u001b[0m\u001b[0mget\u001b[0m\u001b[1;33m(\u001b[0m\u001b[1;34m'https://place.map.kakao.com/'\u001b[0m\u001b[1;33m+\u001b[0m\u001b[0m가게코드목록\u001b[0m\u001b[1;33m[\u001b[0m\u001b[0mk\u001b[0m\u001b[1;33m]\u001b[0m\u001b[1;33m+\u001b[0m\u001b[1;34m'#comment'\u001b[0m\u001b[1;33m)\u001b[0m\u001b[1;33m\u001b[0m\u001b[1;33m\u001b[0m\u001b[0m\n\u001b[1;32m----> 5\u001b[1;33m     \u001b[0mtime\u001b[0m\u001b[1;33m.\u001b[0m\u001b[0msleep\u001b[0m\u001b[1;33m(\u001b[0m\u001b[1;36m2\u001b[0m\u001b[1;33m)\u001b[0m\u001b[1;33m\u001b[0m\u001b[1;33m\u001b[0m\u001b[0m\n\u001b[0m\u001b[0;32m      6\u001b[0m \u001b[1;33m\u001b[0m\u001b[0m\n\u001b[0;32m      7\u001b[0m     headers = {\n",
            "\u001b[1;31mKeyboardInterrupt\u001b[0m: "
          ]
        }
      ]
    },
    {
      "cell_type": "code",
      "metadata": {
        "id": "k00P8j8npggc",
        "outputId": "7dd3e8d3-1220-43b9-afda-2751057eced3"
      },
      "source": [
        "result_list"
      ],
      "execution_count": null,
      "outputs": [
        {
          "output_type": "execute_result",
          "data": {
            "text/plain": [
              "[]"
            ]
          },
          "metadata": {
            "tags": []
          },
          "execution_count": 50
        }
      ]
    },
    {
      "cell_type": "code",
      "metadata": {
        "id": "UN-d_huepgge"
      },
      "source": [
        "spo = pd.DataFrame(result_list, columns = [\"영화코드\", \"평점\", \"리뷰\", \"스포일러\", \"제거1\", \"제거2\"])"
      ],
      "execution_count": null,
      "outputs": []
    },
    {
      "cell_type": "code",
      "metadata": {
        "id": "1-pdGliQpggg"
      },
      "source": [
        "spo.drop([\"제거1\", \"제거2\"], axis = 1, inplace = True)"
      ],
      "execution_count": null,
      "outputs": []
    },
    {
      "cell_type": "code",
      "metadata": {
        "id": "gYMKzvS0pggi",
        "outputId": "170215cf-7d81-447e-bc64-809d828c08ab"
      },
      "source": [
        "spo.isnull().sum()"
      ],
      "execution_count": null,
      "outputs": [
        {
          "output_type": "execute_result",
          "data": {
            "text/plain": [
              "영화코드    40\n",
              "평점      60\n",
              "리뷰      60\n",
              "스포일러    60\n",
              "dtype: int64"
            ]
          },
          "metadata": {
            "tags": []
          },
          "execution_count": 19
        }
      ]
    },
    {
      "cell_type": "code",
      "metadata": {
        "id": "lA11tivspggk"
      },
      "source": [
        "spo.dropna(axis = 0, inplace = True)"
      ],
      "execution_count": null,
      "outputs": []
    },
    {
      "cell_type": "code",
      "metadata": {
        "id": "KR7gRhMcpggl"
      },
      "source": [
        "spo = spo.drop_duplicates(['리뷰'], keep='first')"
      ],
      "execution_count": null,
      "outputs": []
    },
    {
      "cell_type": "code",
      "metadata": {
        "id": "L1sxpvBopggn",
        "outputId": "398c45e6-ee8f-4352-a3ae-de54d11ff575"
      },
      "source": [
        "spo.shape"
      ],
      "execution_count": null,
      "outputs": [
        {
          "output_type": "execute_result",
          "data": {
            "text/plain": [
              "(715, 4)"
            ]
          },
          "metadata": {
            "tags": []
          },
          "execution_count": 22
        }
      ]
    },
    {
      "cell_type": "code",
      "metadata": {
        "id": "ACG3rCA4pggp"
      },
      "source": [
        "spo.to_csv(\"코미디 스포 리뷰.csv\",encoding = 'utf-8')"
      ],
      "execution_count": null,
      "outputs": []
    },
    {
      "cell_type": "markdown",
      "metadata": {
        "id": "wSMmMEWZpggr"
      },
      "source": [
        "## 논 스포일러 리뷰 308949개\n",
        "## 스포일러 리뷰 651개\n",
        "## 약 500배 차이가 난다"
      ]
    },
    {
      "cell_type": "code",
      "metadata": {
        "id": "TfO9YJzjpggr",
        "outputId": "1a479c34-fdb7-4c98-a4dc-f88dc97d4b76"
      },
      "source": [
        "non_spo.head()"
      ],
      "execution_count": null,
      "outputs": [
        {
          "output_type": "execute_result",
          "data": {
            "text/html": [
              "<div>\n",
              "<style scoped>\n",
              "    .dataframe tbody tr th:only-of-type {\n",
              "        vertical-align: middle;\n",
              "    }\n",
              "\n",
              "    .dataframe tbody tr th {\n",
              "        vertical-align: top;\n",
              "    }\n",
              "\n",
              "    .dataframe thead th {\n",
              "        text-align: right;\n",
              "    }\n",
              "</style>\n",
              "<table border=\"1\" class=\"dataframe\">\n",
              "  <thead>\n",
              "    <tr style=\"text-align: right;\">\n",
              "      <th></th>\n",
              "      <th>영화코드</th>\n",
              "      <th>평점</th>\n",
              "      <th>리뷰</th>\n",
              "      <th>스포일러</th>\n",
              "    </tr>\n",
              "  </thead>\n",
              "  <tbody>\n",
              "    <tr>\n",
              "      <th>0</th>\n",
              "      <td>186821</td>\n",
              "      <td>10</td>\n",
              "      <td>엥 댓글 알바라고 하먄서 평점 ㅈㄴ 낮춰놓는 게 더 댓글 알바같음 ;; 노잼 조폭 ...</td>\n",
              "      <td>0</td>\n",
              "    </tr>\n",
              "    <tr>\n",
              "      <th>1</th>\n",
              "      <td>186821</td>\n",
              "      <td>10</td>\n",
              "      <td>너무 재밌었어용ㅠ 라미란 짱멋…</td>\n",
              "      <td>0</td>\n",
              "    </tr>\n",
              "    <tr>\n",
              "      <th>2</th>\n",
              "      <td>186821</td>\n",
              "      <td>10</td>\n",
              "      <td>역시 라미란 코미디 연기는 진리다 ㅋㅋㅋㅋ</td>\n",
              "      <td>0</td>\n",
              "    </tr>\n",
              "    <tr>\n",
              "      <th>3</th>\n",
              "      <td>186821</td>\n",
              "      <td>9</td>\n",
              "      <td>개그 코드가 딱 내 스타일이야ㅋㅋ</td>\n",
              "      <td>0</td>\n",
              "    </tr>\n",
              "    <tr>\n",
              "      <th>4</th>\n",
              "      <td>186821</td>\n",
              "      <td>6</td>\n",
              "      <td>솔직히 그렇게 엄청 웃긴지는 모르겠어요</td>\n",
              "      <td>0</td>\n",
              "    </tr>\n",
              "  </tbody>\n",
              "</table>\n",
              "</div>"
            ],
            "text/plain": [
              "     영화코드  평점                                                 리뷰 스포일러\n",
              "0  186821  10  엥 댓글 알바라고 하먄서 평점 ㅈㄴ 낮춰놓는 게 더 댓글 알바같음 ;; 노잼 조폭 ...    0\n",
              "1  186821  10                                  너무 재밌었어용ㅠ 라미란 짱멋…    0\n",
              "2  186821  10                            역시 라미란 코미디 연기는 진리다 ㅋㅋㅋㅋ    0\n",
              "3  186821   9                                 개그 코드가 딱 내 스타일이야ㅋㅋ    0\n",
              "4  186821   6                              솔직히 그렇게 엄청 웃긴지는 모르겠어요    0"
            ]
          },
          "metadata": {
            "tags": []
          },
          "execution_count": 67
        }
      ]
    },
    {
      "cell_type": "code",
      "metadata": {
        "id": "6nZxHrRTpggt",
        "outputId": "df2e2476-dfc3-45ed-e8a0-b9b18e8571b8"
      },
      "source": [
        "spo.head()"
      ],
      "execution_count": null,
      "outputs": [
        {
          "output_type": "execute_result",
          "data": {
            "text/html": [
              "<div>\n",
              "<style scoped>\n",
              "    .dataframe tbody tr th:only-of-type {\n",
              "        vertical-align: middle;\n",
              "    }\n",
              "\n",
              "    .dataframe tbody tr th {\n",
              "        vertical-align: top;\n",
              "    }\n",
              "\n",
              "    .dataframe thead th {\n",
              "        text-align: right;\n",
              "    }\n",
              "</style>\n",
              "<table border=\"1\" class=\"dataframe\">\n",
              "  <thead>\n",
              "    <tr style=\"text-align: right;\">\n",
              "      <th></th>\n",
              "      <th>영화코드</th>\n",
              "      <th>평점</th>\n",
              "      <th>리뷰</th>\n",
              "      <th>스포일러</th>\n",
              "    </tr>\n",
              "  </thead>\n",
              "  <tbody>\n",
              "    <tr>\n",
              "      <th>0</th>\n",
              "      <td>186821</td>\n",
              "      <td>7</td>\n",
              "      <td>라미란씨 팬이라봤는데 많이 웃기네요.</td>\n",
              "      <td>1</td>\n",
              "    </tr>\n",
              "    <tr>\n",
              "      <th>1</th>\n",
              "      <td>186821</td>\n",
              "      <td>2</td>\n",
              "      <td>보지마세요 코믹 영화인데 재미 하나도 없고저렴한 예산으로 출연자들도 무명선거철에 한...</td>\n",
              "      <td>1</td>\n",
              "    </tr>\n",
              "    <tr>\n",
              "      <th>2</th>\n",
              "      <td>186821</td>\n",
              "      <td>7</td>\n",
              "      <td>가볍게 보기엔 좋았으나 뒤로갈수록 스토리가 어느정도 예상되고 살짝 지루하게 느껴졌어...</td>\n",
              "      <td>1</td>\n",
              "    </tr>\n",
              "    <tr>\n",
              "      <th>3</th>\n",
              "      <td>186821</td>\n",
              "      <td>6</td>\n",
              "      <td>일단 오락영화로서 추천/비추천을 이야기하자면 추천. 보고 후회하지 않고 즐겁게 볼 ...</td>\n",
              "      <td>1</td>\n",
              "    </tr>\n",
              "    <tr>\n",
              "      <th>4</th>\n",
              "      <td>186821</td>\n",
              "      <td>1</td>\n",
              "      <td>티비 영화채널에서 하는 3류 코믹영화</td>\n",
              "      <td>1</td>\n",
              "    </tr>\n",
              "  </tbody>\n",
              "</table>\n",
              "</div>"
            ],
            "text/plain": [
              "     영화코드 평점                                                 리뷰 스포일러\n",
              "0  186821  7                               라미란씨 팬이라봤는데 많이 웃기네요.    1\n",
              "1  186821  2  보지마세요 코믹 영화인데 재미 하나도 없고저렴한 예산으로 출연자들도 무명선거철에 한...    1\n",
              "2  186821  7  가볍게 보기엔 좋았으나 뒤로갈수록 스토리가 어느정도 예상되고 살짝 지루하게 느껴졌어...    1\n",
              "3  186821  6  일단 오락영화로서 추천/비추천을 이야기하자면 추천. 보고 후회하지 않고 즐겁게 볼 ...    1\n",
              "4  186821  1                               티비 영화채널에서 하는 3류 코믹영화    1"
            ]
          },
          "metadata": {
            "tags": []
          },
          "execution_count": 24
        }
      ]
    },
    {
      "cell_type": "code",
      "metadata": {
        "id": "6ZzVuA4Cpggv"
      },
      "source": [
        ""
      ],
      "execution_count": null,
      "outputs": []
    },
    {
      "cell_type": "code",
      "metadata": {
        "id": "1WL_rFw8pggy"
      },
      "source": [
        "#review2\n",
        "\n",
        "def crawling(place):\n",
        "    \"\"\"\n",
        "    페이지 목록을 받아서 크롤링 하는 함수\n",
        "    :param place: 리뷰 정보 찾을 장소이름\n",
        "    \"\"\"\n",
        "\n",
        "    while_flag = False\n",
        "    for i, place in enumerate(place):\n",
        "        # 광고에 따라서 index 조정해야함\n",
        "        #if i >= 3:\n",
        "        # i += 1\n",
        "\n",
        "        place_name = place.select('.head_item > .tit_name > .link_name')[0].text  # place name\n",
        "\n",
        "        # 첫 페이지\n",
        "        extract_review(place_name)\n",
        "\n",
        "        # 2-5 페이지\n",
        "        idx = 3\n",
        "        try:\n",
        "            page_num = len(driver.find_elements_by_class_name('link_page')) # 페이지 수 찾기\n",
        "            for i in range(page_num-1):\n",
        "                # css selector를 이용해 페이지 버튼 누르기\n",
        "                driver.find_element_by_css_selector('#mArticle > div.cont_evaluation > div.evaluation_review > div > a:nth-child(' + str(idx) +')').send_keys(Keys.ENTER)\n",
        "                sleep(1)\n",
        "                extract_review(place_name)\n",
        "                idx += 1\n",
        "            driver.find_element_by_link_text('다음').send_keys(Keys.ENTER) # 5페이지가 넘는 경우 다음 버튼 누르기\n",
        "            sleep(1)\n",
        "            extract_review(place_name) # 리뷰 추출\n",
        "        except (NoSuchElementException, ElementNotInteractableException):\n",
        "            print(\"no review in crawling\")\n",
        "\n",
        "        # 그 이후 페이지\n",
        "        while True:\n",
        "            idx = 4\n",
        "            try:\n",
        "                page_num = len(driver.find_elements_by_class_name('link_page'))\n",
        "                for i in range(page_num-1):\n",
        "                    driver.find_element_by_css_selector('#mArticle > div.cont_evaluation > div.evaluation_review > div > a:nth-child(' + str(idx) +')').send_keys(Keys.ENTER)\n",
        "                    sleep(1)\n",
        "                    extract_review(place_name)\n",
        "                    idx += 1\n",
        "                driver.find_element_by_link_text('다음').send_keys(Keys.ENTER) # 10페이지 이상으로 넘어가기 위한 다음 버튼 클릭\n",
        "                sleep(1)\n",
        "                extract_review(place_name) # 리뷰 추출\n",
        "            except (NoSuchElementException, ElementNotInteractableException):\n",
        "                print(\"no review in crawling\")\n",
        "                break\n",
        "\n",
        "        driver.close()\n",
        "\n",
        "def extract_review(place_name):\n",
        "    global driver\n",
        "\n",
        "    ret = True\n",
        "\n",
        "    html = driver.page_source\n",
        "    soup = BeautifulSoup(html, 'html.parser')\n",
        "\n",
        "    # 첫 페이지 리뷰 목록 찾기\n",
        "    review_lists = soup.select('.list_evaluation > li')\n",
        "\n",
        "    # 리뷰가 있는 경우\n",
        "    if len(review_lists) != 0:\n",
        "        for i, review in enumerate(review_lists):\n",
        "            comment = review.select('.txt_comment > span') # 리뷰\n",
        "            rating = review.select('.grade_star > em') # 별점\n",
        "            val = ''\n",
        "            if len(comment) != 0:\n",
        "                if len(rating) != 0:\n",
        "                    val = comment[0].text + '/' + rating[0].text.replace('점', '')\n",
        "                else:\n",
        "                    val = comment[0].text + '/0'\n",
        "                print(val)\n",
        "\n",
        "    else:\n",
        "        print('no review in extract')\n",
        "        ret = False\n",
        "\n",
        "    return ret"
      ],
      "execution_count": null,
      "outputs": []
    },
    {
      "cell_type": "code",
      "metadata": {
        "id": "cpDLhAfUpgg0",
        "outputId": "bdee39fd-fd90-4ff7-be7e-214598c697b7"
      },
      "source": [
        "for k in tqdm(range(0, 155)):\n",
        "    driver.get('https://place.map.kakao.com/'+가게코드목록[k]+'#comment')\n",
        "    time.sleep(2)\n",
        "        \n",
        "    headers = {\n",
        "        \"User-Agent\": \"Mozilla/5.0 (Macintosh; Intel Mac OS X 10_9_5) AppleWebKit 537.36 (KHTML, like Gecko) Chrome\",\n",
        "        \"Accept\": \"text/html,application/xhtml+xml,application/xml;q=0.9,image/webp,*/*;q=0.8\"\n",
        "    }\n",
        "    response = requests.get('https://place.map.kakao.com/'+가게코드목록[k]+'#comment', headers=headers)\n",
        "    source = response.text\n",
        "    soup = BeautifulSoup(source, 'lxml')\n",
        "    non_review = 0\n",
        "    \n",
        "    try:\n",
        "        rest_code = 가게코드목록[k]\n",
        "        result = crawling(rest_code)\n",
        "    except:\n",
        "        pass\n",
        "    "
      ],
      "execution_count": null,
      "outputs": [
        {
          "output_type": "error",
          "ename": "SyntaxError",
          "evalue": "invalid syntax (<ipython-input-33-4c80c1a6c837>, line 16)",
          "traceback": [
            "\u001b[1;36m  File \u001b[1;32m\"<ipython-input-33-4c80c1a6c837>\"\u001b[1;36m, line \u001b[1;32m16\u001b[0m\n\u001b[1;33m    result = crawling(rest_code):\u001b[0m\n\u001b[1;37m                                ^\u001b[0m\n\u001b[1;31mSyntaxError\u001b[0m\u001b[1;31m:\u001b[0m invalid syntax\n"
          ]
        }
      ]
    },
    {
      "cell_type": "code",
      "metadata": {
        "id": "nPCuUDTapgg3"
      },
      "source": [
        "def extract_review(place_name):\n",
        "    global driver\n",
        "\n",
        "    ret = True\n",
        "\n",
        "    html = driver.page_source\n",
        "    soup = BeautifulSoup(html, 'html.parser')\n",
        "\n",
        "    # 첫 페이지 리뷰 목록 찾기\n",
        "    review_lists = soup.select('.list_evaluation > li')\n",
        "\n",
        "    # 리뷰가 있는 경우\n",
        "    if len(review_lists) != 0:\n",
        "        for i, review in enumerate(review_lists):\n",
        "            comment = review.select('.txt_comment > span') # 리뷰\n",
        "            rating = review.select('.grade_star > em') # 별점\n",
        "            val = ''\n",
        "            if len(comment) != 0:\n",
        "                if len(rating) != 0:\n",
        "                    val = comment[0].text + '/' + rating[0].text.replace('점', '')\n",
        "                else:\n",
        "                    val = comment[0].text + '/0'\n",
        "                print(val)\n",
        "\n",
        "    else:\n",
        "        print('no review in extract')\n",
        "        ret = False\n",
        "\n",
        "    return ret"
      ],
      "execution_count": null,
      "outputs": []
    }
  ]
}